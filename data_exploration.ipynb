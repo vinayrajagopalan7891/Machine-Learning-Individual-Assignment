{
 "cells": [
  {
   "cell_type": "code",
   "execution_count": 51,
   "metadata": {},
   "outputs": [],
   "source": [
    "import pandas as pd\n",
    "import numpy as np\n",
    "import seaborn as sns\n",
    "import matplotlib.pyplot as plt\n",
    "from sklearn.model_selection import train_test_split"
   ]
  },
  {
   "cell_type": "code",
   "execution_count": 52,
   "metadata": {},
   "outputs": [],
   "source": [
    "pd.set_option('display.max_rows', 500)\n",
    "pd.set_option('display.max_columns', 500)\n",
    "pd.set_option('display.width', 1000)\n",
    "sns.set(rc = {'figure.figsize':(15,8)})"
   ]
  },
  {
   "cell_type": "code",
   "execution_count": 53,
   "metadata": {},
   "outputs": [],
   "source": [
    "data = pd.read_csv('./Data/bank_mkt_train.csv')"
   ]
  },
  {
   "cell_type": "code",
   "execution_count": 54,
   "metadata": {},
   "outputs": [
    {
     "data": {
      "text/html": [
       "<div>\n",
       "<style scoped>\n",
       "    .dataframe tbody tr th:only-of-type {\n",
       "        vertical-align: middle;\n",
       "    }\n",
       "\n",
       "    .dataframe tbody tr th {\n",
       "        vertical-align: top;\n",
       "    }\n",
       "\n",
       "    .dataframe thead th {\n",
       "        text-align: right;\n",
       "    }\n",
       "</style>\n",
       "<table border=\"1\" class=\"dataframe\">\n",
       "  <thead>\n",
       "    <tr style=\"text-align: right;\">\n",
       "      <th></th>\n",
       "      <th>client_id</th>\n",
       "      <th>age</th>\n",
       "      <th>job</th>\n",
       "      <th>marital</th>\n",
       "      <th>education</th>\n",
       "      <th>default</th>\n",
       "      <th>housing</th>\n",
       "      <th>loan</th>\n",
       "      <th>contact</th>\n",
       "      <th>month</th>\n",
       "      <th>day_of_week</th>\n",
       "      <th>campaign</th>\n",
       "      <th>pdays</th>\n",
       "      <th>previous</th>\n",
       "      <th>poutcome</th>\n",
       "      <th>emp.var.rate</th>\n",
       "      <th>cons.price.idx</th>\n",
       "      <th>cons.conf.idx</th>\n",
       "      <th>euribor3m</th>\n",
       "      <th>nr.employed</th>\n",
       "      <th>subscribe</th>\n",
       "    </tr>\n",
       "  </thead>\n",
       "  <tbody>\n",
       "    <tr>\n",
       "      <th>0</th>\n",
       "      <td>29925</td>\n",
       "      <td>42.0</td>\n",
       "      <td>management</td>\n",
       "      <td>married</td>\n",
       "      <td>basic.9y</td>\n",
       "      <td>no</td>\n",
       "      <td>no</td>\n",
       "      <td>no</td>\n",
       "      <td>cellular</td>\n",
       "      <td>jul</td>\n",
       "      <td>thu</td>\n",
       "      <td>1.0</td>\n",
       "      <td>999.0</td>\n",
       "      <td>0.0</td>\n",
       "      <td>nonexistent</td>\n",
       "      <td>1.4</td>\n",
       "      <td>93.918</td>\n",
       "      <td>-42.7</td>\n",
       "      <td>4.968</td>\n",
       "      <td>5228.1</td>\n",
       "      <td>0</td>\n",
       "    </tr>\n",
       "    <tr>\n",
       "      <th>1</th>\n",
       "      <td>37529</td>\n",
       "      <td>35.0</td>\n",
       "      <td>unemployed</td>\n",
       "      <td>married</td>\n",
       "      <td>university.degree</td>\n",
       "      <td>no</td>\n",
       "      <td>yes</td>\n",
       "      <td>no</td>\n",
       "      <td>telephone</td>\n",
       "      <td>jun</td>\n",
       "      <td>mon</td>\n",
       "      <td>4.0</td>\n",
       "      <td>999.0</td>\n",
       "      <td>0.0</td>\n",
       "      <td>nonexistent</td>\n",
       "      <td>1.4</td>\n",
       "      <td>94.465</td>\n",
       "      <td>-41.8</td>\n",
       "      <td>4.960</td>\n",
       "      <td>5228.1</td>\n",
       "      <td>0</td>\n",
       "    </tr>\n",
       "    <tr>\n",
       "      <th>2</th>\n",
       "      <td>2757</td>\n",
       "      <td>44.0</td>\n",
       "      <td>technician</td>\n",
       "      <td>married</td>\n",
       "      <td>basic.9y</td>\n",
       "      <td>no</td>\n",
       "      <td>yes</td>\n",
       "      <td>yes</td>\n",
       "      <td>cellular</td>\n",
       "      <td>may</td>\n",
       "      <td>mon</td>\n",
       "      <td>1.0</td>\n",
       "      <td>999.0</td>\n",
       "      <td>0.0</td>\n",
       "      <td>nonexistent</td>\n",
       "      <td>-1.8</td>\n",
       "      <td>92.893</td>\n",
       "      <td>-46.2</td>\n",
       "      <td>1.264</td>\n",
       "      <td>5099.1</td>\n",
       "      <td>0</td>\n",
       "    </tr>\n",
       "    <tr>\n",
       "      <th>3</th>\n",
       "      <td>9642</td>\n",
       "      <td>45.0</td>\n",
       "      <td>services</td>\n",
       "      <td>married</td>\n",
       "      <td>high.school</td>\n",
       "      <td>no</td>\n",
       "      <td>yes</td>\n",
       "      <td>no</td>\n",
       "      <td>cellular</td>\n",
       "      <td>apr</td>\n",
       "      <td>tue</td>\n",
       "      <td>1.0</td>\n",
       "      <td>999.0</td>\n",
       "      <td>0.0</td>\n",
       "      <td>nonexistent</td>\n",
       "      <td>-1.8</td>\n",
       "      <td>93.075</td>\n",
       "      <td>-47.1</td>\n",
       "      <td>1.453</td>\n",
       "      <td>5099.1</td>\n",
       "      <td>0</td>\n",
       "    </tr>\n",
       "    <tr>\n",
       "      <th>4</th>\n",
       "      <td>14183</td>\n",
       "      <td>45.0</td>\n",
       "      <td>unknown</td>\n",
       "      <td>married</td>\n",
       "      <td>unknown</td>\n",
       "      <td>unknown</td>\n",
       "      <td>unknown</td>\n",
       "      <td>unknown</td>\n",
       "      <td>telephone</td>\n",
       "      <td>may</td>\n",
       "      <td>wed</td>\n",
       "      <td>1.0</td>\n",
       "      <td>999.0</td>\n",
       "      <td>0.0</td>\n",
       "      <td>nonexistent</td>\n",
       "      <td>1.1</td>\n",
       "      <td>93.994</td>\n",
       "      <td>-36.4</td>\n",
       "      <td>4.859</td>\n",
       "      <td>5191.0</td>\n",
       "      <td>0</td>\n",
       "    </tr>\n",
       "  </tbody>\n",
       "</table>\n",
       "</div>"
      ],
      "text/plain": [
       "   client_id   age         job  marital          education  default  housing     loan    contact month day_of_week  campaign  pdays  previous     poutcome  emp.var.rate  cons.price.idx  cons.conf.idx  euribor3m  nr.employed  subscribe\n",
       "0      29925  42.0  management  married           basic.9y       no       no       no   cellular   jul         thu       1.0  999.0       0.0  nonexistent           1.4          93.918          -42.7      4.968       5228.1          0\n",
       "1      37529  35.0  unemployed  married  university.degree       no      yes       no  telephone   jun         mon       4.0  999.0       0.0  nonexistent           1.4          94.465          -41.8      4.960       5228.1          0\n",
       "2       2757  44.0  technician  married           basic.9y       no      yes      yes   cellular   may         mon       1.0  999.0       0.0  nonexistent          -1.8          92.893          -46.2      1.264       5099.1          0\n",
       "3       9642  45.0    services  married        high.school       no      yes       no   cellular   apr         tue       1.0  999.0       0.0  nonexistent          -1.8          93.075          -47.1      1.453       5099.1          0\n",
       "4      14183  45.0     unknown  married            unknown  unknown  unknown  unknown  telephone   may         wed       1.0  999.0       0.0  nonexistent           1.1          93.994          -36.4      4.859       5191.0          0"
      ]
     },
     "execution_count": 54,
     "metadata": {},
     "output_type": "execute_result"
    }
   ],
   "source": [
    "data.head()"
   ]
  },
  {
   "cell_type": "markdown",
   "metadata": {},
   "source": [
    "# Visualizing columns to gain insights"
   ]
  },
  {
   "cell_type": "code",
   "execution_count": 55,
   "metadata": {},
   "outputs": [
    {
     "data": {
      "image/png": "[encoded data removed]",
      "text/plain": [
       "<Figure size 1080x576 with 1 Axes>"
      ]
     },
     "metadata": {},
     "output_type": "display_data"
    },
    {
     "data": {
      "image/png": "[encoded data removed]",
      "text/plain": [
       "<Figure size 1080x576 with 1 Axes>"
      ]
     },
     "metadata": {},
     "output_type": "display_data"
    },
    {
     "data": {
      "image/png": "[encoded data removed]",
      "text/plain": [
       "<Figure size 1080x576 with 1 Axes>"
      ]
     },
     "metadata": {},
     "output_type": "display_data"
    },
    {
     "data": {
      "image/png": "[encoded data removed]",
      "text/plain": [
       "<Figure size 1080x576 with 1 Axes>"
      ]
     },
     "metadata": {},
     "output_type": "display_data"
    },
    {
     "data": {
      "image/png": "[encoded data removed]",
      "text/plain": [
       "<Figure size 1080x576 with 1 Axes>"
      ]
     },
     "metadata": {},
     "output_type": "display_data"
    },
    {
     "data": {
      "image/png": "[encoded data removed]",
      "text/plain": [
       "<Figure size 1080x576 with 1 Axes>"
      ]
     },
     "metadata": {},
     "output_type": "display_data"
    },
    {
     "data": {
      "image/png": "[encoded data removed]",
      "text/plain": [
       "<Figure size 1080x576 with 1 Axes>"
      ]
     },
     "metadata": {},
     "output_type": "display_data"
    },
    {
     "data": {
      "image/png": "[encoded data removed]",
      "text/plain": [
       "<Figure size 1080x576 with 1 Axes>"
      ]
     },
     "metadata": {},
     "output_type": "display_data"
    }
   ],
   "source": [
    "for col in data.columns:\n",
    "    if (data[col].dtype == 'object'):\n",
    "        if(data[col].nunique() < 10):\n",
    "            sns.countplot(x=col, hue=\"subscribe\", data=data)\n",
    "            plt.show()\n"
   ]
  },
  {
   "cell_type": "code",
   "execution_count": 56,
   "metadata": {},
   "outputs": [
    {
     "data": {
      "image/png": "[encoded data removed]",
      "text/plain": [
       "<Figure size 1080x576 with 1 Axes>"
      ]
     },
     "metadata": {},
     "output_type": "display_data"
    },
    {
     "data": {
      "image/png": "[encoded data removed]",
      "text/plain": [
       "<Figure size 1080x576 with 1 Axes>"
      ]
     },
     "metadata": {},
     "output_type": "display_data"
    },
    {
     "data": {
      "image/png": "[encoded data removed]",
      "text/plain": [
       "<Figure size 1080x576 with 1 Axes>"
      ]
     },
     "metadata": {},
     "output_type": "display_data"
    },
    {
     "data": {
      "image/png": "[encoded data removed]",
      "text/plain": [
       "<Figure size 1080x576 with 1 Axes>"
      ]
     },
     "metadata": {},
     "output_type": "display_data"
    },
    {
     "data": {
      "image/png": "[encoded data removed]",
      "text/plain": [
       "<Figure size 1080x576 with 1 Axes>"
      ]
     },
     "metadata": {},
     "output_type": "display_data"
    },
    {
     "data": {
      "image/png": "[encoded data removed]",
      "text/plain": [
       "<Figure size 1080x576 with 1 Axes>"
      ]
     },
     "metadata": {},
     "output_type": "display_data"
    },
    {
     "data": {
      "image/png": "[encoded data removed]",
      "text/plain": [
       "<Figure size 1080x576 with 1 Axes>"
      ]
     },
     "metadata": {},
     "output_type": "display_data"
    },
    {
     "data": {
      "image/png": "[encoded data removed]",
      "text/plain": [
       "<Figure size 1080x576 with 1 Axes>"
      ]
     },
     "metadata": {},
     "output_type": "display_data"
    },
    {
     "data": {
      "image/png": "[encoded data removed]",
      "text/plain": [
       "<Figure size 1080x576 with 1 Axes>"
      ]
     },
     "metadata": {},
     "output_type": "display_data"
    }
   ],
   "source": [
    "import matplotlib.pyplot as plt\n",
    "\n",
    "for col in data.columns:\n",
    "    if (data[col].dtype == 'float64'):\n",
    "        sns.boxplot(x=\"subscribe\", y=col, data=data)\n",
    "        plt.show()"
   ]
  },
  {
   "cell_type": "code",
   "execution_count": 57,
   "metadata": {},
   "outputs": [
    {
     "name": "stdout",
     "output_type": "stream",
     "text": [
      "<class 'pandas.core.frame.DataFrame'>\n",
      "RangeIndex: 20000 entries, 0 to 19999\n",
      "Data columns (total 21 columns):\n",
      " #   Column          Non-Null Count  Dtype  \n",
      "---  ------          --------------  -----  \n",
      " 0   client_id       20000 non-null  int64  \n",
      " 1   age             19798 non-null  float64\n",
      " 2   job             19839 non-null  object \n",
      " 3   marital         19801 non-null  object \n",
      " 4   education       19830 non-null  object \n",
      " 5   default         19786 non-null  object \n",
      " 6   housing         19805 non-null  object \n",
      " 7   loan            19781 non-null  object \n",
      " 8   contact         19783 non-null  object \n",
      " 9   month           19801 non-null  object \n",
      " 10  day_of_week     19815 non-null  object \n",
      " 11  campaign        19797 non-null  float64\n",
      " 12  pdays           19815 non-null  float64\n",
      " 13  previous        19791 non-null  float64\n",
      " 14  poutcome        19825 non-null  object \n",
      " 15  emp.var.rate    19835 non-null  float64\n",
      " 16  cons.price.idx  19819 non-null  float64\n",
      " 17  cons.conf.idx   19803 non-null  float64\n",
      " 18  euribor3m       19796 non-null  float64\n",
      " 19  nr.employed     19816 non-null  float64\n",
      " 20  subscribe       20000 non-null  int64  \n",
      "dtypes: float64(9), int64(2), object(10)\n",
      "memory usage: 3.2+ MB\n"
     ]
    }
   ],
   "source": [
    "data.info()"
   ]
  },
  {
   "cell_type": "code",
   "execution_count": 58,
   "metadata": {},
   "outputs": [
    {
     "name": "stdout",
     "output_type": "stream",
     "text": [
      "client_id\n",
      "age\n",
      "job\n",
      "marital\n",
      "education\n",
      "default\n",
      "housing\n",
      "loan\n",
      "contact\n",
      "month\n",
      "day_of_week\n",
      "campaign\n",
      "pdays\n",
      "previous\n",
      "poutcome\n",
      "emp.var.rate\n",
      "cons.price.idx\n",
      "cons.conf.idx\n",
      "euribor3m\n",
      "nr.employed\n",
      "subscribe\n"
     ]
    }
   ],
   "source": [
    "# Fill na in all columns of data type object with unknown\n",
    "for col in data.columns:\n",
    "    if(data[col].dtype == 'object'):\n",
    "        print(col)\n",
    "        data[col] =  data[col].fillna('unknown')\n",
    "\n"
   ]
  },
  {
   "cell_type": "code",
   "execution_count": 59,
   "metadata": {},
   "outputs": [
    {
     "name": "stdout",
     "output_type": "stream",
     "text": [
      "<class 'pandas.core.frame.DataFrame'>\n",
      "RangeIndex: 20000 entries, 0 to 19999\n",
      "Data columns (total 21 columns):\n",
      " #   Column          Non-Null Count  Dtype  \n",
      "---  ------          --------------  -----  \n",
      " 0   client_id       20000 non-null  int64  \n",
      " 1   age             19798 non-null  float64\n",
      " 2   job             20000 non-null  object \n",
      " 3   marital         20000 non-null  object \n",
      " 4   education       20000 non-null  object \n",
      " 5   default         20000 non-null  object \n",
      " 6   housing         20000 non-null  object \n",
      " 7   loan            20000 non-null  object \n",
      " 8   contact         20000 non-null  object \n",
      " 9   month           20000 non-null  object \n",
      " 10  day_of_week     20000 non-null  object \n",
      " 11  campaign        19797 non-null  float64\n",
      " 12  pdays           19815 non-null  float64\n",
      " 13  previous        19791 non-null  float64\n",
      " 14  poutcome        20000 non-null  object \n",
      " 15  emp.var.rate    19835 non-null  float64\n",
      " 16  cons.price.idx  19819 non-null  float64\n",
      " 17  cons.conf.idx   19803 non-null  float64\n",
      " 18  euribor3m       19796 non-null  float64\n",
      " 19  nr.employed     19816 non-null  float64\n",
      " 20  subscribe       20000 non-null  int64  \n",
      "dtypes: float64(9), int64(2), object(10)\n",
      "memory usage: 3.2+ MB\n"
     ]
    }
   ],
   "source": [
    "data.info()"
   ]
  },
  {
   "cell_type": "code",
   "execution_count": 60,
   "metadata": {},
   "outputs": [
    {
     "data": {
      "text/plain": [
       "17.0"
      ]
     },
     "execution_count": 60,
     "metadata": {},
     "output_type": "execute_result"
    }
   ],
   "source": [
    "data.age.min()"
   ]
  },
  {
   "cell_type": "code",
   "execution_count": 61,
   "metadata": {},
   "outputs": [
    {
     "data": {
      "text/plain": [
       "98.0"
      ]
     },
     "execution_count": 61,
     "metadata": {},
     "output_type": "execute_result"
    }
   ],
   "source": [
    "data.age.max()"
   ]
  },
  {
   "cell_type": "code",
   "execution_count": 62,
   "metadata": {},
   "outputs": [],
   "source": [
    "data.age = data.age.fillna(data.age.mean())"
   ]
  },
  {
   "cell_type": "code",
   "execution_count": 63,
   "metadata": {},
   "outputs": [],
   "source": [
    "data['age-group'] =  np.where((data.age > 10.0) & (data.age <= 20.0), '10-20', \n",
    "                      np.where((data.age > 20.0) & (data.age <= 30.0), '20-30',  \n",
    "                      np.where((data.age > 30.0) &  (data.age <= 40.0), '30-40', \n",
    "                       np.where((data.age > 40.0) &  (data.age <= 50.0), '40-50', \n",
    "                       np.where((data.age > 50.0) &  (data.age <= 60.0), '50-60', \n",
    "                       np.where((data.age > 60.0) &  (data.age <= 70.0), '60-70', \n",
    "                       np.where((data.age > 70.0) &  (data.age <= 80.0), '70-80',\n",
    "                       np.where((data.age > 80.0) &  (data.age <= 90.0), '80-90', \n",
    "                       '90-100'))))))))"
   ]
  },
  {
   "cell_type": "code",
   "execution_count": 64,
   "metadata": {},
   "outputs": [],
   "source": [
    "data.drop('age', inplace = True, axis = 1)"
   ]
  },
  {
   "cell_type": "code",
   "execution_count": 65,
   "metadata": {},
   "outputs": [
    {
     "name": "stdout",
     "output_type": "stream",
     "text": [
      "<class 'pandas.core.frame.DataFrame'>\n",
      "RangeIndex: 20000 entries, 0 to 19999\n",
      "Data columns (total 21 columns):\n",
      " #   Column          Non-Null Count  Dtype  \n",
      "---  ------          --------------  -----  \n",
      " 0   client_id       20000 non-null  int64  \n",
      " 1   job             20000 non-null  object \n",
      " 2   marital         20000 non-null  object \n",
      " 3   education       20000 non-null  object \n",
      " 4   default         20000 non-null  object \n",
      " 5   housing         20000 non-null  object \n",
      " 6   loan            20000 non-null  object \n",
      " 7   contact         20000 non-null  object \n",
      " 8   month           20000 non-null  object \n",
      " 9   day_of_week     20000 non-null  object \n",
      " 10  campaign        19797 non-null  float64\n",
      " 11  pdays           19815 non-null  float64\n",
      " 12  previous        19791 non-null  float64\n",
      " 13  poutcome        20000 non-null  object \n",
      " 14  emp.var.rate    19835 non-null  float64\n",
      " 15  cons.price.idx  19819 non-null  float64\n",
      " 16  cons.conf.idx   19803 non-null  float64\n",
      " 17  euribor3m       19796 non-null  float64\n",
      " 18  nr.employed     19816 non-null  float64\n",
      " 19  subscribe       20000 non-null  int64  \n",
      " 20  age-group       20000 non-null  object \n",
      "dtypes: float64(8), int64(2), object(11)\n",
      "memory usage: 3.2+ MB\n"
     ]
    }
   ],
   "source": [
    "data.info()"
   ]
  },
  {
   "cell_type": "code",
   "execution_count": 66,
   "metadata": {},
   "outputs": [
    {
     "name": "stdout",
     "output_type": "stream",
     "text": [
      "job\n",
      "marital\n",
      "education\n",
      "default\n",
      "housing\n",
      "loan\n",
      "contact\n",
      "month\n",
      "day_of_week\n",
      "poutcome\n",
      "age-group\n"
     ]
    }
   ],
   "source": [
    "columns_to_drop = list()\n",
    "for col in data.columns:\n",
    "    if(data[col].dtype == 'object' and col != 'subscribe'):\n",
    "        print(col)\n",
    "        columns_to_drop.append(col)\n",
    "        dummies = pd.get_dummies(data[col], prefix = col)\n",
    "        data  = pd.concat([data, dummies] , axis = 1)"
   ]
  },
  {
   "cell_type": "code",
   "execution_count": 67,
   "metadata": {},
   "outputs": [
    {
     "data": {
      "text/html": [
       "<div>\n",
       "<style scoped>\n",
       "    .dataframe tbody tr th:only-of-type {\n",
       "        vertical-align: middle;\n",
       "    }\n",
       "\n",
       "    .dataframe tbody tr th {\n",
       "        vertical-align: top;\n",
       "    }\n",
       "\n",
       "    .dataframe thead th {\n",
       "        text-align: right;\n",
       "    }\n",
       "</style>\n",
       "<table border=\"1\" class=\"dataframe\">\n",
       "  <thead>\n",
       "    <tr style=\"text-align: right;\">\n",
       "      <th></th>\n",
       "      <th>client_id</th>\n",
       "      <th>campaign</th>\n",
       "      <th>pdays</th>\n",
       "      <th>previous</th>\n",
       "      <th>emp.var.rate</th>\n",
       "      <th>cons.price.idx</th>\n",
       "      <th>cons.conf.idx</th>\n",
       "      <th>euribor3m</th>\n",
       "      <th>nr.employed</th>\n",
       "      <th>subscribe</th>\n",
       "      <th>job_admin.</th>\n",
       "      <th>job_blue-collar</th>\n",
       "      <th>job_entrepreneur</th>\n",
       "      <th>job_housemaid</th>\n",
       "      <th>job_management</th>\n",
       "      <th>job_retired</th>\n",
       "      <th>job_self-employed</th>\n",
       "      <th>job_services</th>\n",
       "      <th>job_student</th>\n",
       "      <th>job_technician</th>\n",
       "      <th>job_unemployed</th>\n",
       "      <th>job_unknown</th>\n",
       "      <th>marital_divorced</th>\n",
       "      <th>marital_married</th>\n",
       "      <th>marital_single</th>\n",
       "      <th>marital_unknown</th>\n",
       "      <th>education_basic.4y</th>\n",
       "      <th>education_basic.6y</th>\n",
       "      <th>education_basic.9y</th>\n",
       "      <th>education_high.school</th>\n",
       "      <th>education_illiterate</th>\n",
       "      <th>education_professional.course</th>\n",
       "      <th>education_university.degree</th>\n",
       "      <th>education_unknown</th>\n",
       "      <th>default_no</th>\n",
       "      <th>default_unknown</th>\n",
       "      <th>default_yes</th>\n",
       "      <th>housing_no</th>\n",
       "      <th>housing_unknown</th>\n",
       "      <th>housing_yes</th>\n",
       "      <th>loan_no</th>\n",
       "      <th>loan_unknown</th>\n",
       "      <th>loan_yes</th>\n",
       "      <th>contact_cellular</th>\n",
       "      <th>contact_telephone</th>\n",
       "      <th>contact_unknown</th>\n",
       "      <th>month_apr</th>\n",
       "      <th>month_aug</th>\n",
       "      <th>month_dec</th>\n",
       "      <th>month_jul</th>\n",
       "      <th>month_jun</th>\n",
       "      <th>month_mar</th>\n",
       "      <th>month_may</th>\n",
       "      <th>month_nov</th>\n",
       "      <th>month_oct</th>\n",
       "      <th>month_sep</th>\n",
       "      <th>month_unknown</th>\n",
       "      <th>day_of_week_fri</th>\n",
       "      <th>day_of_week_mon</th>\n",
       "      <th>day_of_week_thu</th>\n",
       "      <th>day_of_week_tue</th>\n",
       "      <th>day_of_week_unknown</th>\n",
       "      <th>day_of_week_wed</th>\n",
       "      <th>poutcome_failure</th>\n",
       "      <th>poutcome_nonexistent</th>\n",
       "      <th>poutcome_success</th>\n",
       "      <th>poutcome_unknown</th>\n",
       "      <th>age-group_10-20</th>\n",
       "      <th>age-group_20-30</th>\n",
       "      <th>age-group_30-40</th>\n",
       "      <th>age-group_40-50</th>\n",
       "      <th>age-group_50-60</th>\n",
       "      <th>age-group_60-70</th>\n",
       "      <th>age-group_70-80</th>\n",
       "      <th>age-group_80-90</th>\n",
       "      <th>age-group_90-100</th>\n",
       "    </tr>\n",
       "  </thead>\n",
       "  <tbody>\n",
       "    <tr>\n",
       "      <th>0</th>\n",
       "      <td>29925</td>\n",
       "      <td>1.0</td>\n",
       "      <td>999.0</td>\n",
       "      <td>0.0</td>\n",
       "      <td>1.4</td>\n",
       "      <td>93.918</td>\n",
       "      <td>-42.7</td>\n",
       "      <td>4.968</td>\n",
       "      <td>5228.1</td>\n",
       "      <td>0</td>\n",
       "      <td>0</td>\n",
       "      <td>0</td>\n",
       "      <td>0</td>\n",
       "      <td>0</td>\n",
       "      <td>1</td>\n",
       "      <td>0</td>\n",
       "      <td>0</td>\n",
       "      <td>0</td>\n",
       "      <td>0</td>\n",
       "      <td>0</td>\n",
       "      <td>0</td>\n",
       "      <td>0</td>\n",
       "      <td>0</td>\n",
       "      <td>1</td>\n",
       "      <td>0</td>\n",
       "      <td>0</td>\n",
       "      <td>0</td>\n",
       "      <td>0</td>\n",
       "      <td>1</td>\n",
       "      <td>0</td>\n",
       "      <td>0</td>\n",
       "      <td>0</td>\n",
       "      <td>0</td>\n",
       "      <td>0</td>\n",
       "      <td>1</td>\n",
       "      <td>0</td>\n",
       "      <td>0</td>\n",
       "      <td>1</td>\n",
       "      <td>0</td>\n",
       "      <td>0</td>\n",
       "      <td>1</td>\n",
       "      <td>0</td>\n",
       "      <td>0</td>\n",
       "      <td>1</td>\n",
       "      <td>0</td>\n",
       "      <td>0</td>\n",
       "      <td>0</td>\n",
       "      <td>0</td>\n",
       "      <td>0</td>\n",
       "      <td>1</td>\n",
       "      <td>0</td>\n",
       "      <td>0</td>\n",
       "      <td>0</td>\n",
       "      <td>0</td>\n",
       "      <td>0</td>\n",
       "      <td>0</td>\n",
       "      <td>0</td>\n",
       "      <td>0</td>\n",
       "      <td>0</td>\n",
       "      <td>1</td>\n",
       "      <td>0</td>\n",
       "      <td>0</td>\n",
       "      <td>0</td>\n",
       "      <td>0</td>\n",
       "      <td>1</td>\n",
       "      <td>0</td>\n",
       "      <td>0</td>\n",
       "      <td>0</td>\n",
       "      <td>0</td>\n",
       "      <td>0</td>\n",
       "      <td>1</td>\n",
       "      <td>0</td>\n",
       "      <td>0</td>\n",
       "      <td>0</td>\n",
       "      <td>0</td>\n",
       "      <td>0</td>\n",
       "    </tr>\n",
       "    <tr>\n",
       "      <th>1</th>\n",
       "      <td>37529</td>\n",
       "      <td>4.0</td>\n",
       "      <td>999.0</td>\n",
       "      <td>0.0</td>\n",
       "      <td>1.4</td>\n",
       "      <td>94.465</td>\n",
       "      <td>-41.8</td>\n",
       "      <td>4.960</td>\n",
       "      <td>5228.1</td>\n",
       "      <td>0</td>\n",
       "      <td>0</td>\n",
       "      <td>0</td>\n",
       "      <td>0</td>\n",
       "      <td>0</td>\n",
       "      <td>0</td>\n",
       "      <td>0</td>\n",
       "      <td>0</td>\n",
       "      <td>0</td>\n",
       "      <td>0</td>\n",
       "      <td>0</td>\n",
       "      <td>1</td>\n",
       "      <td>0</td>\n",
       "      <td>0</td>\n",
       "      <td>1</td>\n",
       "      <td>0</td>\n",
       "      <td>0</td>\n",
       "      <td>0</td>\n",
       "      <td>0</td>\n",
       "      <td>0</td>\n",
       "      <td>0</td>\n",
       "      <td>0</td>\n",
       "      <td>0</td>\n",
       "      <td>1</td>\n",
       "      <td>0</td>\n",
       "      <td>1</td>\n",
       "      <td>0</td>\n",
       "      <td>0</td>\n",
       "      <td>0</td>\n",
       "      <td>0</td>\n",
       "      <td>1</td>\n",
       "      <td>1</td>\n",
       "      <td>0</td>\n",
       "      <td>0</td>\n",
       "      <td>0</td>\n",
       "      <td>1</td>\n",
       "      <td>0</td>\n",
       "      <td>0</td>\n",
       "      <td>0</td>\n",
       "      <td>0</td>\n",
       "      <td>0</td>\n",
       "      <td>1</td>\n",
       "      <td>0</td>\n",
       "      <td>0</td>\n",
       "      <td>0</td>\n",
       "      <td>0</td>\n",
       "      <td>0</td>\n",
       "      <td>0</td>\n",
       "      <td>0</td>\n",
       "      <td>1</td>\n",
       "      <td>0</td>\n",
       "      <td>0</td>\n",
       "      <td>0</td>\n",
       "      <td>0</td>\n",
       "      <td>0</td>\n",
       "      <td>1</td>\n",
       "      <td>0</td>\n",
       "      <td>0</td>\n",
       "      <td>0</td>\n",
       "      <td>0</td>\n",
       "      <td>1</td>\n",
       "      <td>0</td>\n",
       "      <td>0</td>\n",
       "      <td>0</td>\n",
       "      <td>0</td>\n",
       "      <td>0</td>\n",
       "      <td>0</td>\n",
       "    </tr>\n",
       "    <tr>\n",
       "      <th>2</th>\n",
       "      <td>2757</td>\n",
       "      <td>1.0</td>\n",
       "      <td>999.0</td>\n",
       "      <td>0.0</td>\n",
       "      <td>-1.8</td>\n",
       "      <td>92.893</td>\n",
       "      <td>-46.2</td>\n",
       "      <td>1.264</td>\n",
       "      <td>5099.1</td>\n",
       "      <td>0</td>\n",
       "      <td>0</td>\n",
       "      <td>0</td>\n",
       "      <td>0</td>\n",
       "      <td>0</td>\n",
       "      <td>0</td>\n",
       "      <td>0</td>\n",
       "      <td>0</td>\n",
       "      <td>0</td>\n",
       "      <td>0</td>\n",
       "      <td>1</td>\n",
       "      <td>0</td>\n",
       "      <td>0</td>\n",
       "      <td>0</td>\n",
       "      <td>1</td>\n",
       "      <td>0</td>\n",
       "      <td>0</td>\n",
       "      <td>0</td>\n",
       "      <td>0</td>\n",
       "      <td>1</td>\n",
       "      <td>0</td>\n",
       "      <td>0</td>\n",
       "      <td>0</td>\n",
       "      <td>0</td>\n",
       "      <td>0</td>\n",
       "      <td>1</td>\n",
       "      <td>0</td>\n",
       "      <td>0</td>\n",
       "      <td>0</td>\n",
       "      <td>0</td>\n",
       "      <td>1</td>\n",
       "      <td>0</td>\n",
       "      <td>0</td>\n",
       "      <td>1</td>\n",
       "      <td>1</td>\n",
       "      <td>0</td>\n",
       "      <td>0</td>\n",
       "      <td>0</td>\n",
       "      <td>0</td>\n",
       "      <td>0</td>\n",
       "      <td>0</td>\n",
       "      <td>0</td>\n",
       "      <td>0</td>\n",
       "      <td>1</td>\n",
       "      <td>0</td>\n",
       "      <td>0</td>\n",
       "      <td>0</td>\n",
       "      <td>0</td>\n",
       "      <td>0</td>\n",
       "      <td>1</td>\n",
       "      <td>0</td>\n",
       "      <td>0</td>\n",
       "      <td>0</td>\n",
       "      <td>0</td>\n",
       "      <td>0</td>\n",
       "      <td>1</td>\n",
       "      <td>0</td>\n",
       "      <td>0</td>\n",
       "      <td>0</td>\n",
       "      <td>0</td>\n",
       "      <td>0</td>\n",
       "      <td>1</td>\n",
       "      <td>0</td>\n",
       "      <td>0</td>\n",
       "      <td>0</td>\n",
       "      <td>0</td>\n",
       "      <td>0</td>\n",
       "    </tr>\n",
       "    <tr>\n",
       "      <th>3</th>\n",
       "      <td>9642</td>\n",
       "      <td>1.0</td>\n",
       "      <td>999.0</td>\n",
       "      <td>0.0</td>\n",
       "      <td>-1.8</td>\n",
       "      <td>93.075</td>\n",
       "      <td>-47.1</td>\n",
       "      <td>1.453</td>\n",
       "      <td>5099.1</td>\n",
       "      <td>0</td>\n",
       "      <td>0</td>\n",
       "      <td>0</td>\n",
       "      <td>0</td>\n",
       "      <td>0</td>\n",
       "      <td>0</td>\n",
       "      <td>0</td>\n",
       "      <td>0</td>\n",
       "      <td>1</td>\n",
       "      <td>0</td>\n",
       "      <td>0</td>\n",
       "      <td>0</td>\n",
       "      <td>0</td>\n",
       "      <td>0</td>\n",
       "      <td>1</td>\n",
       "      <td>0</td>\n",
       "      <td>0</td>\n",
       "      <td>0</td>\n",
       "      <td>0</td>\n",
       "      <td>0</td>\n",
       "      <td>1</td>\n",
       "      <td>0</td>\n",
       "      <td>0</td>\n",
       "      <td>0</td>\n",
       "      <td>0</td>\n",
       "      <td>1</td>\n",
       "      <td>0</td>\n",
       "      <td>0</td>\n",
       "      <td>0</td>\n",
       "      <td>0</td>\n",
       "      <td>1</td>\n",
       "      <td>1</td>\n",
       "      <td>0</td>\n",
       "      <td>0</td>\n",
       "      <td>1</td>\n",
       "      <td>0</td>\n",
       "      <td>0</td>\n",
       "      <td>1</td>\n",
       "      <td>0</td>\n",
       "      <td>0</td>\n",
       "      <td>0</td>\n",
       "      <td>0</td>\n",
       "      <td>0</td>\n",
       "      <td>0</td>\n",
       "      <td>0</td>\n",
       "      <td>0</td>\n",
       "      <td>0</td>\n",
       "      <td>0</td>\n",
       "      <td>0</td>\n",
       "      <td>0</td>\n",
       "      <td>0</td>\n",
       "      <td>1</td>\n",
       "      <td>0</td>\n",
       "      <td>0</td>\n",
       "      <td>0</td>\n",
       "      <td>1</td>\n",
       "      <td>0</td>\n",
       "      <td>0</td>\n",
       "      <td>0</td>\n",
       "      <td>0</td>\n",
       "      <td>0</td>\n",
       "      <td>1</td>\n",
       "      <td>0</td>\n",
       "      <td>0</td>\n",
       "      <td>0</td>\n",
       "      <td>0</td>\n",
       "      <td>0</td>\n",
       "    </tr>\n",
       "    <tr>\n",
       "      <th>4</th>\n",
       "      <td>14183</td>\n",
       "      <td>1.0</td>\n",
       "      <td>999.0</td>\n",
       "      <td>0.0</td>\n",
       "      <td>1.1</td>\n",
       "      <td>93.994</td>\n",
       "      <td>-36.4</td>\n",
       "      <td>4.859</td>\n",
       "      <td>5191.0</td>\n",
       "      <td>0</td>\n",
       "      <td>0</td>\n",
       "      <td>0</td>\n",
       "      <td>0</td>\n",
       "      <td>0</td>\n",
       "      <td>0</td>\n",
       "      <td>0</td>\n",
       "      <td>0</td>\n",
       "      <td>0</td>\n",
       "      <td>0</td>\n",
       "      <td>0</td>\n",
       "      <td>0</td>\n",
       "      <td>1</td>\n",
       "      <td>0</td>\n",
       "      <td>1</td>\n",
       "      <td>0</td>\n",
       "      <td>0</td>\n",
       "      <td>0</td>\n",
       "      <td>0</td>\n",
       "      <td>0</td>\n",
       "      <td>0</td>\n",
       "      <td>0</td>\n",
       "      <td>0</td>\n",
       "      <td>0</td>\n",
       "      <td>1</td>\n",
       "      <td>0</td>\n",
       "      <td>1</td>\n",
       "      <td>0</td>\n",
       "      <td>0</td>\n",
       "      <td>1</td>\n",
       "      <td>0</td>\n",
       "      <td>0</td>\n",
       "      <td>1</td>\n",
       "      <td>0</td>\n",
       "      <td>0</td>\n",
       "      <td>1</td>\n",
       "      <td>0</td>\n",
       "      <td>0</td>\n",
       "      <td>0</td>\n",
       "      <td>0</td>\n",
       "      <td>0</td>\n",
       "      <td>0</td>\n",
       "      <td>0</td>\n",
       "      <td>1</td>\n",
       "      <td>0</td>\n",
       "      <td>0</td>\n",
       "      <td>0</td>\n",
       "      <td>0</td>\n",
       "      <td>0</td>\n",
       "      <td>0</td>\n",
       "      <td>0</td>\n",
       "      <td>0</td>\n",
       "      <td>0</td>\n",
       "      <td>1</td>\n",
       "      <td>0</td>\n",
       "      <td>1</td>\n",
       "      <td>0</td>\n",
       "      <td>0</td>\n",
       "      <td>0</td>\n",
       "      <td>0</td>\n",
       "      <td>0</td>\n",
       "      <td>1</td>\n",
       "      <td>0</td>\n",
       "      <td>0</td>\n",
       "      <td>0</td>\n",
       "      <td>0</td>\n",
       "      <td>0</td>\n",
       "    </tr>\n",
       "  </tbody>\n",
       "</table>\n",
       "</div>"
      ],
      "text/plain": [
       "   client_id  campaign  pdays  previous  emp.var.rate  cons.price.idx  cons.conf.idx  euribor3m  nr.employed  subscribe  job_admin.  job_blue-collar  job_entrepreneur  job_housemaid  job_management  job_retired  job_self-employed  job_services  job_student  job_technician  job_unemployed  job_unknown  marital_divorced  marital_married  marital_single  marital_unknown  education_basic.4y  education_basic.6y  education_basic.9y  education_high.school  education_illiterate  education_professional.course  education_university.degree  education_unknown  default_no  default_unknown  default_yes  housing_no  housing_unknown  housing_yes  loan_no  loan_unknown  loan_yes  contact_cellular  contact_telephone  contact_unknown  month_apr  month_aug  month_dec  month_jul  month_jun  month_mar  month_may  month_nov  month_oct  month_sep  month_unknown  day_of_week_fri  day_of_week_mon  day_of_week_thu  day_of_week_tue  day_of_week_unknown  day_of_week_wed  poutcome_failure  poutcome_nonexistent  \\\n",
       "0      29925       1.0  999.0       0.0           1.4          93.918          -42.7      4.968       5228.1          0           0                0                 0              0               1            0                  0             0            0               0               0            0                 0                1               0                0                   0                   0                   1                      0                     0                              0                            0                  0           1                0            0           1                0            0        1             0         0                 1                  0                0          0          0          0          1          0          0          0          0          0          0              0                0                0                1                0                    0                0                 0                     1   \n",
       "1      37529       4.0  999.0       0.0           1.4          94.465          -41.8      4.960       5228.1          0           0                0                 0              0               0            0                  0             0            0               0               1            0                 0                1               0                0                   0                   0                   0                      0                     0                              0                            1                  0           1                0            0           0                0            1        1             0         0                 0                  1                0          0          0          0          0          1          0          0          0          0          0              0                0                1                0                0                    0                0                 0                     1   \n",
       "2       2757       1.0  999.0       0.0          -1.8          92.893          -46.2      1.264       5099.1          0           0                0                 0              0               0            0                  0             0            0               1               0            0                 0                1               0                0                   0                   0                   1                      0                     0                              0                            0                  0           1                0            0           0                0            1        0             0         1                 1                  0                0          0          0          0          0          0          0          1          0          0          0              0                0                1                0                0                    0                0                 0                     1   \n",
       "3       9642       1.0  999.0       0.0          -1.8          93.075          -47.1      1.453       5099.1          0           0                0                 0              0               0            0                  0             1            0               0               0            0                 0                1               0                0                   0                   0                   0                      1                     0                              0                            0                  0           1                0            0           0                0            1        1             0         0                 1                  0                0          1          0          0          0          0          0          0          0          0          0              0                0                0                0                1                    0                0                 0                     1   \n",
       "4      14183       1.0  999.0       0.0           1.1          93.994          -36.4      4.859       5191.0          0           0                0                 0              0               0            0                  0             0            0               0               0            1                 0                1               0                0                   0                   0                   0                      0                     0                              0                            0                  1           0                1            0           0                1            0        0             1         0                 0                  1                0          0          0          0          0          0          0          1          0          0          0              0                0                0                0                0                    0                1                 0                     1   \n",
       "\n",
       "   poutcome_success  poutcome_unknown  age-group_10-20  age-group_20-30  age-group_30-40  age-group_40-50  age-group_50-60  age-group_60-70  age-group_70-80  age-group_80-90  age-group_90-100  \n",
       "0                 0                 0                0                0                0                1                0                0                0                0                 0  \n",
       "1                 0                 0                0                0                1                0                0                0                0                0                 0  \n",
       "2                 0                 0                0                0                0                1                0                0                0                0                 0  \n",
       "3                 0                 0                0                0                0                1                0                0                0                0                 0  \n",
       "4                 0                 0                0                0                0                1                0                0                0                0                 0  "
      ]
     },
     "execution_count": 67,
     "metadata": {},
     "output_type": "execute_result"
    }
   ],
   "source": [
    "data.drop(columns = columns_to_drop, axis = 1, inplace= True)\n",
    "data.head()"
   ]
  },
  {
   "cell_type": "code",
   "execution_count": 68,
   "metadata": {},
   "outputs": [
    {
     "name": "stdout",
     "output_type": "stream",
     "text": [
      "<class 'pandas.core.frame.DataFrame'>\n",
      "RangeIndex: 20000 entries, 0 to 19999\n",
      "Data columns (total 76 columns):\n",
      " #   Column                         Non-Null Count  Dtype  \n",
      "---  ------                         --------------  -----  \n",
      " 0   client_id                      20000 non-null  int64  \n",
      " 1   campaign                       19797 non-null  float64\n",
      " 2   pdays                          19815 non-null  float64\n",
      " 3   previous                       19791 non-null  float64\n",
      " 4   emp.var.rate                   19835 non-null  float64\n",
      " 5   cons.price.idx                 19819 non-null  float64\n",
      " 6   cons.conf.idx                  19803 non-null  float64\n",
      " 7   euribor3m                      19796 non-null  float64\n",
      " 8   nr.employed                    19816 non-null  float64\n",
      " 9   subscribe                      20000 non-null  int64  \n",
      " 10  job_admin.                     20000 non-null  uint8  \n",
      " 11  job_blue-collar                20000 non-null  uint8  \n",
      " 12  job_entrepreneur               20000 non-null  uint8  \n",
      " 13  job_housemaid                  20000 non-null  uint8  \n",
      " 14  job_management                 20000 non-null  uint8  \n",
      " 15  job_retired                    20000 non-null  uint8  \n",
      " 16  job_self-employed              20000 non-null  uint8  \n",
      " 17  job_services                   20000 non-null  uint8  \n",
      " 18  job_student                    20000 non-null  uint8  \n",
      " 19  job_technician                 20000 non-null  uint8  \n",
      " 20  job_unemployed                 20000 non-null  uint8  \n",
      " 21  job_unknown                    20000 non-null  uint8  \n",
      " 22  marital_divorced               20000 non-null  uint8  \n",
      " 23  marital_married                20000 non-null  uint8  \n",
      " 24  marital_single                 20000 non-null  uint8  \n",
      " 25  marital_unknown                20000 non-null  uint8  \n",
      " 26  education_basic.4y             20000 non-null  uint8  \n",
      " 27  education_basic.6y             20000 non-null  uint8  \n",
      " 28  education_basic.9y             20000 non-null  uint8  \n",
      " 29  education_high.school          20000 non-null  uint8  \n",
      " 30  education_illiterate           20000 non-null  uint8  \n",
      " 31  education_professional.course  20000 non-null  uint8  \n",
      " 32  education_university.degree    20000 non-null  uint8  \n",
      " 33  education_unknown              20000 non-null  uint8  \n",
      " 34  default_no                     20000 non-null  uint8  \n",
      " 35  default_unknown                20000 non-null  uint8  \n",
      " 36  default_yes                    20000 non-null  uint8  \n",
      " 37  housing_no                     20000 non-null  uint8  \n",
      " 38  housing_unknown                20000 non-null  uint8  \n",
      " 39  housing_yes                    20000 non-null  uint8  \n",
      " 40  loan_no                        20000 non-null  uint8  \n",
      " 41  loan_unknown                   20000 non-null  uint8  \n",
      " 42  loan_yes                       20000 non-null  uint8  \n",
      " 43  contact_cellular               20000 non-null  uint8  \n",
      " 44  contact_telephone              20000 non-null  uint8  \n",
      " 45  contact_unknown                20000 non-null  uint8  \n",
      " 46  month_apr                      20000 non-null  uint8  \n",
      " 47  month_aug                      20000 non-null  uint8  \n",
      " 48  month_dec                      20000 non-null  uint8  \n",
      " 49  month_jul                      20000 non-null  uint8  \n",
      " 50  month_jun                      20000 non-null  uint8  \n",
      " 51  month_mar                      20000 non-null  uint8  \n",
      " 52  month_may                      20000 non-null  uint8  \n",
      " 53  month_nov                      20000 non-null  uint8  \n",
      " 54  month_oct                      20000 non-null  uint8  \n",
      " 55  month_sep                      20000 non-null  uint8  \n",
      " 56  month_unknown                  20000 non-null  uint8  \n",
      " 57  day_of_week_fri                20000 non-null  uint8  \n",
      " 58  day_of_week_mon                20000 non-null  uint8  \n",
      " 59  day_of_week_thu                20000 non-null  uint8  \n",
      " 60  day_of_week_tue                20000 non-null  uint8  \n",
      " 61  day_of_week_unknown            20000 non-null  uint8  \n",
      " 62  day_of_week_wed                20000 non-null  uint8  \n",
      " 63  poutcome_failure               20000 non-null  uint8  \n",
      " 64  poutcome_nonexistent           20000 non-null  uint8  \n",
      " 65  poutcome_success               20000 non-null  uint8  \n",
      " 66  poutcome_unknown               20000 non-null  uint8  \n",
      " 67  age-group_10-20                20000 non-null  uint8  \n",
      " 68  age-group_20-30                20000 non-null  uint8  \n",
      " 69  age-group_30-40                20000 non-null  uint8  \n",
      " 70  age-group_40-50                20000 non-null  uint8  \n",
      " 71  age-group_50-60                20000 non-null  uint8  \n",
      " 72  age-group_60-70                20000 non-null  uint8  \n",
      " 73  age-group_70-80                20000 non-null  uint8  \n",
      " 74  age-group_80-90                20000 non-null  uint8  \n",
      " 75  age-group_90-100               20000 non-null  uint8  \n",
      "dtypes: float64(8), int64(2), uint8(66)\n",
      "memory usage: 2.8 MB\n"
     ]
    }
   ],
   "source": [
    "data.info()"
   ]
  },
  {
   "cell_type": "code",
   "execution_count": 69,
   "metadata": {},
   "outputs": [
    {
     "data": {
      "text/plain": [
       "client_id                          0\n",
       "campaign                         203\n",
       "pdays                            185\n",
       "previous                         209\n",
       "emp.var.rate                     165\n",
       "cons.price.idx                   181\n",
       "cons.conf.idx                    197\n",
       "euribor3m                        204\n",
       "nr.employed                      184\n",
       "subscribe                          0\n",
       "job_admin.                         0\n",
       "job_blue-collar                    0\n",
       "job_entrepreneur                   0\n",
       "job_housemaid                      0\n",
       "job_management                     0\n",
       "job_retired                        0\n",
       "job_self-employed                  0\n",
       "job_services                       0\n",
       "job_student                        0\n",
       "job_technician                     0\n",
       "job_unemployed                     0\n",
       "job_unknown                        0\n",
       "marital_divorced                   0\n",
       "marital_married                    0\n",
       "marital_single                     0\n",
       "marital_unknown                    0\n",
       "education_basic.4y                 0\n",
       "education_basic.6y                 0\n",
       "education_basic.9y                 0\n",
       "education_high.school              0\n",
       "education_illiterate               0\n",
       "education_professional.course      0\n",
       "education_university.degree        0\n",
       "education_unknown                  0\n",
       "default_no                         0\n",
       "default_unknown                    0\n",
       "default_yes                        0\n",
       "housing_no                         0\n",
       "housing_unknown                    0\n",
       "housing_yes                        0\n",
       "loan_no                            0\n",
       "loan_unknown                       0\n",
       "loan_yes                           0\n",
       "contact_cellular                   0\n",
       "contact_telephone                  0\n",
       "contact_unknown                    0\n",
       "month_apr                          0\n",
       "month_aug                          0\n",
       "month_dec                          0\n",
       "month_jul                          0\n",
       "month_jun                          0\n",
       "month_mar                          0\n",
       "month_may                          0\n",
       "month_nov                          0\n",
       "month_oct                          0\n",
       "month_sep                          0\n",
       "month_unknown                      0\n",
       "day_of_week_fri                    0\n",
       "day_of_week_mon                    0\n",
       "day_of_week_thu                    0\n",
       "day_of_week_tue                    0\n",
       "day_of_week_unknown                0\n",
       "day_of_week_wed                    0\n",
       "poutcome_failure                   0\n",
       "poutcome_nonexistent               0\n",
       "poutcome_success                   0\n",
       "poutcome_unknown                   0\n",
       "age-group_10-20                    0\n",
       "age-group_20-30                    0\n",
       "age-group_30-40                    0\n",
       "age-group_40-50                    0\n",
       "age-group_50-60                    0\n",
       "age-group_60-70                    0\n",
       "age-group_70-80                    0\n",
       "age-group_80-90                    0\n",
       "age-group_90-100                   0\n",
       "dtype: int64"
      ]
     },
     "execution_count": 69,
     "metadata": {},
     "output_type": "execute_result"
    }
   ],
   "source": [
    "data.isna().sum()"
   ]
  },
  {
   "cell_type": "code",
   "execution_count": 70,
   "metadata": {},
   "outputs": [],
   "source": [
    "data.campaign =  data.campaign.fillna(-9999)"
   ]
  },
  {
   "cell_type": "code",
   "execution_count": 71,
   "metadata": {},
   "outputs": [],
   "source": [
    "data['campaign_missing'] = np.where(data.campaign == -9999, 1,0)"
   ]
  },
  {
   "cell_type": "code",
   "execution_count": 72,
   "metadata": {},
   "outputs": [
    {
     "data": {
      "text/plain": [
       "client_id                          0\n",
       "campaign                           0\n",
       "pdays                            185\n",
       "previous                         209\n",
       "emp.var.rate                     165\n",
       "cons.price.idx                   181\n",
       "cons.conf.idx                    197\n",
       "euribor3m                        204\n",
       "nr.employed                      184\n",
       "subscribe                          0\n",
       "job_admin.                         0\n",
       "job_blue-collar                    0\n",
       "job_entrepreneur                   0\n",
       "job_housemaid                      0\n",
       "job_management                     0\n",
       "job_retired                        0\n",
       "job_self-employed                  0\n",
       "job_services                       0\n",
       "job_student                        0\n",
       "job_technician                     0\n",
       "job_unemployed                     0\n",
       "job_unknown                        0\n",
       "marital_divorced                   0\n",
       "marital_married                    0\n",
       "marital_single                     0\n",
       "marital_unknown                    0\n",
       "education_basic.4y                 0\n",
       "education_basic.6y                 0\n",
       "education_basic.9y                 0\n",
       "education_high.school              0\n",
       "education_illiterate               0\n",
       "education_professional.course      0\n",
       "education_university.degree        0\n",
       "education_unknown                  0\n",
       "default_no                         0\n",
       "default_unknown                    0\n",
       "default_yes                        0\n",
       "housing_no                         0\n",
       "housing_unknown                    0\n",
       "housing_yes                        0\n",
       "loan_no                            0\n",
       "loan_unknown                       0\n",
       "loan_yes                           0\n",
       "contact_cellular                   0\n",
       "contact_telephone                  0\n",
       "contact_unknown                    0\n",
       "month_apr                          0\n",
       "month_aug                          0\n",
       "month_dec                          0\n",
       "month_jul                          0\n",
       "month_jun                          0\n",
       "month_mar                          0\n",
       "month_may                          0\n",
       "month_nov                          0\n",
       "month_oct                          0\n",
       "month_sep                          0\n",
       "month_unknown                      0\n",
       "day_of_week_fri                    0\n",
       "day_of_week_mon                    0\n",
       "day_of_week_thu                    0\n",
       "day_of_week_tue                    0\n",
       "day_of_week_unknown                0\n",
       "day_of_week_wed                    0\n",
       "poutcome_failure                   0\n",
       "poutcome_nonexistent               0\n",
       "poutcome_success                   0\n",
       "poutcome_unknown                   0\n",
       "age-group_10-20                    0\n",
       "age-group_20-30                    0\n",
       "age-group_30-40                    0\n",
       "age-group_40-50                    0\n",
       "age-group_50-60                    0\n",
       "age-group_60-70                    0\n",
       "age-group_70-80                    0\n",
       "age-group_80-90                    0\n",
       "age-group_90-100                   0\n",
       "campaign_missing                   0\n",
       "dtype: int64"
      ]
     },
     "execution_count": 72,
     "metadata": {},
     "output_type": "execute_result"
    }
   ],
   "source": [
    "data.isna().sum()"
   ]
  },
  {
   "cell_type": "code",
   "execution_count": 73,
   "metadata": {},
   "outputs": [
    {
     "data": {
      "text/plain": [
       "25"
      ]
     },
     "execution_count": 73,
     "metadata": {},
     "output_type": "execute_result"
    }
   ],
   "source": [
    "data.pdays.nunique()"
   ]
  },
  {
   "cell_type": "code",
   "execution_count": 74,
   "metadata": {},
   "outputs": [],
   "source": [
    "data.pdays =  data.pdays.fillna(-9999)\n",
    "data['pdays_missing'] = np.where(data.pdays == -9999, 1,0)"
   ]
  },
  {
   "cell_type": "code",
   "execution_count": 75,
   "metadata": {},
   "outputs": [
    {
     "data": {
      "text/plain": [
       "7"
      ]
     },
     "execution_count": 75,
     "metadata": {},
     "output_type": "execute_result"
    }
   ],
   "source": [
    "data.previous.nunique()"
   ]
  },
  {
   "cell_type": "code",
   "execution_count": 76,
   "metadata": {},
   "outputs": [],
   "source": [
    "data.previous =  data.previous.fillna(-9999)\n",
    "data['previous_missing'] = np.where(data.previous == -9999, 1,0)"
   ]
  },
  {
   "cell_type": "code",
   "execution_count": 77,
   "metadata": {},
   "outputs": [
    {
     "data": {
      "text/plain": [
       "10"
      ]
     },
     "execution_count": 77,
     "metadata": {},
     "output_type": "execute_result"
    }
   ],
   "source": [
    "data['emp.var.rate'].nunique()"
   ]
  },
  {
   "cell_type": "code",
   "execution_count": 78,
   "metadata": {},
   "outputs": [],
   "source": [
    "data['emp.var.rate'] =  data['emp.var.rate'].fillna(-9999)\n",
    "data['emp.var.rate_missing'] = np.where(data['emp.var.rate'] == -9999, 1,0)"
   ]
  },
  {
   "cell_type": "code",
   "execution_count": 79,
   "metadata": {},
   "outputs": [
    {
     "data": {
      "text/plain": [
       "26"
      ]
     },
     "execution_count": 79,
     "metadata": {},
     "output_type": "execute_result"
    }
   ],
   "source": [
    "data['cons.price.idx'].nunique()"
   ]
  },
  {
   "cell_type": "code",
   "execution_count": 80,
   "metadata": {},
   "outputs": [],
   "source": [
    "data['cons.price.idx'] =  data['cons.price.idx'].fillna(-9999)\n",
    "data['cons.price.idx_missing'] = np.where(data['cons.price.idx'] == -9999, 1,0)"
   ]
  },
  {
   "cell_type": "code",
   "execution_count": 81,
   "metadata": {},
   "outputs": [
    {
     "data": {
      "text/plain": [
       "26"
      ]
     },
     "execution_count": 81,
     "metadata": {},
     "output_type": "execute_result"
    }
   ],
   "source": [
    "data['cons.conf.idx'].nunique()"
   ]
  },
  {
   "cell_type": "code",
   "execution_count": 82,
   "metadata": {},
   "outputs": [],
   "source": [
    "data['cons.conf.idx'] =  data['cons.conf.idx'].fillna(-9999)\n",
    "data['cons.conf.idx_missing'] = np.where(data['cons.conf.idx'] == -9999, 1,0)"
   ]
  },
  {
   "cell_type": "code",
   "execution_count": 83,
   "metadata": {},
   "outputs": [
    {
     "data": {
      "text/plain": [
       "300"
      ]
     },
     "execution_count": 83,
     "metadata": {},
     "output_type": "execute_result"
    }
   ],
   "source": [
    "data['euribor3m'].nunique()"
   ]
  },
  {
   "cell_type": "code",
   "execution_count": 84,
   "metadata": {},
   "outputs": [],
   "source": [
    "data['euribor3m'] =  data['euribor3m'].fillna(-9999)\n",
    "data['euribor3m_missing'] = np.where(data['euribor3m'] == -9999, 1,0)"
   ]
  },
  {
   "cell_type": "code",
   "execution_count": 85,
   "metadata": {},
   "outputs": [
    {
     "data": {
      "text/plain": [
       "11"
      ]
     },
     "execution_count": 85,
     "metadata": {},
     "output_type": "execute_result"
    }
   ],
   "source": [
    "data['nr.employed'].nunique()"
   ]
  },
  {
   "cell_type": "code",
   "execution_count": 86,
   "metadata": {},
   "outputs": [],
   "source": [
    "data['nr.employed'] =  data['nr.employed'].fillna(-9999)\n",
    "data['nr.employed_missing'] = np.where(data['nr.employed'] == -9999, 1,0)"
   ]
  },
  {
   "cell_type": "code",
   "execution_count": 87,
   "metadata": {},
   "outputs": [
    {
     "data": {
      "text/plain": [
       "client_id                        0\n",
       "campaign                         0\n",
       "pdays                            0\n",
       "previous                         0\n",
       "emp.var.rate                     0\n",
       "cons.price.idx                   0\n",
       "cons.conf.idx                    0\n",
       "euribor3m                        0\n",
       "nr.employed                      0\n",
       "subscribe                        0\n",
       "job_admin.                       0\n",
       "job_blue-collar                  0\n",
       "job_entrepreneur                 0\n",
       "job_housemaid                    0\n",
       "job_management                   0\n",
       "job_retired                      0\n",
       "job_self-employed                0\n",
       "job_services                     0\n",
       "job_student                      0\n",
       "job_technician                   0\n",
       "job_unemployed                   0\n",
       "job_unknown                      0\n",
       "marital_divorced                 0\n",
       "marital_married                  0\n",
       "marital_single                   0\n",
       "marital_unknown                  0\n",
       "education_basic.4y               0\n",
       "education_basic.6y               0\n",
       "education_basic.9y               0\n",
       "education_high.school            0\n",
       "education_illiterate             0\n",
       "education_professional.course    0\n",
       "education_university.degree      0\n",
       "education_unknown                0\n",
       "default_no                       0\n",
       "default_unknown                  0\n",
       "default_yes                      0\n",
       "housing_no                       0\n",
       "housing_unknown                  0\n",
       "housing_yes                      0\n",
       "loan_no                          0\n",
       "loan_unknown                     0\n",
       "loan_yes                         0\n",
       "contact_cellular                 0\n",
       "contact_telephone                0\n",
       "contact_unknown                  0\n",
       "month_apr                        0\n",
       "month_aug                        0\n",
       "month_dec                        0\n",
       "month_jul                        0\n",
       "month_jun                        0\n",
       "month_mar                        0\n",
       "month_may                        0\n",
       "month_nov                        0\n",
       "month_oct                        0\n",
       "month_sep                        0\n",
       "month_unknown                    0\n",
       "day_of_week_fri                  0\n",
       "day_of_week_mon                  0\n",
       "day_of_week_thu                  0\n",
       "day_of_week_tue                  0\n",
       "day_of_week_unknown              0\n",
       "day_of_week_wed                  0\n",
       "poutcome_failure                 0\n",
       "poutcome_nonexistent             0\n",
       "poutcome_success                 0\n",
       "poutcome_unknown                 0\n",
       "age-group_10-20                  0\n",
       "age-group_20-30                  0\n",
       "age-group_30-40                  0\n",
       "age-group_40-50                  0\n",
       "age-group_50-60                  0\n",
       "age-group_60-70                  0\n",
       "age-group_70-80                  0\n",
       "age-group_80-90                  0\n",
       "age-group_90-100                 0\n",
       "campaign_missing                 0\n",
       "pdays_missing                    0\n",
       "previous_missing                 0\n",
       "emp.var.rate_missing             0\n",
       "cons.price.idx_missing           0\n",
       "cons.conf.idx_missing            0\n",
       "euribor3m_missing                0\n",
       "nr.employed_missing              0\n",
       "dtype: int64"
      ]
     },
     "execution_count": 87,
     "metadata": {},
     "output_type": "execute_result"
    }
   ],
   "source": [
    "data.isna().sum()"
   ]
  },
  {
   "cell_type": "code",
   "execution_count": 88,
   "metadata": {},
   "outputs": [
    {
     "data": {
      "text/plain": [
       "2271"
      ]
     },
     "execution_count": 88,
     "metadata": {},
     "output_type": "execute_result"
    }
   ],
   "source": [
    "data[data.subscribe == 1].shape[0]"
   ]
  },
  {
   "cell_type": "code",
   "execution_count": 98,
   "metadata": {},
   "outputs": [
    {
     "data": {
      "text/plain": [
       "0.11355"
      ]
     },
     "execution_count": 98,
     "metadata": {},
     "output_type": "execute_result"
    }
   ],
   "source": [
    "data[data.subscribe == 1].shape[0] / data.shape[0]"
   ]
  },
  {
   "cell_type": "code",
   "execution_count": 89,
   "metadata": {},
   "outputs": [],
   "source": [
    "data.to_csv('./Data/basetable.csv')"
   ]
  },
  {
   "cell_type": "code",
   "execution_count": 90,
   "metadata": {},
   "outputs": [],
   "source": [
    "from sklearn.model_selection import train_test_split"
   ]
  },
  {
   "cell_type": "code",
   "execution_count": 91,
   "metadata": {},
   "outputs": [],
   "source": [
    "X =  data.drop('subscribe', axis = 1) \n",
    "y = data.subscribe"
   ]
  },
  {
   "cell_type": "code",
   "execution_count": 92,
   "metadata": {},
   "outputs": [],
   "source": [
    "X_train, X_test, y_train, y_test = train_test_split(X, y, test_size=0.20, random_state=42)"
   ]
  },
  {
   "cell_type": "code",
   "execution_count": 93,
   "metadata": {},
   "outputs": [],
   "source": [
    "X_train.to_csv('./Data/X_train.csv')"
   ]
  },
  {
   "cell_type": "code",
   "execution_count": 94,
   "metadata": {},
   "outputs": [],
   "source": [
    "X_test.to_csv('./Data/X_test.csv')"
   ]
  },
  {
   "cell_type": "code",
   "execution_count": 95,
   "metadata": {},
   "outputs": [],
   "source": [
    "y_train.to_csv('./Data/y_train.csv')"
   ]
  },
  {
   "cell_type": "code",
   "execution_count": 96,
   "metadata": {},
   "outputs": [],
   "source": [
    "y_test.to_csv('./Data/y_test.csv')"
   ]
  }
 ],
 "metadata": {
  "interpreter": {
   "hash": "a707b6ce8c685eb936424fcc3009d4b4b7a52543c4db09380a3fc49186ceb509"
  },
  "kernelspec": {
   "display_name": "Python 3 (ipykernel)",
   "language": "python",
   "name": "python3"
  },
  "language_info": {
   "codemirror_mode": {
    "name": "ipython",
    "version": 3
   },
   "file_extension": ".py",
   "mimetype": "text/x-python",
   "name": "python",
   "nbconvert_exporter": "python",
   "pygments_lexer": "ipython3",
   "version": "3.8.8"
  }
 },
 "nbformat": 4,
 "nbformat_minor": 2
}
