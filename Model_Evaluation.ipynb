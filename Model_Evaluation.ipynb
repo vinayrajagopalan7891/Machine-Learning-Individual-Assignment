{
 "cells": [
  {
   "cell_type": "markdown",
   "id": "d8917c64",
   "metadata": {},
   "source": [
    "# Rough Work Model tuning and testing was done in Python notebook. Used this notebook for reference and Rough Work"
   ]
  },
  {
   "cell_type": "code",
   "execution_count": 2,
   "id": "05ce2865",
   "metadata": {
    "vscode": {
     "languageId": "r"
    }
   },
   "outputs": [
    {
     "name": "stderr",
     "output_type": "stream",
     "text": [
      "Loading required package: ParamHelpers\n",
      "\n",
      "Warning message: 'mlr' is in 'maintenance-only' mode since July 2019.\n",
      "Future development will only happen in 'mlr3'\n",
      "(<https://mlr3.mlr-org.com>). Due to the focus on 'mlr3' there might be\n",
      "uncaught bugs meanwhile in {mlr} - please consider switching.\n",
      "\n",
      "Loading required package: ggplot2\n",
      "\n",
      "Loading required package: lattice\n",
      "\n",
      "\n",
      "Attaching package: 'caret'\n",
      "\n",
      "\n",
      "The following object is masked from 'package:mlr':\n",
      "\n",
      "    train\n",
      "\n",
      "\n",
      "Type 'citation(\"pROC\")' for a citation.\n",
      "\n",
      "\n",
      "Attaching package: 'pROC'\n",
      "\n",
      "\n",
      "The following objects are masked from 'package:stats':\n",
      "\n",
      "    cov, smooth, var\n",
      "\n",
      "\n",
      "\n",
      "Attaching package: 'e1071'\n",
      "\n",
      "\n",
      "The following object is masked from 'package:mlr':\n",
      "\n",
      "    impute\n",
      "\n",
      "\n",
      "\n",
      "Attaching package: 'kknn'\n",
      "\n",
      "\n",
      "The following object is masked from 'package:caret':\n",
      "\n",
      "    contr.dummy\n",
      "\n",
      "\n",
      "dummies-1.5.6 provided by Decision Patterns\n",
      "\n",
      "\n",
      "-- \u001b[1mAttaching packages\u001b[22m --------------------------------------------------------------------- tidyverse 1.3.1 --\n",
      "\n",
      "\u001b[32mv\u001b[39m \u001b[34mtibble \u001b[39m 3.1.6     \u001b[32mv\u001b[39m \u001b[34mdplyr  \u001b[39m 1.0.7\n",
      "\u001b[32mv\u001b[39m \u001b[34mtidyr  \u001b[39m 1.1.4     \u001b[32mv\u001b[39m \u001b[34mstringr\u001b[39m 1.4.0\n",
      "\u001b[32mv\u001b[39m \u001b[34mpurrr  \u001b[39m 0.3.4     \u001b[32mv\u001b[39m \u001b[34mforcats\u001b[39m 0.5.1\n",
      "\n",
      "-- \u001b[1mConflicts\u001b[22m ------------------------------------------------------------------------ tidyverse_conflicts() --\n",
      "\u001b[31mx\u001b[39m \u001b[34mdplyr\u001b[39m::\u001b[32mbetween()\u001b[39m   masks \u001b[34mdata.table\u001b[39m::between()\n",
      "\u001b[31mx\u001b[39m \u001b[34mdplyr\u001b[39m::\u001b[32mcombine()\u001b[39m   masks \u001b[34mgridExtra\u001b[39m::combine()\n",
      "\u001b[31mx\u001b[39m \u001b[34mdplyr\u001b[39m::\u001b[32mfilter()\u001b[39m    masks \u001b[34mstats\u001b[39m::filter()\n",
      "\u001b[31mx\u001b[39m \u001b[34mdplyr\u001b[39m::\u001b[32mfirst()\u001b[39m     masks \u001b[34mdata.table\u001b[39m::first()\n",
      "\u001b[31mx\u001b[39m \u001b[34mdplyr\u001b[39m::\u001b[32mlag()\u001b[39m       masks \u001b[34mstats\u001b[39m::lag()\n",
      "\u001b[31mx\u001b[39m \u001b[34mdplyr\u001b[39m::\u001b[32mlast()\u001b[39m      masks \u001b[34mdata.table\u001b[39m::last()\n",
      "\u001b[31mx\u001b[39m \u001b[34mpurrr\u001b[39m::\u001b[32mlift()\u001b[39m      masks \u001b[34mcaret\u001b[39m::lift()\n",
      "\u001b[31mx\u001b[39m \u001b[34mpurrr\u001b[39m::\u001b[32mtranspose()\u001b[39m masks \u001b[34mdata.table\u001b[39m::transpose()\n",
      "\n"
     ]
    },
    {
     "data": {
      "text/html": [
       "'R version 4.0.5 (2021-03-31)'"
      ],
      "text/latex": [
       "'R version 4.0.5 (2021-03-31)'"
      ],
      "text/markdown": [
       "'R version 4.0.5 (2021-03-31)'"
      ],
      "text/plain": [
       "[1] \"R version 4.0.5 (2021-03-31)\""
      ]
     },
     "metadata": {},
     "output_type": "display_data"
    }
   ],
   "source": [
    "# Set environment params\n",
    "Sys.setenv(LANG='en')  # English\n",
    "\n",
    "# Import libraries\n",
    "library(data.table)  # Data manipulate\n",
    "library(mlr)         # ML toolkit\n",
    "library(caret)       # ML toolkit\n",
    "library(ggplot2)     # Visualization\n",
    "library(pROC)        # AUC, ROC\n",
    "library(e1071)       # Evaluation\n",
    "library(gridExtra)   # Visualization\n",
    "library(kknn)        # kNN model\n",
    "library(nnet)        # One-vs-All Logistic Regression\n",
    "library(dummies)     # Data processing\n",
    "library(readr)\n",
    "library(tidyverse)\n",
    "\n",
    "# Resize plot\n",
    "library(repr)  # String and binary representations\n",
    "#options(repr.plot.width=4, repr.plot.height=4)\n",
    "\n",
    "R.version.string"
   ]
  },
  {
   "cell_type": "markdown",
   "id": "0b1200e6",
   "metadata": {},
   "source": []
  },
  {
   "cell_type": "markdown",
   "id": "87a1d887",
   "metadata": {},
   "source": []
  },
  {
   "cell_type": "code",
   "execution_count": 3,
   "id": "f7872f88",
   "metadata": {
    "vscode": {
     "languageId": "r"
    }
   },
   "outputs": [
    {
     "name": "stderr",
     "output_type": "stream",
     "text": [
      "New names:\n",
      "* `` -> ...1\n",
      "\n",
      "\u001b[1mRows: \u001b[22m\u001b[34m16000\u001b[39m \u001b[1mColumns: \u001b[22m\u001b[34m84\u001b[39m\n",
      "\n",
      "\u001b[36m--\u001b[39m \u001b[1mColumn specification\u001b[22m \u001b[36m--------------------------------------------------------------------------------------\u001b[39m\n",
      "\u001b[1mDelimiter:\u001b[22m \",\"\n",
      "\u001b[32mdbl\u001b[39m (84): ...1, client_id, campaign, pdays, previous, emp.var.rate, cons.pri...\n",
      "\n",
      "\n",
      "\u001b[36mi\u001b[39m Use \u001b[30m\u001b[47m\u001b[30m\u001b[47m`spec()`\u001b[47m\u001b[30m\u001b[49m\u001b[39m to retrieve the full column specification for this data.\n",
      "\u001b[36mi\u001b[39m Specify the column types or set \u001b[30m\u001b[47m\u001b[30m\u001b[47m`show_col_types = FALSE`\u001b[47m\u001b[30m\u001b[49m\u001b[39m to quiet this message.\n",
      "\n",
      "New names:\n",
      "* `` -> ...1\n",
      "\n",
      "\u001b[1mRows: \u001b[22m\u001b[34m4000\u001b[39m \u001b[1mColumns: \u001b[22m\u001b[34m84\u001b[39m\n",
      "\n",
      "\u001b[36m--\u001b[39m \u001b[1mColumn specification\u001b[22m \u001b[36m--------------------------------------------------------------------------------------\u001b[39m\n",
      "\u001b[1mDelimiter:\u001b[22m \",\"\n",
      "\u001b[32mdbl\u001b[39m (84): ...1, client_id, campaign, pdays, previous, emp.var.rate, cons.pri...\n",
      "\n",
      "\n",
      "\u001b[36mi\u001b[39m Use \u001b[30m\u001b[47m\u001b[30m\u001b[47m`spec()`\u001b[47m\u001b[30m\u001b[49m\u001b[39m to retrieve the full column specification for this data.\n",
      "\u001b[36mi\u001b[39m Specify the column types or set \u001b[30m\u001b[47m\u001b[30m\u001b[47m`show_col_types = FALSE`\u001b[47m\u001b[30m\u001b[49m\u001b[39m to quiet this message.\n",
      "\n",
      "New names:\n",
      "* `` -> ...1\n",
      "\n",
      "\u001b[1mRows: \u001b[22m\u001b[34m16000\u001b[39m \u001b[1mColumns: \u001b[22m\u001b[34m2\u001b[39m\n",
      "\n",
      "\u001b[36m--\u001b[39m \u001b[1mColumn specification\u001b[22m \u001b[36m--------------------------------------------------------------------------------------\u001b[39m\n",
      "\u001b[1mDelimiter:\u001b[22m \",\"\n",
      "\u001b[32mdbl\u001b[39m (2): ...1, subscribe\n",
      "\n",
      "\n",
      "\u001b[36mi\u001b[39m Use \u001b[30m\u001b[47m\u001b[30m\u001b[47m`spec()`\u001b[47m\u001b[30m\u001b[49m\u001b[39m to retrieve the full column specification for this data.\n",
      "\u001b[36mi\u001b[39m Specify the column types or set \u001b[30m\u001b[47m\u001b[30m\u001b[47m`show_col_types = FALSE`\u001b[47m\u001b[30m\u001b[49m\u001b[39m to quiet this message.\n",
      "\n",
      "New names:\n",
      "* `` -> ...1\n",
      "\n",
      "\u001b[1mRows: \u001b[22m\u001b[34m4000\u001b[39m \u001b[1mColumns: \u001b[22m\u001b[34m2\u001b[39m\n",
      "\n",
      "\u001b[36m--\u001b[39m \u001b[1mColumn specification\u001b[22m \u001b[36m--------------------------------------------------------------------------------------\u001b[39m\n",
      "\u001b[1mDelimiter:\u001b[22m \",\"\n",
      "\u001b[32mdbl\u001b[39m (2): ...1, subscribe\n",
      "\n",
      "\n",
      "\u001b[36mi\u001b[39m Use \u001b[30m\u001b[47m\u001b[30m\u001b[47m`spec()`\u001b[47m\u001b[30m\u001b[49m\u001b[39m to retrieve the full column specification for this data.\n",
      "\u001b[36mi\u001b[39m Specify the column types or set \u001b[30m\u001b[47m\u001b[30m\u001b[47m`show_col_types = FALSE`\u001b[47m\u001b[30m\u001b[49m\u001b[39m to quiet this message.\n",
      "\n"
     ]
    }
   ],
   "source": [
    "X_train =  read_csv('./Data/X_train.csv')\n",
    "X_test =  read_csv('./Data/X_test.csv')\n",
    "y_train =  read_csv('./Data/y_train.csv')\n",
    "y_test =  read_csv('./Data/y_test.csv')"
   ]
  },
  {
   "cell_type": "code",
   "execution_count": 96,
   "id": "024e40f5",
   "metadata": {
    "vscode": {
     "languageId": "r"
    }
   },
   "outputs": [],
   "source": [
    "train = cbind(X_train, y_train)\n",
    "test = cbind(X_test, y_test)"
   ]
  },
  {
   "cell_type": "code",
   "execution_count": 97,
   "id": "d81fd898",
   "metadata": {
    "vscode": {
     "languageId": "r"
    }
   },
   "outputs": [],
   "source": [
    "colnames(train) <- gsub(\"_\", \".\", colnames(train))\n",
    "colnames(train) <- gsub(\"-\", \".\", colnames(train))\n",
    "train_features$subscribe <- as.factor(train_features$subscribe)\n",
    "colnames(X_test) <- gsub(\"_\", \".\", colnames(X_test))\n",
    "colnames(X_test) <- gsub(\"-\", \".\", colnames(X_test))"
   ]
  },
  {
   "cell_type": "code",
   "execution_count": 98,
   "id": "a5415375",
   "metadata": {
    "vscode": {
     "languageId": "r"
    }
   },
   "outputs": [],
   "source": [
    "train$...1 <- NULL"
   ]
  },
  {
   "cell_type": "code",
   "execution_count": 99,
   "id": "9b96375c",
   "metadata": {
    "vscode": {
     "languageId": "r"
    }
   },
   "outputs": [],
   "source": [
    "train$...1 <-NULL"
   ]
  },
  {
   "cell_type": "code",
   "execution_count": 100,
   "id": "53e44a1f",
   "metadata": {
    "vscode": {
     "languageId": "r"
    }
   },
   "outputs": [
    {
     "name": "stdout",
     "output_type": "stream",
     "text": [
      "'data.frame':\t16000 obs. of  84 variables:\n",
      " $ client.id                    : num  22764 38348 6856 171 20827 ...\n",
      " $ campaign                     : num  1 1 1 2 2 2 4 3 5 1 ...\n",
      " $ pdays                        : num  999 999 999 999 999 999 999 999 999 999 ...\n",
      " $ previous                     : num  2 0 0 0 0 0 0 0 0 0 ...\n",
      " $ emp.var.rate                 : num  -2.9 -1.7 1.4 -1.8 -1.8 1.1 1.4 1.4 1.4 1.4 ...\n",
      " $ cons.price.idx               : num  92.2 94.1 93.9 92.9 93.1 ...\n",
      " $ cons.conf.idx                : num  -31.4 -39.8 -42.7 -46.2 -47.1 -36.4 -41.8 -36.1 -42.7 -41.8 ...\n",
      " $ euribor3m                    : num  0.843 0.729 4.961 1.266 1.445 ...\n",
      " $ nr.employed                  : num  5076 4992 5228 5099 5099 ...\n",
      " $ job.admin.                   : num  1 0 1 0 1 1 0 0 1 0 ...\n",
      " $ job.blue.collar              : num  0 0 0 1 0 0 1 0 0 0 ...\n",
      " $ job.entrepreneur             : num  0 0 0 0 0 0 0 0 0 1 ...\n",
      " $ job.housemaid                : num  0 0 0 0 0 0 0 0 0 0 ...\n",
      " $ job.management               : num  0 0 0 0 0 0 0 0 0 0 ...\n",
      " $ job.retired                  : num  0 0 0 0 0 0 0 0 0 0 ...\n",
      " $ job.self.employed            : num  0 0 0 0 0 0 0 0 0 0 ...\n",
      " $ job.services                 : num  0 0 0 0 0 0 0 0 0 0 ...\n",
      " $ job.student                  : num  0 0 0 0 0 0 0 0 0 0 ...\n",
      " $ job.technician               : num  0 1 0 0 0 0 0 1 0 0 ...\n",
      " $ job.unemployed               : num  0 0 0 0 0 0 0 0 0 0 ...\n",
      " $ job.unknown                  : num  0 0 0 0 0 0 0 0 0 0 ...\n",
      " $ marital.divorced             : num  0 1 0 0 1 0 0 0 1 0 ...\n",
      " $ marital.married              : num  1 0 1 1 0 0 1 1 0 1 ...\n",
      " $ marital.single               : num  0 0 0 0 0 1 0 0 0 0 ...\n",
      " $ marital.unknown              : num  0 0 0 0 0 0 0 0 0 0 ...\n",
      " $ education.basic.4y           : num  0 0 0 0 0 0 0 0 0 0 ...\n",
      " $ education.basic.6y           : num  0 0 0 0 0 0 0 0 0 0 ...\n",
      " $ education.basic.9y           : num  0 0 0 1 0 1 1 0 0 0 ...\n",
      " $ education.high.school        : num  0 0 1 0 0 0 0 0 0 0 ...\n",
      " $ education.illiterate         : num  0 0 0 0 0 0 0 0 0 0 ...\n",
      " $ education.professional.course: num  0 1 0 0 0 0 0 1 0 0 ...\n",
      " $ education.university.degree  : num  1 0 0 0 1 0 0 0 1 0 ...\n",
      " $ education.unknown            : num  0 0 0 0 0 0 0 0 0 1 ...\n",
      " $ default.no                   : num  1 1 1 1 1 1 1 0 1 0 ...\n",
      " $ default.unknown              : num  0 0 0 0 0 0 0 1 0 1 ...\n",
      " $ default.yes                  : num  0 0 0 0 0 0 0 0 0 0 ...\n",
      " $ housing.no                   : num  0 0 0 0 1 1 0 0 0 0 ...\n",
      " $ housing.unknown              : num  0 0 0 0 0 0 0 0 0 0 ...\n",
      " $ housing.yes                  : num  1 1 1 1 0 0 1 1 1 1 ...\n",
      " $ loan.no                      : num  1 0 1 1 1 1 1 1 1 1 ...\n",
      " $ loan.unknown                 : num  0 0 0 0 0 0 0 0 0 0 ...\n",
      " $ loan.yes                     : num  0 1 0 0 0 0 0 0 0 0 ...\n",
      " $ contact.cellular             : num  1 0 1 1 1 0 0 1 1 0 ...\n",
      " $ contact.telephone            : num  0 1 0 0 0 1 1 0 0 1 ...\n",
      " $ contact.unknown              : num  0 0 0 0 0 0 0 0 0 0 ...\n",
      " $ month.apr                    : num  0 0 0 0 1 0 0 0 0 0 ...\n",
      " $ month.aug                    : num  1 0 0 0 0 0 0 1 0 0 ...\n",
      " $ month.dec                    : num  0 0 0 0 0 0 0 0 0 0 ...\n",
      " $ month.jul                    : num  0 0 1 0 0 0 0 0 1 0 ...\n",
      " $ month.jun                    : num  0 1 0 0 0 0 1 0 0 1 ...\n",
      " $ month.mar                    : num  0 0 0 0 0 0 0 0 0 0 ...\n",
      " $ month.may                    : num  0 0 0 1 0 1 0 0 0 0 ...\n",
      " $ month.nov                    : num  0 0 0 0 0 0 0 0 0 0 ...\n",
      " $ month.oct                    : num  0 0 0 0 0 0 0 0 0 0 ...\n",
      " $ month.sep                    : num  0 0 0 0 0 0 0 0 0 0 ...\n",
      " $ month.unknown                : num  0 0 0 0 0 0 0 0 0 0 ...\n",
      " $ day.of.week.fri              : num  0 0 0 0 0 1 0 0 0 1 ...\n",
      " $ day.of.week.mon              : num  1 0 0 0 0 0 1 0 1 0 ...\n",
      " $ day.of.week.thu              : num  0 1 0 1 0 0 0 1 0 0 ...\n",
      " $ day.of.week.tue              : num  0 0 1 0 0 0 0 0 0 0 ...\n",
      " $ day.of.week.unknown          : num  0 0 0 0 0 0 0 0 0 0 ...\n",
      " $ day.of.week.wed              : num  0 0 0 0 1 0 0 0 0 0 ...\n",
      " $ poutcome.failure             : num  1 0 0 0 0 0 0 0 0 0 ...\n",
      " $ poutcome.nonexistent         : num  0 1 1 1 1 1 1 1 1 1 ...\n",
      " $ poutcome.success             : num  0 0 0 0 0 0 0 0 0 0 ...\n",
      " $ poutcome.unknown             : num  0 0 0 0 0 0 0 0 0 0 ...\n",
      " $ age.group.10.20              : num  0 0 0 0 0 0 0 0 0 0 ...\n",
      " $ age.group.20.30              : num  0 1 0 1 0 0 0 0 0 0 ...\n",
      " $ age.group.30.40              : num  1 0 0 0 1 1 1 0 0 0 ...\n",
      " $ age.group.40.50              : num  0 0 1 0 0 0 0 1 0 1 ...\n",
      " $ age.group.50.60              : num  0 0 0 0 0 0 0 0 1 0 ...\n",
      " $ age.group.60.70              : num  0 0 0 0 0 0 0 0 0 0 ...\n",
      " $ age.group.70.80              : num  0 0 0 0 0 0 0 0 0 0 ...\n",
      " $ age.group.80.90              : num  0 0 0 0 0 0 0 0 0 0 ...\n",
      " $ age.group.90.100             : num  0 0 0 0 0 0 0 0 0 0 ...\n",
      " $ campaign.missing             : num  0 0 0 0 0 0 0 0 0 0 ...\n",
      " $ pdays.missing                : num  0 0 0 0 0 0 0 0 0 0 ...\n",
      " $ previous.missing             : num  0 0 0 0 0 0 0 0 0 0 ...\n",
      " $ emp.var.rate.missing         : num  0 0 0 0 0 0 0 0 0 0 ...\n",
      " $ cons.price.idx.missing       : num  0 0 0 0 0 0 0 0 0 0 ...\n",
      " $ cons.conf.idx.missing        : num  0 0 0 0 0 0 0 0 0 0 ...\n",
      " $ euribor3m.missing            : num  0 0 0 0 0 0 0 0 0 0 ...\n",
      " $ nr.employed.missing          : num  0 0 0 0 0 0 0 0 0 0 ...\n",
      " $ subscribe                    : num  0 0 0 0 1 0 0 0 0 0 ...\n"
     ]
    }
   ],
   "source": [
    "str(train)"
   ]
  },
  {
   "cell_type": "code",
   "execution_count": 101,
   "id": "73c84ae5",
   "metadata": {
    "vscode": {
     "languageId": "r"
    }
   },
   "outputs": [],
   "source": [
    "test$...1 <- NULL\n",
    "test$...1 <-NULL"
   ]
  },
  {
   "cell_type": "code",
   "execution_count": 103,
   "id": "52d0f2d6",
   "metadata": {
    "vscode": {
     "languageId": "r"
    }
   },
   "outputs": [
    {
     "name": "stdout",
     "output_type": "stream",
     "text": [
      "spec_tbl_df [4,000 x 84] (S3: spec_tbl_df/tbl_df/tbl/data.frame)\n",
      " $ ...1                         : num [1:4000] 10650 2041 8668 1114 13902 ...\n",
      " $ client.id                    : num [1:4000] 16820 3734 12920 25110 28742 ...\n",
      " $ campaign                     : num [1:4000] 4 2 2 2 1 4 2 6 2 7 ...\n",
      " $ pdays                        : num [1:4000] 999 999 999 999 999 999 999 999 999 999 ...\n",
      " $ previous                     : num [1:4000] 0 0 0 0 0 0 0 0 0 0 ...\n",
      " $ emp.var.rate                 : num [1:4000] 1.1 -1.1 1.4 -0.1 -0.1 1.4 -3.4 -1.8 1.4 1.4 ...\n",
      " $ cons.price.idx               : num [1:4000] 94 94.8 94.5 93.2 93.2 ...\n",
      " $ cons.conf.idx                : num [1:4000] -36.4 -50.8 -41.8 -42 -42 -36.1 -26.9 -46.2 -36.1 -42.7 ...\n",
      " $ euribor3m                    : num [1:4000] 4.86 1.04 4.96 4.12 4.15 ...\n",
      " $ nr.employed                  : num [1:4000] 5191 4964 5228 5196 5196 ...\n",
      " $ job.admin.                   : num [1:4000] 0 0 0 0 1 0 0 0 0 0 ...\n",
      " $ job.blue.collar              : num [1:4000] 0 0 0 0 0 0 0 1 0 0 ...\n",
      " $ job.entrepreneur             : num [1:4000] 0 0 0 0 0 0 0 0 0 0 ...\n",
      " $ job.housemaid                : num [1:4000] 1 0 0 0 0 0 0 0 0 0 ...\n",
      " $ job.management               : num [1:4000] 0 0 1 1 0 1 0 0 0 1 ...\n",
      " $ job.retired                  : num [1:4000] 0 0 0 0 0 0 0 0 0 0 ...\n",
      " $ job.self.employed            : num [1:4000] 0 0 0 0 0 0 0 0 0 0 ...\n",
      " $ job.services                 : num [1:4000] 0 0 0 0 0 0 0 0 0 0 ...\n",
      " $ job.student                  : num [1:4000] 0 0 0 0 0 0 0 0 0 0 ...\n",
      " $ job.technician               : num [1:4000] 0 1 0 0 0 0 1 0 1 0 ...\n",
      " $ job.unemployed               : num [1:4000] 0 0 0 0 0 0 0 0 0 0 ...\n",
      " $ job.unknown                  : num [1:4000] 0 0 0 0 0 0 0 0 0 0 ...\n",
      " $ marital.divorced             : num [1:4000] 0 0 0 0 1 0 0 0 0 0 ...\n",
      " $ marital.married              : num [1:4000] 1 1 0 1 0 1 1 1 1 1 ...\n",
      " $ marital.single               : num [1:4000] 0 0 1 0 0 0 0 0 0 0 ...\n",
      " $ marital.unknown              : num [1:4000] 0 0 0 0 0 0 0 0 0 0 ...\n",
      " $ education.basic.4y           : num [1:4000] 1 0 0 0 0 0 0 0 0 0 ...\n",
      " $ education.basic.6y           : num [1:4000] 0 0 0 0 0 0 0 0 0 0 ...\n",
      " $ education.basic.9y           : num [1:4000] 0 0 1 0 0 0 0 0 0 0 ...\n",
      " $ education.high.school        : num [1:4000] 0 0 0 0 0 0 1 0 0 0 ...\n",
      " $ education.illiterate         : num [1:4000] 0 0 0 0 0 0 0 0 0 0 ...\n",
      " $ education.professional.course: num [1:4000] 0 1 0 0 0 0 0 0 0 0 ...\n",
      " $ education.university.degree  : num [1:4000] 0 0 0 1 1 1 0 0 1 1 ...\n",
      " $ education.unknown            : num [1:4000] 0 0 0 0 0 0 0 1 0 0 ...\n",
      " $ default.no                   : num [1:4000] 1 1 1 1 1 1 1 0 1 1 ...\n",
      " $ default.unknown              : num [1:4000] 0 0 0 0 0 0 0 1 0 0 ...\n",
      " $ default.yes                  : num [1:4000] 0 0 0 0 0 0 0 0 0 0 ...\n",
      " $ housing.no                   : num [1:4000] 1 0 1 1 0 1 0 1 1 1 ...\n",
      " $ housing.unknown              : num [1:4000] 0 0 0 0 0 0 0 0 0 0 ...\n",
      " $ housing.yes                  : num [1:4000] 0 1 0 0 1 0 1 0 0 0 ...\n",
      " $ loan.no                      : num [1:4000] 1 1 1 1 1 1 1 1 0 1 ...\n",
      " $ loan.unknown                 : num [1:4000] 0 0 0 0 0 0 0 0 0 0 ...\n",
      " $ loan.yes                     : num [1:4000] 0 0 0 0 0 0 0 0 1 0 ...\n",
      " $ contact.cellular             : num [1:4000] 0 0 0 1 0 1 1 1 1 1 ...\n",
      " $ contact.telephone            : num [1:4000] 1 0 1 0 1 0 0 0 0 0 ...\n",
      " $ contact.unknown              : num [1:4000] 0 1 0 0 0 0 0 0 0 0 ...\n",
      " $ month.apr                    : num [1:4000] 0 0 0 0 0 0 0 0 0 0 ...\n",
      " $ month.aug                    : num [1:4000] 0 0 0 0 0 1 0 0 1 0 ...\n",
      " $ month.dec                    : num [1:4000] 0 0 0 0 0 0 0 0 0 0 ...\n",
      " $ month.jul                    : num [1:4000] 0 0 0 0 0 0 0 0 0 1 ...\n",
      " $ month.jun                    : num [1:4000] 0 0 1 0 0 0 0 0 0 0 ...\n",
      " $ month.mar                    : num [1:4000] 0 0 0 0 0 0 0 0 0 0 ...\n",
      " $ month.may                    : num [1:4000] 1 0 0 0 0 0 0 1 0 0 ...\n",
      " $ month.nov                    : num [1:4000] 0 1 0 1 1 0 0 0 0 0 ...\n",
      " $ month.oct                    : num [1:4000] 0 0 0 0 0 0 1 0 0 0 ...\n",
      " $ month.sep                    : num [1:4000] 0 0 0 0 0 0 0 0 0 0 ...\n",
      " $ month.unknown                : num [1:4000] 0 0 0 0 0 0 0 0 0 0 ...\n",
      " $ day.of.week.fri              : num [1:4000] 0 0 0 0 0 0 0 0 0 0 ...\n",
      " $ day.of.week.mon              : num [1:4000] 0 1 0 0 0 0 0 1 0 0 ...\n",
      " $ day.of.week.thu              : num [1:4000] 0 0 0 0 0 1 1 0 0 1 ...\n",
      " $ day.of.week.tue              : num [1:4000] 1 0 0 0 1 0 0 0 0 0 ...\n",
      " $ day.of.week.unknown          : num [1:4000] 0 0 0 0 0 0 0 0 0 0 ...\n",
      " $ day.of.week.wed              : num [1:4000] 0 0 1 1 0 0 0 0 1 0 ...\n",
      " $ poutcome.failure             : num [1:4000] 0 0 0 0 0 0 0 0 0 0 ...\n",
      " $ poutcome.nonexistent         : num [1:4000] 1 1 1 1 1 1 1 1 1 1 ...\n",
      " $ poutcome.success             : num [1:4000] 0 0 0 0 0 0 0 0 0 0 ...\n",
      " $ poutcome.unknown             : num [1:4000] 0 0 0 0 0 0 0 0 0 0 ...\n",
      " $ age.group.10.20              : num [1:4000] 0 0 0 0 0 0 0 0 0 0 ...\n",
      " $ age.group.20.30              : num [1:4000] 0 0 1 0 0 0 0 0 0 0 ...\n",
      " $ age.group.30.40              : num [1:4000] 0 0 0 1 1 0 0 0 1 1 ...\n",
      " $ age.group.40.50              : num [1:4000] 1 1 0 0 0 0 1 1 0 0 ...\n",
      " $ age.group.50.60              : num [1:4000] 0 0 0 0 0 1 0 0 0 0 ...\n",
      " $ age.group.60.70              : num [1:4000] 0 0 0 0 0 0 0 0 0 0 ...\n",
      " $ age.group.70.80              : num [1:4000] 0 0 0 0 0 0 0 0 0 0 ...\n",
      " $ age.group.80.90              : num [1:4000] 0 0 0 0 0 0 0 0 0 0 ...\n",
      " $ age.group.90.100             : num [1:4000] 0 0 0 0 0 0 0 0 0 0 ...\n",
      " $ campaign.missing             : num [1:4000] 0 0 0 0 0 0 0 0 0 0 ...\n",
      " $ pdays.missing                : num [1:4000] 0 0 0 0 0 0 0 0 0 0 ...\n",
      " $ previous.missing             : num [1:4000] 0 0 0 0 0 0 0 0 0 0 ...\n",
      " $ emp.var.rate.missing         : num [1:4000] 0 0 0 0 0 0 0 0 0 0 ...\n",
      " $ cons.price.idx.missing       : num [1:4000] 0 0 0 0 0 0 0 0 0 0 ...\n",
      " $ cons.conf.idx.missing        : num [1:4000] 0 0 0 0 0 0 0 0 0 0 ...\n",
      " $ euribor3m.missing            : num [1:4000] 0 0 0 0 0 0 0 0 0 0 ...\n",
      " $ nr.employed.missing          : num [1:4000] 0 0 0 0 0 0 0 0 0 0 ...\n",
      " - attr(*, \"spec\")=\n",
      "  .. cols(\n",
      "  ..   ...1 = \u001b[32mcol_double()\u001b[39m,\n",
      "  ..   client_id = \u001b[32mcol_double()\u001b[39m,\n",
      "  ..   campaign = \u001b[32mcol_double()\u001b[39m,\n",
      "  ..   pdays = \u001b[32mcol_double()\u001b[39m,\n",
      "  ..   previous = \u001b[32mcol_double()\u001b[39m,\n",
      "  ..   emp.var.rate = \u001b[32mcol_double()\u001b[39m,\n",
      "  ..   cons.price.idx = \u001b[32mcol_double()\u001b[39m,\n",
      "  ..   cons.conf.idx = \u001b[32mcol_double()\u001b[39m,\n",
      "  ..   euribor3m = \u001b[32mcol_double()\u001b[39m,\n",
      "  ..   nr.employed = \u001b[32mcol_double()\u001b[39m,\n",
      "  ..   job_admin. = \u001b[32mcol_double()\u001b[39m,\n",
      "  ..   `job_blue-collar` = \u001b[32mcol_double()\u001b[39m,\n",
      "  ..   job_entrepreneur = \u001b[32mcol_double()\u001b[39m,\n",
      "  ..   job_housemaid = \u001b[32mcol_double()\u001b[39m,\n",
      "  ..   job_management = \u001b[32mcol_double()\u001b[39m,\n",
      "  ..   job_retired = \u001b[32mcol_double()\u001b[39m,\n",
      "  ..   `job_self-employed` = \u001b[32mcol_double()\u001b[39m,\n",
      "  ..   job_services = \u001b[32mcol_double()\u001b[39m,\n",
      "  ..   job_student = \u001b[32mcol_double()\u001b[39m,\n",
      "  ..   job_technician = \u001b[32mcol_double()\u001b[39m,\n",
      "  ..   job_unemployed = \u001b[32mcol_double()\u001b[39m,\n",
      "  ..   job_unknown = \u001b[32mcol_double()\u001b[39m,\n",
      "  ..   marital_divorced = \u001b[32mcol_double()\u001b[39m,\n",
      "  ..   marital_married = \u001b[32mcol_double()\u001b[39m,\n",
      "  ..   marital_single = \u001b[32mcol_double()\u001b[39m,\n",
      "  ..   marital_unknown = \u001b[32mcol_double()\u001b[39m,\n",
      "  ..   education_basic.4y = \u001b[32mcol_double()\u001b[39m,\n",
      "  ..   education_basic.6y = \u001b[32mcol_double()\u001b[39m,\n",
      "  ..   education_basic.9y = \u001b[32mcol_double()\u001b[39m,\n",
      "  ..   education_high.school = \u001b[32mcol_double()\u001b[39m,\n",
      "  ..   education_illiterate = \u001b[32mcol_double()\u001b[39m,\n",
      "  ..   education_professional.course = \u001b[32mcol_double()\u001b[39m,\n",
      "  ..   education_university.degree = \u001b[32mcol_double()\u001b[39m,\n",
      "  ..   education_unknown = \u001b[32mcol_double()\u001b[39m,\n",
      "  ..   default_no = \u001b[32mcol_double()\u001b[39m,\n",
      "  ..   default_unknown = \u001b[32mcol_double()\u001b[39m,\n",
      "  ..   default_yes = \u001b[32mcol_double()\u001b[39m,\n",
      "  ..   housing_no = \u001b[32mcol_double()\u001b[39m,\n",
      "  ..   housing_unknown = \u001b[32mcol_double()\u001b[39m,\n",
      "  ..   housing_yes = \u001b[32mcol_double()\u001b[39m,\n",
      "  ..   loan_no = \u001b[32mcol_double()\u001b[39m,\n",
      "  ..   loan_unknown = \u001b[32mcol_double()\u001b[39m,\n",
      "  ..   loan_yes = \u001b[32mcol_double()\u001b[39m,\n",
      "  ..   contact_cellular = \u001b[32mcol_double()\u001b[39m,\n",
      "  ..   contact_telephone = \u001b[32mcol_double()\u001b[39m,\n",
      "  ..   contact_unknown = \u001b[32mcol_double()\u001b[39m,\n",
      "  ..   month_apr = \u001b[32mcol_double()\u001b[39m,\n",
      "  ..   month_aug = \u001b[32mcol_double()\u001b[39m,\n",
      "  ..   month_dec = \u001b[32mcol_double()\u001b[39m,\n",
      "  ..   month_jul = \u001b[32mcol_double()\u001b[39m,\n",
      "  ..   month_jun = \u001b[32mcol_double()\u001b[39m,\n",
      "  ..   month_mar = \u001b[32mcol_double()\u001b[39m,\n",
      "  ..   month_may = \u001b[32mcol_double()\u001b[39m,\n",
      "  ..   month_nov = \u001b[32mcol_double()\u001b[39m,\n",
      "  ..   month_oct = \u001b[32mcol_double()\u001b[39m,\n",
      "  ..   month_sep = \u001b[32mcol_double()\u001b[39m,\n",
      "  ..   month_unknown = \u001b[32mcol_double()\u001b[39m,\n",
      "  ..   day_of_week_fri = \u001b[32mcol_double()\u001b[39m,\n",
      "  ..   day_of_week_mon = \u001b[32mcol_double()\u001b[39m,\n",
      "  ..   day_of_week_thu = \u001b[32mcol_double()\u001b[39m,\n",
      "  ..   day_of_week_tue = \u001b[32mcol_double()\u001b[39m,\n",
      "  ..   day_of_week_unknown = \u001b[32mcol_double()\u001b[39m,\n",
      "  ..   day_of_week_wed = \u001b[32mcol_double()\u001b[39m,\n",
      "  ..   poutcome_failure = \u001b[32mcol_double()\u001b[39m,\n",
      "  ..   poutcome_nonexistent = \u001b[32mcol_double()\u001b[39m,\n",
      "  ..   poutcome_success = \u001b[32mcol_double()\u001b[39m,\n",
      "  ..   poutcome_unknown = \u001b[32mcol_double()\u001b[39m,\n",
      "  ..   `age-group_10-20` = \u001b[32mcol_double()\u001b[39m,\n",
      "  ..   `age-group_20-30` = \u001b[32mcol_double()\u001b[39m,\n",
      "  ..   `age-group_30-40` = \u001b[32mcol_double()\u001b[39m,\n",
      "  ..   `age-group_40-50` = \u001b[32mcol_double()\u001b[39m,\n",
      "  ..   `age-group_50-60` = \u001b[32mcol_double()\u001b[39m,\n",
      "  ..   `age-group_60-70` = \u001b[32mcol_double()\u001b[39m,\n",
      "  ..   `age-group_70-80` = \u001b[32mcol_double()\u001b[39m,\n",
      "  ..   `age-group_80-90` = \u001b[32mcol_double()\u001b[39m,\n",
      "  ..   `age-group_90-100` = \u001b[32mcol_double()\u001b[39m,\n",
      "  ..   campaign_missing = \u001b[32mcol_double()\u001b[39m,\n",
      "  ..   pdays_missing = \u001b[32mcol_double()\u001b[39m,\n",
      "  ..   previous_missing = \u001b[32mcol_double()\u001b[39m,\n",
      "  ..   emp.var.rate_missing = \u001b[32mcol_double()\u001b[39m,\n",
      "  ..   cons.price.idx_missing = \u001b[32mcol_double()\u001b[39m,\n",
      "  ..   cons.conf.idx_missing = \u001b[32mcol_double()\u001b[39m,\n",
      "  ..   euribor3m_missing = \u001b[32mcol_double()\u001b[39m,\n",
      "  ..   nr.employed_missing = \u001b[32mcol_double()\u001b[39m\n",
      "  .. )\n",
      " - attr(*, \"problems\")=<externalptr> \n"
     ]
    }
   ],
   "source": [
    "str(X_test)"
   ]
  },
  {
   "cell_type": "code",
   "execution_count": 104,
   "id": "3dd889a5",
   "metadata": {
    "vscode": {
     "languageId": "r"
    }
   },
   "outputs": [
    {
     "data": {
      "text/plain": [
       "\n",
       "Call:\n",
       "glm(formula = subscribe ~ ., family = binomial, data = train)\n",
       "\n",
       "Deviance Residuals: \n",
       "    Min       1Q   Median       3Q      Max  \n",
       "-2.2209  -0.4020  -0.3166  -0.2472   3.0181  \n",
       "\n",
       "Coefficients: (11 not defined because of singularities)\n",
       "                                Estimate Std. Error z value Pr(>|z|)    \n",
       "(Intercept)                   -5.691e+01  1.412e+02  -0.403 0.686894    \n",
       "client.id                      6.419e-07  2.402e-06   0.267 0.789269    \n",
       "campaign                      -4.265e-02  1.455e-02  -2.932 0.003368 ** \n",
       "pdays                         -1.190e-03  2.986e-04  -3.986 6.73e-05 ***\n",
       "previous                       6.581e-03  8.677e-02   0.076 0.939543    \n",
       "emp.var.rate                  -3.906e-01  1.119e-01  -3.490 0.000482 ***\n",
       "cons.price.idx                 6.372e-01  1.807e-01   3.526 0.000422 ***\n",
       "cons.conf.idx                  2.886e-02  8.574e-03   3.366 0.000763 ***\n",
       "euribor3m                     -1.574e-01  1.026e-01  -1.534 0.125037    \n",
       "nr.employed                   -2.038e-03  2.136e-03  -0.954 0.340146    \n",
       "job.admin.                     2.609e-02  2.325e-01   0.112 0.910621    \n",
       "job.blue.collar               -1.922e-01  2.393e-01  -0.804 0.421680    \n",
       "job.entrepreneur               3.373e-02  2.749e-01   0.123 0.902355    \n",
       "job.housemaid                  3.245e-02  2.952e-01   0.110 0.912449    \n",
       "job.management                 1.111e-01  2.486e-01   0.447 0.654858    \n",
       "job.retired                   -8.664e-03  2.698e-01  -0.032 0.974384    \n",
       "job.self.employed             -2.018e-01  2.791e-01  -0.723 0.469551    \n",
       "job.services                   2.145e-03  2.472e-01   0.009 0.993077    \n",
       "job.student                    2.388e-01  2.789e-01   0.856 0.391832    \n",
       "job.technician                 9.584e-02  2.386e-01   0.402 0.687871    \n",
       "job.unemployed                 1.247e-01  2.797e-01   0.446 0.655732    \n",
       "job.unknown                           NA         NA      NA       NA    \n",
       "marital.divorced              -6.649e-01  2.362e-01  -2.815 0.004876 ** \n",
       "marital.married               -6.374e-01  2.217e-01  -2.875 0.004038 ** \n",
       "marital.single                -4.704e-01  2.256e-01  -2.085 0.037051 *  \n",
       "marital.unknown                       NA         NA      NA       NA    \n",
       "education.basic.4y            -1.305e-01  1.683e-01  -0.775 0.438077    \n",
       "education.basic.6y            -2.088e-02  1.977e-01  -0.106 0.915881    \n",
       "education.basic.9y            -8.607e-03  1.585e-01  -0.054 0.956682    \n",
       "education.high.school         -5.327e-02  1.467e-01  -0.363 0.716453    \n",
       "education.illiterate           4.604e-01  1.159e+00   0.397 0.691182    \n",
       "education.professional.course -5.134e-02  1.603e-01  -0.320 0.748791    \n",
       "education.university.degree    6.100e-02  1.441e-01   0.423 0.672016    \n",
       "education.unknown                     NA         NA      NA       NA    \n",
       "default.no                     8.557e+00  1.387e+02   0.062 0.950811    \n",
       "default.unknown                8.273e+00  1.387e+02   0.060 0.952444    \n",
       "default.yes                           NA         NA      NA       NA    \n",
       "housing.no                     4.223e-02  5.881e-02   0.718 0.472764    \n",
       "housing.unknown                2.253e-01  2.153e-01   1.047 0.295243    \n",
       "housing.yes                           NA         NA      NA       NA    \n",
       "loan.no                       -4.882e-02  7.966e-02  -0.613 0.539983    \n",
       "loan.unknown                  -2.527e-01  2.270e-01  -1.113 0.265513    \n",
       "loan.yes                              NA         NA      NA       NA    \n",
       "contact.cellular               6.999e-02  2.591e-01   0.270 0.787047    \n",
       "contact.telephone             -3.815e-01  2.686e-01  -1.420 0.155482    \n",
       "contact.unknown                       NA         NA      NA       NA    \n",
       "month.apr                      3.539e-01  3.401e-01   1.041 0.298014    \n",
       "month.aug                      4.042e-01  3.400e-01   1.189 0.234480    \n",
       "month.dec                      5.519e-01  4.244e-01   1.300 0.193505    \n",
       "month.jul                      6.945e-01  3.355e-01   2.070 0.038435 *  \n",
       "month.jun                      4.239e-01  3.448e-01   1.229 0.218959    \n",
       "month.mar                      1.414e+00  3.673e-01   3.850 0.000118 ***\n",
       "month.may                     -1.529e-01  3.317e-01  -0.461 0.644750    \n",
       "month.nov                      1.701e-01  3.404e-01   0.500 0.617202    \n",
       "month.oct                      4.028e-01  3.588e-01   1.122 0.261678    \n",
       "month.sep                      3.636e-01  3.684e-01   0.987 0.323725    \n",
       "month.unknown                         NA         NA      NA       NA    \n",
       "day.of.week.fri               -1.122e-01  9.232e-02  -1.216 0.224117    \n",
       "day.of.week.mon               -3.388e-01  9.173e-02  -3.693 0.000222 ***\n",
       "day.of.week.thu               -8.636e-02  8.838e-02  -0.977 0.328509    \n",
       "day.of.week.tue               -7.979e-02  9.094e-02  -0.877 0.380245    \n",
       "day.of.week.unknown           -3.338e-01  3.350e-01  -0.996 0.319054    \n",
       "day.of.week.wed                       NA         NA      NA       NA    \n",
       "poutcome.failure              -2.624e-01  3.376e-01  -0.777 0.437016    \n",
       "poutcome.nonexistent           2.830e-01  3.194e-01   0.886 0.375613    \n",
       "poutcome.success               5.114e-01  4.205e-01   1.216 0.223929    \n",
       "poutcome.unknown                      NA         NA      NA       NA    \n",
       "age.group.10.20                1.601e-01  1.021e+00   0.157 0.875490    \n",
       "age.group.20.30                2.396e-01  9.465e-01   0.253 0.800160    \n",
       "age.group.30.40                8.917e-02  9.445e-01   0.094 0.924781    \n",
       "age.group.40.50                1.459e-01  9.448e-01   0.154 0.877302    \n",
       "age.group.50.60                2.461e-01  9.418e-01   0.261 0.793841    \n",
       "age.group.60.70                6.404e-01  9.430e-01   0.679 0.497116    \n",
       "age.group.70.80                6.438e-01  9.503e-01   0.677 0.498124    \n",
       "age.group.80.90                5.038e-01  9.859e-01   0.511 0.609392    \n",
       "age.group.90.100                      NA         NA      NA       NA    \n",
       "campaign.missing              -4.266e+02  1.455e+02  -2.932 0.003367 ** \n",
       "pdays.missing                 -1.306e+01  3.248e+00  -4.023 5.75e-05 ***\n",
       "previous.missing               6.558e+01  8.677e+02   0.076 0.939755    \n",
       "emp.var.rate.missing          -3.905e+03  1.119e+03  -3.490 0.000483 ***\n",
       "cons.price.idx.missing         6.431e+03  1.824e+03   3.526 0.000422 ***\n",
       "cons.conf.idx.missing          2.874e+02  8.538e+01   3.366 0.000763 ***\n",
       "euribor3m.missing             -1.575e+03  1.027e+03  -1.534 0.125059    \n",
       "nr.employed.missing           -3.129e+01  3.231e+01  -0.968 0.332886    \n",
       "---\n",
       "Signif. codes:  0 '***' 0.001 '**' 0.01 '*' 0.05 '.' 0.1 ' ' 1\n",
       "\n",
       "(Dispersion parameter for binomial family taken to be 1)\n",
       "\n",
       "    Null deviance: 11200.9  on 15999  degrees of freedom\n",
       "Residual deviance:  8714.7  on 15927  degrees of freedom\n",
       "AIC: 8860.7\n",
       "\n",
       "Number of Fisher Scoring iterations: 10\n"
      ]
     },
     "metadata": {},
     "output_type": "display_data"
    }
   ],
   "source": [
    "# Fit Logistic Regression\n",
    "\n",
    "# Fit Logistic Regression model\n",
    "md_logreg <- glm(subscribe ∼ .,\n",
    "                 data=train, family=binomial)\n",
    "summary(md_logreg)"
   ]
  },
  {
   "cell_type": "code",
   "execution_count": 105,
   "id": "8e87dee5",
   "metadata": {
    "vscode": {
     "languageId": "r"
    }
   },
   "outputs": [
    {
     "name": "stderr",
     "output_type": "stream",
     "text": [
      "Warning message in predict.lm(object, newdata, se.fit, scale = 1, type = if (type == :\n",
      "\"prediction from a rank-deficient fit may be misleading\"\n"
     ]
    },
    {
     "data": {
      "text/html": [
       "<style>\n",
       ".dl-inline {width: auto; margin:0; padding: 0}\n",
       ".dl-inline>dt, .dl-inline>dd {float: none; width: auto; display: inline-block}\n",
       ".dl-inline>dt::after {content: \":\\0020\"; padding-right: .5ex}\n",
       ".dl-inline>dt:not(:first-of-type) {padding-left: .5ex}\n",
       "</style><dl class=dl-inline><dt>1</dt><dd>0.155365544820602</dd><dt>2</dt><dd>0.368049198832544</dd><dt>3</dt><dd>0.0724978265170197</dd><dt>4</dt><dd>0.100703719019078</dd><dt>5</dt><dd>0.202811757408646</dd><dt>6</dt><dd>0.0367663196500125</dd></dl>\n"
      ],
      "text/latex": [
       "\\begin{description*}\n",
       "\\item[1] 0.155365544820602\n",
       "\\item[2] 0.368049198832544\n",
       "\\item[3] 0.0724978265170197\n",
       "\\item[4] 0.100703719019078\n",
       "\\item[5] 0.202811757408646\n",
       "\\item[6] 0.0367663196500125\n",
       "\\end{description*}\n"
      ],
      "text/markdown": [
       "1\n",
       ":   0.1553655448206022\n",
       ":   0.3680491988325443\n",
       ":   0.07249782651701974\n",
       ":   0.1007037190190785\n",
       ":   0.2028117574086466\n",
       ":   0.0367663196500125\n",
       "\n"
      ],
      "text/plain": [
       "         1          2          3          4          5          6 \n",
       "0.15536554 0.36804920 0.07249783 0.10070372 0.20281176 0.03676632 "
      ]
     },
     "metadata": {},
     "output_type": "display_data"
    },
    {
     "name": "stderr",
     "output_type": "stream",
     "text": [
      "Warning message in predict.lm(object, newdata, se.fit, scale = 1, type = if (type == :\n",
      "\"prediction from a rank-deficient fit may be misleading\"\n"
     ]
    },
    {
     "data": {
      "text/html": [
       "<style>\n",
       ".dl-inline {width: auto; margin:0; padding: 0}\n",
       ".dl-inline>dt, .dl-inline>dd {float: none; width: auto; display: inline-block}\n",
       ".dl-inline>dt::after {content: \":\\0020\"; padding-right: .5ex}\n",
       ".dl-inline>dt:not(:first-of-type) {padding-left: .5ex}\n",
       "</style><dl class=dl-inline><dt>1</dt><dd>0.0276936715057457</dd><dt>2</dt><dd>0.281888119495339</dd><dt>3</dt><dd>0.0814411291815502</dd><dt>4</dt><dd>0.0763664998395821</dd><dt>5</dt><dd>0.0415287174471782</dd><dt>6</dt><dd>0.0609275036254983</dd></dl>\n"
      ],
      "text/latex": [
       "\\begin{description*}\n",
       "\\item[1] 0.0276936715057457\n",
       "\\item[2] 0.281888119495339\n",
       "\\item[3] 0.0814411291815502\n",
       "\\item[4] 0.0763664998395821\n",
       "\\item[5] 0.0415287174471782\n",
       "\\item[6] 0.0609275036254983\n",
       "\\end{description*}\n"
      ],
      "text/markdown": [
       "1\n",
       ":   0.02769367150574572\n",
       ":   0.2818881194953393\n",
       ":   0.08144112918155024\n",
       ":   0.07636649983958215\n",
       ":   0.04152871744717826\n",
       ":   0.0609275036254983\n",
       "\n"
      ],
      "text/plain": [
       "         1          2          3          4          5          6 \n",
       "0.02769367 0.28188812 0.08144113 0.07636650 0.04152872 0.06092750 "
      ]
     },
     "metadata": {},
     "output_type": "display_data"
    }
   ],
   "source": [
    "# Make prediction on both train and test data\n",
    "pred_train_prob <- predict(md_logreg, newdata=train, type='response')\n",
    "head(pred_train_prob)\n",
    "\n",
    "pred_test_prob <- predict(md_logreg, newdata=X_test, type='response')\n",
    "head(pred_test_prob)"
   ]
  },
  {
   "cell_type": "code",
   "execution_count": 106,
   "id": "e0023346",
   "metadata": {
    "vscode": {
     "languageId": "r"
    }
   },
   "outputs": [
    {
     "name": "stdout",
     "output_type": "stream",
     "text": [
      "[1] \"Confusion matrix:\"\n"
     ]
    },
    {
     "data": {
      "text/plain": [
       "          \n",
       "pred_train     0     1\n",
       "         0 11945   636\n",
       "         1  2268  1151"
      ]
     },
     "metadata": {},
     "output_type": "display_data"
    },
    {
     "name": "stdout",
     "output_type": "stream",
     "text": [
      "[1] \"Accuracy = 0.82 %\"\n",
      "[1] \"Error = 0.18 %\"\n"
     ]
    },
    {
     "name": "stderr",
     "output_type": "stream",
     "text": [
      "Warning message in roc.default(as.numeric(pred_train_prob), as.numeric(train$subscribe == :\n",
      "\"'response' has more than two levels. Consider setting 'levels' explicitly or using 'multiclass.roc' instead\"\n",
      "Setting levels: control = 7.67637686915498e-06, case = 1.14428776304388e-05\n",
      "\n",
      "Setting direction: controls < cases\n",
      "\n"
     ]
    },
    {
     "name": "stdout",
     "output_type": "stream",
     "text": [
      "[1] \"AUC = 0.5\"\n"
     ]
    }
   ],
   "source": [
    "# Evaluation model on train\n",
    "threshold <- 0.11355  # Decision threshold\n",
    "pred_train <- rep(0, length(pred_train_prob))\n",
    "pred_train[pred_train_prob > threshold] <- 1\n",
    "\n",
    "# Confusion matrix\n",
    "print('Confusion matrix:')\n",
    "table(pred_train, train$subscribe)\n",
    "\n",
    "# Accuracy and error rate\n",
    "acc <- mean(pred_train == train$subscribe)\n",
    "err_rate <- 1 - acc\n",
    "print(paste('Accuracy =', round(acc, 2), '%'))\n",
    "print(paste('Error =', round(err_rate, 2), '%'))\n",
    "\n",
    "# AUC\n",
    "pred_roc <- pROC::roc(as.numeric(pred_train_prob), as.numeric(train$subscribe == 1))\n",
    "pred_auc <- pROC::auc(pred_roc)\n",
    "print(paste('AUC =', pred_auc))"
   ]
  },
  {
   "cell_type": "code",
   "execution_count": 107,
   "id": "778017e2",
   "metadata": {
    "vscode": {
     "languageId": "r"
    }
   },
   "outputs": [
    {
     "name": "stdout",
     "output_type": "stream",
     "text": [
      "[1] \"Confusion matrix:\"\n"
     ]
    },
    {
     "data": {
      "text/plain": [
       "         \n",
       "pred_test    0    1\n",
       "        0 2934  195\n",
       "        1  582  289"
      ]
     },
     "metadata": {},
     "output_type": "display_data"
    },
    {
     "name": "stdout",
     "output_type": "stream",
     "text": [
      "[1] \"Accuracy = 0.81 %\"\n",
      "[1] \"Error = 0.19 %\"\n"
     ]
    },
    {
     "name": "stderr",
     "output_type": "stream",
     "text": [
      "Warning message in roc.default(as.numeric(pred_test_prob), as.numeric(test$subscribe == :\n",
      "\"'response' has more than two levels. Consider setting 'levels' explicitly or using 'multiclass.roc' instead\"\n",
      "Setting levels: control = 0.00720045600916906, case = 0.00857747990418644\n",
      "\n",
      "Setting direction: controls < cases\n",
      "\n"
     ]
    },
    {
     "name": "stdout",
     "output_type": "stream",
     "text": [
      "[1] \"AUC = 0.5\"\n"
     ]
    }
   ],
   "source": [
    "# Evaluation model on test\n",
    "threshold <- 0.11355  # Decision threshold\n",
    "pred_test <- rep(0, length(pred_test_prob))\n",
    "pred_test[pred_test_prob > threshold] <- 1\n",
    "\n",
    "# Confusion matrix\n",
    "print('Confusion matrix:')\n",
    "table(pred_test, test$subscribe)\n",
    "\n",
    "# Accuracy and error rate\n",
    "acc <- mean(pred_test == test$subscribe)\n",
    "err_rate <- 1 - acc\n",
    "print(paste('Accuracy =', round(acc, 2), '%'))\n",
    "print(paste('Error =', round(err_rate, 2), '%'))\n",
    "\n",
    "# AUC\n",
    "pred_roc <- pROC::roc(as.numeric(pred_test_prob), as.numeric(test$subscribe == 1))\n",
    "pred_auc <- pROC::auc(pred_roc)\n",
    "print(paste('AUC =', pred_auc))"
   ]
  },
  {
   "cell_type": "code",
   "execution_count": 14,
   "id": "65d0fae5",
   "metadata": {
    "vscode": {
     "languageId": "r"
    }
   },
   "outputs": [],
   "source": [
    "library(Boruta)"
   ]
  },
  {
   "cell_type": "code",
   "execution_count": 15,
   "id": "9e3bfc41",
   "metadata": {
    "vscode": {
     "languageId": "r"
    }
   },
   "outputs": [
    {
     "name": "stdout",
     "output_type": "stream",
     "text": [
      "Computing permutation importance.. Progress: 46%. Estimated remaining time: 35 seconds.\n",
      "Computing permutation importance.. Progress: 91%. Estimated remaining time: 5 seconds.\n",
      "Computing permutation importance.. Progress: 46%. Estimated remaining time: 36 seconds.\n",
      "Computing permutation importance.. Progress: 91%. Estimated remaining time: 6 seconds.\n",
      "Computing permutation importance.. Progress: 44%. Estimated remaining time: 39 seconds.\n",
      "Computing permutation importance.. Progress: 88%. Estimated remaining time: 8 seconds.\n",
      "Computing permutation importance.. Progress: 42%. Estimated remaining time: 42 seconds.\n",
      "Computing permutation importance.. Progress: 81%. Estimated remaining time: 14 seconds.\n",
      "Computing permutation importance.. Progress: 48%. Estimated remaining time: 33 seconds.\n",
      "Computing permutation importance.. Progress: 92%. Estimated remaining time: 5 seconds.\n",
      "Computing permutation importance.. Progress: 45%. Estimated remaining time: 38 seconds.\n",
      "Computing permutation importance.. Progress: 89%. Estimated remaining time: 7 seconds.\n",
      "Computing permutation importance.. Progress: 47%. Estimated remaining time: 35 seconds.\n",
      "Computing permutation importance.. Progress: 93%. Estimated remaining time: 4 seconds.\n",
      "Computing permutation importance.. Progress: 48%. Estimated remaining time: 33 seconds.\n",
      "Computing permutation importance.. Progress: 97%. Estimated remaining time: 2 seconds.\n",
      "Computing permutation importance.. Progress: 48%. Estimated remaining time: 33 seconds.\n",
      "Computing permutation importance.. Progress: 97%. Estimated remaining time: 2 seconds.\n",
      "Computing permutation importance.. Progress: 48%. Estimated remaining time: 34 seconds.\n",
      "Computing permutation importance.. Progress: 96%. Estimated remaining time: 2 seconds.\n",
      "Computing permutation importance.. Progress: 47%. Estimated remaining time: 34 seconds.\n",
      "Computing permutation importance.. Progress: 94%. Estimated remaining time: 4 seconds.\n",
      "Computing permutation importance.. Progress: 46%. Estimated remaining time: 36 seconds.\n",
      "Computing permutation importance.. Progress: 93%. Estimated remaining time: 4 seconds.\n",
      "Computing permutation importance.. Progress: 47%. Estimated remaining time: 35 seconds.\n",
      "Computing permutation importance.. Progress: 93%. Estimated remaining time: 4 seconds.\n",
      "Computing permutation importance.. Progress: 47%. Estimated remaining time: 35 seconds.\n",
      "Computing permutation importance.. Progress: 94%. Estimated remaining time: 3 seconds.\n",
      "Computing permutation importance.. Progress: 78%. Estimated remaining time: 8 seconds.\n",
      "Computing permutation importance.. Progress: 66%. Estimated remaining time: 15 seconds.\n",
      "Computing permutation importance.. Progress: 65%. Estimated remaining time: 16 seconds.\n",
      "Computing permutation importance.. Progress: 72%. Estimated remaining time: 12 seconds.\n",
      "Computing permutation importance.. Progress: 80%. Estimated remaining time: 7 seconds.\n",
      "Computing permutation importance.. Progress: 86%. Estimated remaining time: 5 seconds.\n",
      "Computing permutation importance.. Progress: 90%. Estimated remaining time: 3 seconds.\n",
      "Computing permutation importance.. Progress: 91%. Estimated remaining time: 3 seconds.\n",
      "Computing permutation importance.. Progress: 83%. Estimated remaining time: 6 seconds.\n",
      "Computing permutation importance.. Progress: 86%. Estimated remaining time: 5 seconds.\n",
      "Computing permutation importance.. Progress: 90%. Estimated remaining time: 3 seconds.\n",
      "Computing permutation importance.. Progress: 90%. Estimated remaining time: 3 seconds.\n",
      "Computing permutation importance.. Progress: 87%. Estimated remaining time: 4 seconds.\n",
      "Computing permutation importance.. Progress: 97%. Estimated remaining time: 0 seconds.\n",
      "Computing permutation importance.. Progress: 89%. Estimated remaining time: 3 seconds.\n",
      "Computing permutation importance.. Progress: 92%. Estimated remaining time: 2 seconds.\n",
      "Computing permutation importance.. Progress: 91%. Estimated remaining time: 3 seconds.\n",
      "Computing permutation importance.. Progress: 95%. Estimated remaining time: 1 seconds.\n",
      "Computing permutation importance.. Progress: 92%. Estimated remaining time: 2 seconds.\n",
      "Computing permutation importance.. Progress: 84%. Estimated remaining time: 5 seconds.\n",
      "Computing permutation importance.. Progress: 94%. Estimated remaining time: 1 seconds.\n",
      "Computing permutation importance.. Progress: 99%. Estimated remaining time: 0 seconds.\n",
      "Computing permutation importance.. Progress: 87%. Estimated remaining time: 4 seconds.\n",
      "Computing permutation importance.. Progress: 100%. Estimated remaining time: 0 seconds.\n",
      "Computing permutation importance.. Progress: 98%. Estimated remaining time: 0 seconds.\n",
      "Computing permutation importance.. Progress: 100%. Estimated remaining time: 0 seconds.\n",
      "Computing permutation importance.. Progress: 99%. Estimated remaining time: 0 seconds.\n",
      "Computing permutation importance.. Progress: 93%. Estimated remaining time: 2 seconds.\n",
      "Computing permutation importance.. Progress: 91%. Estimated remaining time: 3 seconds.\n",
      "Computing permutation importance.. Progress: 96%. Estimated remaining time: 1 seconds.\n",
      "Computing permutation importance.. Progress: 100%. Estimated remaining time: 0 seconds.\n",
      "Computing permutation importance.. Progress: 93%. Estimated remaining time: 2 seconds.\n",
      "Computing permutation importance.. Progress: 93%. Estimated remaining time: 2 seconds.\n",
      "Computing permutation importance.. Progress: 93%. Estimated remaining time: 2 seconds.\n",
      "Computing permutation importance.. Progress: 93%. Estimated remaining time: 2 seconds.\n",
      "Computing permutation importance.. Progress: 96%. Estimated remaining time: 1 seconds.\n",
      "Computing permutation importance.. Progress: 93%. Estimated remaining time: 2 seconds.\n",
      "Computing permutation importance.. Progress: 97%. Estimated remaining time: 0 seconds.\n",
      "Computing permutation importance.. Progress: 93%. Estimated remaining time: 2 seconds.\n",
      "Computing permutation importance.. Progress: 91%. Estimated remaining time: 3 seconds.\n",
      "Computing permutation importance.. Progress: 98%. Estimated remaining time: 0 seconds.\n",
      "Computing permutation importance.. Progress: 98%. Estimated remaining time: 0 seconds.\n",
      "Computing permutation importance.. Progress: 100%. Estimated remaining time: 0 seconds.\n",
      "Computing permutation importance.. Progress: 100%. Estimated remaining time: 0 seconds.\n",
      "Computing permutation importance.. Progress: 98%. Estimated remaining time: 0 seconds.\n",
      "Computing permutation importance.. Progress: 99%. Estimated remaining time: 0 seconds.\n",
      "Computing permutation importance.. Progress: 97%. Estimated remaining time: 0 seconds.\n",
      "Computing permutation importance.. Progress: 99%. Estimated remaining time: 0 seconds.\n",
      "Computing permutation importance.. Progress: 95%. Estimated remaining time: 1 seconds.\n",
      "Computing permutation importance.. Progress: 97%. Estimated remaining time: 0 seconds.\n",
      "Computing permutation importance.. Progress: 95%. Estimated remaining time: 1 seconds.\n",
      "Computing permutation importance.. Progress: 97%. Estimated remaining time: 0 seconds.\n",
      "Computing permutation importance.. Progress: 96%. Estimated remaining time: 1 seconds.\n",
      "Computing permutation importance.. Progress: 100%. Estimated remaining time: 0 seconds.\n",
      "Computing permutation importance.. Progress: 93%. Estimated remaining time: 2 seconds.\n",
      "Computing permutation importance.. Progress: 100%. Estimated remaining time: 0 seconds.\n",
      "Computing permutation importance.. Progress: 100%. Estimated remaining time: 0 seconds.\n",
      "Computing permutation importance.. Progress: 98%. Estimated remaining time: 0 seconds.\n",
      "Computing permutation importance.. Progress: 97%. Estimated remaining time: 1 seconds.\n",
      "Computing permutation importance.. Progress: 99%. Estimated remaining time: 0 seconds.\n",
      "Computing permutation importance.. Progress: 99%. Estimated remaining time: 0 seconds.\n",
      "Computing permutation importance.. Progress: 100%. Estimated remaining time: 0 seconds.\n",
      "Computing permutation importance.. Progress: 98%. Estimated remaining time: 0 seconds.\n",
      "Computing permutation importance.. Progress: 98%. Estimated remaining time: 0 seconds.\n",
      "Computing permutation importance.. Progress: 97%. Estimated remaining time: 0 seconds.\n",
      "Computing permutation importance.. Progress: 99%. Estimated remaining time: 0 seconds.\n",
      "Computing permutation importance.. Progress: 91%. Estimated remaining time: 2 seconds.\n",
      "Computing permutation importance.. Progress: 94%. Estimated remaining time: 1 seconds.\n",
      "Computing permutation importance.. Progress: 95%. Estimated remaining time: 1 seconds.\n",
      "Computing permutation importance.. Progress: 93%. Estimated remaining time: 2 seconds.\n",
      "Computing permutation importance.. Progress: 98%. Estimated remaining time: 0 seconds.\n",
      "Computing permutation importance.. Progress: 92%. Estimated remaining time: 2 seconds.\n"
     ]
    }
   ],
   "source": [
    "# Perform Boruta search\n",
    "boruta_output <- Boruta(subscribe ~ ., data=train, doTrace=0) "
   ]
  },
  {
   "cell_type": "code",
   "execution_count": 16,
   "id": "b5afbebe",
   "metadata": {
    "vscode": {
     "languageId": "r"
    }
   },
   "outputs": [],
   "source": [
    "boruta_signif <- getSelectedAttributes(boruta_output, withTentative = TRUE)\n",
    " \n"
   ]
  },
  {
   "cell_type": "code",
   "execution_count": 17,
   "id": "2994347d",
   "metadata": {
    "vscode": {
     "languageId": "r"
    }
   },
   "outputs": [
    {
     "name": "stdout",
     "output_type": "stream",
     "text": [
      " [1] \"campaign\"                    \"pdays\"                      \n",
      " [3] \"previous\"                    \"emp.var.rate\"               \n",
      " [5] \"cons.price.idx\"              \"cons.conf.idx\"              \n",
      " [7] \"euribor3m\"                   \"nr.employed\"                \n",
      " [9] \"`job_blue-collar`\"           \"job_retired\"                \n",
      "[11] \"job_student\"                 \"job_unknown\"                \n",
      "[13] \"marital_married\"             \"marital_single\"             \n",
      "[15] \"education_university.degree\" \"default_no\"                 \n",
      "[17] \"default_unknown\"             \"housing_no\"                 \n",
      "[19] \"housing_yes\"                 \"contact_cellular\"           \n"
     ]
    }
   ],
   "source": [
    "print(boruta_signif[1:20]) "
   ]
  },
  {
   "cell_type": "code",
   "execution_count": 39,
   "id": "789ea9fc",
   "metadata": {
    "vscode": {
     "languageId": "r"
    }
   },
   "outputs": [
    {
     "name": "stdout",
     "output_type": "stream",
     "text": [
      "'data.frame':\t16000 obs. of  6 variables:\n",
      " $ campaign      : num  1 1 1 2 2 2 4 3 5 1 ...\n",
      " $ pdays         : num  999 999 999 999 999 999 999 999 999 999 ...\n",
      " $ previous      : num  2 0 0 0 0 0 0 0 0 0 ...\n",
      " $ emp.var.rate  : num  -2.9 -1.7 1.4 -1.8 -1.8 1.1 1.4 1.4 1.4 1.4 ...\n",
      " $ cons.price.idx: num  92.2 94.1 93.9 92.9 93.1 ...\n",
      " $ subscribe     : num  0 0 0 0 1 0 0 0 0 0 ...\n"
     ]
    }
   ],
   "source": [
    "col.num <- which(colnames(train) %in% boruta_signif[1:5])\n",
    "train_features <- train[,col.num]\n",
    "train_features <- cbind(train_features, train['subscribe']) \n",
    "str(train_features)"
   ]
  },
  {
   "cell_type": "code",
   "execution_count": 40,
   "id": "5b59051b",
   "metadata": {
    "vscode": {
     "languageId": "r"
    }
   },
   "outputs": [
    {
     "data": {
      "text/plain": [
       "\n",
       "Call:\n",
       "glm(formula = subscribe ~ ., family = binomial, data = train_features)\n",
       "\n",
       "Deviance Residuals: \n",
       "    Min       1Q   Median       3Q      Max  \n",
       "-0.8502  -0.4816  -0.4816  -0.4816   2.1527  \n",
       "\n",
       "Coefficients:\n",
       "                 Estimate Std. Error z value Pr(>|z|)    \n",
       "(Intercept)    -1.989e+00  2.823e-02 -70.460  < 2e-16 ***\n",
       "campaign       -9.658e-06  2.461e-05  -0.392    0.695    \n",
       "pdays          -1.062e-04  1.635e-05  -6.495 8.28e-11 ***\n",
       "previous        1.173e-05  2.655e-05   0.442    0.659    \n",
       "emp.var.rate   -7.112e-06  2.659e-05  -0.267    0.789    \n",
       "cons.price.idx -8.615e-06  2.507e-05  -0.344    0.731    \n",
       "---\n",
       "Signif. codes:  0 '***' 0.001 '**' 0.01 '*' 0.05 '.' 0.1 ' ' 1\n",
       "\n",
       "(Dispersion parameter for binomial family taken to be 1)\n",
       "\n",
       "    Null deviance: 11201  on 15999  degrees of freedom\n",
       "Residual deviance: 11165  on 15994  degrees of freedom\n",
       "AIC: 11177\n",
       "\n",
       "Number of Fisher Scoring iterations: 4\n"
      ]
     },
     "metadata": {},
     "output_type": "display_data"
    }
   ],
   "source": [
    "# Fit Logistic Regression\n",
    "\n",
    "# Fit Logistic Regression model\n",
    "md_logreg <- glm(subscribe ∼ .,\n",
    "                 data=train_features, family=binomial)\n",
    "summary(md_logreg)"
   ]
  },
  {
   "cell_type": "code",
   "execution_count": 41,
   "id": "9a646001",
   "metadata": {
    "vscode": {
     "languageId": "r"
    }
   },
   "outputs": [
    {
     "data": {
      "text/html": [
       "<style>\n",
       ".dl-inline {width: auto; margin:0; padding: 0}\n",
       ".dl-inline>dt, .dl-inline>dd {float: none; width: auto; display: inline-block}\n",
       ".dl-inline>dt::after {content: \":\\0020\"; padding-right: .5ex}\n",
       ".dl-inline>dt:not(:first-of-type) {padding-left: .5ex}\n",
       "</style><dl class=dl-inline><dt>1</dt><dd>0.109493042444684</dd><dt>2</dt><dd>0.109488366650391</dd><dt>3</dt><dd>0.10948633219884</dd><dt>4</dt><dd>0.109488470283028</dd><dt>5</dt><dd>0.10948831741706</dd><dt>6</dt><dd>0.109485534702491</dd></dl>\n"
      ],
      "text/latex": [
       "\\begin{description*}\n",
       "\\item[1] 0.109493042444684\n",
       "\\item[2] 0.109488366650391\n",
       "\\item[3] 0.10948633219884\n",
       "\\item[4] 0.109488470283028\n",
       "\\item[5] 0.10948831741706\n",
       "\\item[6] 0.109485534702491\n",
       "\\end{description*}\n"
      ],
      "text/markdown": [
       "1\n",
       ":   0.1094930424446842\n",
       ":   0.1094883666503913\n",
       ":   0.109486332198844\n",
       ":   0.1094884702830285\n",
       ":   0.109488317417066\n",
       ":   0.109485534702491\n",
       "\n"
      ],
      "text/plain": [
       "        1         2         3         4         5         6 \n",
       "0.1094930 0.1094884 0.1094863 0.1094885 0.1094883 0.1094855 "
      ]
     },
     "metadata": {},
     "output_type": "display_data"
    },
    {
     "data": {
      "text/html": [
       "<style>\n",
       ".dl-inline {width: auto; margin:0; padding: 0}\n",
       ".dl-inline>dt, .dl-inline>dd {float: none; width: auto; display: inline-block}\n",
       ".dl-inline>dt::after {content: \":\\0020\"; padding-right: .5ex}\n",
       ".dl-inline>dt:not(:first-of-type) {padding-left: .5ex}\n",
       "</style><dl class=dl-inline><dt>1</dt><dd>0.109483651364364</dd><dt>2</dt><dd>0.10948641090368</dd><dt>3</dt><dd>0.109484931094279</dd><dt>4</dt><dd>0.109487033655175</dd><dt>5</dt><dd>0.1094879753462</dd><dt>6</dt><dd>0.109483905292766</dd></dl>\n"
      ],
      "text/latex": [
       "\\begin{description*}\n",
       "\\item[1] 0.109483651364364\n",
       "\\item[2] 0.10948641090368\n",
       "\\item[3] 0.109484931094279\n",
       "\\item[4] 0.109487033655175\n",
       "\\item[5] 0.1094879753462\n",
       "\\item[6] 0.109483905292766\n",
       "\\end{description*}\n"
      ],
      "text/markdown": [
       "1\n",
       ":   0.1094836513643642\n",
       ":   0.109486410903683\n",
       ":   0.1094849310942794\n",
       ":   0.1094870336551755\n",
       ":   0.10948797534626\n",
       ":   0.109483905292766\n",
       "\n"
      ],
      "text/plain": [
       "        1         2         3         4         5         6 \n",
       "0.1094837 0.1094864 0.1094849 0.1094870 0.1094880 0.1094839 "
      ]
     },
     "metadata": {},
     "output_type": "display_data"
    }
   ],
   "source": [
    "# Make prediction on both train and test data\n",
    "pred_train_prob <- predict(md_logreg, newdata=train, type='response')\n",
    "head(pred_train_prob)\n",
    "\n",
    "pred_test_prob <- predict(md_logreg, newdata=test, type='response')\n",
    "head(pred_test_prob)"
   ]
  },
  {
   "cell_type": "code",
   "execution_count": 42,
   "id": "46781e89",
   "metadata": {
    "vscode": {
     "languageId": "r"
    }
   },
   "outputs": [
    {
     "name": "stdout",
     "output_type": "stream",
     "text": [
      "[1] \"Confusion matrix:\"\n"
     ]
    },
    {
     "data": {
      "text/plain": [
       "          \n",
       "pred_train     0     1\n",
       "         0 13505  1349\n",
       "         1   708   438"
      ]
     },
     "metadata": {},
     "output_type": "display_data"
    },
    {
     "name": "stdout",
     "output_type": "stream",
     "text": [
      "[1] \"Accuracy = 0.87 %\"\n",
      "[1] \"Error = 0.13 %\"\n"
     ]
    },
    {
     "name": "stderr",
     "output_type": "stream",
     "text": [
      "Warning message in roc.default(as.numeric(pred_train_prob), as.numeric(train$subscribe == :\n",
      "\"'response' has more than two levels. Consider setting 'levels' explicitly or using 'multiclass.roc' instead\"\n",
      "Setting levels: control = 0.098544822535546, case = 0.0985589906606137\n",
      "\n",
      "Setting direction: controls < cases\n",
      "\n"
     ]
    },
    {
     "name": "stdout",
     "output_type": "stream",
     "text": [
      "[1] \"AUC = 0.5\"\n"
     ]
    }
   ],
   "source": [
    "# Evaluation model on train\n",
    "threshold <- 0.11355  # Decision threshold\n",
    "pred_train <- rep(0, length(pred_train_prob))\n",
    "pred_train[pred_train_prob > threshold] <- 1\n",
    "\n",
    "# Confusion matrix\n",
    "print('Confusion matrix:')\n",
    "table(pred_train, train$subscribe)\n",
    "\n",
    "# Accuracy and error rate\n",
    "acc <- mean(pred_train == train$subscribe)\n",
    "err_rate <- 1 - acc\n",
    "print(paste('Accuracy =', round(acc, 2), '%'))\n",
    "print(paste('Error =', round(err_rate, 2), '%'))\n",
    "\n",
    "# AUC\n",
    "pred_roc <- pROC::roc(as.numeric(pred_train_prob), as.numeric(train$subscribe == 1))\n",
    "pred_auc <- pROC::auc(pred_roc)\n",
    "print(paste('AUC =', pred_auc))"
   ]
  },
  {
   "cell_type": "code",
   "execution_count": 44,
   "id": "47d6b7bb",
   "metadata": {
    "vscode": {
     "languageId": "r"
    }
   },
   "outputs": [
    {
     "name": "stdout",
     "output_type": "stream",
     "text": [
      "[1] \"Confusion matrix:\"\n"
     ]
    },
    {
     "data": {
      "text/plain": [
       "         \n",
       "pred_test    0    1\n",
       "        0 3335  376\n",
       "        1  181  108"
      ]
     },
     "metadata": {},
     "output_type": "display_data"
    },
    {
     "name": "stdout",
     "output_type": "stream",
     "text": [
      "[1] \"Accuracy = 0.86 %\"\n",
      "[1] \"Error = 0.14 %\"\n"
     ]
    },
    {
     "name": "stderr",
     "output_type": "stream",
     "text": [
      "Warning message in roc.default(pred_test_prob, test$subscribe):\n",
      "\"'response' has more than two levels. Consider setting 'levels' explicitly or using 'multiclass.roc' instead\"\n",
      "Setting levels: control = 0.0985537655224669, case = 0.0985571978097783\n",
      "\n",
      "Setting direction: controls < cases\n",
      "\n"
     ]
    },
    {
     "name": "stdout",
     "output_type": "stream",
     "text": [
      "[1] \"AUC = 0.5\"\n"
     ]
    }
   ],
   "source": [
    "# Evaluation model on test\n",
    "threshold <- 0.11355  # Decision threshold\n",
    "pred_test <- rep(0, length(pred_test_prob))\n",
    "pred_test[pred_test_prob > threshold] <- 1\n",
    "\n",
    "# Confusion matrix\n",
    "print('Confusion matrix:')\n",
    "table(pred_test, test$subscribe)\n",
    "\n",
    "# Accuracy and error rate\n",
    "acc <- mean(pred_test == test$subscribe)\n",
    "err_rate <- 1 - acc\n",
    "print(paste('Accuracy =', round(acc, 2), '%'))\n",
    "print(paste('Error =', round(err_rate, 2), '%'))\n",
    "\n",
    "# AUC\n",
    "pred_roc <- pROC::roc(pred_test_prob, test$subscribe)\n",
    "pred_auc <- pROC::auc(pred_roc)\n",
    "print(paste('AUC =', pred_auc))"
   ]
  },
  {
   "cell_type": "code",
   "execution_count": 23,
   "id": "abcdcc0b",
   "metadata": {
    "vscode": {
     "languageId": "r"
    }
   },
   "outputs": [
    {
     "name": "stderr",
     "output_type": "stream",
     "text": [
      "Loading required package: Matrix\n",
      "\n",
      "\n",
      "Attaching package: 'Matrix'\n",
      "\n",
      "\n",
      "The following objects are masked from 'package:tidyr':\n",
      "\n",
      "    expand, pack, unpack\n",
      "\n",
      "\n",
      "Loaded glmnet 4.1-2\n",
      "\n",
      "Warning message:\n",
      "\"executing %dopar% sequentially: no parallel backend registered\"\n"
     ]
    }
   ],
   "source": [
    "library(glmnet)\n",
    "\n",
    "x <- as.matrix(X_train) # all X vars\n",
    "y <- as.matrix( y_train) # Only Class\n",
    "\n",
    "# Fit the LASSO model (Lasso: Alpha = 1)\n",
    "set.seed(100)\n",
    "cv.lasso <- cv.glmnet(x, y, family='binomial', alpha=1, parallel=TRUE, standardize=TRUE, type.measure='auc')\n"
   ]
  },
  {
   "cell_type": "code",
   "execution_count": 24,
   "id": "59665491",
   "metadata": {
    "vscode": {
     "languageId": "r"
    }
   },
   "outputs": [
    {
     "data": {
      "text/html": [
       "<style>\n",
       ".dl-inline {width: auto; margin:0; padding: 0}\n",
       ".dl-inline>dt, .dl-inline>dd {float: none; width: auto; display: inline-block}\n",
       ".dl-inline>dt::after {content: \":\\0020\"; padding-right: .5ex}\n",
       ".dl-inline>dt:not(:first-of-type) {padding-left: .5ex}\n",
       "</style><dl class=dl-inline><dt>(Intercept)</dt><dd>32.11</dd><dt>nr.employed</dt><dd>-0.01</dd><dt>job_blue-collar</dt><dd>-0.19</dd><dt>job_entrepreneur</dt><dd>0.02</dd><dt>job_housemaid</dt><dd>-0.03</dd><dt>job_management</dt><dd>0.08</dd><dt>job_retired</dt><dd>-0.02</dd><dt>job_self-employed</dt><dd>-0.18</dd><dt>job_services</dt><dd>-0.02</dd><dt>job_student</dt><dd>0.12</dd><dt>job_technician</dt><dd>0.03</dd><dt>job_unemployed</dt><dd>0.13</dd><dt>job_unknown</dt><dd>0.01</dd><dt>marital_divorced</dt><dd>-0.06</dd><dt>marital_single</dt><dd>0.13</dd><dt>marital_unknown</dt><dd>0.34</dd><dt>education_basic.4y</dt><dd>-0.05</dd><dt>education_basic.9y</dt><dd>0.02</dd><dt>education_illiterate</dt><dd>0.52</dd><dt>education_professional.course</dt><dd>-0.01</dd><dt>education_university.degree</dt><dd>0.07</dd><dt>education_unknown</dt><dd>0.05</dd><dt>default_no</dt><dd>0.31</dd><dt>default_yes</dt><dd>-3.08</dd><dt>housing_unknown</dt><dd>0.1</dd><dt>housing_yes</dt><dd>-0.02</dd><dt>loan_unknown</dt><dd>-0.11</dd><dt>loan_yes</dt><dd>0.04</dd><dt>contact_cellular</dt><dd>0.06</dd><dt>contact_telephone</dt><dd>-0.34</dd><dt>month_apr</dt><dd>0.05</dd><dt>month_dec</dt><dd>0.2</dd><dt>month_jul</dt><dd>0.14</dd><dt>month_jun</dt><dd>0.21</dd><dt>month_mar</dt><dd>0.43</dd><dt>month_may</dt><dd>-0.47</dd><dt>month_nov</dt><dd>-0.2</dd><dt>month_oct</dt><dd>-0.05</dd><dt>month_sep</dt><dd>-0.2</dd><dt>month_unknown</dt><dd>-0.33</dd><dt>day_of_week_fri</dt><dd>-0.01</dd><dt>day_of_week_mon</dt><dd>-0.18</dd><dt>day_of_week_tue</dt><dd>0.01</dd><dt>day_of_week_unknown</dt><dd>-0.1</dd><dt>day_of_week_wed</dt><dd>0.06</dd><dt>poutcome_failure</dt><dd>-0.34</dd><dt>poutcome_success</dt><dd>0.12</dd><dt>poutcome_unknown</dt><dd>-0.21</dd><dt>age-group_10-20</dt><dd>0.07</dd><dt>age-group_30-40</dt><dd>-0.09</dd><dt>age-group_40-50</dt><dd>-0.07</dd><dt>age-group_50-60</dt><dd>0.05</dd><dt>age-group_60-70</dt><dd>0.25</dd><dt>age-group_70-80</dt><dd>0.27</dd><dt>age-group_80-90</dt><dd>0.27</dd><dt>age-group_90-100</dt><dd>0.35</dd><dt>pdays_missing</dt><dd>-5.12</dd><dt>previous_missing</dt><dd>-0.19</dd><dt>nr.employed_missing</dt><dd>-123.01</dd></dl>\n"
      ],
      "text/latex": [
       "\\begin{description*}\n",
       "\\item[(Intercept)] 32.11\n",
       "\\item[nr.employed] -0.01\n",
       "\\item[job\\textbackslash{}\\_blue-collar] -0.19\n",
       "\\item[job\\textbackslash{}\\_entrepreneur] 0.02\n",
       "\\item[job\\textbackslash{}\\_housemaid] -0.03\n",
       "\\item[job\\textbackslash{}\\_management] 0.08\n",
       "\\item[job\\textbackslash{}\\_retired] -0.02\n",
       "\\item[job\\textbackslash{}\\_self-employed] -0.18\n",
       "\\item[job\\textbackslash{}\\_services] -0.02\n",
       "\\item[job\\textbackslash{}\\_student] 0.12\n",
       "\\item[job\\textbackslash{}\\_technician] 0.03\n",
       "\\item[job\\textbackslash{}\\_unemployed] 0.13\n",
       "\\item[job\\textbackslash{}\\_unknown] 0.01\n",
       "\\item[marital\\textbackslash{}\\_divorced] -0.06\n",
       "\\item[marital\\textbackslash{}\\_single] 0.13\n",
       "\\item[marital\\textbackslash{}\\_unknown] 0.34\n",
       "\\item[education\\textbackslash{}\\_basic.4y] -0.05\n",
       "\\item[education\\textbackslash{}\\_basic.9y] 0.02\n",
       "\\item[education\\textbackslash{}\\_illiterate] 0.52\n",
       "\\item[education\\textbackslash{}\\_professional.course] -0.01\n",
       "\\item[education\\textbackslash{}\\_university.degree] 0.07\n",
       "\\item[education\\textbackslash{}\\_unknown] 0.05\n",
       "\\item[default\\textbackslash{}\\_no] 0.31\n",
       "\\item[default\\textbackslash{}\\_yes] -3.08\n",
       "\\item[housing\\textbackslash{}\\_unknown] 0.1\n",
       "\\item[housing\\textbackslash{}\\_yes] -0.02\n",
       "\\item[loan\\textbackslash{}\\_unknown] -0.11\n",
       "\\item[loan\\textbackslash{}\\_yes] 0.04\n",
       "\\item[contact\\textbackslash{}\\_cellular] 0.06\n",
       "\\item[contact\\textbackslash{}\\_telephone] -0.34\n",
       "\\item[month\\textbackslash{}\\_apr] 0.05\n",
       "\\item[month\\textbackslash{}\\_dec] 0.2\n",
       "\\item[month\\textbackslash{}\\_jul] 0.14\n",
       "\\item[month\\textbackslash{}\\_jun] 0.21\n",
       "\\item[month\\textbackslash{}\\_mar] 0.43\n",
       "\\item[month\\textbackslash{}\\_may] -0.47\n",
       "\\item[month\\textbackslash{}\\_nov] -0.2\n",
       "\\item[month\\textbackslash{}\\_oct] -0.05\n",
       "\\item[month\\textbackslash{}\\_sep] -0.2\n",
       "\\item[month\\textbackslash{}\\_unknown] -0.33\n",
       "\\item[day\\textbackslash{}\\_of\\textbackslash{}\\_week\\textbackslash{}\\_fri] -0.01\n",
       "\\item[day\\textbackslash{}\\_of\\textbackslash{}\\_week\\textbackslash{}\\_mon] -0.18\n",
       "\\item[day\\textbackslash{}\\_of\\textbackslash{}\\_week\\textbackslash{}\\_tue] 0.01\n",
       "\\item[day\\textbackslash{}\\_of\\textbackslash{}\\_week\\textbackslash{}\\_unknown] -0.1\n",
       "\\item[day\\textbackslash{}\\_of\\textbackslash{}\\_week\\textbackslash{}\\_wed] 0.06\n",
       "\\item[poutcome\\textbackslash{}\\_failure] -0.34\n",
       "\\item[poutcome\\textbackslash{}\\_success] 0.12\n",
       "\\item[poutcome\\textbackslash{}\\_unknown] -0.21\n",
       "\\item[age-group\\textbackslash{}\\_10-20] 0.07\n",
       "\\item[age-group\\textbackslash{}\\_30-40] -0.09\n",
       "\\item[age-group\\textbackslash{}\\_40-50] -0.07\n",
       "\\item[age-group\\textbackslash{}\\_50-60] 0.05\n",
       "\\item[age-group\\textbackslash{}\\_60-70] 0.25\n",
       "\\item[age-group\\textbackslash{}\\_70-80] 0.27\n",
       "\\item[age-group\\textbackslash{}\\_80-90] 0.27\n",
       "\\item[age-group\\textbackslash{}\\_90-100] 0.35\n",
       "\\item[pdays\\textbackslash{}\\_missing] -5.12\n",
       "\\item[previous\\textbackslash{}\\_missing] -0.19\n",
       "\\item[nr.employed\\textbackslash{}\\_missing] -123.01\n",
       "\\end{description*}\n"
      ],
      "text/markdown": [
       "(Intercept)\n",
       ":   32.11nr.employed\n",
       ":   -0.01job_blue-collar\n",
       ":   -0.19job_entrepreneur\n",
       ":   0.02job_housemaid\n",
       ":   -0.03job_management\n",
       ":   0.08job_retired\n",
       ":   -0.02job_self-employed\n",
       ":   -0.18job_services\n",
       ":   -0.02job_student\n",
       ":   0.12job_technician\n",
       ":   0.03job_unemployed\n",
       ":   0.13job_unknown\n",
       ":   0.01marital_divorced\n",
       ":   -0.06marital_single\n",
       ":   0.13marital_unknown\n",
       ":   0.34education_basic.4y\n",
       ":   -0.05education_basic.9y\n",
       ":   0.02education_illiterate\n",
       ":   0.52education_professional.course\n",
       ":   -0.01education_university.degree\n",
       ":   0.07education_unknown\n",
       ":   0.05default_no\n",
       ":   0.31default_yes\n",
       ":   -3.08housing_unknown\n",
       ":   0.1housing_yes\n",
       ":   -0.02loan_unknown\n",
       ":   -0.11loan_yes\n",
       ":   0.04contact_cellular\n",
       ":   0.06contact_telephone\n",
       ":   -0.34month_apr\n",
       ":   0.05month_dec\n",
       ":   0.2month_jul\n",
       ":   0.14month_jun\n",
       ":   0.21month_mar\n",
       ":   0.43month_may\n",
       ":   -0.47month_nov\n",
       ":   -0.2month_oct\n",
       ":   -0.05month_sep\n",
       ":   -0.2month_unknown\n",
       ":   -0.33day_of_week_fri\n",
       ":   -0.01day_of_week_mon\n",
       ":   -0.18day_of_week_tue\n",
       ":   0.01day_of_week_unknown\n",
       ":   -0.1day_of_week_wed\n",
       ":   0.06poutcome_failure\n",
       ":   -0.34poutcome_success\n",
       ":   0.12poutcome_unknown\n",
       ":   -0.21age-group_10-20\n",
       ":   0.07age-group_30-40\n",
       ":   -0.09age-group_40-50\n",
       ":   -0.07age-group_50-60\n",
       ":   0.05age-group_60-70\n",
       ":   0.25age-group_70-80\n",
       ":   0.27age-group_80-90\n",
       ":   0.27age-group_90-100\n",
       ":   0.35pdays_missing\n",
       ":   -5.12previous_missing\n",
       ":   -0.19nr.employed_missing\n",
       ":   -123.01\n",
       "\n"
      ],
      "text/plain": [
       "                  (Intercept)                   nr.employed \n",
       "                        32.11                         -0.01 \n",
       "              job_blue-collar              job_entrepreneur \n",
       "                        -0.19                          0.02 \n",
       "                job_housemaid                job_management \n",
       "                        -0.03                          0.08 \n",
       "                  job_retired             job_self-employed \n",
       "                        -0.02                         -0.18 \n",
       "                 job_services                   job_student \n",
       "                        -0.02                          0.12 \n",
       "               job_technician                job_unemployed \n",
       "                         0.03                          0.13 \n",
       "                  job_unknown              marital_divorced \n",
       "                         0.01                         -0.06 \n",
       "               marital_single               marital_unknown \n",
       "                         0.13                          0.34 \n",
       "           education_basic.4y            education_basic.9y \n",
       "                        -0.05                          0.02 \n",
       "         education_illiterate education_professional.course \n",
       "                         0.52                         -0.01 \n",
       "  education_university.degree             education_unknown \n",
       "                         0.07                          0.05 \n",
       "                   default_no                   default_yes \n",
       "                         0.31                         -3.08 \n",
       "              housing_unknown                   housing_yes \n",
       "                         0.10                         -0.02 \n",
       "                 loan_unknown                      loan_yes \n",
       "                        -0.11                          0.04 \n",
       "             contact_cellular             contact_telephone \n",
       "                         0.06                         -0.34 \n",
       "                    month_apr                     month_dec \n",
       "                         0.05                          0.20 \n",
       "                    month_jul                     month_jun \n",
       "                         0.14                          0.21 \n",
       "                    month_mar                     month_may \n",
       "                         0.43                         -0.47 \n",
       "                    month_nov                     month_oct \n",
       "                        -0.20                         -0.05 \n",
       "                    month_sep                 month_unknown \n",
       "                        -0.20                         -0.33 \n",
       "              day_of_week_fri               day_of_week_mon \n",
       "                        -0.01                         -0.18 \n",
       "              day_of_week_tue           day_of_week_unknown \n",
       "                         0.01                         -0.10 \n",
       "              day_of_week_wed              poutcome_failure \n",
       "                         0.06                         -0.34 \n",
       "             poutcome_success              poutcome_unknown \n",
       "                         0.12                         -0.21 \n",
       "              age-group_10-20               age-group_30-40 \n",
       "                         0.07                         -0.09 \n",
       "              age-group_40-50               age-group_50-60 \n",
       "                        -0.07                          0.05 \n",
       "              age-group_60-70               age-group_70-80 \n",
       "                         0.25                          0.27 \n",
       "              age-group_80-90              age-group_90-100 \n",
       "                         0.27                          0.35 \n",
       "                pdays_missing              previous_missing \n",
       "                        -5.12                         -0.19 \n",
       "          nr.employed_missing \n",
       "                      -123.01 "
      ]
     },
     "metadata": {},
     "output_type": "display_data"
    }
   ],
   "source": [
    "df_coef <- round(as.matrix(coef(cv.lasso, s=cv.lasso$lambda.min)), 2)\n",
    "\n",
    "# See all contributing variables\n",
    "df_coef[df_coef[, 1] != 0, ]"
   ]
  },
  {
   "cell_type": "code",
   "execution_count": 25,
   "id": "7f930824",
   "metadata": {
    "vscode": {
     "languageId": "r"
    }
   },
   "outputs": [
    {
     "name": "stdout",
     "output_type": "stream",
     "text": [
      " [1] \"poutcome_success\"            \"contact_telephone\"          \n",
      " [3] \"month_mar\"                   \"month_sep\"                  \n",
      " [5] \"default_no\"                  \"month_jun\"                  \n",
      " [7] \"`age-group_60-70`\"           \"job_student\"                \n",
      " [9] \"`age-group_70-80`\"           \"marital_single\"             \n",
      "[11] \"`job_blue-collar`\"           \"day_of_week_mon\"            \n",
      "[13] \"marital_unknown\"             \"`age-group_30-40`\"          \n",
      "[15] \"education_university.degree\" \"`job_self-employed`\"        \n",
      "[17] \"nr.employed_missing\"         \"nr.employed\"                \n",
      "[19] \"month_may\"                   \"poutcome_failure\"           \n",
      "[21] \"month_jul\"                   \"month_nov\"                  \n",
      "[23] \"day_of_week_wed\"            \n"
     ]
    }
   ],
   "source": [
    "# Step 1: Define base intercept only model\n",
    "base.mod <- glm(subscribe ~ 1 , data=train, family=binomial)  \n",
    "\n",
    "# Step 2: Full model with all predictors\n",
    "all.mod <- glm(subscribe ~ . , data= train, family=binomial) \n",
    "\n",
    "# Step 3: Perform step-wise algorithm. direction='both' implies both forward and backward stepwise\n",
    "stepMod <- step(base.mod, scope = list(lower = base.mod, upper = all.mod), direction = \"both\", trace = 0, steps = 1000)  \n",
    "\n",
    "# Step 4: Get the shortlisted variable.\n",
    "shortlistedVars <- names(unlist(stepMod[[1]])) \n",
    "shortlistedVars <- shortlistedVars[!shortlistedVars %in% \"(Intercept)\"] # remove intercept\n",
    "\n",
    "# Show\n",
    "print(shortlistedVars)"
   ]
  },
  {
   "cell_type": "code",
   "execution_count": 53,
   "id": "18ba1d3f",
   "metadata": {
    "vscode": {
     "languageId": "r"
    }
   },
   "outputs": [
    {
     "name": "stdout",
     "output_type": "stream",
     "text": [
      "'data.frame':\t16000 obs. of  19 variables:\n",
      " $ nr.employed                : num  5076 4992 5228 5099 5099 ...\n",
      " $ job_student                : num  0 0 0 0 0 0 0 0 0 0 ...\n",
      " $ marital_single             : num  0 0 0 0 0 1 0 0 0 0 ...\n",
      " $ marital_unknown            : num  0 0 0 0 0 0 0 0 0 0 ...\n",
      " $ education_university.degree: num  1 0 0 0 1 0 0 0 1 0 ...\n",
      " $ default_no                 : num  1 1 1 1 1 1 1 0 1 0 ...\n",
      " $ contact_telephone          : num  0 1 0 0 0 1 1 0 0 1 ...\n",
      " $ month_jul                  : num  0 0 1 0 0 0 0 0 1 0 ...\n",
      " $ month_jun                  : num  0 1 0 0 0 0 1 0 0 1 ...\n",
      " $ month_mar                  : num  0 0 0 0 0 0 0 0 0 0 ...\n",
      " $ month_may                  : num  0 0 0 1 0 1 0 0 0 0 ...\n",
      " $ month_nov                  : num  0 0 0 0 0 0 0 0 0 0 ...\n",
      " $ month_sep                  : num  0 0 0 0 0 0 0 0 0 0 ...\n",
      " $ day_of_week_mon            : num  1 0 0 0 0 0 1 0 1 0 ...\n",
      " $ day_of_week_wed            : num  0 0 0 0 1 0 0 0 0 0 ...\n",
      " $ poutcome_failure           : num  1 0 0 0 0 0 0 0 0 0 ...\n",
      " $ poutcome_success           : num  0 0 0 0 0 0 0 0 0 0 ...\n",
      " $ nr.employed_missing        : num  0 0 0 0 0 0 0 0 0 0 ...\n",
      " $ subscribe                  : num  0 0 0 0 1 0 0 0 0 0 ...\n"
     ]
    }
   ],
   "source": [
    "col.num <- which(colnames(train) %in% shortlistedVars)\n",
    "train_features <- train[,col.num]\n",
    "train_features <- cbind(train_features, train['subscribe']) \n",
    "str(train_features)"
   ]
  },
  {
   "cell_type": "code",
   "execution_count": 54,
   "id": "8c24373d",
   "metadata": {
    "vscode": {
     "languageId": "r"
    }
   },
   "outputs": [
    {
     "data": {
      "text/plain": [
       "\n",
       "Call:\n",
       "glm(formula = subscribe ~ ., family = binomial, data = train_features)\n",
       "\n",
       "Deviance Residuals: \n",
       "    Min       1Q   Median       3Q      Max  \n",
       "-2.1865  -0.4030  -0.3235  -0.2509   2.8810  \n",
       "\n",
       "Coefficients:\n",
       "                              Estimate Std. Error z value Pr(>|z|)    \n",
       "(Intercept)                  5.698e+01  2.222e+00  25.648  < 2e-16 ***\n",
       "nr.employed                 -1.152e-02  4.310e-04 -26.728  < 2e-16 ***\n",
       "job_student                  3.308e-01  1.563e-01   2.116 0.034316 *  \n",
       "marital_single               1.402e-01  6.359e-02   2.204 0.027504 *  \n",
       "marital_unknown              5.911e-01  2.198e-01   2.689 0.007161 ** \n",
       "education_university.degree  1.445e-01  6.107e-02   2.366 0.018001 *  \n",
       "default_no                   3.208e-01  8.879e-02   3.613 0.000303 ***\n",
       "contact_telephone           -3.861e-01  7.895e-02  -4.891 1.00e-06 ***\n",
       "month_jul                    3.140e-01  9.285e-02   3.382 0.000721 ***\n",
       "month_jun                    3.027e-01  1.022e-01   2.961 0.003064 ** \n",
       "month_mar                    8.134e-01  1.685e-01   4.827 1.38e-06 ***\n",
       "month_may                   -6.661e-01  7.976e-02  -8.352  < 2e-16 ***\n",
       "month_nov                   -2.051e-01  1.055e-01  -1.944 0.051946 .  \n",
       "month_sep                   -2.817e-01  1.606e-01  -1.754 0.079352 .  \n",
       "day_of_week_mon             -2.648e-01  7.482e-02  -3.539 0.000401 ***\n",
       "day_of_week_wed              1.056e-01  7.278e-02   1.451 0.146805    \n",
       "poutcome_failure            -4.555e-01  8.990e-02  -5.067 4.05e-07 ***\n",
       "poutcome_success             1.435e+00  1.106e-01  12.981  < 2e-16 ***\n",
       "nr.employed_missing         -1.749e+02  6.529e+00 -26.782  < 2e-16 ***\n",
       "---\n",
       "Signif. codes:  0 '***' 0.001 '**' 0.01 '*' 0.05 '.' 0.1 ' ' 1\n",
       "\n",
       "(Dispersion parameter for binomial family taken to be 1)\n",
       "\n",
       "    Null deviance: 11200.9  on 15999  degrees of freedom\n",
       "Residual deviance:  8815.6  on 15981  degrees of freedom\n",
       "AIC: 8853.6\n",
       "\n",
       "Number of Fisher Scoring iterations: 6\n"
      ]
     },
     "metadata": {},
     "output_type": "display_data"
    }
   ],
   "source": [
    "# Fit Logistic Regression\n",
    "\n",
    "# Fit Logistic Regression model\n",
    "md_logreg <- glm(subscribe ∼ .,\n",
    "                 data=train_features, family=binomial)\n",
    "summary(md_logreg)"
   ]
  },
  {
   "cell_type": "code",
   "execution_count": 55,
   "id": "ffa0cd5f",
   "metadata": {
    "vscode": {
     "languageId": "r"
    }
   },
   "outputs": [
    {
     "data": {
      "text/html": [
       "<style>\n",
       ".dl-inline {width: auto; margin:0; padding: 0}\n",
       ".dl-inline>dt, .dl-inline>dd {float: none; width: auto; display: inline-block}\n",
       ".dl-inline>dt::after {content: \":\\0020\"; padding-right: .5ex}\n",
       ".dl-inline>dt:not(:first-of-type) {padding-left: .5ex}\n",
       "</style><dl class=dl-inline><dt>1</dt><dd>0.148072402352872</dd><dt>2</dt><dd>0.429777599218296</dd><dt>3</dt><dd>0.0685048066900523</dd><dt>4</dt><dd>0.108724412188813</dd><dt>5</dt><dd>0.233673475256916</dd><dt>6</dt><dd>0.0320321221434344</dd></dl>\n"
      ],
      "text/latex": [
       "\\begin{description*}\n",
       "\\item[1] 0.148072402352872\n",
       "\\item[2] 0.429777599218296\n",
       "\\item[3] 0.0685048066900523\n",
       "\\item[4] 0.108724412188813\n",
       "\\item[5] 0.233673475256916\n",
       "\\item[6] 0.0320321221434344\n",
       "\\end{description*}\n"
      ],
      "text/markdown": [
       "1\n",
       ":   0.1480724023528722\n",
       ":   0.4297775992182963\n",
       ":   0.06850480669005234\n",
       ":   0.1087244121888135\n",
       ":   0.2336734752569166\n",
       ":   0.0320321221434344\n",
       "\n"
      ],
      "text/plain": [
       "         1          2          3          4          5          6 \n",
       "0.14807240 0.42977760 0.06850481 0.10872441 0.23367348 0.03203212 "
      ]
     },
     "metadata": {},
     "output_type": "display_data"
    },
    {
     "data": {
      "text/html": [
       "<style>\n",
       ".dl-inline {width: auto; margin:0; padding: 0}\n",
       ".dl-inline>dt, .dl-inline>dd {float: none; width: auto; display: inline-block}\n",
       ".dl-inline>dt::after {content: \":\\0020\"; padding-right: .5ex}\n",
       ".dl-inline>dt:not(:first-of-type) {padding-left: .5ex}\n",
       "</style><dl class=dl-inline><dt>1</dt><dd>0.0279595873053689</dd><dt>2</dt><dd>0.414177735428368</dd><dt>3</dt><dd>0.0594410766769421</dd><dt>4</dt><dd>0.0753835471567788</dd><dt>5</dt><dd>0.0474940181472331</dd><dt>6</dt><dd>0.0584485223877055</dd></dl>\n"
      ],
      "text/latex": [
       "\\begin{description*}\n",
       "\\item[1] 0.0279595873053689\n",
       "\\item[2] 0.414177735428368\n",
       "\\item[3] 0.0594410766769421\n",
       "\\item[4] 0.0753835471567788\n",
       "\\item[5] 0.0474940181472331\n",
       "\\item[6] 0.0584485223877055\n",
       "\\end{description*}\n"
      ],
      "text/markdown": [
       "1\n",
       ":   0.02795958730536892\n",
       ":   0.4141777354283683\n",
       ":   0.05944107667694214\n",
       ":   0.07538354715677885\n",
       ":   0.04749401814723316\n",
       ":   0.0584485223877055\n",
       "\n"
      ],
      "text/plain": [
       "         1          2          3          4          5          6 \n",
       "0.02795959 0.41417774 0.05944108 0.07538355 0.04749402 0.05844852 "
      ]
     },
     "metadata": {},
     "output_type": "display_data"
    }
   ],
   "source": [
    "# Make prediction on both train and test data\n",
    "pred_train_prob <- predict(md_logreg, newdata=train, type='response')\n",
    "head(pred_train_prob)\n",
    "\n",
    "pred_test_prob <- predict(md_logreg, newdata=test, type='response')\n",
    "head(pred_test_prob)"
   ]
  },
  {
   "cell_type": "code",
   "execution_count": 56,
   "id": "471a4030",
   "metadata": {
    "vscode": {
     "languageId": "r"
    }
   },
   "outputs": [
    {
     "name": "stdout",
     "output_type": "stream",
     "text": [
      "[1] \"Confusion matrix:\"\n"
     ]
    },
    {
     "data": {
      "text/plain": [
       "          \n",
       "pred_train     0     1\n",
       "         0 11792   642\n",
       "         1  2421  1145"
      ]
     },
     "metadata": {},
     "output_type": "display_data"
    },
    {
     "name": "stdout",
     "output_type": "stream",
     "text": [
      "[1] \"Accuracy = 0.81 %\"\n",
      "[1] \"Error = 0.19 %\"\n"
     ]
    },
    {
     "name": "stderr",
     "output_type": "stream",
     "text": [
      "Warning message in roc.default(as.numeric(pred_train_prob), as.numeric(train$subscribe == :\n",
      "\"'response' has more than two levels. Consider setting 'levels' explicitly or using 'multiclass.roc' instead\"\n",
      "Setting levels: control = 0.0157621027654653, case = 0.0179530614605351\n",
      "\n",
      "Setting direction: controls < cases\n",
      "\n"
     ]
    },
    {
     "name": "stdout",
     "output_type": "stream",
     "text": [
      "[1] \"AUC = 0.48780487804878\"\n"
     ]
    }
   ],
   "source": [
    "# Evaluation model on train\n",
    "threshold <- 0.11355  # Decision threshold\n",
    "pred_train <- rep(0, length(pred_train_prob))\n",
    "pred_train[pred_train_prob > threshold] <- 1\n",
    "\n",
    "# Confusion matrix\n",
    "print('Confusion matrix:')\n",
    "table(pred_train, train$subscribe)\n",
    "\n",
    "# Accuracy and error rate\n",
    "acc <- mean(pred_train == train$subscribe)\n",
    "err_rate <- 1 - acc\n",
    "print(paste('Accuracy =', round(acc, 2), '%'))\n",
    "print(paste('Error =', round(err_rate, 2), '%'))\n",
    "\n",
    "# AUC\n",
    "pred_roc <- pROC::roc(as.numeric(pred_train_prob), as.numeric(train$subscribe == 1))\n",
    "pred_auc <- pROC::auc(pred_roc)\n",
    "print(paste('AUC =', pred_auc))"
   ]
  },
  {
   "cell_type": "code",
   "execution_count": 57,
   "id": "12291845",
   "metadata": {
    "vscode": {
     "languageId": "r"
    }
   },
   "outputs": [
    {
     "name": "stdout",
     "output_type": "stream",
     "text": [
      "[1] \"Confusion matrix:\"\n"
     ]
    },
    {
     "data": {
      "text/plain": [
       "         \n",
       "pred_test    0    1\n",
       "        0 2914  193\n",
       "        1  602  291"
      ]
     },
     "metadata": {},
     "output_type": "display_data"
    },
    {
     "name": "stdout",
     "output_type": "stream",
     "text": [
      "[1] \"Accuracy = 0.8 %\"\n",
      "[1] \"Error = 0.2 %\"\n"
     ]
    },
    {
     "name": "stderr",
     "output_type": "stream",
     "text": [
      "Warning message in roc.default(pred_test_prob, test$subscribe):\n",
      "\"'response' has more than two levels. Consider setting 'levels' explicitly or using 'multiclass.roc' instead\"\n",
      "Setting levels: control = 0.0157621027654653, case = 0.0180910437411432\n",
      "\n",
      "Setting direction: controls < cases\n",
      "\n"
     ]
    },
    {
     "name": "stdout",
     "output_type": "stream",
     "text": [
      "[1] \"AUC = 0.484848484848485\"\n"
     ]
    }
   ],
   "source": [
    "# Evaluation model on test\n",
    "threshold <- 0.11355  # Decision threshold\n",
    "pred_test <- rep(0, length(pred_test_prob))\n",
    "pred_test[pred_test_prob > threshold] <- 1\n",
    "\n",
    "# Confusion matrix\n",
    "print('Confusion matrix:')\n",
    "table(pred_test, test$subscribe)\n",
    "\n",
    "# Accuracy and error rate\n",
    "acc <- mean(pred_test == test$subscribe)\n",
    "err_rate <- 1 - acc\n",
    "print(paste('Accuracy =', round(acc, 2), '%'))\n",
    "print(paste('Error =', round(err_rate, 2), '%'))\n",
    "\n",
    "# AUC\n",
    "pred_roc <- pROC::roc(pred_test_prob, test$subscribe)\n",
    "pred_auc <- pROC::auc(pred_roc)\n",
    "print(paste('AUC =', pred_auc))"
   ]
  },
  {
   "cell_type": "code",
   "execution_count": 66,
   "id": "0c630f4b",
   "metadata": {
    "vscode": {
     "languageId": "r"
    }
   },
   "outputs": [
    {
     "data": {
      "text/html": [
       "<style>\n",
       ".list-inline {list-style: none; margin:0; padding: 0}\n",
       ".list-inline>li {display: inline-block}\n",
       ".list-inline>li:not(:last-child)::after {content: \"\\00b7\"; padding: 0 .5ex}\n",
       "</style>\n",
       "<ol class=list-inline><li>'client_id'</li><li>'campaign'</li><li>'pdays'</li><li>'previous'</li><li>'emp.var.rate'</li><li>'cons.price.idx'</li><li>'cons.conf.idx'</li><li>'euribor3m'</li><li>'nr.employed'</li><li>'job_admin.'</li><li>'job_blue.collar'</li><li>'job_entrepreneur'</li><li>'job_housemaid'</li><li>'job_management'</li><li>'job_retired'</li><li>'job_self.employed'</li><li>'job_services'</li><li>'job_student'</li><li>'job_technician'</li><li>'job_unemployed'</li><li>'job_unknown'</li><li>'marital_divorced'</li><li>'marital_married'</li><li>'marital_single'</li><li>'marital_unknown'</li><li>'education_basic.4y'</li><li>'education_basic.6y'</li><li>'education_basic.9y'</li><li>'education_high.school'</li><li>'education_illiterate'</li><li>'education_professional.course'</li><li>'education_university.degree'</li><li>'education_unknown'</li><li>'default_no'</li><li>'default_unknown'</li><li>'default_yes'</li><li>'housing_no'</li><li>'housing_unknown'</li><li>'housing_yes'</li><li>'loan_no'</li><li>'loan_unknown'</li><li>'loan_yes'</li><li>'contact_cellular'</li><li>'contact_telephone'</li><li>'contact_unknown'</li><li>'month_apr'</li><li>'month_aug'</li><li>'month_dec'</li><li>'month_jul'</li><li>'month_jun'</li><li>'month_mar'</li><li>'month_may'</li><li>'month_nov'</li><li>'month_oct'</li><li>'month_sep'</li><li>'month_unknown'</li><li>'day_of_week_fri'</li><li>'day_of_week_mon'</li><li>'day_of_week_thu'</li><li>'day_of_week_tue'</li><li>'day_of_week_unknown'</li><li>'day_of_week_wed'</li><li>'poutcome_failure'</li><li>'poutcome_nonexistent'</li><li>'poutcome_success'</li><li>'poutcome_unknown'</li><li>'age.group_10.20'</li><li>'age.group_20.30'</li><li>'age.group_30.40'</li><li>'age.group_40.50'</li><li>'age.group_50.60'</li><li>'age.group_60.70'</li><li>'age.group_70.80'</li><li>'age.group_80.90'</li><li>'age.group_90.100'</li><li>'campaign_missing'</li><li>'pdays_missing'</li><li>'previous_missing'</li><li>'emp.var.rate_missing'</li><li>'cons.price.idx_missing'</li><li>'cons.conf.idx_missing'</li><li>'euribor3m_missing'</li><li>'nr.employed_missing'</li><li>'subscribe'</li></ol>\n"
      ],
      "text/latex": [
       "\\begin{enumerate*}\n",
       "\\item 'client\\_id'\n",
       "\\item 'campaign'\n",
       "\\item 'pdays'\n",
       "\\item 'previous'\n",
       "\\item 'emp.var.rate'\n",
       "\\item 'cons.price.idx'\n",
       "\\item 'cons.conf.idx'\n",
       "\\item 'euribor3m'\n",
       "\\item 'nr.employed'\n",
       "\\item 'job\\_admin.'\n",
       "\\item 'job\\_blue.collar'\n",
       "\\item 'job\\_entrepreneur'\n",
       "\\item 'job\\_housemaid'\n",
       "\\item 'job\\_management'\n",
       "\\item 'job\\_retired'\n",
       "\\item 'job\\_self.employed'\n",
       "\\item 'job\\_services'\n",
       "\\item 'job\\_student'\n",
       "\\item 'job\\_technician'\n",
       "\\item 'job\\_unemployed'\n",
       "\\item 'job\\_unknown'\n",
       "\\item 'marital\\_divorced'\n",
       "\\item 'marital\\_married'\n",
       "\\item 'marital\\_single'\n",
       "\\item 'marital\\_unknown'\n",
       "\\item 'education\\_basic.4y'\n",
       "\\item 'education\\_basic.6y'\n",
       "\\item 'education\\_basic.9y'\n",
       "\\item 'education\\_high.school'\n",
       "\\item 'education\\_illiterate'\n",
       "\\item 'education\\_professional.course'\n",
       "\\item 'education\\_university.degree'\n",
       "\\item 'education\\_unknown'\n",
       "\\item 'default\\_no'\n",
       "\\item 'default\\_unknown'\n",
       "\\item 'default\\_yes'\n",
       "\\item 'housing\\_no'\n",
       "\\item 'housing\\_unknown'\n",
       "\\item 'housing\\_yes'\n",
       "\\item 'loan\\_no'\n",
       "\\item 'loan\\_unknown'\n",
       "\\item 'loan\\_yes'\n",
       "\\item 'contact\\_cellular'\n",
       "\\item 'contact\\_telephone'\n",
       "\\item 'contact\\_unknown'\n",
       "\\item 'month\\_apr'\n",
       "\\item 'month\\_aug'\n",
       "\\item 'month\\_dec'\n",
       "\\item 'month\\_jul'\n",
       "\\item 'month\\_jun'\n",
       "\\item 'month\\_mar'\n",
       "\\item 'month\\_may'\n",
       "\\item 'month\\_nov'\n",
       "\\item 'month\\_oct'\n",
       "\\item 'month\\_sep'\n",
       "\\item 'month\\_unknown'\n",
       "\\item 'day\\_of\\_week\\_fri'\n",
       "\\item 'day\\_of\\_week\\_mon'\n",
       "\\item 'day\\_of\\_week\\_thu'\n",
       "\\item 'day\\_of\\_week\\_tue'\n",
       "\\item 'day\\_of\\_week\\_unknown'\n",
       "\\item 'day\\_of\\_week\\_wed'\n",
       "\\item 'poutcome\\_failure'\n",
       "\\item 'poutcome\\_nonexistent'\n",
       "\\item 'poutcome\\_success'\n",
       "\\item 'poutcome\\_unknown'\n",
       "\\item 'age.group\\_10.20'\n",
       "\\item 'age.group\\_20.30'\n",
       "\\item 'age.group\\_30.40'\n",
       "\\item 'age.group\\_40.50'\n",
       "\\item 'age.group\\_50.60'\n",
       "\\item 'age.group\\_60.70'\n",
       "\\item 'age.group\\_70.80'\n",
       "\\item 'age.group\\_80.90'\n",
       "\\item 'age.group\\_90.100'\n",
       "\\item 'campaign\\_missing'\n",
       "\\item 'pdays\\_missing'\n",
       "\\item 'previous\\_missing'\n",
       "\\item 'emp.var.rate\\_missing'\n",
       "\\item 'cons.price.idx\\_missing'\n",
       "\\item 'cons.conf.idx\\_missing'\n",
       "\\item 'euribor3m\\_missing'\n",
       "\\item 'nr.employed\\_missing'\n",
       "\\item 'subscribe'\n",
       "\\end{enumerate*}\n"
      ],
      "text/markdown": [
       "1. 'client_id'\n",
       "2. 'campaign'\n",
       "3. 'pdays'\n",
       "4. 'previous'\n",
       "5. 'emp.var.rate'\n",
       "6. 'cons.price.idx'\n",
       "7. 'cons.conf.idx'\n",
       "8. 'euribor3m'\n",
       "9. 'nr.employed'\n",
       "10. 'job_admin.'\n",
       "11. 'job_blue.collar'\n",
       "12. 'job_entrepreneur'\n",
       "13. 'job_housemaid'\n",
       "14. 'job_management'\n",
       "15. 'job_retired'\n",
       "16. 'job_self.employed'\n",
       "17. 'job_services'\n",
       "18. 'job_student'\n",
       "19. 'job_technician'\n",
       "20. 'job_unemployed'\n",
       "21. 'job_unknown'\n",
       "22. 'marital_divorced'\n",
       "23. 'marital_married'\n",
       "24. 'marital_single'\n",
       "25. 'marital_unknown'\n",
       "26. 'education_basic.4y'\n",
       "27. 'education_basic.6y'\n",
       "28. 'education_basic.9y'\n",
       "29. 'education_high.school'\n",
       "30. 'education_illiterate'\n",
       "31. 'education_professional.course'\n",
       "32. 'education_university.degree'\n",
       "33. 'education_unknown'\n",
       "34. 'default_no'\n",
       "35. 'default_unknown'\n",
       "36. 'default_yes'\n",
       "37. 'housing_no'\n",
       "38. 'housing_unknown'\n",
       "39. 'housing_yes'\n",
       "40. 'loan_no'\n",
       "41. 'loan_unknown'\n",
       "42. 'loan_yes'\n",
       "43. 'contact_cellular'\n",
       "44. 'contact_telephone'\n",
       "45. 'contact_unknown'\n",
       "46. 'month_apr'\n",
       "47. 'month_aug'\n",
       "48. 'month_dec'\n",
       "49. 'month_jul'\n",
       "50. 'month_jun'\n",
       "51. 'month_mar'\n",
       "52. 'month_may'\n",
       "53. 'month_nov'\n",
       "54. 'month_oct'\n",
       "55. 'month_sep'\n",
       "56. 'month_unknown'\n",
       "57. 'day_of_week_fri'\n",
       "58. 'day_of_week_mon'\n",
       "59. 'day_of_week_thu'\n",
       "60. 'day_of_week_tue'\n",
       "61. 'day_of_week_unknown'\n",
       "62. 'day_of_week_wed'\n",
       "63. 'poutcome_failure'\n",
       "64. 'poutcome_nonexistent'\n",
       "65. 'poutcome_success'\n",
       "66. 'poutcome_unknown'\n",
       "67. 'age.group_10.20'\n",
       "68. 'age.group_20.30'\n",
       "69. 'age.group_30.40'\n",
       "70. 'age.group_40.50'\n",
       "71. 'age.group_50.60'\n",
       "72. 'age.group_60.70'\n",
       "73. 'age.group_70.80'\n",
       "74. 'age.group_80.90'\n",
       "75. 'age.group_90.100'\n",
       "76. 'campaign_missing'\n",
       "77. 'pdays_missing'\n",
       "78. 'previous_missing'\n",
       "79. 'emp.var.rate_missing'\n",
       "80. 'cons.price.idx_missing'\n",
       "81. 'cons.conf.idx_missing'\n",
       "82. 'euribor3m_missing'\n",
       "83. 'nr.employed_missing'\n",
       "84. 'subscribe'\n",
       "\n",
       "\n"
      ],
      "text/plain": [
       " [1] \"client_id\"                     \"campaign\"                     \n",
       " [3] \"pdays\"                         \"previous\"                     \n",
       " [5] \"emp.var.rate\"                  \"cons.price.idx\"               \n",
       " [7] \"cons.conf.idx\"                 \"euribor3m\"                    \n",
       " [9] \"nr.employed\"                   \"job_admin.\"                   \n",
       "[11] \"job_blue.collar\"               \"job_entrepreneur\"             \n",
       "[13] \"job_housemaid\"                 \"job_management\"               \n",
       "[15] \"job_retired\"                   \"job_self.employed\"            \n",
       "[17] \"job_services\"                  \"job_student\"                  \n",
       "[19] \"job_technician\"                \"job_unemployed\"               \n",
       "[21] \"job_unknown\"                   \"marital_divorced\"             \n",
       "[23] \"marital_married\"               \"marital_single\"               \n",
       "[25] \"marital_unknown\"               \"education_basic.4y\"           \n",
       "[27] \"education_basic.6y\"            \"education_basic.9y\"           \n",
       "[29] \"education_high.school\"         \"education_illiterate\"         \n",
       "[31] \"education_professional.course\" \"education_university.degree\"  \n",
       "[33] \"education_unknown\"             \"default_no\"                   \n",
       "[35] \"default_unknown\"               \"default_yes\"                  \n",
       "[37] \"housing_no\"                    \"housing_unknown\"              \n",
       "[39] \"housing_yes\"                   \"loan_no\"                      \n",
       "[41] \"loan_unknown\"                  \"loan_yes\"                     \n",
       "[43] \"contact_cellular\"              \"contact_telephone\"            \n",
       "[45] \"contact_unknown\"               \"month_apr\"                    \n",
       "[47] \"month_aug\"                     \"month_dec\"                    \n",
       "[49] \"month_jul\"                     \"month_jun\"                    \n",
       "[51] \"month_mar\"                     \"month_may\"                    \n",
       "[53] \"month_nov\"                     \"month_oct\"                    \n",
       "[55] \"month_sep\"                     \"month_unknown\"                \n",
       "[57] \"day_of_week_fri\"               \"day_of_week_mon\"              \n",
       "[59] \"day_of_week_thu\"               \"day_of_week_tue\"              \n",
       "[61] \"day_of_week_unknown\"           \"day_of_week_wed\"              \n",
       "[63] \"poutcome_failure\"              \"poutcome_nonexistent\"         \n",
       "[65] \"poutcome_success\"              \"poutcome_unknown\"             \n",
       "[67] \"age.group_10.20\"               \"age.group_20.30\"              \n",
       "[69] \"age.group_30.40\"               \"age.group_40.50\"              \n",
       "[71] \"age.group_50.60\"               \"age.group_60.70\"              \n",
       "[73] \"age.group_70.80\"               \"age.group_80.90\"              \n",
       "[75] \"age.group_90.100\"              \"campaign_missing\"             \n",
       "[77] \"pdays_missing\"                 \"previous_missing\"             \n",
       "[79] \"emp.var.rate_missing\"          \"cons.price.idx_missing\"       \n",
       "[81] \"cons.conf.idx_missing\"         \"euribor3m_missing\"            \n",
       "[83] \"nr.employed_missing\"           \"subscribe\"                    "
      ]
     },
     "metadata": {},
     "output_type": "display_data"
    }
   ],
   "source": [
    "make.names(names(train))\n",
    "names(train)[names(train) == 'job_blue.collar'] <- 'job.blue.collar'"
   ]
  },
  {
   "cell_type": "code",
   "execution_count": 85,
   "id": "e1c46797",
   "metadata": {
    "vscode": {
     "languageId": "r"
    }
   },
   "outputs": [
    {
     "name": "stderr",
     "output_type": "stream",
     "text": [
      "Resampling: cross-validation\n",
      "\n",
      "Measures:             auc       \n",
      "\n",
      "Warning message in predict.lm(object, newdata, se.fit, scale = 1, type = if (type == :\n",
      "\"prediction from a rank-deficient fit may be misleading\"\n",
      "[Resample] iter 1:    0.7721610 \n",
      "\n",
      "Warning message in predict.lm(object, newdata, se.fit, scale = 1, type = if (type == :\n",
      "\"prediction from a rank-deficient fit may be misleading\"\n",
      "[Resample] iter 2:    0.7725399 \n",
      "\n",
      "Warning message in predict.lm(object, newdata, se.fit, scale = 1, type = if (type == :\n",
      "\"prediction from a rank-deficient fit may be misleading\"\n",
      "[Resample] iter 3:    0.8015194 \n",
      "\n",
      "Warning message in predict.lm(object, newdata, se.fit, scale = 1, type = if (type == :\n",
      "\"prediction from a rank-deficient fit may be misleading\"\n",
      "[Resample] iter 4:    0.7606314 \n",
      "\n",
      "Warning message in predict.lm(object, newdata, se.fit, scale = 1, type = if (type == :\n",
      "\"prediction from a rank-deficient fit may be misleading\"\n",
      "[Resample] iter 5:    0.7834091 \n",
      "\n",
      "Warning message in predict.lm(object, newdata, se.fit, scale = 1, type = if (type == :\n",
      "\"prediction from a rank-deficient fit may be misleading\"\n",
      "[Resample] iter 6:    0.7796042 \n",
      "\n",
      "Warning message in predict.lm(object, newdata, se.fit, scale = 1, type = if (type == :\n",
      "\"prediction from a rank-deficient fit may be misleading\"\n",
      "[Resample] iter 7:    0.7967357 \n",
      "\n",
      "Warning message in predict.lm(object, newdata, se.fit, scale = 1, type = if (type == :\n",
      "\"prediction from a rank-deficient fit may be misleading\"\n",
      "[Resample] iter 8:    0.7611918 \n",
      "\n",
      "Warning message in predict.lm(object, newdata, se.fit, scale = 1, type = if (type == :\n",
      "\"prediction from a rank-deficient fit may be misleading\"\n",
      "[Resample] iter 9:    0.8133662 \n",
      "\n",
      "Warning message in predict.lm(object, newdata, se.fit, scale = 1, type = if (type == :\n",
      "\"prediction from a rank-deficient fit may be misleading\"\n",
      "[Resample] iter 10:   0.8200197 \n",
      "\n",
      "\n",
      "\n",
      "\n",
      "Aggregated Result: auc.test.mean=0.7861178\n",
      "\n",
      "\n",
      "\n",
      "\n"
     ]
    },
    {
     "data": {
      "text/plain": [
       "Resample Result\n",
       "Task: student\n",
       "Learner: classif.logreg\n",
       "Aggr perf: auc.test.mean=0.7861178\n",
       "Runtime: 11.5901"
      ]
     },
     "metadata": {},
     "output_type": "display_data"
    }
   ],
   "source": [
    "# Set up cross-validation\n",
    "rdesc = makeResampleDesc(\"CV\", iters=10)\n",
    "\n",
    "# Define the model\n",
    "lnr_logreg <- makeLearner(\"classif.logreg\", predict.type=\"prob\", fix.factors.prediction=T)\n",
    "\n",
    "# Define the model\n",
    "task_logreg <- makeClassifTask(id=\"student\", data=train, target=\"subscribe\")\n",
    "\n",
    "# Run the k-fold CV\n",
    "resample(lnr_logreg, task_logreg, rdesc, measures=list(mlr::auc))"
   ]
  },
  {
   "cell_type": "code",
   "execution_count": 88,
   "id": "8613454d",
   "metadata": {
    "vscode": {
     "languageId": "r"
    }
   },
   "outputs": [
    {
     "name": "stderr",
     "output_type": "stream",
     "text": [
      "Resampling: cross-validation\n",
      "\n",
      "Measures:             auc       \n",
      "\n",
      "[Resample] iter 1:    0.8064829 \n",
      "\n",
      "[Resample] iter 2:    0.7979945 \n",
      "\n",
      "[Resample] iter 3:    0.7696111 \n",
      "\n",
      "[Resample] iter 4:    0.7685906 \n",
      "\n",
      "[Resample] iter 5:    0.7688388 \n",
      "\n",
      "[Resample] iter 6:    0.8027884 \n",
      "\n",
      "[Resample] iter 7:    0.8151812 \n",
      "\n",
      "[Resample] iter 8:    0.7786420 \n",
      "\n",
      "[Resample] iter 9:    0.8001708 \n",
      "\n",
      "[Resample] iter 10:   0.8079904 \n",
      "\n",
      "\n",
      "\n",
      "\n",
      "Aggregated Result: auc.test.mean=0.7916291\n",
      "\n",
      "\n",
      "\n",
      "\n"
     ]
    },
    {
     "data": {
      "text/plain": [
       "Resample Result\n",
       "Task: student\n",
       "Learner: classif.logreg\n",
       "Aggr perf: auc.test.mean=0.7916291\n",
       "Runtime: 1.51214"
      ]
     },
     "metadata": {},
     "output_type": "display_data"
    }
   ],
   "source": [
    "# Set up cross-validation\n",
    "rdesc = makeResampleDesc(\"CV\", iters=10)\n",
    "\n",
    "# Define the model\n",
    "lnr_logreg <- makeLearner(\"classif.logreg\", predict.type=\"prob\", fix.factors.prediction=T)\n",
    "\n",
    "# Define the model\n",
    "task_logreg <- makeClassifTask(id=\"student\", data=train_features, target=\"subscribe\")\n",
    "\n",
    "# Run the k-fold CV\n",
    "resample(lnr_logreg, task_logreg, rdesc, measures=list(mlr::auc))"
   ]
  },
  {
   "cell_type": "code",
   "execution_count": 59,
   "id": "b95e7ab3",
   "metadata": {
    "vscode": {
     "languageId": "r"
    }
   },
   "outputs": [
    {
     "name": "stdout",
     "output_type": "stream",
     "text": [
      "[1] \"Confusion matrix:\"\n"
     ]
    },
    {
     "data": {
      "text/plain": [
       "         \n",
       "knn1_pred    0    1\n",
       "        0 3213  350\n",
       "        1  303  134"
      ]
     },
     "metadata": {},
     "output_type": "display_data"
    },
    {
     "name": "stdout",
     "output_type": "stream",
     "text": [
      "[1] \"Accuracy = 0.84 %\"\n"
     ]
    }
   ],
   "source": [
    "# Fit the KNN model with the train set using 2 best predictors\n",
    "library(class)\n",
    "\n",
    "# k = 1\n",
    "set.seed(123)\n",
    "knn1_pred <- knn(train=train,\n",
    "                 test=test,\n",
    "                 cl=train$subscribe,\n",
    "                 k=1)\n",
    "\n",
    "# Confusion matrix\n",
    "print('Confusion matrix:')\n",
    "table(knn1_pred, test$subscribe)\n",
    "\n",
    "# Accuracy\n",
    "acc <- mean(knn1_pred == test$subscribe)\n",
    "print(paste('Accuracy =', round(acc, 2), '%'))"
   ]
  },
  {
   "cell_type": "code",
   "execution_count": 71,
   "id": "c03389ff",
   "metadata": {
    "vscode": {
     "languageId": "r"
    }
   },
   "outputs": [
    {
     "name": "stdout",
     "output_type": "stream",
     "text": [
      "[1] \"Confusion matrix:\"\n"
     ]
    },
    {
     "data": {
      "text/plain": [
       "         \n",
       "knn3_pred    0    1\n",
       "        0 3363  378\n",
       "        1  153  106"
      ]
     },
     "metadata": {},
     "output_type": "display_data"
    },
    {
     "name": "stdout",
     "output_type": "stream",
     "text": [
      "[1] \"Accuracy = 0.87 %\"\n"
     ]
    }
   ],
   "source": [
    "# k = 3\n",
    "set.seed(123)\n",
    "knn3_pred <- knn(train=train,\n",
    "                 test=test,\n",
    "                 cl=train$subscribe,\n",
    "                 k=3)\n",
    "\n",
    "# Confusion matrix\n",
    "print('Confusion matrix:')\n",
    "table(knn3_pred, test$subscribe)\n",
    "\n",
    "# Accuracy\n",
    "acc <- mean(knn3_pred == test$subscribe)\n",
    "print(paste('Accuracy =', round(acc, 2), '%'))"
   ]
  },
  {
   "cell_type": "code",
   "execution_count": 83,
   "id": "82cafc54",
   "metadata": {
    "vscode": {
     "languageId": "r"
    }
   },
   "outputs": [
    {
     "name": "stderr",
     "output_type": "stream",
     "text": [
      "Resampling: cross-validation\n",
      "\n",
      "Measures:             acc       \n",
      "\n",
      "[Resample] iter 1:    0.8431250 \n",
      "\n",
      "[Resample] iter 2:    0.8493750 \n",
      "\n",
      "[Resample] iter 3:    0.8443750 \n",
      "\n",
      "[Resample] iter 4:    0.8531250 \n",
      "\n",
      "[Resample] iter 5:    0.8193750 \n",
      "\n",
      "[Resample] iter 6:    0.8375000 \n",
      "\n",
      "[Resample] iter 7:    0.8443750 \n",
      "\n",
      "[Resample] iter 8:    0.8481250 \n",
      "\n",
      "[Resample] iter 9:    0.8493750 \n",
      "\n",
      "[Resample] iter 10:   0.8468750 \n",
      "\n",
      "\n",
      "\n",
      "\n",
      "Aggregated Result: acc.test.mean=0.8435625\n",
      "\n",
      "\n",
      "\n",
      "\n"
     ]
    },
    {
     "data": {
      "text/plain": [
       "Resample Result\n",
       "Task: student\n",
       "Learner: classif.kknn\n",
       "Aggr perf: acc.test.mean=0.8435625\n",
       "Runtime: 21.7467"
      ]
     },
     "metadata": {},
     "output_type": "display_data"
    }
   ],
   "source": [
    "# Set up cross-validation\n",
    "rdesc = makeResampleDesc(\"CV\", iters=10)\n",
    "\n",
    "# Define the model\n",
    "lnr_knn <- makeLearner(\"classif.kknn\", predict.type=\"prob\", fix.factors.prediction=T, k=1)\n",
    "\n",
    "# Define the task\n",
    "task_logreg <- makeClassifTask(id=\"student\", data=train, target=\"subscribe\")\n",
    "\n",
    "# Run the k-fold CV\n",
    "resample(lnr_knn, task_logreg, rdesc, measures=list(mlr::acc))"
   ]
  },
  {
   "cell_type": "code",
   "execution_count": 80,
   "id": "1c96c71c",
   "metadata": {
    "vscode": {
     "languageId": "r"
    }
   },
   "outputs": [
    {
     "data": {
      "text/html": [
       "<style>\n",
       ".list-inline {list-style: none; margin:0; padding: 0}\n",
       ".list-inline>li {display: inline-block}\n",
       ".list-inline>li:not(:last-child)::after {content: \"\\00b7\"; padding: 0 .5ex}\n",
       "</style>\n",
       "<ol class=list-inline><li>'client.id'</li><li>'campaign'</li><li>'pdays'</li><li>'previous'</li><li>'emp.var.rate'</li><li>'cons.price.idx'</li><li>'cons.conf.idx'</li><li>'euribor3m'</li><li>'nr.employed'</li><li>'job.admin.'</li><li>'job.blue.collar'</li><li>'job.entrepreneur'</li><li>'job.housemaid'</li><li>'job.management'</li><li>'job.retired'</li><li>'job.self.employed'</li><li>'job.services'</li><li>'job.student'</li><li>'job.technician'</li><li>'job.unemployed'</li><li>'job.unknown'</li><li>'marital.divorced'</li><li>'marital.married'</li><li>'marital.single'</li><li>'marital.unknown'</li><li>'education.basic.4y'</li><li>'education.basic.6y'</li><li>'education.basic.9y'</li><li>'education.high.school'</li><li>'education.illiterate'</li><li>'education.professional.course'</li><li>'education.university.degree'</li><li>'education.unknown'</li><li>'default.no'</li><li>'default.unknown'</li><li>'default.yes'</li><li>'housing.no'</li><li>'housing.unknown'</li><li>'housing.yes'</li><li>'loan.no'</li><li>'loan.unknown'</li><li>'loan.yes'</li><li>'contact.cellular'</li><li>'contact.telephone'</li><li>'contact.unknown'</li><li>'month.apr'</li><li>'month.aug'</li><li>'month.dec'</li><li>'month.jul'</li><li>'month.jun'</li><li>'month.mar'</li><li>'month.may'</li><li>'month.nov'</li><li>'month.oct'</li><li>'month.sep'</li><li>'month.unknown'</li><li>'day.of.week.fri'</li><li>'day.of.week.mon'</li><li>'day.of.week.thu'</li><li>'day.of.week.tue'</li><li>'day.of.week.unknown'</li><li>'day.of.week.wed'</li><li>'poutcome.failure'</li><li>'poutcome.nonexistent'</li><li>'poutcome.success'</li><li>'poutcome.unknown'</li><li>'age.group.10.20'</li><li>'age.group.20.30'</li><li>'age.group.30.40'</li><li>'age.group.40.50'</li><li>'age.group.50.60'</li><li>'age.group.60.70'</li><li>'age.group.70.80'</li><li>'age.group.80.90'</li><li>'age.group.90.100'</li><li>'campaign.missing'</li><li>'pdays.missing'</li><li>'previous.missing'</li><li>'emp.var.rate.missing'</li><li>'cons.price.idx.missing'</li><li>'cons.conf.idx.missing'</li><li>'euribor3m.missing'</li><li>'nr.employed.missing'</li><li>'subscribe'</li></ol>\n"
      ],
      "text/latex": [
       "\\begin{enumerate*}\n",
       "\\item 'client.id'\n",
       "\\item 'campaign'\n",
       "\\item 'pdays'\n",
       "\\item 'previous'\n",
       "\\item 'emp.var.rate'\n",
       "\\item 'cons.price.idx'\n",
       "\\item 'cons.conf.idx'\n",
       "\\item 'euribor3m'\n",
       "\\item 'nr.employed'\n",
       "\\item 'job.admin.'\n",
       "\\item 'job.blue.collar'\n",
       "\\item 'job.entrepreneur'\n",
       "\\item 'job.housemaid'\n",
       "\\item 'job.management'\n",
       "\\item 'job.retired'\n",
       "\\item 'job.self.employed'\n",
       "\\item 'job.services'\n",
       "\\item 'job.student'\n",
       "\\item 'job.technician'\n",
       "\\item 'job.unemployed'\n",
       "\\item 'job.unknown'\n",
       "\\item 'marital.divorced'\n",
       "\\item 'marital.married'\n",
       "\\item 'marital.single'\n",
       "\\item 'marital.unknown'\n",
       "\\item 'education.basic.4y'\n",
       "\\item 'education.basic.6y'\n",
       "\\item 'education.basic.9y'\n",
       "\\item 'education.high.school'\n",
       "\\item 'education.illiterate'\n",
       "\\item 'education.professional.course'\n",
       "\\item 'education.university.degree'\n",
       "\\item 'education.unknown'\n",
       "\\item 'default.no'\n",
       "\\item 'default.unknown'\n",
       "\\item 'default.yes'\n",
       "\\item 'housing.no'\n",
       "\\item 'housing.unknown'\n",
       "\\item 'housing.yes'\n",
       "\\item 'loan.no'\n",
       "\\item 'loan.unknown'\n",
       "\\item 'loan.yes'\n",
       "\\item 'contact.cellular'\n",
       "\\item 'contact.telephone'\n",
       "\\item 'contact.unknown'\n",
       "\\item 'month.apr'\n",
       "\\item 'month.aug'\n",
       "\\item 'month.dec'\n",
       "\\item 'month.jul'\n",
       "\\item 'month.jun'\n",
       "\\item 'month.mar'\n",
       "\\item 'month.may'\n",
       "\\item 'month.nov'\n",
       "\\item 'month.oct'\n",
       "\\item 'month.sep'\n",
       "\\item 'month.unknown'\n",
       "\\item 'day.of.week.fri'\n",
       "\\item 'day.of.week.mon'\n",
       "\\item 'day.of.week.thu'\n",
       "\\item 'day.of.week.tue'\n",
       "\\item 'day.of.week.unknown'\n",
       "\\item 'day.of.week.wed'\n",
       "\\item 'poutcome.failure'\n",
       "\\item 'poutcome.nonexistent'\n",
       "\\item 'poutcome.success'\n",
       "\\item 'poutcome.unknown'\n",
       "\\item 'age.group.10.20'\n",
       "\\item 'age.group.20.30'\n",
       "\\item 'age.group.30.40'\n",
       "\\item 'age.group.40.50'\n",
       "\\item 'age.group.50.60'\n",
       "\\item 'age.group.60.70'\n",
       "\\item 'age.group.70.80'\n",
       "\\item 'age.group.80.90'\n",
       "\\item 'age.group.90.100'\n",
       "\\item 'campaign.missing'\n",
       "\\item 'pdays.missing'\n",
       "\\item 'previous.missing'\n",
       "\\item 'emp.var.rate.missing'\n",
       "\\item 'cons.price.idx.missing'\n",
       "\\item 'cons.conf.idx.missing'\n",
       "\\item 'euribor3m.missing'\n",
       "\\item 'nr.employed.missing'\n",
       "\\item 'subscribe'\n",
       "\\end{enumerate*}\n"
      ],
      "text/markdown": [
       "1. 'client.id'\n",
       "2. 'campaign'\n",
       "3. 'pdays'\n",
       "4. 'previous'\n",
       "5. 'emp.var.rate'\n",
       "6. 'cons.price.idx'\n",
       "7. 'cons.conf.idx'\n",
       "8. 'euribor3m'\n",
       "9. 'nr.employed'\n",
       "10. 'job.admin.'\n",
       "11. 'job.blue.collar'\n",
       "12. 'job.entrepreneur'\n",
       "13. 'job.housemaid'\n",
       "14. 'job.management'\n",
       "15. 'job.retired'\n",
       "16. 'job.self.employed'\n",
       "17. 'job.services'\n",
       "18. 'job.student'\n",
       "19. 'job.technician'\n",
       "20. 'job.unemployed'\n",
       "21. 'job.unknown'\n",
       "22. 'marital.divorced'\n",
       "23. 'marital.married'\n",
       "24. 'marital.single'\n",
       "25. 'marital.unknown'\n",
       "26. 'education.basic.4y'\n",
       "27. 'education.basic.6y'\n",
       "28. 'education.basic.9y'\n",
       "29. 'education.high.school'\n",
       "30. 'education.illiterate'\n",
       "31. 'education.professional.course'\n",
       "32. 'education.university.degree'\n",
       "33. 'education.unknown'\n",
       "34. 'default.no'\n",
       "35. 'default.unknown'\n",
       "36. 'default.yes'\n",
       "37. 'housing.no'\n",
       "38. 'housing.unknown'\n",
       "39. 'housing.yes'\n",
       "40. 'loan.no'\n",
       "41. 'loan.unknown'\n",
       "42. 'loan.yes'\n",
       "43. 'contact.cellular'\n",
       "44. 'contact.telephone'\n",
       "45. 'contact.unknown'\n",
       "46. 'month.apr'\n",
       "47. 'month.aug'\n",
       "48. 'month.dec'\n",
       "49. 'month.jul'\n",
       "50. 'month.jun'\n",
       "51. 'month.mar'\n",
       "52. 'month.may'\n",
       "53. 'month.nov'\n",
       "54. 'month.oct'\n",
       "55. 'month.sep'\n",
       "56. 'month.unknown'\n",
       "57. 'day.of.week.fri'\n",
       "58. 'day.of.week.mon'\n",
       "59. 'day.of.week.thu'\n",
       "60. 'day.of.week.tue'\n",
       "61. 'day.of.week.unknown'\n",
       "62. 'day.of.week.wed'\n",
       "63. 'poutcome.failure'\n",
       "64. 'poutcome.nonexistent'\n",
       "65. 'poutcome.success'\n",
       "66. 'poutcome.unknown'\n",
       "67. 'age.group.10.20'\n",
       "68. 'age.group.20.30'\n",
       "69. 'age.group.30.40'\n",
       "70. 'age.group.40.50'\n",
       "71. 'age.group.50.60'\n",
       "72. 'age.group.60.70'\n",
       "73. 'age.group.70.80'\n",
       "74. 'age.group.80.90'\n",
       "75. 'age.group.90.100'\n",
       "76. 'campaign.missing'\n",
       "77. 'pdays.missing'\n",
       "78. 'previous.missing'\n",
       "79. 'emp.var.rate.missing'\n",
       "80. 'cons.price.idx.missing'\n",
       "81. 'cons.conf.idx.missing'\n",
       "82. 'euribor3m.missing'\n",
       "83. 'nr.employed.missing'\n",
       "84. 'subscribe'\n",
       "\n",
       "\n"
      ],
      "text/plain": [
       " [1] \"client.id\"                     \"campaign\"                     \n",
       " [3] \"pdays\"                         \"previous\"                     \n",
       " [5] \"emp.var.rate\"                  \"cons.price.idx\"               \n",
       " [7] \"cons.conf.idx\"                 \"euribor3m\"                    \n",
       " [9] \"nr.employed\"                   \"job.admin.\"                   \n",
       "[11] \"job.blue.collar\"               \"job.entrepreneur\"             \n",
       "[13] \"job.housemaid\"                 \"job.management\"               \n",
       "[15] \"job.retired\"                   \"job.self.employed\"            \n",
       "[17] \"job.services\"                  \"job.student\"                  \n",
       "[19] \"job.technician\"                \"job.unemployed\"               \n",
       "[21] \"job.unknown\"                   \"marital.divorced\"             \n",
       "[23] \"marital.married\"               \"marital.single\"               \n",
       "[25] \"marital.unknown\"               \"education.basic.4y\"           \n",
       "[27] \"education.basic.6y\"            \"education.basic.9y\"           \n",
       "[29] \"education.high.school\"         \"education.illiterate\"         \n",
       "[31] \"education.professional.course\" \"education.university.degree\"  \n",
       "[33] \"education.unknown\"             \"default.no\"                   \n",
       "[35] \"default.unknown\"               \"default.yes\"                  \n",
       "[37] \"housing.no\"                    \"housing.unknown\"              \n",
       "[39] \"housing.yes\"                   \"loan.no\"                      \n",
       "[41] \"loan.unknown\"                  \"loan.yes\"                     \n",
       "[43] \"contact.cellular\"              \"contact.telephone\"            \n",
       "[45] \"contact.unknown\"               \"month.apr\"                    \n",
       "[47] \"month.aug\"                     \"month.dec\"                    \n",
       "[49] \"month.jul\"                     \"month.jun\"                    \n",
       "[51] \"month.mar\"                     \"month.may\"                    \n",
       "[53] \"month.nov\"                     \"month.oct\"                    \n",
       "[55] \"month.sep\"                     \"month.unknown\"                \n",
       "[57] \"day.of.week.fri\"               \"day.of.week.mon\"              \n",
       "[59] \"day.of.week.thu\"               \"day.of.week.tue\"              \n",
       "[61] \"day.of.week.unknown\"           \"day.of.week.wed\"              \n",
       "[63] \"poutcome.failure\"              \"poutcome.nonexistent\"         \n",
       "[65] \"poutcome.success\"              \"poutcome.unknown\"             \n",
       "[67] \"age.group.10.20\"               \"age.group.20.30\"              \n",
       "[69] \"age.group.30.40\"               \"age.group.40.50\"              \n",
       "[71] \"age.group.50.60\"               \"age.group.60.70\"              \n",
       "[73] \"age.group.70.80\"               \"age.group.80.90\"              \n",
       "[75] \"age.group.90.100\"              \"campaign.missing\"             \n",
       "[77] \"pdays.missing\"                 \"previous.missing\"             \n",
       "[79] \"emp.var.rate.missing\"          \"cons.price.idx.missing\"       \n",
       "[81] \"cons.conf.idx.missing\"         \"euribor3m.missing\"            \n",
       "[83] \"nr.employed.missing\"           \"subscribe\"                    "
      ]
     },
     "metadata": {},
     "output_type": "display_data"
    }
   ],
   "source": [
    "names(train)"
   ]
  },
  {
   "cell_type": "code",
   "execution_count": 77,
   "id": "7ce09923",
   "metadata": {
    "vscode": {
     "languageId": "r"
    }
   },
   "outputs": [],
   "source": []
  },
  {
   "cell_type": "code",
   "execution_count": 84,
   "id": "fe054c6a",
   "metadata": {
    "vscode": {
     "languageId": "r"
    }
   },
   "outputs": [
    {
     "name": "stderr",
     "output_type": "stream",
     "text": [
      "Resampling: cross-validation\n",
      "\n",
      "Measures:             acc       \n",
      "\n",
      "[Resample] iter 1:    0.8481250 \n",
      "\n",
      "[Resample] iter 2:    0.8437500 \n",
      "\n",
      "[Resample] iter 3:    0.8293750 \n",
      "\n",
      "[Resample] iter 4:    0.8412500 \n",
      "\n",
      "[Resample] iter 5:    0.8350000 \n",
      "\n",
      "[Resample] iter 6:    0.8431250 \n",
      "\n",
      "[Resample] iter 7:    0.8431250 \n",
      "\n",
      "[Resample] iter 8:    0.8468750 \n",
      "\n",
      "[Resample] iter 9:    0.8418750 \n",
      "\n",
      "[Resample] iter 10:   0.8412500 \n",
      "\n",
      "\n",
      "\n",
      "\n",
      "Aggregated Result: acc.test.mean=0.8413750\n",
      "\n",
      "\n",
      "\n",
      "\n"
     ]
    },
    {
     "data": {
      "text/plain": [
       "Resample Result\n",
       "Task: student\n",
       "Learner: classif.kknn\n",
       "Aggr perf: acc.test.mean=0.8413750\n",
       "Runtime: 27.5089"
      ]
     },
     "metadata": {},
     "output_type": "display_data"
    }
   ],
   "source": [
    "# Set up cross-validation\n",
    "rdesc = makeResampleDesc(\"CV\", iters=10)\n",
    "\n",
    "# Define the model\n",
    "lnr_knn <- makeLearner(\"classif.kknn\", predict.type=\"prob\", fix.factors.prediction=T, k=3)\n",
    "\n",
    "# Define the task\n",
    "task_logreg <- makeClassifTask(id=\"student\", data=train, target=\"subscribe\")\n",
    "\n",
    "# Run the k-fold CV\n",
    "resample(lnr_knn, task_logreg, rdesc, measures=list(mlr::acc))"
   ]
  },
  {
   "cell_type": "code",
   "execution_count": 112,
   "id": "a5101fc4",
   "metadata": {
    "vscode": {
     "languageId": "r"
    }
   },
   "outputs": [
    {
     "name": "stdout",
     "output_type": "stream",
     "text": [
      "spec_tbl_df [16,000 x 84] (S3: spec_tbl_df/tbl_df/tbl/data.frame)\n",
      " $ ...1                         : num [1:16000] 5894 3728 8958 7671 5999 ...\n",
      " $ client_id                    : num [1:16000] 22764 38348 6856 171 20827 ...\n",
      " $ campaign                     : num [1:16000] 1 1 1 2 2 2 4 3 5 1 ...\n",
      " $ pdays                        : num [1:16000] 999 999 999 999 999 999 999 999 999 999 ...\n",
      " $ previous                     : num [1:16000] 2 0 0 0 0 0 0 0 0 0 ...\n",
      " $ emp.var.rate                 : num [1:16000] -2.9 -1.7 1.4 -1.8 -1.8 1.1 1.4 1.4 1.4 1.4 ...\n",
      " $ cons.price.idx               : num [1:16000] 92.2 94.1 93.9 92.9 93.1 ...\n",
      " $ cons.conf.idx                : num [1:16000] -31.4 -39.8 -42.7 -46.2 -47.1 -36.4 -41.8 -36.1 -42.7 -41.8 ...\n",
      " $ euribor3m                    : num [1:16000] 0.843 0.729 4.961 1.266 1.445 ...\n",
      " $ nr.employed                  : num [1:16000] 5076 4992 5228 5099 5099 ...\n",
      " $ job_admin.                   : num [1:16000] 1 0 1 0 1 1 0 0 1 0 ...\n",
      " $ job_blue-collar              : num [1:16000] 0 0 0 1 0 0 1 0 0 0 ...\n",
      " $ job_entrepreneur             : num [1:16000] 0 0 0 0 0 0 0 0 0 1 ...\n",
      " $ job_housemaid                : num [1:16000] 0 0 0 0 0 0 0 0 0 0 ...\n",
      " $ job_management               : num [1:16000] 0 0 0 0 0 0 0 0 0 0 ...\n",
      " $ job_retired                  : num [1:16000] 0 0 0 0 0 0 0 0 0 0 ...\n",
      " $ job_self-employed            : num [1:16000] 0 0 0 0 0 0 0 0 0 0 ...\n",
      " $ job_services                 : num [1:16000] 0 0 0 0 0 0 0 0 0 0 ...\n",
      " $ job_student                  : num [1:16000] 0 0 0 0 0 0 0 0 0 0 ...\n",
      " $ job_technician               : num [1:16000] 0 1 0 0 0 0 0 1 0 0 ...\n",
      " $ job_unemployed               : num [1:16000] 0 0 0 0 0 0 0 0 0 0 ...\n",
      " $ job_unknown                  : num [1:16000] 0 0 0 0 0 0 0 0 0 0 ...\n",
      " $ marital_divorced             : num [1:16000] 0 1 0 0 1 0 0 0 1 0 ...\n",
      " $ marital_married              : num [1:16000] 1 0 1 1 0 0 1 1 0 1 ...\n",
      " $ marital_single               : num [1:16000] 0 0 0 0 0 1 0 0 0 0 ...\n",
      " $ marital_unknown              : num [1:16000] 0 0 0 0 0 0 0 0 0 0 ...\n",
      " $ education_basic.4y           : num [1:16000] 0 0 0 0 0 0 0 0 0 0 ...\n",
      " $ education_basic.6y           : num [1:16000] 0 0 0 0 0 0 0 0 0 0 ...\n",
      " $ education_basic.9y           : num [1:16000] 0 0 0 1 0 1 1 0 0 0 ...\n",
      " $ education_high.school        : num [1:16000] 0 0 1 0 0 0 0 0 0 0 ...\n",
      " $ education_illiterate         : num [1:16000] 0 0 0 0 0 0 0 0 0 0 ...\n",
      " $ education_professional.course: num [1:16000] 0 1 0 0 0 0 0 1 0 0 ...\n",
      " $ education_university.degree  : num [1:16000] 1 0 0 0 1 0 0 0 1 0 ...\n",
      " $ education_unknown            : num [1:16000] 0 0 0 0 0 0 0 0 0 1 ...\n",
      " $ default_no                   : num [1:16000] 1 1 1 1 1 1 1 0 1 0 ...\n",
      " $ default_unknown              : num [1:16000] 0 0 0 0 0 0 0 1 0 1 ...\n",
      " $ default_yes                  : num [1:16000] 0 0 0 0 0 0 0 0 0 0 ...\n",
      " $ housing_no                   : num [1:16000] 0 0 0 0 1 1 0 0 0 0 ...\n",
      " $ housing_unknown              : num [1:16000] 0 0 0 0 0 0 0 0 0 0 ...\n",
      " $ housing_yes                  : num [1:16000] 1 1 1 1 0 0 1 1 1 1 ...\n",
      " $ loan_no                      : num [1:16000] 1 0 1 1 1 1 1 1 1 1 ...\n",
      " $ loan_unknown                 : num [1:16000] 0 0 0 0 0 0 0 0 0 0 ...\n",
      " $ loan_yes                     : num [1:16000] 0 1 0 0 0 0 0 0 0 0 ...\n",
      " $ contact_cellular             : num [1:16000] 1 0 1 1 1 0 0 1 1 0 ...\n",
      " $ contact_telephone            : num [1:16000] 0 1 0 0 0 1 1 0 0 1 ...\n",
      " $ contact_unknown              : num [1:16000] 0 0 0 0 0 0 0 0 0 0 ...\n",
      " $ month_apr                    : num [1:16000] 0 0 0 0 1 0 0 0 0 0 ...\n",
      " $ month_aug                    : num [1:16000] 1 0 0 0 0 0 0 1 0 0 ...\n",
      " $ month_dec                    : num [1:16000] 0 0 0 0 0 0 0 0 0 0 ...\n",
      " $ month_jul                    : num [1:16000] 0 0 1 0 0 0 0 0 1 0 ...\n",
      " $ month_jun                    : num [1:16000] 0 1 0 0 0 0 1 0 0 1 ...\n",
      " $ month_mar                    : num [1:16000] 0 0 0 0 0 0 0 0 0 0 ...\n",
      " $ month_may                    : num [1:16000] 0 0 0 1 0 1 0 0 0 0 ...\n",
      " $ month_nov                    : num [1:16000] 0 0 0 0 0 0 0 0 0 0 ...\n",
      " $ month_oct                    : num [1:16000] 0 0 0 0 0 0 0 0 0 0 ...\n",
      " $ month_sep                    : num [1:16000] 0 0 0 0 0 0 0 0 0 0 ...\n",
      " $ month_unknown                : num [1:16000] 0 0 0 0 0 0 0 0 0 0 ...\n",
      " $ day_of_week_fri              : num [1:16000] 0 0 0 0 0 1 0 0 0 1 ...\n",
      " $ day_of_week_mon              : num [1:16000] 1 0 0 0 0 0 1 0 1 0 ...\n",
      " $ day_of_week_thu              : num [1:16000] 0 1 0 1 0 0 0 1 0 0 ...\n",
      " $ day_of_week_tue              : num [1:16000] 0 0 1 0 0 0 0 0 0 0 ...\n",
      " $ day_of_week_unknown          : num [1:16000] 0 0 0 0 0 0 0 0 0 0 ...\n",
      " $ day_of_week_wed              : num [1:16000] 0 0 0 0 1 0 0 0 0 0 ...\n",
      " $ poutcome_failure             : num [1:16000] 1 0 0 0 0 0 0 0 0 0 ...\n",
      " $ poutcome_nonexistent         : num [1:16000] 0 1 1 1 1 1 1 1 1 1 ...\n",
      " $ poutcome_success             : num [1:16000] 0 0 0 0 0 0 0 0 0 0 ...\n",
      " $ poutcome_unknown             : num [1:16000] 0 0 0 0 0 0 0 0 0 0 ...\n",
      " $ age-group_10-20              : num [1:16000] 0 0 0 0 0 0 0 0 0 0 ...\n",
      " $ age-group_20-30              : num [1:16000] 0 1 0 1 0 0 0 0 0 0 ...\n",
      " $ age-group_30-40              : num [1:16000] 1 0 0 0 1 1 1 0 0 0 ...\n",
      " $ age-group_40-50              : num [1:16000] 0 0 1 0 0 0 0 1 0 1 ...\n",
      " $ age-group_50-60              : num [1:16000] 0 0 0 0 0 0 0 0 1 0 ...\n",
      " $ age-group_60-70              : num [1:16000] 0 0 0 0 0 0 0 0 0 0 ...\n",
      " $ age-group_70-80              : num [1:16000] 0 0 0 0 0 0 0 0 0 0 ...\n",
      " $ age-group_80-90              : num [1:16000] 0 0 0 0 0 0 0 0 0 0 ...\n",
      " $ age-group_90-100             : num [1:16000] 0 0 0 0 0 0 0 0 0 0 ...\n",
      " $ campaign_missing             : num [1:16000] 0 0 0 0 0 0 0 0 0 0 ...\n",
      " $ pdays_missing                : num [1:16000] 0 0 0 0 0 0 0 0 0 0 ...\n",
      " $ previous_missing             : num [1:16000] 0 0 0 0 0 0 0 0 0 0 ...\n",
      " $ emp.var.rate_missing         : num [1:16000] 0 0 0 0 0 0 0 0 0 0 ...\n",
      " $ cons.price.idx_missing       : num [1:16000] 0 0 0 0 0 0 0 0 0 0 ...\n",
      " $ cons.conf.idx_missing        : num [1:16000] 0 0 0 0 0 0 0 0 0 0 ...\n",
      " $ euribor3m_missing            : num [1:16000] 0 0 0 0 0 0 0 0 0 0 ...\n",
      " $ nr.employed_missing          : num [1:16000] 0 0 0 0 0 0 0 0 0 0 ...\n",
      " - attr(*, \"spec\")=\n",
      "  .. cols(\n",
      "  ..   ...1 = \u001b[32mcol_double()\u001b[39m,\n",
      "  ..   client_id = \u001b[32mcol_double()\u001b[39m,\n",
      "  ..   campaign = \u001b[32mcol_double()\u001b[39m,\n",
      "  ..   pdays = \u001b[32mcol_double()\u001b[39m,\n",
      "  ..   previous = \u001b[32mcol_double()\u001b[39m,\n",
      "  ..   emp.var.rate = \u001b[32mcol_double()\u001b[39m,\n",
      "  ..   cons.price.idx = \u001b[32mcol_double()\u001b[39m,\n",
      "  ..   cons.conf.idx = \u001b[32mcol_double()\u001b[39m,\n",
      "  ..   euribor3m = \u001b[32mcol_double()\u001b[39m,\n",
      "  ..   nr.employed = \u001b[32mcol_double()\u001b[39m,\n",
      "  ..   job_admin. = \u001b[32mcol_double()\u001b[39m,\n",
      "  ..   `job_blue-collar` = \u001b[32mcol_double()\u001b[39m,\n",
      "  ..   job_entrepreneur = \u001b[32mcol_double()\u001b[39m,\n",
      "  ..   job_housemaid = \u001b[32mcol_double()\u001b[39m,\n",
      "  ..   job_management = \u001b[32mcol_double()\u001b[39m,\n",
      "  ..   job_retired = \u001b[32mcol_double()\u001b[39m,\n",
      "  ..   `job_self-employed` = \u001b[32mcol_double()\u001b[39m,\n",
      "  ..   job_services = \u001b[32mcol_double()\u001b[39m,\n",
      "  ..   job_student = \u001b[32mcol_double()\u001b[39m,\n",
      "  ..   job_technician = \u001b[32mcol_double()\u001b[39m,\n",
      "  ..   job_unemployed = \u001b[32mcol_double()\u001b[39m,\n",
      "  ..   job_unknown = \u001b[32mcol_double()\u001b[39m,\n",
      "  ..   marital_divorced = \u001b[32mcol_double()\u001b[39m,\n",
      "  ..   marital_married = \u001b[32mcol_double()\u001b[39m,\n",
      "  ..   marital_single = \u001b[32mcol_double()\u001b[39m,\n",
      "  ..   marital_unknown = \u001b[32mcol_double()\u001b[39m,\n",
      "  ..   education_basic.4y = \u001b[32mcol_double()\u001b[39m,\n",
      "  ..   education_basic.6y = \u001b[32mcol_double()\u001b[39m,\n",
      "  ..   education_basic.9y = \u001b[32mcol_double()\u001b[39m,\n",
      "  ..   education_high.school = \u001b[32mcol_double()\u001b[39m,\n",
      "  ..   education_illiterate = \u001b[32mcol_double()\u001b[39m,\n",
      "  ..   education_professional.course = \u001b[32mcol_double()\u001b[39m,\n",
      "  ..   education_university.degree = \u001b[32mcol_double()\u001b[39m,\n",
      "  ..   education_unknown = \u001b[32mcol_double()\u001b[39m,\n",
      "  ..   default_no = \u001b[32mcol_double()\u001b[39m,\n",
      "  ..   default_unknown = \u001b[32mcol_double()\u001b[39m,\n",
      "  ..   default_yes = \u001b[32mcol_double()\u001b[39m,\n",
      "  ..   housing_no = \u001b[32mcol_double()\u001b[39m,\n",
      "  ..   housing_unknown = \u001b[32mcol_double()\u001b[39m,\n",
      "  ..   housing_yes = \u001b[32mcol_double()\u001b[39m,\n",
      "  ..   loan_no = \u001b[32mcol_double()\u001b[39m,\n",
      "  ..   loan_unknown = \u001b[32mcol_double()\u001b[39m,\n",
      "  ..   loan_yes = \u001b[32mcol_double()\u001b[39m,\n",
      "  ..   contact_cellular = \u001b[32mcol_double()\u001b[39m,\n",
      "  ..   contact_telephone = \u001b[32mcol_double()\u001b[39m,\n",
      "  ..   contact_unknown = \u001b[32mcol_double()\u001b[39m,\n",
      "  ..   month_apr = \u001b[32mcol_double()\u001b[39m,\n",
      "  ..   month_aug = \u001b[32mcol_double()\u001b[39m,\n",
      "  ..   month_dec = \u001b[32mcol_double()\u001b[39m,\n",
      "  ..   month_jul = \u001b[32mcol_double()\u001b[39m,\n",
      "  ..   month_jun = \u001b[32mcol_double()\u001b[39m,\n",
      "  ..   month_mar = \u001b[32mcol_double()\u001b[39m,\n",
      "  ..   month_may = \u001b[32mcol_double()\u001b[39m,\n",
      "  ..   month_nov = \u001b[32mcol_double()\u001b[39m,\n",
      "  ..   month_oct = \u001b[32mcol_double()\u001b[39m,\n",
      "  ..   month_sep = \u001b[32mcol_double()\u001b[39m,\n",
      "  ..   month_unknown = \u001b[32mcol_double()\u001b[39m,\n",
      "  ..   day_of_week_fri = \u001b[32mcol_double()\u001b[39m,\n",
      "  ..   day_of_week_mon = \u001b[32mcol_double()\u001b[39m,\n",
      "  ..   day_of_week_thu = \u001b[32mcol_double()\u001b[39m,\n",
      "  ..   day_of_week_tue = \u001b[32mcol_double()\u001b[39m,\n",
      "  ..   day_of_week_unknown = \u001b[32mcol_double()\u001b[39m,\n",
      "  ..   day_of_week_wed = \u001b[32mcol_double()\u001b[39m,\n",
      "  ..   poutcome_failure = \u001b[32mcol_double()\u001b[39m,\n",
      "  ..   poutcome_nonexistent = \u001b[32mcol_double()\u001b[39m,\n",
      "  ..   poutcome_success = \u001b[32mcol_double()\u001b[39m,\n",
      "  ..   poutcome_unknown = \u001b[32mcol_double()\u001b[39m,\n",
      "  ..   `age-group_10-20` = \u001b[32mcol_double()\u001b[39m,\n",
      "  ..   `age-group_20-30` = \u001b[32mcol_double()\u001b[39m,\n",
      "  ..   `age-group_30-40` = \u001b[32mcol_double()\u001b[39m,\n",
      "  ..   `age-group_40-50` = \u001b[32mcol_double()\u001b[39m,\n",
      "  ..   `age-group_50-60` = \u001b[32mcol_double()\u001b[39m,\n",
      "  ..   `age-group_60-70` = \u001b[32mcol_double()\u001b[39m,\n",
      "  ..   `age-group_70-80` = \u001b[32mcol_double()\u001b[39m,\n",
      "  ..   `age-group_80-90` = \u001b[32mcol_double()\u001b[39m,\n",
      "  ..   `age-group_90-100` = \u001b[32mcol_double()\u001b[39m,\n",
      "  ..   campaign_missing = \u001b[32mcol_double()\u001b[39m,\n",
      "  ..   pdays_missing = \u001b[32mcol_double()\u001b[39m,\n",
      "  ..   previous_missing = \u001b[32mcol_double()\u001b[39m,\n",
      "  ..   emp.var.rate_missing = \u001b[32mcol_double()\u001b[39m,\n",
      "  ..   cons.price.idx_missing = \u001b[32mcol_double()\u001b[39m,\n",
      "  ..   cons.conf.idx_missing = \u001b[32mcol_double()\u001b[39m,\n",
      "  ..   euribor3m_missing = \u001b[32mcol_double()\u001b[39m,\n",
      "  ..   nr.employed_missing = \u001b[32mcol_double()\u001b[39m\n",
      "  .. )\n",
      " - attr(*, \"problems\")=<externalptr> \n"
     ]
    }
   ],
   "source": [
    "str(X_train)"
   ]
  },
  {
   "cell_type": "code",
   "execution_count": 113,
   "id": "7bc649aa",
   "metadata": {
    "vscode": {
     "languageId": "r"
    }
   },
   "outputs": [],
   "source": [
    "# Make prediction using other SVC model\n",
    "md_svc <- svm(subscribe ~ ., data=train, kernel='linear', cost=0.01, scale=F)\n"
   ]
  },
  {
   "cell_type": "code",
   "execution_count": 115,
   "id": "2bfd9924",
   "metadata": {
    "vscode": {
     "languageId": "r"
    }
   },
   "outputs": [
    {
     "ename": "ERROR",
     "evalue": "Error in table(predict = ypred, truth = y_test): all arguments must have the same length\n",
     "output_type": "error",
     "traceback": [
      "Error in table(predict = ypred, truth = y_test): all arguments must have the same length\nTraceback:\n",
      "1. table(predict = ypred, truth = y_test)",
      "2. stop(\"all arguments must have the same length\")"
     ]
    }
   ],
   "source": [
    "ypred <- predict(md_svc, X_test)\n",
    "table(predict=ypred, truth=y_test)"
   ]
  },
  {
   "cell_type": "code",
   "execution_count": null,
   "id": "5101d8cf",
   "metadata": {
    "vscode": {
     "languageId": "r"
    }
   },
   "outputs": [],
   "source": []
  }
 ],
 "metadata": {
  "kernelspec": {
   "display_name": "R",
   "language": "R",
   "name": "ir"
  },
  "language_info": {
   "codemirror_mode": "r",
   "file_extension": ".r",
   "mimetype": "text/x-r-source",
   "name": "R",
   "pygments_lexer": "r",
   "version": "4.0.5"
  }
 },
 "nbformat": 4,
 "nbformat_minor": 5
}
