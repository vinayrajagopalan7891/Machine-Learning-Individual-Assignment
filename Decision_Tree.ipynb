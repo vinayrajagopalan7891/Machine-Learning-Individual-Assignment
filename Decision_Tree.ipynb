{
 "cells": [
  {
   "cell_type": "markdown",
   "metadata": {},
   "source": [
    "Importing Libraries"
   ]
  },
  {
   "cell_type": "code",
   "execution_count": 505,
   "metadata": {},
   "outputs": [],
   "source": [
    "import pandas as pd\n",
    "import numpy as np\n",
    "import seaborn as sns\n",
    "from sklearn.model_selection import train_test_split\n",
    "from sklearn.tree import DecisionTreeClassifier\n",
    "from sklearn.metrics import accuracy_score\n",
    "from sklearn.metrics import roc_auc_score\n",
    "import matplotlib.pyplot as plt\n"
   ]
  },
  {
   "cell_type": "markdown",
   "metadata": {},
   "source": [
    "Initialising Data"
   ]
  },
  {
   "cell_type": "code",
   "execution_count": 506,
   "metadata": {},
   "outputs": [],
   "source": [
    "data =  pd.read_csv('./Data/basetable.csv')"
   ]
  },
  {
   "cell_type": "code",
   "execution_count": 507,
   "metadata": {},
   "outputs": [
    {
     "data": {
      "text/html": [
       "<div>\n",
       "<style scoped>\n",
       "    .dataframe tbody tr th:only-of-type {\n",
       "        vertical-align: middle;\n",
       "    }\n",
       "\n",
       "    .dataframe tbody tr th {\n",
       "        vertical-align: top;\n",
       "    }\n",
       "\n",
       "    .dataframe thead th {\n",
       "        text-align: right;\n",
       "    }\n",
       "</style>\n",
       "<table border=\"1\" class=\"dataframe\">\n",
       "  <thead>\n",
       "    <tr style=\"text-align: right;\">\n",
       "      <th></th>\n",
       "      <th>campaign</th>\n",
       "      <th>pdays</th>\n",
       "      <th>previous</th>\n",
       "      <th>emp.var.rate</th>\n",
       "      <th>cons.price.idx</th>\n",
       "      <th>cons.conf.idx</th>\n",
       "      <th>euribor3m</th>\n",
       "      <th>nr.employed</th>\n",
       "      <th>subscribe</th>\n",
       "      <th>job_admin.</th>\n",
       "      <th>...</th>\n",
       "      <th>age-group_80-90</th>\n",
       "      <th>age-group_90-100</th>\n",
       "      <th>campaign_missing</th>\n",
       "      <th>pdays_missing</th>\n",
       "      <th>previous_missing</th>\n",
       "      <th>emp.var.rate_missing</th>\n",
       "      <th>cons.price.idx_missing</th>\n",
       "      <th>cons.conf.idx_missing</th>\n",
       "      <th>euribor3m_missing</th>\n",
       "      <th>nr.employed_missing</th>\n",
       "    </tr>\n",
       "  </thead>\n",
       "  <tbody>\n",
       "    <tr>\n",
       "      <th>0</th>\n",
       "      <td>1.0</td>\n",
       "      <td>999.0</td>\n",
       "      <td>0.0</td>\n",
       "      <td>1.4</td>\n",
       "      <td>93.918</td>\n",
       "      <td>-42.7</td>\n",
       "      <td>4.968</td>\n",
       "      <td>5228.1</td>\n",
       "      <td>0</td>\n",
       "      <td>0</td>\n",
       "      <td>...</td>\n",
       "      <td>0</td>\n",
       "      <td>0</td>\n",
       "      <td>0</td>\n",
       "      <td>0</td>\n",
       "      <td>0</td>\n",
       "      <td>0</td>\n",
       "      <td>0</td>\n",
       "      <td>0</td>\n",
       "      <td>0</td>\n",
       "      <td>0</td>\n",
       "    </tr>\n",
       "    <tr>\n",
       "      <th>1</th>\n",
       "      <td>4.0</td>\n",
       "      <td>999.0</td>\n",
       "      <td>0.0</td>\n",
       "      <td>1.4</td>\n",
       "      <td>94.465</td>\n",
       "      <td>-41.8</td>\n",
       "      <td>4.960</td>\n",
       "      <td>5228.1</td>\n",
       "      <td>0</td>\n",
       "      <td>0</td>\n",
       "      <td>...</td>\n",
       "      <td>0</td>\n",
       "      <td>0</td>\n",
       "      <td>0</td>\n",
       "      <td>0</td>\n",
       "      <td>0</td>\n",
       "      <td>0</td>\n",
       "      <td>0</td>\n",
       "      <td>0</td>\n",
       "      <td>0</td>\n",
       "      <td>0</td>\n",
       "    </tr>\n",
       "    <tr>\n",
       "      <th>2</th>\n",
       "      <td>1.0</td>\n",
       "      <td>999.0</td>\n",
       "      <td>0.0</td>\n",
       "      <td>-1.8</td>\n",
       "      <td>92.893</td>\n",
       "      <td>-46.2</td>\n",
       "      <td>1.264</td>\n",
       "      <td>5099.1</td>\n",
       "      <td>0</td>\n",
       "      <td>0</td>\n",
       "      <td>...</td>\n",
       "      <td>0</td>\n",
       "      <td>0</td>\n",
       "      <td>0</td>\n",
       "      <td>0</td>\n",
       "      <td>0</td>\n",
       "      <td>0</td>\n",
       "      <td>0</td>\n",
       "      <td>0</td>\n",
       "      <td>0</td>\n",
       "      <td>0</td>\n",
       "    </tr>\n",
       "    <tr>\n",
       "      <th>3</th>\n",
       "      <td>1.0</td>\n",
       "      <td>999.0</td>\n",
       "      <td>0.0</td>\n",
       "      <td>-1.8</td>\n",
       "      <td>93.075</td>\n",
       "      <td>-47.1</td>\n",
       "      <td>1.453</td>\n",
       "      <td>5099.1</td>\n",
       "      <td>0</td>\n",
       "      <td>0</td>\n",
       "      <td>...</td>\n",
       "      <td>0</td>\n",
       "      <td>0</td>\n",
       "      <td>0</td>\n",
       "      <td>0</td>\n",
       "      <td>0</td>\n",
       "      <td>0</td>\n",
       "      <td>0</td>\n",
       "      <td>0</td>\n",
       "      <td>0</td>\n",
       "      <td>0</td>\n",
       "    </tr>\n",
       "    <tr>\n",
       "      <th>4</th>\n",
       "      <td>1.0</td>\n",
       "      <td>999.0</td>\n",
       "      <td>0.0</td>\n",
       "      <td>1.1</td>\n",
       "      <td>93.994</td>\n",
       "      <td>-36.4</td>\n",
       "      <td>4.859</td>\n",
       "      <td>5191.0</td>\n",
       "      <td>0</td>\n",
       "      <td>0</td>\n",
       "      <td>...</td>\n",
       "      <td>0</td>\n",
       "      <td>0</td>\n",
       "      <td>0</td>\n",
       "      <td>0</td>\n",
       "      <td>0</td>\n",
       "      <td>0</td>\n",
       "      <td>0</td>\n",
       "      <td>0</td>\n",
       "      <td>0</td>\n",
       "      <td>0</td>\n",
       "    </tr>\n",
       "  </tbody>\n",
       "</table>\n",
       "<p>5 rows × 83 columns</p>\n",
       "</div>"
      ],
      "text/plain": [
       "   campaign  pdays  previous  emp.var.rate  cons.price.idx  cons.conf.idx  \\\n",
       "0       1.0  999.0       0.0           1.4          93.918          -42.7   \n",
       "1       4.0  999.0       0.0           1.4          94.465          -41.8   \n",
       "2       1.0  999.0       0.0          -1.8          92.893          -46.2   \n",
       "3       1.0  999.0       0.0          -1.8          93.075          -47.1   \n",
       "4       1.0  999.0       0.0           1.1          93.994          -36.4   \n",
       "\n",
       "   euribor3m  nr.employed  subscribe  job_admin.  ...  age-group_80-90  \\\n",
       "0      4.968       5228.1          0           0  ...                0   \n",
       "1      4.960       5228.1          0           0  ...                0   \n",
       "2      1.264       5099.1          0           0  ...                0   \n",
       "3      1.453       5099.1          0           0  ...                0   \n",
       "4      4.859       5191.0          0           0  ...                0   \n",
       "\n",
       "   age-group_90-100  campaign_missing  pdays_missing  previous_missing  \\\n",
       "0                 0                 0              0                 0   \n",
       "1                 0                 0              0                 0   \n",
       "2                 0                 0              0                 0   \n",
       "3                 0                 0              0                 0   \n",
       "4                 0                 0              0                 0   \n",
       "\n",
       "   emp.var.rate_missing  cons.price.idx_missing  cons.conf.idx_missing  \\\n",
       "0                     0                       0                      0   \n",
       "1                     0                       0                      0   \n",
       "2                     0                       0                      0   \n",
       "3                     0                       0                      0   \n",
       "4                     0                       0                      0   \n",
       "\n",
       "   euribor3m_missing  nr.employed_missing  \n",
       "0                  0                    0  \n",
       "1                  0                    0  \n",
       "2                  0                    0  \n",
       "3                  0                    0  \n",
       "4                  0                    0  \n",
       "\n",
       "[5 rows x 83 columns]"
      ]
     },
     "execution_count": 507,
     "metadata": {},
     "output_type": "execute_result"
    }
   ],
   "source": [
    "data.drop('Unnamed: 0', inplace = True, axis = 1)\n",
    "data.drop('client_id', inplace = True, axis = 1)\n",
    "data.head()"
   ]
  },
  {
   "cell_type": "code",
   "execution_count": 508,
   "metadata": {},
   "outputs": [
    {
     "name": "stdout",
     "output_type": "stream",
     "text": [
      "<class 'pandas.core.frame.DataFrame'>\n",
      "RangeIndex: 20000 entries, 0 to 19999\n",
      "Data columns (total 83 columns):\n",
      " #   Column                         Non-Null Count  Dtype  \n",
      "---  ------                         --------------  -----  \n",
      " 0   campaign                       20000 non-null  float64\n",
      " 1   pdays                          20000 non-null  float64\n",
      " 2   previous                       20000 non-null  float64\n",
      " 3   emp.var.rate                   20000 non-null  float64\n",
      " 4   cons.price.idx                 20000 non-null  float64\n",
      " 5   cons.conf.idx                  20000 non-null  float64\n",
      " 6   euribor3m                      20000 non-null  float64\n",
      " 7   nr.employed                    20000 non-null  float64\n",
      " 8   subscribe                      20000 non-null  int64  \n",
      " 9   job_admin.                     20000 non-null  int64  \n",
      " 10  job_blue-collar                20000 non-null  int64  \n",
      " 11  job_entrepreneur               20000 non-null  int64  \n",
      " 12  job_housemaid                  20000 non-null  int64  \n",
      " 13  job_management                 20000 non-null  int64  \n",
      " 14  job_retired                    20000 non-null  int64  \n",
      " 15  job_self-employed              20000 non-null  int64  \n",
      " 16  job_services                   20000 non-null  int64  \n",
      " 17  job_student                    20000 non-null  int64  \n",
      " 18  job_technician                 20000 non-null  int64  \n",
      " 19  job_unemployed                 20000 non-null  int64  \n",
      " 20  job_unknown                    20000 non-null  int64  \n",
      " 21  marital_divorced               20000 non-null  int64  \n",
      " 22  marital_married                20000 non-null  int64  \n",
      " 23  marital_single                 20000 non-null  int64  \n",
      " 24  marital_unknown                20000 non-null  int64  \n",
      " 25  education_basic.4y             20000 non-null  int64  \n",
      " 26  education_basic.6y             20000 non-null  int64  \n",
      " 27  education_basic.9y             20000 non-null  int64  \n",
      " 28  education_high.school          20000 non-null  int64  \n",
      " 29  education_illiterate           20000 non-null  int64  \n",
      " 30  education_professional.course  20000 non-null  int64  \n",
      " 31  education_university.degree    20000 non-null  int64  \n",
      " 32  education_unknown              20000 non-null  int64  \n",
      " 33  default_no                     20000 non-null  int64  \n",
      " 34  default_unknown                20000 non-null  int64  \n",
      " 35  default_yes                    20000 non-null  int64  \n",
      " 36  housing_no                     20000 non-null  int64  \n",
      " 37  housing_unknown                20000 non-null  int64  \n",
      " 38  housing_yes                    20000 non-null  int64  \n",
      " 39  loan_no                        20000 non-null  int64  \n",
      " 40  loan_unknown                   20000 non-null  int64  \n",
      " 41  loan_yes                       20000 non-null  int64  \n",
      " 42  contact_cellular               20000 non-null  int64  \n",
      " 43  contact_telephone              20000 non-null  int64  \n",
      " 44  contact_unknown                20000 non-null  int64  \n",
      " 45  month_apr                      20000 non-null  int64  \n",
      " 46  month_aug                      20000 non-null  int64  \n",
      " 47  month_dec                      20000 non-null  int64  \n",
      " 48  month_jul                      20000 non-null  int64  \n",
      " 49  month_jun                      20000 non-null  int64  \n",
      " 50  month_mar                      20000 non-null  int64  \n",
      " 51  month_may                      20000 non-null  int64  \n",
      " 52  month_nov                      20000 non-null  int64  \n",
      " 53  month_oct                      20000 non-null  int64  \n",
      " 54  month_sep                      20000 non-null  int64  \n",
      " 55  month_unknown                  20000 non-null  int64  \n",
      " 56  day_of_week_fri                20000 non-null  int64  \n",
      " 57  day_of_week_mon                20000 non-null  int64  \n",
      " 58  day_of_week_thu                20000 non-null  int64  \n",
      " 59  day_of_week_tue                20000 non-null  int64  \n",
      " 60  day_of_week_unknown            20000 non-null  int64  \n",
      " 61  day_of_week_wed                20000 non-null  int64  \n",
      " 62  poutcome_failure               20000 non-null  int64  \n",
      " 63  poutcome_nonexistent           20000 non-null  int64  \n",
      " 64  poutcome_success               20000 non-null  int64  \n",
      " 65  poutcome_unknown               20000 non-null  int64  \n",
      " 66  age-group_10-20                20000 non-null  int64  \n",
      " 67  age-group_20-30                20000 non-null  int64  \n",
      " 68  age-group_30-40                20000 non-null  int64  \n",
      " 69  age-group_40-50                20000 non-null  int64  \n",
      " 70  age-group_50-60                20000 non-null  int64  \n",
      " 71  age-group_60-70                20000 non-null  int64  \n",
      " 72  age-group_70-80                20000 non-null  int64  \n",
      " 73  age-group_80-90                20000 non-null  int64  \n",
      " 74  age-group_90-100               20000 non-null  int64  \n",
      " 75  campaign_missing               20000 non-null  int64  \n",
      " 76  pdays_missing                  20000 non-null  int64  \n",
      " 77  previous_missing               20000 non-null  int64  \n",
      " 78  emp.var.rate_missing           20000 non-null  int64  \n",
      " 79  cons.price.idx_missing         20000 non-null  int64  \n",
      " 80  cons.conf.idx_missing          20000 non-null  int64  \n",
      " 81  euribor3m_missing              20000 non-null  int64  \n",
      " 82  nr.employed_missing            20000 non-null  int64  \n",
      "dtypes: float64(8), int64(75)\n",
      "memory usage: 12.7 MB\n"
     ]
    }
   ],
   "source": [
    "data.info()"
   ]
  },
  {
   "cell_type": "code",
   "execution_count": 509,
   "metadata": {},
   "outputs": [
    {
     "name": "stdout",
     "output_type": "stream",
     "text": [
      "(20000, 82)\n",
      "(20000,)\n"
     ]
    }
   ],
   "source": [
    "y = data['subscribe']\n",
    "X = data.drop('subscribe', axis = 1)\n",
    "print(X.shape)\n",
    "print(y.shape)"
   ]
  },
  {
   "cell_type": "markdown",
   "metadata": {},
   "source": [
    "# Model Evaluation"
   ]
  },
  {
   "cell_type": "code",
   "execution_count": 510,
   "metadata": {},
   "outputs": [],
   "source": [
    "dtree = DecisionTreeClassifier(max_leaf_nodes=15, random_state=42)\n",
    "    # split in train and test data\n",
    "X_train, X_test, y_train, y_test = train_test_split(X, y, stratify=y,  test_size=0.3, random_state=42)\n",
    "\n",
    "dtree.fit(X_train, y_train)\n",
    "\n",
    "# predict probabilities\n",
    "pred_train = dtree.predict_proba(X_train)\n",
    "pred_test = dtree.predict_proba(X_test)\n"
   ]
  },
  {
   "cell_type": "code",
   "execution_count": 511,
   "metadata": {},
   "outputs": [
    {
     "data": {
      "text/plain": [
       "{'dtree': {'Acc_train': 0.8321428571428572, 'Acc_test': 0.8243333333333334}}"
      ]
     },
     "execution_count": 511,
     "metadata": {},
     "output_type": "execute_result"
    }
   ],
   "source": [
    "pred_train = pd.DataFrame(pred_train)\n",
    "pred_test = pd.DataFrame(pred_test)\n",
    "percentage = data[data.subscribe == 1].shape[0]/data.shape[0]\n",
    "pred_train.loc[pred_train[1] > percentage, 'y'] = 1\n",
    "pred_test.loc[pred_test[1] > percentage, 'y'] = 1\n",
    "pred_train['y'] =  np.where(pred_train['y'] == 1, 1, 0)\n",
    "pred_test['y'] =  np.where(pred_test['y'] == 1, 1, 0)\n",
    "# evaluate predictions\n",
    "mlp_acc_train = accuracy_score(y_train, pred_train['y'])\n",
    "mlp_acc_test = accuracy_score(y_test, pred_test['y'])\n",
    "\n",
    "eval_dict = {\"dtree\": {\"Acc_train\": mlp_acc_train, \"Acc_test\": mlp_acc_test}}\n",
    "eval_dict"
   ]
  },
  {
   "cell_type": "code",
   "execution_count": 512,
   "metadata": {},
   "outputs": [
    {
     "name": "stdout",
     "output_type": "stream",
     "text": [
      "0.7742741955919096\n",
      "0.7717759650867874\n"
     ]
    }
   ],
   "source": [
    "print(roc_auc_score(y_train, dtree.predict_proba(X_train)[:, 1]))\n",
    "print(roc_auc_score(y_test, dtree.predict_proba(X_test)[:, 1]))"
   ]
  },
  {
   "cell_type": "code",
   "execution_count": 513,
   "metadata": {},
   "outputs": [
    {
     "data": {
      "text/plain": [
       "[Text(0.4875, 0.9166666666666666, 'X[7] <= 5087.65\\ngini = 0.201\\nsamples = 14000\\nvalue = [12410, 1590]'),\n",
       " Text(0.25, 0.75, 'X[63] <= 0.5\\ngini = 0.49\\nsamples = 1782\\nvalue = [1016, 766]'),\n",
       " Text(0.15, 0.5833333333333334, 'X[81] <= 0.5\\ngini = 0.45\\nsamples = 1388\\nvalue = [914, 474]'),\n",
       " Text(0.1, 0.4166666666666667, 'X[6] <= 0.715\\ngini = 0.465\\nsamples = 1274\\nvalue = [805, 469]'),\n",
       " Text(0.05, 0.25, 'gini = 0.498\\nsamples = 234\\nvalue = [124, 110]'),\n",
       " Text(0.15, 0.25, 'X[41] <= 0.5\\ngini = 0.452\\nsamples = 1040\\nvalue = [681, 359]'),\n",
       " Text(0.1, 0.08333333333333333, 'gini = 0.362\\nsamples = 177\\nvalue = [135, 42]'),\n",
       " Text(0.2, 0.08333333333333333, 'gini = 0.465\\nsamples = 863\\nvalue = [546, 317]'),\n",
       " Text(0.2, 0.4166666666666667, 'gini = 0.084\\nsamples = 114\\nvalue = [109, 5]'),\n",
       " Text(0.35, 0.5833333333333334, 'X[56] <= 0.5\\ngini = 0.384\\nsamples = 394\\nvalue = [102, 292]'),\n",
       " Text(0.3, 0.4166666666666667, 'gini = 0.324\\nsamples = 310\\nvalue = [63, 247]'),\n",
       " Text(0.4, 0.4166666666666667, 'gini = 0.497\\nsamples = 84\\nvalue = [39, 45]'),\n",
       " Text(0.725, 0.75, 'X[5] <= -46.65\\ngini = 0.126\\nsamples = 12218\\nvalue = [11394, 824]'),\n",
       " Text(0.55, 0.5833333333333334, 'X[49] <= 0.5\\ngini = 0.298\\nsamples = 993\\nvalue = [812, 181]'),\n",
       " Text(0.5, 0.4166666666666667, 'X[6] <= 1.368\\ngini = 0.273\\nsamples = 914\\nvalue = [765, 149]'),\n",
       " Text(0.4, 0.25, 'X[6] <= 1.359\\ngini = 0.434\\nsamples = 135\\nvalue = [92, 43]'),\n",
       " Text(0.35, 0.08333333333333333, 'gini = 0.061\\nsamples = 32\\nvalue = [31, 1]'),\n",
       " Text(0.45, 0.08333333333333333, 'gini = 0.483\\nsamples = 103\\nvalue = [61, 42]'),\n",
       " Text(0.6, 0.25, 'X[13] <= 0.5\\ngini = 0.235\\nsamples = 779\\nvalue = [673, 106]'),\n",
       " Text(0.55, 0.08333333333333333, 'gini = 0.211\\nsamples = 734\\nvalue = [646, 88]'),\n",
       " Text(0.65, 0.08333333333333333, 'gini = 0.48\\nsamples = 45\\nvalue = [27, 18]'),\n",
       " Text(0.6, 0.4166666666666667, 'gini = 0.482\\nsamples = 79\\nvalue = [47, 32]'),\n",
       " Text(0.9, 0.5833333333333334, 'X[52] <= 0.5\\ngini = 0.108\\nsamples = 11225\\nvalue = [10582, 643]'),\n",
       " Text(0.85, 0.4166666666666667, 'X[4] <= 93.046\\ngini = 0.106\\nsamples = 11203\\nvalue = [10572, 631]'),\n",
       " Text(0.8, 0.25, 'X[63] <= 0.5\\ngini = 0.171\\nsamples = 2028\\nvalue = [1837, 191]'),\n",
       " Text(0.75, 0.08333333333333333, 'gini = 0.16\\nsamples = 1977\\nvalue = [1804, 173]'),\n",
       " Text(0.85, 0.08333333333333333, 'gini = 0.457\\nsamples = 51\\nvalue = [33, 18]'),\n",
       " Text(0.9, 0.25, 'gini = 0.091\\nsamples = 9175\\nvalue = [8735, 440]'),\n",
       " Text(0.95, 0.4166666666666667, 'gini = 0.496\\nsamples = 22\\nvalue = [10, 12]')]"
      ]
     },
     "execution_count": 513,
     "metadata": {},
     "output_type": "execute_result"
    },
    {
     "data": {
      "image/png": "[encoded data removed]",
      "text/plain": [
       "<Figure size 432x288 with 1 Axes>"
      ]
     },
     "metadata": {
      "needs_background": "light"
     },
     "output_type": "display_data"
    }
   ],
   "source": [
    "from sklearn import tree\n",
    "\n",
    "tree.plot_tree(dtree)"
   ]
  },
  {
   "cell_type": "code",
   "execution_count": 514,
   "metadata": {},
   "outputs": [
    {
     "name": "stderr",
     "output_type": "stream",
     "text": [
      "C:\\tools\\Anaconda3\\envs\\py\\lib\\site-packages\\sklearn\\utils\\deprecation.py:87: FutureWarning: Function plot_roc_curve is deprecated; Function :func:`plot_roc_curve` is deprecated in 1.0 and will be removed in 1.2. Use one of the class methods: :meth:`sklearn.metric.RocCurveDisplay.from_predictions` or :meth:`sklearn.metric.RocCurveDisplay.from_estimator`.\n",
      "  warnings.warn(msg, category=FutureWarning)\n"
     ]
    },
    {
     "data": {
      "image/png": "[encoded data removed]",
      "text/plain": [
       "<Figure size 432x288 with 1 Axes>"
      ]
     },
     "metadata": {
      "needs_background": "light"
     },
     "output_type": "display_data"
    }
   ],
   "source": [
    "from sklearn import datasets, metrics\n",
    "\n",
    "metrics.plot_roc_curve(dtree, X_test, y_test)\n",
    "plt.show()"
   ]
  },
  {
   "cell_type": "code",
   "execution_count": 515,
   "metadata": {},
   "outputs": [
    {
     "data": {
      "text/plain": [
       "0    5319\n",
       "1     681\n",
       "Name: subscribe, dtype: int64"
      ]
     },
     "execution_count": 515,
     "metadata": {},
     "output_type": "execute_result"
    }
   ],
   "source": [
    "y_test.value_counts()"
   ]
  },
  {
   "cell_type": "code",
   "execution_count": 516,
   "metadata": {},
   "outputs": [
    {
     "data": {
      "image/png": "[encoded data removed]",
      "text/plain": [
       "<Figure size 432x288 with 2 Axes>"
      ]
     },
     "metadata": {
      "needs_background": "light"
     },
     "output_type": "display_data"
    }
   ],
   "source": [
    "from sklearn.metrics import confusion_matrix, ConfusionMatrixDisplay\n",
    "\n",
    "cm = confusion_matrix(y_test, pred_test['y'])\n",
    "disp = ConfusionMatrixDisplay(confusion_matrix=cm)\n",
    "disp.plot()\n",
    "plt.show()"
   ]
  },
  {
   "cell_type": "code",
   "execution_count": 517,
   "metadata": {},
   "outputs": [
    {
     "data": {
      "text/plain": [
       "array([0.89825, 0.899  , 0.898  , 0.8985 , 0.9    ])"
      ]
     },
     "execution_count": 517,
     "metadata": {},
     "output_type": "execute_result"
    }
   ],
   "source": [
    "from sklearn.model_selection import cross_validate\n",
    "\n",
    "dtree = DecisionTreeClassifier(max_depth=4, random_state=42)\n",
    "cv_results = cross_validate(dtree, X, y, cv=5)\n",
    "cv_results['test_score']"
   ]
  },
  {
   "cell_type": "code",
   "execution_count": 518,
   "metadata": {},
   "outputs": [],
   "source": [
    "forward_selection_features = ['job_student', 'marital_single', 'default_no' ,  'contact_telephone', 'month_apr',  'month_dec',  'month_jun',  'month_mar' , 'month_oct' , 'month_sep', 'day_of_week_mon',  'poutcome_success',  'age-group_60-70' , 'age-group_70-80',  'age-group_80-90']\n",
    "\n",
    "backward_selection_features = ['pdays', 'cons.conf.idx', 'nr.employed', 'job_blue-collar','contact_telephone', 'month_jul', 'month_jun', 'month_mar', 'month_may', 'day_of_week_mon', 'poutcome_nonexistent', 'poutcome_success', 'pdays_missing', 'cons.conf.idx_missing', 'nr.employed_missing']"
   ]
  },
  {
   "cell_type": "code",
   "execution_count": 519,
   "metadata": {},
   "outputs": [],
   "source": [
    "dtree = DecisionTreeClassifier(max_depth=8, random_state=42)\n",
    "    # split in train and test data\n",
    "X_train, X_test, y_train, y_test = train_test_split(X.loc[:,forward_selection_features], y, stratify=y, test_size=0.3, random_state=42)\n",
    "\n",
    "dtree.fit(X_train, y_train)\n",
    "\n",
    "# predict probabilities\n",
    "pred_train = dtree.predict_proba(X_train)\n",
    "pred_test = dtree.predict_proba(X_test)"
   ]
  },
  {
   "cell_type": "code",
   "execution_count": 520,
   "metadata": {},
   "outputs": [
    {
     "data": {
      "text/plain": [
       "{'dtree': {'Acc_train': 0.8840714285714286, 'Acc_test': 0.8756666666666667}}"
      ]
     },
     "execution_count": 520,
     "metadata": {},
     "output_type": "execute_result"
    }
   ],
   "source": [
    "pred_train = pd.DataFrame(pred_train)\n",
    "pred_test = pd.DataFrame(pred_test)\n",
    "percentage = data[data.subscribe == 1].shape[0]/data.shape[0]\n",
    "pred_train.loc[pred_train[1] > percentage, 'y'] = 1\n",
    "pred_test.loc[pred_test[1] > percentage, 'y'] = 1\n",
    "pred_train['y'] =  np.where(pred_train['y'] == 1, 1, 0)\n",
    "pred_test['y'] =  np.where(pred_test['y'] == 1, 1, 0)\n",
    "# evaluate predictions\n",
    "mlp_acc_train = accuracy_score(y_train, pred_train['y'])\n",
    "mlp_acc_test = accuracy_score(y_test, pred_test['y'])\n",
    "\n",
    "eval_dict = {\"dtree\": {\"Acc_train\": mlp_acc_train, \"Acc_test\": mlp_acc_test}}\n",
    "eval_dict"
   ]
  },
  {
   "cell_type": "code",
   "execution_count": 521,
   "metadata": {},
   "outputs": [
    {
     "name": "stdout",
     "output_type": "stream",
     "text": [
      "0.7299462545421374\n",
      "0.7264778773570711\n"
     ]
    }
   ],
   "source": [
    "print(roc_auc_score(y_train, dtree.predict_proba(X_train)[:, 1]))\n",
    "print(roc_auc_score(y_test, dtree.predict_proba(X_test)[:, 1]))"
   ]
  },
  {
   "cell_type": "code",
   "execution_count": 522,
   "metadata": {},
   "outputs": [
    {
     "name": "stderr",
     "output_type": "stream",
     "text": [
      "C:\\tools\\Anaconda3\\envs\\py\\lib\\site-packages\\sklearn\\utils\\deprecation.py:87: FutureWarning: Function plot_roc_curve is deprecated; Function :func:`plot_roc_curve` is deprecated in 1.0 and will be removed in 1.2. Use one of the class methods: :meth:`sklearn.metric.RocCurveDisplay.from_predictions` or :meth:`sklearn.metric.RocCurveDisplay.from_estimator`.\n",
      "  warnings.warn(msg, category=FutureWarning)\n"
     ]
    },
    {
     "data": {
      "image/png": "[encoded data removed]",
      "text/plain": [
       "<Figure size 432x288 with 1 Axes>"
      ]
     },
     "metadata": {
      "needs_background": "light"
     },
     "output_type": "display_data"
    }
   ],
   "source": [
    "from sklearn import datasets, metrics\n",
    "\n",
    "metrics.plot_roc_curve(dtree, X_test, y_test)\n",
    "plt.show()"
   ]
  },
  {
   "cell_type": "code",
   "execution_count": 523,
   "metadata": {},
   "outputs": [
    {
     "data": {
      "image/png": "[encoded data removed]",
      "text/plain": [
       "<Figure size 432x288 with 2 Axes>"
      ]
     },
     "metadata": {
      "needs_background": "light"
     },
     "output_type": "display_data"
    }
   ],
   "source": [
    "from sklearn.metrics import confusion_matrix, ConfusionMatrixDisplay\n",
    "\n",
    "cm = confusion_matrix(y_test, pred_test['y'])\n",
    "disp = ConfusionMatrixDisplay(confusion_matrix=cm)\n",
    "disp.plot()\n",
    "plt.show()"
   ]
  },
  {
   "cell_type": "code",
   "execution_count": 524,
   "metadata": {},
   "outputs": [],
   "source": [
    "dtree = DecisionTreeClassifier(max_depth=8, random_state=42)\n",
    "    # split in train and test data\n",
    "X_train, X_test, y_train, y_test = train_test_split(X.loc[:,backward_selection_features], y, stratify=y,  test_size=0.3, random_state=42)\n",
    "\n",
    "dtree.fit(X_train, y_train)\n",
    "\n",
    "# predict probabilities\n",
    "pred_train = dtree.predict_proba(X_train)\n",
    "pred_test = dtree.predict_proba(X_test)"
   ]
  },
  {
   "cell_type": "code",
   "execution_count": 525,
   "metadata": {},
   "outputs": [
    {
     "data": {
      "text/plain": [
       "{'dtree': {'Acc_train': 0.8462142857142857, 'Acc_test': 0.8336666666666667}}"
      ]
     },
     "execution_count": 525,
     "metadata": {},
     "output_type": "execute_result"
    }
   ],
   "source": [
    "pred_train = pd.DataFrame(pred_train)\n",
    "pred_test = pd.DataFrame(pred_test)\n",
    "percentage = data[data.subscribe == 1].shape[0]/data.shape[0]\n",
    "pred_train.loc[pred_train[1] > percentage, 'y'] = 1\n",
    "pred_test.loc[pred_test[1] > percentage, 'y'] = 1\n",
    "pred_train['y'] =  np.where(pred_train['y'] == 1, 1, 0)\n",
    "pred_test['y'] =  np.where(pred_test['y'] == 1, 1, 0)\n",
    "# evaluate predictions\n",
    "mlp_acc_train = accuracy_score(y_train, pred_train['y'])\n",
    "mlp_acc_test = accuracy_score(y_test, pred_test['y'])\n",
    "\n",
    "eval_dict = {\"dtree\": {\"Acc_train\": mlp_acc_train, \"Acc_test\": mlp_acc_test}}\n",
    "eval_dict"
   ]
  },
  {
   "cell_type": "code",
   "execution_count": 526,
   "metadata": {},
   "outputs": [
    {
     "name": "stdout",
     "output_type": "stream",
     "text": [
      "0.8028398684363898\n",
      "0.7912363043962588\n"
     ]
    }
   ],
   "source": [
    "print(roc_auc_score(y_train, dtree.predict_proba(X_train)[:, 1]))\n",
    "print(roc_auc_score(y_test, dtree.predict_proba(X_test)[:, 1]))"
   ]
  },
  {
   "cell_type": "code",
   "execution_count": 527,
   "metadata": {},
   "outputs": [
    {
     "name": "stderr",
     "output_type": "stream",
     "text": [
      "C:\\tools\\Anaconda3\\envs\\py\\lib\\site-packages\\sklearn\\utils\\deprecation.py:87: FutureWarning: Function plot_roc_curve is deprecated; Function :func:`plot_roc_curve` is deprecated in 1.0 and will be removed in 1.2. Use one of the class methods: :meth:`sklearn.metric.RocCurveDisplay.from_predictions` or :meth:`sklearn.metric.RocCurveDisplay.from_estimator`.\n",
      "  warnings.warn(msg, category=FutureWarning)\n"
     ]
    },
    {
     "data": {
      "image/png": "[encoded data removed]",
      "text/plain": [
       "<Figure size 432x288 with 1 Axes>"
      ]
     },
     "metadata": {
      "needs_background": "light"
     },
     "output_type": "display_data"
    }
   ],
   "source": [
    "from sklearn import datasets, metrics\n",
    "\n",
    "metrics.plot_roc_curve(dtree, X_test, y_test)\n",
    "plt.show()"
   ]
  },
  {
   "cell_type": "code",
   "execution_count": 528,
   "metadata": {},
   "outputs": [],
   "source": [
    "from sklearn.preprocessing import StandardScaler\n",
    "\n",
    "dtree = DecisionTreeClassifier(max_depth=8, random_state=42)\n",
    "    # split in train and test data\n",
    "X_train, X_test, y_train, y_test = train_test_split(StandardScaler().fit_transform(X), y, stratify=y,  test_size=0.3, random_state=42)\n",
    "\n",
    "dtree.fit(X_train, y_train)\n",
    "\n",
    "# predict probabilities\n",
    "pred_train = dtree.predict_proba(X_train)\n",
    "pred_test = dtree.predict_proba(X_test)"
   ]
  },
  {
   "cell_type": "code",
   "execution_count": 529,
   "metadata": {},
   "outputs": [
    {
     "data": {
      "text/plain": [
       "{'dtree': {'Acc_train': 0.8657142857142858, 'Acc_test': 0.8473333333333334}}"
      ]
     },
     "execution_count": 529,
     "metadata": {},
     "output_type": "execute_result"
    }
   ],
   "source": [
    "pred_train = pd.DataFrame(pred_train)\n",
    "pred_test = pd.DataFrame(pred_test)\n",
    "percentage = data[data.subscribe == 1].shape[0]/data.shape[0]\n",
    "pred_train.loc[pred_train[1] > percentage, 'y'] = 1\n",
    "pred_test.loc[pred_test[1] > percentage, 'y'] = 1\n",
    "pred_train['y'] =  np.where(pred_train['y'] == 1, 1, 0)\n",
    "pred_test['y'] =  np.where(pred_test['y'] == 1, 1, 0)\n",
    "# evaluate predictions\n",
    "mlp_acc_train = accuracy_score(y_train, pred_train['y'])\n",
    "mlp_acc_test = accuracy_score(y_test, pred_test['y'])\n",
    "\n",
    "eval_dict = {\"dtree\": {\"Acc_train\": mlp_acc_train, \"Acc_test\": mlp_acc_test}}\n",
    "eval_dict"
   ]
  },
  {
   "cell_type": "code",
   "execution_count": 530,
   "metadata": {},
   "outputs": [
    {
     "name": "stdout",
     "output_type": "stream",
     "text": [
      "0.8129896259356676\n",
      "0.7662770181647318\n"
     ]
    }
   ],
   "source": [
    "print(roc_auc_score(y_train, dtree.predict_proba(X_train)[:, 1]))\n",
    "print(roc_auc_score(y_test, dtree.predict_proba(X_test)[:, 1]))"
   ]
  },
  {
   "cell_type": "code",
   "execution_count": 531,
   "metadata": {},
   "outputs": [
    {
     "data": {
      "image/png": "[encoded data removed]",
      "text/plain": [
       "<Figure size 432x288 with 2 Axes>"
      ]
     },
     "metadata": {
      "needs_background": "light"
     },
     "output_type": "display_data"
    }
   ],
   "source": [
    "from sklearn.metrics import confusion_matrix, ConfusionMatrixDisplay\n",
    "\n",
    "cm = confusion_matrix(y_test, pred_test['y'])\n",
    "disp = ConfusionMatrixDisplay(confusion_matrix=cm)\n",
    "disp.plot()\n",
    "plt.show()"
   ]
  },
  {
   "cell_type": "code",
   "execution_count": 532,
   "metadata": {},
   "outputs": [],
   "source": [
    "X_norm = pd.DataFrame()\n",
    "for col in X.columns:\n",
    "    X_norm[col] = X[col].map(lambda x: (x - np.mean(X[col]))/ np.std(X[col]))"
   ]
  },
  {
   "cell_type": "code",
   "execution_count": 533,
   "metadata": {},
   "outputs": [],
   "source": [
    "from sklearn.preprocessing import StandardScaler\n",
    "\n",
    "dtree = DecisionTreeClassifier(max_depth=8, random_state=42)\n",
    "    # split in train and test data\n",
    "X_train, X_test, y_train, y_test = train_test_split(X_norm, y, stratify=y,  test_size=0.3, random_state=42)\n",
    "\n",
    "dtree.fit(X_train, y_train)\n",
    "\n",
    "# predict probabilities\n",
    "pred_train = dtree.predict_proba(X_train)\n",
    "pred_test = dtree.predict_proba(X_test)"
   ]
  },
  {
   "cell_type": "code",
   "execution_count": 534,
   "metadata": {},
   "outputs": [
    {
     "data": {
      "text/plain": [
       "{'dtree': {'Acc_train': 0.8657142857142858, 'Acc_test': 0.8473333333333334}}"
      ]
     },
     "execution_count": 534,
     "metadata": {},
     "output_type": "execute_result"
    }
   ],
   "source": [
    "pred_train = pd.DataFrame(pred_train)\n",
    "pred_test = pd.DataFrame(pred_test)\n",
    "percentage = data[data.subscribe == 1].shape[0]/data.shape[0]\n",
    "pred_train.loc[pred_train[1] > percentage, 'y'] = 1\n",
    "pred_test.loc[pred_test[1] > percentage, 'y'] = 1\n",
    "pred_train['y'] =  np.where(pred_train['y'] == 1, 1, 0)\n",
    "pred_test['y'] =  np.where(pred_test['y'] == 1, 1, 0)\n",
    "# evaluate predictions\n",
    "mlp_acc_train = accuracy_score(y_train, pred_train['y'])\n",
    "mlp_acc_test = accuracy_score(y_test, pred_test['y'])\n",
    "\n",
    "eval_dict = {\"dtree\": {\"Acc_train\": mlp_acc_train, \"Acc_test\": mlp_acc_test}}\n",
    "eval_dict"
   ]
  },
  {
   "cell_type": "code",
   "execution_count": 535,
   "metadata": {},
   "outputs": [
    {
     "name": "stdout",
     "output_type": "stream",
     "text": [
      "0.8129896259356676\n",
      "0.7662770181647318\n"
     ]
    }
   ],
   "source": [
    "print(roc_auc_score(y_train, dtree.predict_proba(X_train)[:, 1]))\n",
    "print(roc_auc_score(y_test, dtree.predict_proba(X_test)[:, 1]))"
   ]
  },
  {
   "cell_type": "code",
   "execution_count": 536,
   "metadata": {},
   "outputs": [
    {
     "data": {
      "image/png": "[encoded data removed]",
      "text/plain": [
       "<Figure size 432x288 with 2 Axes>"
      ]
     },
     "metadata": {
      "needs_background": "light"
     },
     "output_type": "display_data"
    }
   ],
   "source": [
    "from sklearn.metrics import confusion_matrix, ConfusionMatrixDisplay\n",
    "\n",
    "cm = confusion_matrix(y_test, pred_test['y'])\n",
    "disp = ConfusionMatrixDisplay(confusion_matrix=cm)\n",
    "disp.plot()\n",
    "plt.show()"
   ]
  }
 ],
 "metadata": {
  "interpreter": {
   "hash": "a707b6ce8c685eb936424fcc3009d4b4b7a52543c4db09380a3fc49186ceb509"
  },
  "kernelspec": {
   "display_name": "Python 3.8.8 ('base')",
   "language": "python",
   "name": "python3"
  },
  "language_info": {
   "codemirror_mode": {
    "name": "ipython",
    "version": 3
   },
   "file_extension": ".py",
   "mimetype": "text/x-python",
   "name": "python",
   "nbconvert_exporter": "python",
   "pygments_lexer": "ipython3",
   "version": "3.9.4"
  },
  "orig_nbformat": 4
 },
 "nbformat": 4,
 "nbformat_minor": 2
}
