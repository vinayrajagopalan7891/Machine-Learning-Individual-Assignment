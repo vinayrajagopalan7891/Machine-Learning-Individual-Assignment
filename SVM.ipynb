{
 "cells": [
  {
   "cell_type": "code",
   "execution_count": 1,
   "metadata": {},
   "outputs": [],
   "source": [
    "import pandas as pd\n",
    "import numpy as np\n",
    "import seaborn as sns\n",
    "from sklearn.model_selection import train_test_split\n",
    "from sklearn.ensemble import RandomForestClassifier\n",
    "from sklearn.metrics import accuracy_score\n",
    "from sklearn.metrics import roc_auc_score\n",
    "import matplotlib.pyplot as plt\n",
    "from sklearn.svm import SVC\n"
   ]
  },
  {
   "cell_type": "code",
   "execution_count": 2,
   "metadata": {},
   "outputs": [],
   "source": [
    "data =  pd.read_csv('./Data/basetable.csv')"
   ]
  },
  {
   "cell_type": "code",
   "execution_count": 3,
   "metadata": {},
   "outputs": [
    {
     "data": {
      "text/html": [
       "<div>\n",
       "<style scoped>\n",
       "    .dataframe tbody tr th:only-of-type {\n",
       "        vertical-align: middle;\n",
       "    }\n",
       "\n",
       "    .dataframe tbody tr th {\n",
       "        vertical-align: top;\n",
       "    }\n",
       "\n",
       "    .dataframe thead th {\n",
       "        text-align: right;\n",
       "    }\n",
       "</style>\n",
       "<table border=\"1\" class=\"dataframe\">\n",
       "  <thead>\n",
       "    <tr style=\"text-align: right;\">\n",
       "      <th></th>\n",
       "      <th>client_id</th>\n",
       "      <th>campaign</th>\n",
       "      <th>pdays</th>\n",
       "      <th>previous</th>\n",
       "      <th>emp.var.rate</th>\n",
       "      <th>cons.price.idx</th>\n",
       "      <th>cons.conf.idx</th>\n",
       "      <th>euribor3m</th>\n",
       "      <th>nr.employed</th>\n",
       "      <th>subscribe</th>\n",
       "      <th>...</th>\n",
       "      <th>age-group_80-90</th>\n",
       "      <th>age-group_90-100</th>\n",
       "      <th>campaign_missing</th>\n",
       "      <th>pdays_missing</th>\n",
       "      <th>previous_missing</th>\n",
       "      <th>emp.var.rate_missing</th>\n",
       "      <th>cons.price.idx_missing</th>\n",
       "      <th>cons.conf.idx_missing</th>\n",
       "      <th>euribor3m_missing</th>\n",
       "      <th>nr.employed_missing</th>\n",
       "    </tr>\n",
       "  </thead>\n",
       "  <tbody>\n",
       "    <tr>\n",
       "      <th>0</th>\n",
       "      <td>29925</td>\n",
       "      <td>1.0</td>\n",
       "      <td>999.0</td>\n",
       "      <td>0.0</td>\n",
       "      <td>1.4</td>\n",
       "      <td>93.918</td>\n",
       "      <td>-42.7</td>\n",
       "      <td>4.968</td>\n",
       "      <td>5228.1</td>\n",
       "      <td>0</td>\n",
       "      <td>...</td>\n",
       "      <td>0</td>\n",
       "      <td>0</td>\n",
       "      <td>0</td>\n",
       "      <td>0</td>\n",
       "      <td>0</td>\n",
       "      <td>0</td>\n",
       "      <td>0</td>\n",
       "      <td>0</td>\n",
       "      <td>0</td>\n",
       "      <td>0</td>\n",
       "    </tr>\n",
       "    <tr>\n",
       "      <th>1</th>\n",
       "      <td>37529</td>\n",
       "      <td>4.0</td>\n",
       "      <td>999.0</td>\n",
       "      <td>0.0</td>\n",
       "      <td>1.4</td>\n",
       "      <td>94.465</td>\n",
       "      <td>-41.8</td>\n",
       "      <td>4.960</td>\n",
       "      <td>5228.1</td>\n",
       "      <td>0</td>\n",
       "      <td>...</td>\n",
       "      <td>0</td>\n",
       "      <td>0</td>\n",
       "      <td>0</td>\n",
       "      <td>0</td>\n",
       "      <td>0</td>\n",
       "      <td>0</td>\n",
       "      <td>0</td>\n",
       "      <td>0</td>\n",
       "      <td>0</td>\n",
       "      <td>0</td>\n",
       "    </tr>\n",
       "    <tr>\n",
       "      <th>2</th>\n",
       "      <td>2757</td>\n",
       "      <td>1.0</td>\n",
       "      <td>999.0</td>\n",
       "      <td>0.0</td>\n",
       "      <td>-1.8</td>\n",
       "      <td>92.893</td>\n",
       "      <td>-46.2</td>\n",
       "      <td>1.264</td>\n",
       "      <td>5099.1</td>\n",
       "      <td>0</td>\n",
       "      <td>...</td>\n",
       "      <td>0</td>\n",
       "      <td>0</td>\n",
       "      <td>0</td>\n",
       "      <td>0</td>\n",
       "      <td>0</td>\n",
       "      <td>0</td>\n",
       "      <td>0</td>\n",
       "      <td>0</td>\n",
       "      <td>0</td>\n",
       "      <td>0</td>\n",
       "    </tr>\n",
       "    <tr>\n",
       "      <th>3</th>\n",
       "      <td>9642</td>\n",
       "      <td>1.0</td>\n",
       "      <td>999.0</td>\n",
       "      <td>0.0</td>\n",
       "      <td>-1.8</td>\n",
       "      <td>93.075</td>\n",
       "      <td>-47.1</td>\n",
       "      <td>1.453</td>\n",
       "      <td>5099.1</td>\n",
       "      <td>0</td>\n",
       "      <td>...</td>\n",
       "      <td>0</td>\n",
       "      <td>0</td>\n",
       "      <td>0</td>\n",
       "      <td>0</td>\n",
       "      <td>0</td>\n",
       "      <td>0</td>\n",
       "      <td>0</td>\n",
       "      <td>0</td>\n",
       "      <td>0</td>\n",
       "      <td>0</td>\n",
       "    </tr>\n",
       "    <tr>\n",
       "      <th>4</th>\n",
       "      <td>14183</td>\n",
       "      <td>1.0</td>\n",
       "      <td>999.0</td>\n",
       "      <td>0.0</td>\n",
       "      <td>1.1</td>\n",
       "      <td>93.994</td>\n",
       "      <td>-36.4</td>\n",
       "      <td>4.859</td>\n",
       "      <td>5191.0</td>\n",
       "      <td>0</td>\n",
       "      <td>...</td>\n",
       "      <td>0</td>\n",
       "      <td>0</td>\n",
       "      <td>0</td>\n",
       "      <td>0</td>\n",
       "      <td>0</td>\n",
       "      <td>0</td>\n",
       "      <td>0</td>\n",
       "      <td>0</td>\n",
       "      <td>0</td>\n",
       "      <td>0</td>\n",
       "    </tr>\n",
       "  </tbody>\n",
       "</table>\n",
       "<p>5 rows × 84 columns</p>\n",
       "</div>"
      ],
      "text/plain": [
       "   client_id  campaign  pdays  previous  emp.var.rate  cons.price.idx  \\\n",
       "0      29925       1.0  999.0       0.0           1.4          93.918   \n",
       "1      37529       4.0  999.0       0.0           1.4          94.465   \n",
       "2       2757       1.0  999.0       0.0          -1.8          92.893   \n",
       "3       9642       1.0  999.0       0.0          -1.8          93.075   \n",
       "4      14183       1.0  999.0       0.0           1.1          93.994   \n",
       "\n",
       "   cons.conf.idx  euribor3m  nr.employed  subscribe  ...  age-group_80-90  \\\n",
       "0          -42.7      4.968       5228.1          0  ...                0   \n",
       "1          -41.8      4.960       5228.1          0  ...                0   \n",
       "2          -46.2      1.264       5099.1          0  ...                0   \n",
       "3          -47.1      1.453       5099.1          0  ...                0   \n",
       "4          -36.4      4.859       5191.0          0  ...                0   \n",
       "\n",
       "   age-group_90-100  campaign_missing  pdays_missing  previous_missing  \\\n",
       "0                 0                 0              0                 0   \n",
       "1                 0                 0              0                 0   \n",
       "2                 0                 0              0                 0   \n",
       "3                 0                 0              0                 0   \n",
       "4                 0                 0              0                 0   \n",
       "\n",
       "   emp.var.rate_missing  cons.price.idx_missing  cons.conf.idx_missing  \\\n",
       "0                     0                       0                      0   \n",
       "1                     0                       0                      0   \n",
       "2                     0                       0                      0   \n",
       "3                     0                       0                      0   \n",
       "4                     0                       0                      0   \n",
       "\n",
       "   euribor3m_missing  nr.employed_missing  \n",
       "0                  0                    0  \n",
       "1                  0                    0  \n",
       "2                  0                    0  \n",
       "3                  0                    0  \n",
       "4                  0                    0  \n",
       "\n",
       "[5 rows x 84 columns]"
      ]
     },
     "execution_count": 3,
     "metadata": {},
     "output_type": "execute_result"
    }
   ],
   "source": [
    "data.drop('Unnamed: 0', inplace = True, axis = 1)\n",
    "data.head()"
   ]
  },
  {
   "cell_type": "code",
   "execution_count": 4,
   "metadata": {},
   "outputs": [
    {
     "name": "stdout",
     "output_type": "stream",
     "text": [
      "<class 'pandas.core.frame.DataFrame'>\n",
      "RangeIndex: 20000 entries, 0 to 19999\n",
      "Data columns (total 84 columns):\n",
      " #   Column                         Non-Null Count  Dtype  \n",
      "---  ------                         --------------  -----  \n",
      " 0   client_id                      20000 non-null  int64  \n",
      " 1   campaign                       20000 non-null  float64\n",
      " 2   pdays                          20000 non-null  float64\n",
      " 3   previous                       20000 non-null  float64\n",
      " 4   emp.var.rate                   20000 non-null  float64\n",
      " 5   cons.price.idx                 20000 non-null  float64\n",
      " 6   cons.conf.idx                  20000 non-null  float64\n",
      " 7   euribor3m                      20000 non-null  float64\n",
      " 8   nr.employed                    20000 non-null  float64\n",
      " 9   subscribe                      20000 non-null  int64  \n",
      " 10  job_admin.                     20000 non-null  int64  \n",
      " 11  job_blue-collar                20000 non-null  int64  \n",
      " 12  job_entrepreneur               20000 non-null  int64  \n",
      " 13  job_housemaid                  20000 non-null  int64  \n",
      " 14  job_management                 20000 non-null  int64  \n",
      " 15  job_retired                    20000 non-null  int64  \n",
      " 16  job_self-employed              20000 non-null  int64  \n",
      " 17  job_services                   20000 non-null  int64  \n",
      " 18  job_student                    20000 non-null  int64  \n",
      " 19  job_technician                 20000 non-null  int64  \n",
      " 20  job_unemployed                 20000 non-null  int64  \n",
      " 21  job_unknown                    20000 non-null  int64  \n",
      " 22  marital_divorced               20000 non-null  int64  \n",
      " 23  marital_married                20000 non-null  int64  \n",
      " 24  marital_single                 20000 non-null  int64  \n",
      " 25  marital_unknown                20000 non-null  int64  \n",
      " 26  education_basic.4y             20000 non-null  int64  \n",
      " 27  education_basic.6y             20000 non-null  int64  \n",
      " 28  education_basic.9y             20000 non-null  int64  \n",
      " 29  education_high.school          20000 non-null  int64  \n",
      " 30  education_illiterate           20000 non-null  int64  \n",
      " 31  education_professional.course  20000 non-null  int64  \n",
      " 32  education_university.degree    20000 non-null  int64  \n",
      " 33  education_unknown              20000 non-null  int64  \n",
      " 34  default_no                     20000 non-null  int64  \n",
      " 35  default_unknown                20000 non-null  int64  \n",
      " 36  default_yes                    20000 non-null  int64  \n",
      " 37  housing_no                     20000 non-null  int64  \n",
      " 38  housing_unknown                20000 non-null  int64  \n",
      " 39  housing_yes                    20000 non-null  int64  \n",
      " 40  loan_no                        20000 non-null  int64  \n",
      " 41  loan_unknown                   20000 non-null  int64  \n",
      " 42  loan_yes                       20000 non-null  int64  \n",
      " 43  contact_cellular               20000 non-null  int64  \n",
      " 44  contact_telephone              20000 non-null  int64  \n",
      " 45  contact_unknown                20000 non-null  int64  \n",
      " 46  month_apr                      20000 non-null  int64  \n",
      " 47  month_aug                      20000 non-null  int64  \n",
      " 48  month_dec                      20000 non-null  int64  \n",
      " 49  month_jul                      20000 non-null  int64  \n",
      " 50  month_jun                      20000 non-null  int64  \n",
      " 51  month_mar                      20000 non-null  int64  \n",
      " 52  month_may                      20000 non-null  int64  \n",
      " 53  month_nov                      20000 non-null  int64  \n",
      " 54  month_oct                      20000 non-null  int64  \n",
      " 55  month_sep                      20000 non-null  int64  \n",
      " 56  month_unknown                  20000 non-null  int64  \n",
      " 57  day_of_week_fri                20000 non-null  int64  \n",
      " 58  day_of_week_mon                20000 non-null  int64  \n",
      " 59  day_of_week_thu                20000 non-null  int64  \n",
      " 60  day_of_week_tue                20000 non-null  int64  \n",
      " 61  day_of_week_unknown            20000 non-null  int64  \n",
      " 62  day_of_week_wed                20000 non-null  int64  \n",
      " 63  poutcome_failure               20000 non-null  int64  \n",
      " 64  poutcome_nonexistent           20000 non-null  int64  \n",
      " 65  poutcome_success               20000 non-null  int64  \n",
      " 66  poutcome_unknown               20000 non-null  int64  \n",
      " 67  age-group_10-20                20000 non-null  int64  \n",
      " 68  age-group_20-30                20000 non-null  int64  \n",
      " 69  age-group_30-40                20000 non-null  int64  \n",
      " 70  age-group_40-50                20000 non-null  int64  \n",
      " 71  age-group_50-60                20000 non-null  int64  \n",
      " 72  age-group_60-70                20000 non-null  int64  \n",
      " 73  age-group_70-80                20000 non-null  int64  \n",
      " 74  age-group_80-90                20000 non-null  int64  \n",
      " 75  age-group_90-100               20000 non-null  int64  \n",
      " 76  campaign_missing               20000 non-null  int64  \n",
      " 77  pdays_missing                  20000 non-null  int64  \n",
      " 78  previous_missing               20000 non-null  int64  \n",
      " 79  emp.var.rate_missing           20000 non-null  int64  \n",
      " 80  cons.price.idx_missing         20000 non-null  int64  \n",
      " 81  cons.conf.idx_missing          20000 non-null  int64  \n",
      " 82  euribor3m_missing              20000 non-null  int64  \n",
      " 83  nr.employed_missing            20000 non-null  int64  \n",
      "dtypes: float64(8), int64(76)\n",
      "memory usage: 12.8 MB\n"
     ]
    }
   ],
   "source": [
    "data.info()"
   ]
  },
  {
   "cell_type": "code",
   "execution_count": 5,
   "metadata": {},
   "outputs": [
    {
     "name": "stdout",
     "output_type": "stream",
     "text": [
      "(20000, 83)\n",
      "(20000,)\n"
     ]
    }
   ],
   "source": [
    "y = data['subscribe']\n",
    "X = data.drop('subscribe', axis = 1)\n",
    "print(X.shape)\n",
    "print(y.shape)"
   ]
  },
  {
   "cell_type": "code",
   "execution_count": 8,
   "metadata": {},
   "outputs": [],
   "source": [
    "linear_svc = SVC(kernel='linear', probability=True)\n",
    "    # split in train and test data\n",
    "X_train, X_test, y_train, y_test = train_test_split(X, y, test_size=0.3, random_state=42)\n",
    "\n",
    "linear_svc.fit(X_train, y_train)\n",
    "\n",
    "# predict probabilities\n",
    "pred_train = linear_svc.predict_proba(X_train)\n",
    "pred_test = linear_svc.predict_proba(X_test)\n"
   ]
  },
  {
   "cell_type": "code",
   "execution_count": 9,
   "metadata": {},
   "outputs": [],
   "source": [
    "pred_train = pd.DataFrame(pred_train)\n",
    "pred_test = pd.DataFrame(pred_test)"
   ]
  },
  {
   "cell_type": "code",
   "execution_count": 10,
   "metadata": {},
   "outputs": [
    {
     "name": "stdout",
     "output_type": "stream",
     "text": [
      "0.11355\n"
     ]
    }
   ],
   "source": [
    "percentage = data[data.subscribe == 1].shape[0]/data.shape[0]\n",
    "print(percentage)"
   ]
  },
  {
   "cell_type": "code",
   "execution_count": 13,
   "metadata": {},
   "outputs": [],
   "source": [
    "pred_train.loc[pred_train[1] > percentage, 'y'] = 1\n",
    "pred_test.loc[pred_test[1] > percentage, 'y'] = 1"
   ]
  },
  {
   "cell_type": "code",
   "execution_count": 14,
   "metadata": {},
   "outputs": [],
   "source": [
    "pred_train['y'] =  np.where(pred_train['y'] == 1, 1, 0)\n",
    "pred_test['y'] =  np.where(pred_test['y'] == 1, 1, 0)"
   ]
  },
  {
   "cell_type": "code",
   "execution_count": 15,
   "metadata": {},
   "outputs": [
    {
     "data": {
      "text/plain": [
       "{'svm': {'Acc_train': 0.6255714285714286, 'Acc_test': 0.6266666666666667}}"
      ]
     },
     "execution_count": 15,
     "metadata": {},
     "output_type": "execute_result"
    }
   ],
   "source": [
    "# evaluate predictions\n",
    "mlp_acc_train = accuracy_score(y_train, pred_train['y'])\n",
    "mlp_acc_test = accuracy_score(y_test, pred_test['y'])\n",
    "\n",
    "eval_dict = {\"svm\": {\"Acc_train\": mlp_acc_train, \"Acc_test\": mlp_acc_test}}\n",
    "eval_dict"
   ]
  },
  {
   "cell_type": "code",
   "execution_count": 16,
   "metadata": {},
   "outputs": [
    {
     "data": {
      "text/plain": [
       "0.5620590938206395"
      ]
     },
     "execution_count": 16,
     "metadata": {},
     "output_type": "execute_result"
    }
   ],
   "source": [
    "roc_auc_score(y_test, linear_svc.predict_proba(X_test)[:, 1])"
   ]
  },
  {
   "cell_type": "code",
   "execution_count": 18,
   "metadata": {},
   "outputs": [
    {
     "name": "stderr",
     "output_type": "stream",
     "text": [
      "C:\\tools\\Anaconda3\\envs\\py\\lib\\site-packages\\sklearn\\utils\\deprecation.py:87: FutureWarning: Function plot_roc_curve is deprecated; Function :func:`plot_roc_curve` is deprecated in 1.0 and will be removed in 1.2. Use one of the class methods: :meth:`sklearn.metric.RocCurveDisplay.from_predictions` or :meth:`sklearn.metric.RocCurveDisplay.from_estimator`.\n",
      "  warnings.warn(msg, category=FutureWarning)\n"
     ]
    },
    {
     "data": {
      "image/png": "[encoded data removed]",
      "text/plain": [
       "<Figure size 432x288 with 1 Axes>"
      ]
     },
     "metadata": {
      "needs_background": "light"
     },
     "output_type": "display_data"
    }
   ],
   "source": [
    "from sklearn import datasets, metrics\n",
    "\n",
    "metrics.plot_roc_curve(linear_svc, X_test, y_test)\n",
    "plt.show()"
   ]
  },
  {
   "cell_type": "code",
   "execution_count": 19,
   "metadata": {},
   "outputs": [
    {
     "data": {
      "image/png": "[encoded data removed]",
      "text/plain": [
       "<Figure size 432x288 with 2 Axes>"
      ]
     },
     "metadata": {
      "needs_background": "light"
     },
     "output_type": "display_data"
    }
   ],
   "source": [
    "from sklearn.metrics import confusion_matrix, ConfusionMatrixDisplay\n",
    "\n",
    "cm = confusion_matrix(y_test, pred_test['y'])\n",
    "disp = ConfusionMatrixDisplay(confusion_matrix=cm)\n",
    "disp.plot()\n",
    "plt.show()"
   ]
  },
  {
   "cell_type": "code",
   "execution_count": 23,
   "metadata": {},
   "outputs": [],
   "source": [
    "from sklearn.preprocessing import StandardScaler\n",
    "\n",
    "linear_svc = SVC(kernel='linear', probability=True)\n",
    "    # split in train and test data\n",
    "X_train, X_test, y_train, y_test = train_test_split(StandardScaler().fit_transform(X = X), y, test_size=0.3, random_state=42)\n",
    "\n",
    "linear_svc.fit(X_train, y_train)\n",
    "\n",
    "# predict probabilities\n",
    "pred_train = linear_svc.predict_proba(X_train)\n",
    "pred_test = linear_svc.predict_proba(X_test)"
   ]
  },
  {
   "cell_type": "code",
   "execution_count": 24,
   "metadata": {},
   "outputs": [
    {
     "data": {
      "text/plain": [
       "{'dtree': {'Acc_train': 0.8997857142857143, 'Acc_test': 0.8928333333333334}}"
      ]
     },
     "execution_count": 24,
     "metadata": {},
     "output_type": "execute_result"
    }
   ],
   "source": [
    "pred_train = pd.DataFrame(pred_train)\n",
    "pred_test = pd.DataFrame(pred_test)\n",
    "percentage = data[data.subscribe == 1].shape[0]/data.shape[0]\n",
    "pred_train.loc[pred_train[1] > percentage, 'y'] = 1\n",
    "pred_test.loc[pred_test[1] > percentage, 'y'] = 1\n",
    "pred_train['y'] =  np.where(pred_train['y'] == 1, 1, 0)\n",
    "pred_test['y'] =  np.where(pred_test['y'] == 1, 1, 0)\n",
    "# evaluate predictions\n",
    "mlp_acc_train = accuracy_score(y_train, pred_train['y'])\n",
    "mlp_acc_test = accuracy_score(y_test, pred_test['y'])\n",
    "\n",
    "eval_dict = {\"dtree\": {\"Acc_train\": mlp_acc_train, \"Acc_test\": mlp_acc_test}}\n",
    "eval_dict"
   ]
  },
  {
   "cell_type": "code",
   "execution_count": 25,
   "metadata": {},
   "outputs": [
    {
     "name": "stdout",
     "output_type": "stream",
     "text": [
      "0.5523516208614705\n",
      "0.5462016364385083\n"
     ]
    }
   ],
   "source": [
    "print(roc_auc_score(y_train, linear_svc.predict_proba(X_train)[:, 1]))\n",
    "print(roc_auc_score(y_test, linear_svc.predict_proba(X_test)[:, 1]))"
   ]
  },
  {
   "cell_type": "code",
   "execution_count": 26,
   "metadata": {},
   "outputs": [
    {
     "name": "stderr",
     "output_type": "stream",
     "text": [
      "C:\\tools\\Anaconda3\\envs\\py\\lib\\site-packages\\sklearn\\utils\\deprecation.py:87: FutureWarning: Function plot_roc_curve is deprecated; Function :func:`plot_roc_curve` is deprecated in 1.0 and will be removed in 1.2. Use one of the class methods: :meth:`sklearn.metric.RocCurveDisplay.from_predictions` or :meth:`sklearn.metric.RocCurveDisplay.from_estimator`.\n",
      "  warnings.warn(msg, category=FutureWarning)\n"
     ]
    },
    {
     "data": {
      "image/png": "[encoded data removed]",
      "text/plain": [
       "<Figure size 432x288 with 1 Axes>"
      ]
     },
     "metadata": {
      "needs_background": "light"
     },
     "output_type": "display_data"
    }
   ],
   "source": [
    "from sklearn import datasets, metrics\n",
    "\n",
    "metrics.plot_roc_curve(linear_svc, X_test, y_test)\n",
    "plt.show()"
   ]
  },
  {
   "cell_type": "code",
   "execution_count": 27,
   "metadata": {},
   "outputs": [
    {
     "data": {
      "image/png": "[encoded data removed]",
      "text/plain": [
       "<Figure size 432x288 with 2 Axes>"
      ]
     },
     "metadata": {
      "needs_background": "light"
     },
     "output_type": "display_data"
    }
   ],
   "source": [
    "from sklearn.metrics import confusion_matrix, ConfusionMatrixDisplay\n",
    "\n",
    "cm = confusion_matrix(y_test, pred_test['y'])\n",
    "disp = ConfusionMatrixDisplay(confusion_matrix=cm)\n",
    "disp.plot()\n",
    "plt.show()"
   ]
  },
  {
   "cell_type": "code",
   "execution_count": 29,
   "metadata": {},
   "outputs": [],
   "source": [
    "forward_selection_features = ['job_student', 'marital_single', 'default_no' ,  'contact_telephone', 'month_apr',  'month_dec',  'month_jun',  'month_mar' , 'month_oct' , 'month_sep', 'day_of_week_mon',  'poutcome_success',  'age-group_60-70' , 'age-group_70-80',  'age-group_80-90']\n",
    "\n",
    "backward_selection_features = ['pdays', 'cons.conf.idx', 'nr.employed', 'job_blue-collar','contact_telephone', 'month_jul', 'month_jun', 'month_mar', 'month_may', 'day_of_week_mon', 'poutcome_nonexistent', 'poutcome_success', 'pdays_missing', 'cons.conf.idx_missing', 'nr.employed_missing']"
   ]
  },
  {
   "cell_type": "code",
   "execution_count": 56,
   "metadata": {},
   "outputs": [],
   "source": [
    "linear_svc = SVC(kernel='linear', probability=True)\n",
    "    # split in train and test data\n",
    "X_train, X_test, y_train, y_test = train_test_split(X.loc[:,forward_selection_features], y, test_size=0.3, random_state=42)\n",
    "\n",
    "linear_svc.fit(X_train, y_train)\n",
    "\n",
    "# predict probabilities\n",
    "pred_train = linear_svc.predict_proba(X_train)\n",
    "pred_test = linear_svc.predict_proba(X_test)"
   ]
  },
  {
   "cell_type": "code",
   "execution_count": 57,
   "metadata": {},
   "outputs": [
    {
     "data": {
      "text/plain": [
       "{'dtree': {'Acc_train': 0.8992857142857142, 'Acc_test': 0.8926666666666667}}"
      ]
     },
     "execution_count": 57,
     "metadata": {},
     "output_type": "execute_result"
    }
   ],
   "source": [
    "pred_train = pd.DataFrame(pred_train)\n",
    "pred_test = pd.DataFrame(pred_test)\n",
    "percentage = data[data.subscribe == 1].shape[0]/data.shape[0]\n",
    "pred_train.loc[pred_train[1] > percentage, 'y'] = 1\n",
    "pred_test.loc[pred_test[1] > percentage, 'y'] = 1\n",
    "pred_train['y'] =  np.where(pred_train['y'] == 1, 1, 0)\n",
    "pred_test['y'] =  np.where(pred_test['y'] == 1, 1, 0)\n",
    "# evaluate predictions\n",
    "mlp_acc_train = accuracy_score(y_train, pred_train['y'])\n",
    "mlp_acc_test = accuracy_score(y_test, pred_test['y'])\n",
    "\n",
    "eval_dict = {\"dtree\": {\"Acc_train\": mlp_acc_train, \"Acc_test\": mlp_acc_test}}\n",
    "eval_dict"
   ]
  },
  {
   "cell_type": "code",
   "execution_count": 58,
   "metadata": {},
   "outputs": [
    {
     "name": "stdout",
     "output_type": "stream",
     "text": [
      "0.622119111744716\n",
      "0.6003345402149727\n"
     ]
    }
   ],
   "source": [
    "print(roc_auc_score(y_train, linear_svc.predict_proba(X_train)[:, 1]))\n",
    "print(roc_auc_score(y_test, linear_svc.predict_proba(X_test)[:, 1]))"
   ]
  },
  {
   "cell_type": "code",
   "execution_count": 59,
   "metadata": {},
   "outputs": [
    {
     "data": {
      "image/png": "[encoded data removed]",
      "text/plain": [
       "<Figure size 432x288 with 2 Axes>"
      ]
     },
     "metadata": {
      "needs_background": "light"
     },
     "output_type": "display_data"
    }
   ],
   "source": [
    "from sklearn.metrics import confusion_matrix, ConfusionMatrixDisplay\n",
    "\n",
    "cm = confusion_matrix(y_test, pred_test['y'])\n",
    "disp = ConfusionMatrixDisplay(confusion_matrix=cm)\n",
    "disp.plot()\n",
    "plt.show()"
   ]
  },
  {
   "cell_type": "code",
   "execution_count": 60,
   "metadata": {},
   "outputs": [],
   "source": [
    "linear_svc = SVC(kernel='sigmoid', probability=True)\n",
    "    # split in train and test data\n",
    "X_train, X_test, y_train, y_test = train_test_split(X.loc[:,forward_selection_features], y, test_size=0.3, random_state=42)\n",
    "\n",
    "linear_svc.fit(X_train, y_train)\n",
    "\n",
    "# predict probabilities\n",
    "pred_train = linear_svc.predict_proba(X_train)\n",
    "pred_test = linear_svc.predict_proba(X_test)"
   ]
  },
  {
   "cell_type": "code",
   "execution_count": 61,
   "metadata": {},
   "outputs": [
    {
     "data": {
      "text/plain": [
       "{'dtree': {'Acc_train': 0.5650714285714286, 'Acc_test': 0.5621666666666667}}"
      ]
     },
     "execution_count": 61,
     "metadata": {},
     "output_type": "execute_result"
    }
   ],
   "source": [
    "pred_train = pd.DataFrame(pred_train)\n",
    "pred_test = pd.DataFrame(pred_test)\n",
    "percentage = data[data.subscribe == 1].shape[0]/data.shape[0]\n",
    "pred_train.loc[pred_train[1] > percentage, 'y'] = 1\n",
    "pred_test.loc[pred_test[1] > percentage, 'y'] = 1\n",
    "pred_train['y'] =  np.where(pred_train['y'] == 1, 1, 0)\n",
    "pred_test['y'] =  np.where(pred_test['y'] == 1, 1, 0)\n",
    "# evaluate predictions\n",
    "mlp_acc_train = accuracy_score(y_train, pred_train['y'])\n",
    "mlp_acc_test = accuracy_score(y_test, pred_test['y'])\n",
    "\n",
    "eval_dict = {\"dtree\": {\"Acc_train\": mlp_acc_train, \"Acc_test\": mlp_acc_test}}\n",
    "eval_dict"
   ]
  },
  {
   "cell_type": "code",
   "execution_count": 62,
   "metadata": {},
   "outputs": [
    {
     "name": "stdout",
     "output_type": "stream",
     "text": [
      "0.6143033662274118\n",
      "0.6021841448942066\n"
     ]
    }
   ],
   "source": [
    "print(roc_auc_score(y_train, linear_svc.predict_proba(X_train)[:, 1]))\n",
    "print(roc_auc_score(y_test, linear_svc.predict_proba(X_test)[:, 1]))"
   ]
  },
  {
   "cell_type": "code",
   "execution_count": 63,
   "metadata": {},
   "outputs": [
    {
     "data": {
      "image/png": "[encoded data removed]",
      "text/plain": [
       "<Figure size 432x288 with 2 Axes>"
      ]
     },
     "metadata": {
      "needs_background": "light"
     },
     "output_type": "display_data"
    }
   ],
   "source": [
    "from sklearn.metrics import confusion_matrix, ConfusionMatrixDisplay\n",
    "\n",
    "cm = confusion_matrix(y_test, pred_test['y'])\n",
    "disp = ConfusionMatrixDisplay(confusion_matrix=cm)\n",
    "disp.plot()\n",
    "plt.show()"
   ]
  },
  {
   "cell_type": "code",
   "execution_count": 64,
   "metadata": {},
   "outputs": [],
   "source": [
    "linear_svc = SVC(kernel='rbf', C = 0.1, probability=True)\n",
    "    # split in train and test data\n",
    "X_train, X_test, y_train, y_test = train_test_split(X.loc[:,forward_selection_features], y, test_size=0.3, random_state=42)\n",
    "\n",
    "linear_svc.fit(X_train, y_train)\n",
    "\n",
    "# predict probabilities\n",
    "pred_train = linear_svc.predict_proba(X_train)\n",
    "pred_test = linear_svc.predict_proba(X_test)"
   ]
  },
  {
   "cell_type": "code",
   "execution_count": 65,
   "metadata": {},
   "outputs": [
    {
     "data": {
      "text/plain": [
       "{'dtree': {'Acc_train': 0.9011428571428571, 'Acc_test': 0.8931666666666667}}"
      ]
     },
     "execution_count": 65,
     "metadata": {},
     "output_type": "execute_result"
    }
   ],
   "source": [
    "pred_train = pd.DataFrame(pred_train)\n",
    "pred_test = pd.DataFrame(pred_test)\n",
    "percentage = data[data.subscribe == 1].shape[0]/data.shape[0]\n",
    "pred_train.loc[pred_train[1] > percentage, 'y'] = 1\n",
    "pred_test.loc[pred_test[1] > percentage, 'y'] = 1\n",
    "pred_train['y'] =  np.where(pred_train['y'] == 1, 1, 0)\n",
    "pred_test['y'] =  np.where(pred_test['y'] == 1, 1, 0)\n",
    "# evaluate predictions\n",
    "mlp_acc_train = accuracy_score(y_train, pred_train['y'])\n",
    "mlp_acc_test = accuracy_score(y_test, pred_test['y'])\n",
    "\n",
    "eval_dict = {\"dtree\": {\"Acc_train\": mlp_acc_train, \"Acc_test\": mlp_acc_test}}\n",
    "eval_dict"
   ]
  },
  {
   "cell_type": "code",
   "execution_count": 66,
   "metadata": {},
   "outputs": [
    {
     "name": "stdout",
     "output_type": "stream",
     "text": [
      "0.6484291901903475\n",
      "0.652330704987586\n"
     ]
    }
   ],
   "source": [
    "print(roc_auc_score(y_train, linear_svc.predict_proba(X_train)[:, 1]))\n",
    "print(roc_auc_score(y_test, linear_svc.predict_proba(X_test)[:, 1]))"
   ]
  },
  {
   "cell_type": "code",
   "execution_count": 67,
   "metadata": {},
   "outputs": [
    {
     "data": {
      "image/png": "[encoded data removed]",
      "text/plain": [
       "<Figure size 432x288 with 2 Axes>"
      ]
     },
     "metadata": {
      "needs_background": "light"
     },
     "output_type": "display_data"
    }
   ],
   "source": [
    "from sklearn.metrics import confusion_matrix, ConfusionMatrixDisplay\n",
    "\n",
    "cm = confusion_matrix(y_test, pred_test['y'])\n",
    "disp = ConfusionMatrixDisplay(confusion_matrix=cm)\n",
    "disp.plot()\n",
    "plt.show()"
   ]
  },
  {
   "cell_type": "code",
   "execution_count": 68,
   "metadata": {},
   "outputs": [],
   "source": [
    "linear_svc = SVC(kernel='linear', C = 0.1, probability=True)\n",
    "    # split in train and test data\n",
    "X_train, X_test, y_train, y_test = train_test_split(X.loc[:,forward_selection_features], y, test_size=0.3, random_state=42)\n",
    "\n",
    "linear_svc.fit(X_train, y_train)\n",
    "\n",
    "# predict probabilities\n",
    "pred_train = linear_svc.predict_proba(X_train)\n",
    "pred_test = linear_svc.predict_proba(X_test)"
   ]
  },
  {
   "cell_type": "code",
   "execution_count": 69,
   "metadata": {},
   "outputs": [
    {
     "data": {
      "text/plain": [
       "{'dtree': {'Acc_train': 0.8992857142857142, 'Acc_test': 0.8926666666666667}}"
      ]
     },
     "execution_count": 69,
     "metadata": {},
     "output_type": "execute_result"
    }
   ],
   "source": [
    "pred_train = pd.DataFrame(pred_train)\n",
    "pred_test = pd.DataFrame(pred_test)\n",
    "percentage = data[data.subscribe == 1].shape[0]/data.shape[0]\n",
    "pred_train.loc[pred_train[1] > percentage, 'y'] = 1\n",
    "pred_test.loc[pred_test[1] > percentage, 'y'] = 1\n",
    "pred_train['y'] =  np.where(pred_train['y'] == 1, 1, 0)\n",
    "pred_test['y'] =  np.where(pred_test['y'] == 1, 1, 0)\n",
    "# evaluate predictions\n",
    "mlp_acc_train = accuracy_score(y_train, pred_train['y'])\n",
    "mlp_acc_test = accuracy_score(y_test, pred_test['y'])\n",
    "\n",
    "eval_dict = {\"dtree\": {\"Acc_train\": mlp_acc_train, \"Acc_test\": mlp_acc_test}}\n",
    "eval_dict"
   ]
  },
  {
   "cell_type": "code",
   "execution_count": 70,
   "metadata": {},
   "outputs": [
    {
     "name": "stdout",
     "output_type": "stream",
     "text": [
      "0.6362912639568813\n",
      "0.6214669049966183\n"
     ]
    }
   ],
   "source": [
    "print(roc_auc_score(y_train, linear_svc.predict_proba(X_train)[:, 1]))\n",
    "print(roc_auc_score(y_test, linear_svc.predict_proba(X_test)[:, 1]))"
   ]
  },
  {
   "cell_type": "code",
   "execution_count": 71,
   "metadata": {},
   "outputs": [
    {
     "data": {
      "image/png": "[encoded data removed]",
      "text/plain": [
       "<Figure size 432x288 with 2 Axes>"
      ]
     },
     "metadata": {
      "needs_background": "light"
     },
     "output_type": "display_data"
    }
   ],
   "source": [
    "from sklearn.metrics import confusion_matrix, ConfusionMatrixDisplay\n",
    "\n",
    "cm = confusion_matrix(y_test, pred_test['y'])\n",
    "disp = ConfusionMatrixDisplay(confusion_matrix=cm)\n",
    "disp.plot()\n",
    "plt.show()"
   ]
  },
  {
   "cell_type": "code",
   "execution_count": 72,
   "metadata": {},
   "outputs": [],
   "source": [
    "linear_svc = SVC(kernel='sigmoid', C = 0.1, probability=True)\n",
    "    # split in train and test data\n",
    "X_train, X_test, y_train, y_test = train_test_split(X.loc[:,forward_selection_features], y, test_size=0.3, random_state=42)\n",
    "\n",
    "linear_svc.fit(X_train, y_train)\n",
    "\n",
    "# predict probabilities\n",
    "pred_train = linear_svc.predict_proba(X_train)\n",
    "pred_test = linear_svc.predict_proba(X_test)"
   ]
  },
  {
   "cell_type": "code",
   "execution_count": 73,
   "metadata": {},
   "outputs": [
    {
     "data": {
      "text/plain": [
       "{'dtree': {'Acc_train': 0.5525714285714286, 'Acc_test': 0.5531666666666667}}"
      ]
     },
     "execution_count": 73,
     "metadata": {},
     "output_type": "execute_result"
    }
   ],
   "source": [
    "pred_train = pd.DataFrame(pred_train)\n",
    "pred_test = pd.DataFrame(pred_test)\n",
    "percentage = data[data.subscribe == 1].shape[0]/data.shape[0]\n",
    "pred_train.loc[pred_train[1] > percentage, 'y'] = 1\n",
    "pred_test.loc[pred_test[1] > percentage, 'y'] = 1\n",
    "pred_train['y'] =  np.where(pred_train['y'] == 1, 1, 0)\n",
    "pred_test['y'] =  np.where(pred_test['y'] == 1, 1, 0)\n",
    "# evaluate predictions\n",
    "mlp_acc_train = accuracy_score(y_train, pred_train['y'])\n",
    "mlp_acc_test = accuracy_score(y_test, pred_test['y'])\n",
    "\n",
    "eval_dict = {\"dtree\": {\"Acc_train\": mlp_acc_train, \"Acc_test\": mlp_acc_test}}\n",
    "eval_dict"
   ]
  },
  {
   "cell_type": "code",
   "execution_count": 74,
   "metadata": {},
   "outputs": [
    {
     "name": "stdout",
     "output_type": "stream",
     "text": [
      "0.6157641446456497\n",
      "0.6020294210468792\n"
     ]
    }
   ],
   "source": [
    "print(roc_auc_score(y_train, linear_svc.predict_proba(X_train)[:, 1]))\n",
    "print(roc_auc_score(y_test, linear_svc.predict_proba(X_test)[:, 1]))"
   ]
  },
  {
   "cell_type": "code",
   "execution_count": 75,
   "metadata": {},
   "outputs": [
    {
     "data": {
      "image/png": "[encoded data removed]",
      "text/plain": [
       "<Figure size 432x288 with 2 Axes>"
      ]
     },
     "metadata": {
      "needs_background": "light"
     },
     "output_type": "display_data"
    }
   ],
   "source": [
    "from sklearn.metrics import confusion_matrix, ConfusionMatrixDisplay\n",
    "\n",
    "cm = confusion_matrix(y_test, pred_test['y'])\n",
    "disp = ConfusionMatrixDisplay(confusion_matrix=cm)\n",
    "disp.plot()\n",
    "plt.show()"
   ]
  },
  {
   "cell_type": "code",
   "execution_count": 76,
   "metadata": {},
   "outputs": [],
   "source": [
    "linear_svc = SVC(kernel='rbf', C = 0.01, probability=True)\n",
    "    # split in train and test data\n",
    "X_train, X_test, y_train, y_test = train_test_split(X.loc[:,forward_selection_features], y, test_size=0.3, random_state=42)\n",
    "\n",
    "linear_svc.fit(X_train, y_train)\n",
    "\n",
    "# predict probabilities\n",
    "pred_train = linear_svc.predict_proba(X_train)\n",
    "pred_test = linear_svc.predict_proba(X_test)"
   ]
  },
  {
   "cell_type": "code",
   "execution_count": 77,
   "metadata": {},
   "outputs": [
    {
     "data": {
      "text/plain": [
       "{'dtree': {'Acc_train': 0.9007857142857143, 'Acc_test': 0.8926666666666667}}"
      ]
     },
     "execution_count": 77,
     "metadata": {},
     "output_type": "execute_result"
    }
   ],
   "source": [
    "pred_train = pd.DataFrame(pred_train)\n",
    "pred_test = pd.DataFrame(pred_test)\n",
    "percentage = data[data.subscribe == 1].shape[0]/data.shape[0]\n",
    "pred_train.loc[pred_train[1] > percentage, 'y'] = 1\n",
    "pred_test.loc[pred_test[1] > percentage, 'y'] = 1\n",
    "pred_train['y'] =  np.where(pred_train['y'] == 1, 1, 0)\n",
    "pred_test['y'] =  np.where(pred_test['y'] == 1, 1, 0)\n",
    "# evaluate predictions\n",
    "mlp_acc_train = accuracy_score(y_train, pred_train['y'])\n",
    "mlp_acc_test = accuracy_score(y_test, pred_test['y'])\n",
    "\n",
    "eval_dict = {\"dtree\": {\"Acc_train\": mlp_acc_train, \"Acc_test\": mlp_acc_test}}\n",
    "eval_dict"
   ]
  },
  {
   "cell_type": "code",
   "execution_count": 78,
   "metadata": {},
   "outputs": [
    {
     "name": "stdout",
     "output_type": "stream",
     "text": [
      "0.6465583326272458\n",
      "0.649973771769231\n"
     ]
    }
   ],
   "source": [
    "print(roc_auc_score(y_train, linear_svc.predict_proba(X_train)[:, 1]))\n",
    "print(roc_auc_score(y_test, linear_svc.predict_proba(X_test)[:, 1]))"
   ]
  },
  {
   "cell_type": "code",
   "execution_count": 79,
   "metadata": {},
   "outputs": [
    {
     "data": {
      "image/png": "[encoded data removed]",
      "text/plain": [
       "<Figure size 432x288 with 2 Axes>"
      ]
     },
     "metadata": {
      "needs_background": "light"
     },
     "output_type": "display_data"
    }
   ],
   "source": [
    "from sklearn.metrics import confusion_matrix, ConfusionMatrixDisplay\n",
    "\n",
    "cm = confusion_matrix(y_test, pred_test['y'])\n",
    "disp = ConfusionMatrixDisplay(confusion_matrix=cm)\n",
    "disp.plot()\n",
    "plt.show()"
   ]
  },
  {
   "cell_type": "code",
   "execution_count": 83,
   "metadata": {},
   "outputs": [],
   "source": [
    "linear_svc = SVC(kernel='rbf', C = 1, probability=True)\n",
    "    # split in train and test data\n",
    "X_train, X_test, y_train, y_test = train_test_split(X.loc[:,forward_selection_features], y, test_size=0.3, random_state=42)\n",
    "\n",
    "linear_svc.fit(X_train, y_train)\n",
    "\n",
    "# predict probabilities\n",
    "pred_train = linear_svc.predict_proba(X_train)\n",
    "pred_test = linear_svc.predict_proba(X_test)"
   ]
  },
  {
   "cell_type": "code",
   "execution_count": 86,
   "metadata": {},
   "outputs": [
    {
     "data": {
      "text/plain": [
       "{'dtree': {'Acc_train': 0.9032857142857142, 'Acc_test': 0.8921666666666667}}"
      ]
     },
     "execution_count": 86,
     "metadata": {},
     "output_type": "execute_result"
    }
   ],
   "source": [
    "pred_train = pd.DataFrame(pred_train)\n",
    "pred_test = pd.DataFrame(pred_test)\n",
    "percentage = data[data.subscribe == 1].shape[0]/data.shape[0]\n",
    "pred_train.loc[pred_train[1] > percentage, 'y'] = 1\n",
    "pred_test.loc[pred_test[1] > percentage, 'y'] = 1\n",
    "pred_train['y'] =  np.where(pred_train['y'] == 1, 1, 0)\n",
    "pred_test['y'] =  np.where(pred_test['y'] == 1, 1, 0)\n",
    "# evaluate predictions\n",
    "mlp_acc_train = accuracy_score(y_train, pred_train['y'])\n",
    "mlp_acc_test = accuracy_score(y_test, pred_test['y'])\n",
    "\n",
    "eval_dict = {\"dtree\": {\"Acc_train\": mlp_acc_train, \"Acc_test\": mlp_acc_test}}\n",
    "eval_dict"
   ]
  },
  {
   "cell_type": "code",
   "execution_count": 87,
   "metadata": {},
   "outputs": [
    {
     "name": "stdout",
     "output_type": "stream",
     "text": [
      "0.6446262665358142\n",
      "0.6309039907796344\n"
     ]
    }
   ],
   "source": [
    "print(roc_auc_score(y_train, linear_svc.predict_proba(X_train)[:, 1]))\n",
    "print(roc_auc_score(y_test, linear_svc.predict_proba(X_test)[:, 1]))"
   ]
  },
  {
   "cell_type": "code",
   "execution_count": 138,
   "metadata": {},
   "outputs": [],
   "source": [
    "linear_svc = SVC(kernel='sigmoid', C = 0.01, probability=True)\n",
    "    # split in train and test data\n",
    "X_train, X_test, y_train, y_test = train_test_split(StandardScaler().fit_transform(X), y, test_size=0.3, random_state=42)\n",
    "\n",
    "linear_svc.fit(X_train, y_train)\n",
    "\n",
    "# predict probabilities\n",
    "pred_train = linear_svc.predict_proba(X_train)\n",
    "pred_test = linear_svc.predict_proba(X_test)"
   ]
  },
  {
   "cell_type": "code",
   "execution_count": 139,
   "metadata": {},
   "outputs": [
    {
     "data": {
      "text/plain": [
       "{'dtree': {'Acc_train': 0.8938571428571429, 'Acc_test': 0.8911666666666667}}"
      ]
     },
     "execution_count": 139,
     "metadata": {},
     "output_type": "execute_result"
    }
   ],
   "source": [
    "pred_train = pd.DataFrame(pred_train)\n",
    "pred_test = pd.DataFrame(pred_test)\n",
    "percentage = data[data.subscribe == 1].shape[0]/data.shape[0]\n",
    "pred_train.loc[pred_train[1] > percentage, 'y'] = 1\n",
    "pred_test.loc[pred_test[1] > percentage, 'y'] = 1\n",
    "pred_train['y'] =  np.where(pred_train['y'] == 1, 1, 0)\n",
    "pred_test['y'] =  np.where(pred_test['y'] == 1, 1, 0)\n",
    "# evaluate predictions\n",
    "mlp_acc_train = accuracy_score(y_train, pred_train['y'])\n",
    "mlp_acc_test = accuracy_score(y_test, pred_test['y'])\n",
    "\n",
    "eval_dict = {\"dtree\": {\"Acc_train\": mlp_acc_train, \"Acc_test\": mlp_acc_test}}\n",
    "eval_dict"
   ]
  },
  {
   "cell_type": "code",
   "execution_count": 140,
   "metadata": {},
   "outputs": [
    {
     "name": "stdout",
     "output_type": "stream",
     "text": [
      "0.5753293178207974\n",
      "0.6247719560220846\n"
     ]
    }
   ],
   "source": [
    "print(roc_auc_score(y_train, linear_svc.predict_proba(X_train)[:, 1]))\n",
    "print(roc_auc_score(y_test, linear_svc.predict_proba(X_test)[:, 1]))"
   ]
  },
  {
   "cell_type": "code",
   "execution_count": 141,
   "metadata": {},
   "outputs": [
    {
     "data": {
      "image/png": "[encoded data removed]",
      "text/plain": [
       "<Figure size 432x288 with 2 Axes>"
      ]
     },
     "metadata": {
      "needs_background": "light"
     },
     "output_type": "display_data"
    }
   ],
   "source": [
    "from sklearn.metrics import confusion_matrix, ConfusionMatrixDisplay\n",
    "\n",
    "cm = confusion_matrix(y_test, pred_test['y'])\n",
    "disp = ConfusionMatrixDisplay(confusion_matrix=cm)\n",
    "disp.plot()\n",
    "plt.show()"
   ]
  },
  {
   "cell_type": "code",
   "execution_count": 147,
   "metadata": {},
   "outputs": [],
   "source": [
    "X_norm = pd.DataFrame()\n",
    "for col in X.columns:\n",
    "    X_norm[col] = X[col].map(lambda x: (x - np.mean(X[col]))/ np.std(X[col]))"
   ]
  },
  {
   "cell_type": "code",
   "execution_count": 161,
   "metadata": {},
   "outputs": [],
   "source": [
    "linear_svc = SVC(kernel='sigmoid', C = 100, probability=True)\n",
    "    # split in train and test data\n",
    "X_train, X_test, y_train, y_test = train_test_split(X_norm, y, test_size=0.3, random_state=42)\n",
    "\n",
    "linear_svc.fit(X_train, y_train)\n",
    "\n",
    "# predict probabilities\n",
    "pred_train = linear_svc.predict_proba(X_train)\n",
    "pred_test = linear_svc.predict_proba(X_test)"
   ]
  },
  {
   "cell_type": "code",
   "execution_count": 162,
   "metadata": {},
   "outputs": [
    {
     "data": {
      "text/plain": [
       "{'dtree': {'Acc_train': 0.7283571428571428, 'Acc_test': 0.711}}"
      ]
     },
     "execution_count": 162,
     "metadata": {},
     "output_type": "execute_result"
    }
   ],
   "source": [
    "pred_train = pd.DataFrame(pred_train)\n",
    "pred_test = pd.DataFrame(pred_test)\n",
    "percentage = data[data.subscribe == 1].shape[0]/data.shape[0]\n",
    "pred_train.loc[pred_train[1] > percentage, 'y'] = 1\n",
    "pred_test.loc[pred_test[1] > percentage, 'y'] = 1\n",
    "pred_train['y'] =  np.where(pred_train['y'] == 1, 1, 0)\n",
    "pred_test['y'] =  np.where(pred_test['y'] == 1, 1, 0)\n",
    "# evaluate predictions\n",
    "mlp_acc_train = accuracy_score(y_train, pred_train['y'])\n",
    "mlp_acc_test = accuracy_score(y_test, pred_test['y'])\n",
    "\n",
    "eval_dict = {\"dtree\": {\"Acc_train\": mlp_acc_train, \"Acc_test\": mlp_acc_test}}\n",
    "eval_dict"
   ]
  },
  {
   "cell_type": "code",
   "execution_count": 163,
   "metadata": {},
   "outputs": [
    {
     "name": "stdout",
     "output_type": "stream",
     "text": [
      "0.5216595413530062\n",
      "0.46789800839143053\n"
     ]
    }
   ],
   "source": [
    "print(roc_auc_score(y_train, linear_svc.predict_proba(X_train)[:, 1]))\n",
    "print(roc_auc_score(y_test, linear_svc.predict_proba(X_test)[:, 1]))"
   ]
  },
  {
   "cell_type": "code",
   "execution_count": 164,
   "metadata": {},
   "outputs": [
    {
     "data": {
      "image/png": "[encoded data removed]",
      "text/plain": [
       "<Figure size 432x288 with 2 Axes>"
      ]
     },
     "metadata": {
      "needs_background": "light"
     },
     "output_type": "display_data"
    }
   ],
   "source": [
    "from sklearn.metrics import confusion_matrix, ConfusionMatrixDisplay\n",
    "\n",
    "cm = confusion_matrix(y_test, pred_test['y'])\n",
    "disp = ConfusionMatrixDisplay(confusion_matrix=cm)\n",
    "disp.plot()\n",
    "plt.show()"
   ]
  },
  {
   "cell_type": "code",
   "execution_count": 165,
   "metadata": {},
   "outputs": [],
   "source": [
    "linear_svc = SVC(kernel='sigmoid', C = 0.01, probability=True)\n",
    "    # split in train and test data\n",
    "X_train, X_test, y_train, y_test = train_test_split(StandardScaler().fit_transform(X.loc[:, backward_selection_features]), y, test_size=0.3, random_state=42)\n",
    "\n",
    "linear_svc.fit(X_train, y_train)\n",
    "\n",
    "# predict probabilities\n",
    "pred_train = linear_svc.predict_proba(X_train)\n",
    "pred_test = linear_svc.predict_proba(X_test)"
   ]
  },
  {
   "cell_type": "code",
   "execution_count": null,
   "metadata": {},
   "outputs": [
    {
     "data": {
      "text/plain": [
       "{'dtree': {'Acc_train': 0.8800714285714286, 'Acc_test': 0.875}}"
      ]
     },
     "execution_count": 150,
     "metadata": {},
     "output_type": "execute_result"
    }
   ],
   "source": [
    "pred_train = pd.DataFrame(pred_train)\n",
    "pred_test = pd.DataFrame(pred_test)\n",
    "percentage = data[data.subscribe == 1].shape[0]/data.shape[0]\n",
    "pred_train.loc[pred_train[1] > percentage, 'y'] = 1\n",
    "pred_test.loc[pred_test[1] > percentage, 'y'] = 1\n",
    "pred_train['y'] =  np.where(pred_train['y'] == 1, 1, 0)\n",
    "pred_test['y'] =  np.where(pred_test['y'] == 1, 1, 0)\n",
    "# evaluate predictions\n",
    "mlp_acc_train = accuracy_score(y_train, pred_train['y'])\n",
    "mlp_acc_test = accuracy_score(y_test, pred_test['y'])\n",
    "\n",
    "eval_dict = {\"dtree\": {\"Acc_train\": mlp_acc_train, \"Acc_test\": mlp_acc_test}}\n",
    "eval_dict"
   ]
  },
  {
   "cell_type": "code",
   "execution_count": null,
   "metadata": {},
   "outputs": [
    {
     "name": "stdout",
     "output_type": "stream",
     "text": [
      "0.5915535881308206\n",
      "0.5940451093502107\n"
     ]
    }
   ],
   "source": [
    "print(roc_auc_score(y_train, linear_svc.predict_proba(X_train)[:, 1]))\n",
    "print(roc_auc_score(y_test, linear_svc.predict_proba(X_test)[:, 1]))"
   ]
  },
  {
   "cell_type": "code",
   "execution_count": null,
   "metadata": {},
   "outputs": [
    {
     "data": {
      "image/png": "[encoded data removed]",
      "text/plain": [
       "<Figure size 432x288 with 2 Axes>"
      ]
     },
     "metadata": {
      "needs_background": "light"
     },
     "output_type": "display_data"
    }
   ],
   "source": [
    "from sklearn.metrics import confusion_matrix, ConfusionMatrixDisplay\n",
    "\n",
    "cm = confusion_matrix(y_test, pred_test['y'])\n",
    "disp = ConfusionMatrixDisplay(confusion_matrix=cm)\n",
    "disp.plot()\n",
    "plt.show()"
   ]
  }
 ],
 "metadata": {
  "interpreter": {
   "hash": "a707b6ce8c685eb936424fcc3009d4b4b7a52543c4db09380a3fc49186ceb509"
  },
  "kernelspec": {
   "display_name": "Python 3.8.8 ('base')",
   "language": "python",
   "name": "python3"
  },
  "language_info": {
   "codemirror_mode": {
    "name": "ipython",
    "version": 3
   },
   "file_extension": ".py",
   "mimetype": "text/x-python",
   "name": "python",
   "nbconvert_exporter": "python",
   "pygments_lexer": "ipython3",
   "version": "3.9.4"
  },
  "orig_nbformat": 4
 },
 "nbformat": 4,
 "nbformat_minor": 2
}
