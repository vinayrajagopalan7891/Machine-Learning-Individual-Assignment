{
 "cells": [
  {
   "cell_type": "code",
   "execution_count": 331,
   "metadata": {},
   "outputs": [],
   "source": [
    "import pandas as pd\n",
    "import numpy as np\n",
    "import seaborn as sns\n",
    "from sklearn.model_selection import train_test_split\n",
    "from sklearn.ensemble import RandomForestClassifier\n",
    "from sklearn.metrics import accuracy_score\n",
    "from sklearn.metrics import roc_auc_score\n",
    "import matplotlib.pyplot as plt\n"
   ]
  },
  {
   "cell_type": "code",
   "execution_count": 332,
   "metadata": {},
   "outputs": [],
   "source": [
    "data =  pd.read_csv('./Data/basetable.csv')"
   ]
  },
  {
   "cell_type": "code",
   "execution_count": 333,
   "metadata": {},
   "outputs": [
    {
     "data": {
      "text/html": [
       "<div>\n",
       "<style scoped>\n",
       "    .dataframe tbody tr th:only-of-type {\n",
       "        vertical-align: middle;\n",
       "    }\n",
       "\n",
       "    .dataframe tbody tr th {\n",
       "        vertical-align: top;\n",
       "    }\n",
       "\n",
       "    .dataframe thead th {\n",
       "        text-align: right;\n",
       "    }\n",
       "</style>\n",
       "<table border=\"1\" class=\"dataframe\">\n",
       "  <thead>\n",
       "    <tr style=\"text-align: right;\">\n",
       "      <th></th>\n",
       "      <th>client_id</th>\n",
       "      <th>campaign</th>\n",
       "      <th>pdays</th>\n",
       "      <th>previous</th>\n",
       "      <th>emp.var.rate</th>\n",
       "      <th>cons.price.idx</th>\n",
       "      <th>cons.conf.idx</th>\n",
       "      <th>euribor3m</th>\n",
       "      <th>nr.employed</th>\n",
       "      <th>subscribe</th>\n",
       "      <th>...</th>\n",
       "      <th>age-group_80-90</th>\n",
       "      <th>age-group_90-100</th>\n",
       "      <th>campaign_missing</th>\n",
       "      <th>pdays_missing</th>\n",
       "      <th>previous_missing</th>\n",
       "      <th>emp.var.rate_missing</th>\n",
       "      <th>cons.price.idx_missing</th>\n",
       "      <th>cons.conf.idx_missing</th>\n",
       "      <th>euribor3m_missing</th>\n",
       "      <th>nr.employed_missing</th>\n",
       "    </tr>\n",
       "  </thead>\n",
       "  <tbody>\n",
       "    <tr>\n",
       "      <th>0</th>\n",
       "      <td>29925</td>\n",
       "      <td>1.0</td>\n",
       "      <td>999.0</td>\n",
       "      <td>0.0</td>\n",
       "      <td>1.4</td>\n",
       "      <td>93.918</td>\n",
       "      <td>-42.7</td>\n",
       "      <td>4.968</td>\n",
       "      <td>5228.1</td>\n",
       "      <td>0</td>\n",
       "      <td>...</td>\n",
       "      <td>0</td>\n",
       "      <td>0</td>\n",
       "      <td>0</td>\n",
       "      <td>0</td>\n",
       "      <td>0</td>\n",
       "      <td>0</td>\n",
       "      <td>0</td>\n",
       "      <td>0</td>\n",
       "      <td>0</td>\n",
       "      <td>0</td>\n",
       "    </tr>\n",
       "    <tr>\n",
       "      <th>1</th>\n",
       "      <td>37529</td>\n",
       "      <td>4.0</td>\n",
       "      <td>999.0</td>\n",
       "      <td>0.0</td>\n",
       "      <td>1.4</td>\n",
       "      <td>94.465</td>\n",
       "      <td>-41.8</td>\n",
       "      <td>4.960</td>\n",
       "      <td>5228.1</td>\n",
       "      <td>0</td>\n",
       "      <td>...</td>\n",
       "      <td>0</td>\n",
       "      <td>0</td>\n",
       "      <td>0</td>\n",
       "      <td>0</td>\n",
       "      <td>0</td>\n",
       "      <td>0</td>\n",
       "      <td>0</td>\n",
       "      <td>0</td>\n",
       "      <td>0</td>\n",
       "      <td>0</td>\n",
       "    </tr>\n",
       "    <tr>\n",
       "      <th>2</th>\n",
       "      <td>2757</td>\n",
       "      <td>1.0</td>\n",
       "      <td>999.0</td>\n",
       "      <td>0.0</td>\n",
       "      <td>-1.8</td>\n",
       "      <td>92.893</td>\n",
       "      <td>-46.2</td>\n",
       "      <td>1.264</td>\n",
       "      <td>5099.1</td>\n",
       "      <td>0</td>\n",
       "      <td>...</td>\n",
       "      <td>0</td>\n",
       "      <td>0</td>\n",
       "      <td>0</td>\n",
       "      <td>0</td>\n",
       "      <td>0</td>\n",
       "      <td>0</td>\n",
       "      <td>0</td>\n",
       "      <td>0</td>\n",
       "      <td>0</td>\n",
       "      <td>0</td>\n",
       "    </tr>\n",
       "    <tr>\n",
       "      <th>3</th>\n",
       "      <td>9642</td>\n",
       "      <td>1.0</td>\n",
       "      <td>999.0</td>\n",
       "      <td>0.0</td>\n",
       "      <td>-1.8</td>\n",
       "      <td>93.075</td>\n",
       "      <td>-47.1</td>\n",
       "      <td>1.453</td>\n",
       "      <td>5099.1</td>\n",
       "      <td>0</td>\n",
       "      <td>...</td>\n",
       "      <td>0</td>\n",
       "      <td>0</td>\n",
       "      <td>0</td>\n",
       "      <td>0</td>\n",
       "      <td>0</td>\n",
       "      <td>0</td>\n",
       "      <td>0</td>\n",
       "      <td>0</td>\n",
       "      <td>0</td>\n",
       "      <td>0</td>\n",
       "    </tr>\n",
       "    <tr>\n",
       "      <th>4</th>\n",
       "      <td>14183</td>\n",
       "      <td>1.0</td>\n",
       "      <td>999.0</td>\n",
       "      <td>0.0</td>\n",
       "      <td>1.1</td>\n",
       "      <td>93.994</td>\n",
       "      <td>-36.4</td>\n",
       "      <td>4.859</td>\n",
       "      <td>5191.0</td>\n",
       "      <td>0</td>\n",
       "      <td>...</td>\n",
       "      <td>0</td>\n",
       "      <td>0</td>\n",
       "      <td>0</td>\n",
       "      <td>0</td>\n",
       "      <td>0</td>\n",
       "      <td>0</td>\n",
       "      <td>0</td>\n",
       "      <td>0</td>\n",
       "      <td>0</td>\n",
       "      <td>0</td>\n",
       "    </tr>\n",
       "  </tbody>\n",
       "</table>\n",
       "<p>5 rows × 84 columns</p>\n",
       "</div>"
      ],
      "text/plain": [
       "   client_id  campaign  pdays  previous  emp.var.rate  cons.price.idx  \\\n",
       "0      29925       1.0  999.0       0.0           1.4          93.918   \n",
       "1      37529       4.0  999.0       0.0           1.4          94.465   \n",
       "2       2757       1.0  999.0       0.0          -1.8          92.893   \n",
       "3       9642       1.0  999.0       0.0          -1.8          93.075   \n",
       "4      14183       1.0  999.0       0.0           1.1          93.994   \n",
       "\n",
       "   cons.conf.idx  euribor3m  nr.employed  subscribe  ...  age-group_80-90  \\\n",
       "0          -42.7      4.968       5228.1          0  ...                0   \n",
       "1          -41.8      4.960       5228.1          0  ...                0   \n",
       "2          -46.2      1.264       5099.1          0  ...                0   \n",
       "3          -47.1      1.453       5099.1          0  ...                0   \n",
       "4          -36.4      4.859       5191.0          0  ...                0   \n",
       "\n",
       "   age-group_90-100  campaign_missing  pdays_missing  previous_missing  \\\n",
       "0                 0                 0              0                 0   \n",
       "1                 0                 0              0                 0   \n",
       "2                 0                 0              0                 0   \n",
       "3                 0                 0              0                 0   \n",
       "4                 0                 0              0                 0   \n",
       "\n",
       "   emp.var.rate_missing  cons.price.idx_missing  cons.conf.idx_missing  \\\n",
       "0                     0                       0                      0   \n",
       "1                     0                       0                      0   \n",
       "2                     0                       0                      0   \n",
       "3                     0                       0                      0   \n",
       "4                     0                       0                      0   \n",
       "\n",
       "   euribor3m_missing  nr.employed_missing  \n",
       "0                  0                    0  \n",
       "1                  0                    0  \n",
       "2                  0                    0  \n",
       "3                  0                    0  \n",
       "4                  0                    0  \n",
       "\n",
       "[5 rows x 84 columns]"
      ]
     },
     "execution_count": 333,
     "metadata": {},
     "output_type": "execute_result"
    }
   ],
   "source": [
    "data.drop('Unnamed: 0', inplace = True, axis = 1)\n",
    "data.head()"
   ]
  },
  {
   "cell_type": "code",
   "execution_count": 334,
   "metadata": {},
   "outputs": [
    {
     "name": "stdout",
     "output_type": "stream",
     "text": [
      "<class 'pandas.core.frame.DataFrame'>\n",
      "RangeIndex: 20000 entries, 0 to 19999\n",
      "Data columns (total 84 columns):\n",
      " #   Column                         Non-Null Count  Dtype  \n",
      "---  ------                         --------------  -----  \n",
      " 0   client_id                      20000 non-null  int64  \n",
      " 1   campaign                       20000 non-null  float64\n",
      " 2   pdays                          20000 non-null  float64\n",
      " 3   previous                       20000 non-null  float64\n",
      " 4   emp.var.rate                   20000 non-null  float64\n",
      " 5   cons.price.idx                 20000 non-null  float64\n",
      " 6   cons.conf.idx                  20000 non-null  float64\n",
      " 7   euribor3m                      20000 non-null  float64\n",
      " 8   nr.employed                    20000 non-null  float64\n",
      " 9   subscribe                      20000 non-null  int64  \n",
      " 10  job_admin.                     20000 non-null  int64  \n",
      " 11  job_blue-collar                20000 non-null  int64  \n",
      " 12  job_entrepreneur               20000 non-null  int64  \n",
      " 13  job_housemaid                  20000 non-null  int64  \n",
      " 14  job_management                 20000 non-null  int64  \n",
      " 15  job_retired                    20000 non-null  int64  \n",
      " 16  job_self-employed              20000 non-null  int64  \n",
      " 17  job_services                   20000 non-null  int64  \n",
      " 18  job_student                    20000 non-null  int64  \n",
      " 19  job_technician                 20000 non-null  int64  \n",
      " 20  job_unemployed                 20000 non-null  int64  \n",
      " 21  job_unknown                    20000 non-null  int64  \n",
      " 22  marital_divorced               20000 non-null  int64  \n",
      " 23  marital_married                20000 non-null  int64  \n",
      " 24  marital_single                 20000 non-null  int64  \n",
      " 25  marital_unknown                20000 non-null  int64  \n",
      " 26  education_basic.4y             20000 non-null  int64  \n",
      " 27  education_basic.6y             20000 non-null  int64  \n",
      " 28  education_basic.9y             20000 non-null  int64  \n",
      " 29  education_high.school          20000 non-null  int64  \n",
      " 30  education_illiterate           20000 non-null  int64  \n",
      " 31  education_professional.course  20000 non-null  int64  \n",
      " 32  education_university.degree    20000 non-null  int64  \n",
      " 33  education_unknown              20000 non-null  int64  \n",
      " 34  default_no                     20000 non-null  int64  \n",
      " 35  default_unknown                20000 non-null  int64  \n",
      " 36  default_yes                    20000 non-null  int64  \n",
      " 37  housing_no                     20000 non-null  int64  \n",
      " 38  housing_unknown                20000 non-null  int64  \n",
      " 39  housing_yes                    20000 non-null  int64  \n",
      " 40  loan_no                        20000 non-null  int64  \n",
      " 41  loan_unknown                   20000 non-null  int64  \n",
      " 42  loan_yes                       20000 non-null  int64  \n",
      " 43  contact_cellular               20000 non-null  int64  \n",
      " 44  contact_telephone              20000 non-null  int64  \n",
      " 45  contact_unknown                20000 non-null  int64  \n",
      " 46  month_apr                      20000 non-null  int64  \n",
      " 47  month_aug                      20000 non-null  int64  \n",
      " 48  month_dec                      20000 non-null  int64  \n",
      " 49  month_jul                      20000 non-null  int64  \n",
      " 50  month_jun                      20000 non-null  int64  \n",
      " 51  month_mar                      20000 non-null  int64  \n",
      " 52  month_may                      20000 non-null  int64  \n",
      " 53  month_nov                      20000 non-null  int64  \n",
      " 54  month_oct                      20000 non-null  int64  \n",
      " 55  month_sep                      20000 non-null  int64  \n",
      " 56  month_unknown                  20000 non-null  int64  \n",
      " 57  day_of_week_fri                20000 non-null  int64  \n",
      " 58  day_of_week_mon                20000 non-null  int64  \n",
      " 59  day_of_week_thu                20000 non-null  int64  \n",
      " 60  day_of_week_tue                20000 non-null  int64  \n",
      " 61  day_of_week_unknown            20000 non-null  int64  \n",
      " 62  day_of_week_wed                20000 non-null  int64  \n",
      " 63  poutcome_failure               20000 non-null  int64  \n",
      " 64  poutcome_nonexistent           20000 non-null  int64  \n",
      " 65  poutcome_success               20000 non-null  int64  \n",
      " 66  poutcome_unknown               20000 non-null  int64  \n",
      " 67  age-group_10-20                20000 non-null  int64  \n",
      " 68  age-group_20-30                20000 non-null  int64  \n",
      " 69  age-group_30-40                20000 non-null  int64  \n",
      " 70  age-group_40-50                20000 non-null  int64  \n",
      " 71  age-group_50-60                20000 non-null  int64  \n",
      " 72  age-group_60-70                20000 non-null  int64  \n",
      " 73  age-group_70-80                20000 non-null  int64  \n",
      " 74  age-group_80-90                20000 non-null  int64  \n",
      " 75  age-group_90-100               20000 non-null  int64  \n",
      " 76  campaign_missing               20000 non-null  int64  \n",
      " 77  pdays_missing                  20000 non-null  int64  \n",
      " 78  previous_missing               20000 non-null  int64  \n",
      " 79  emp.var.rate_missing           20000 non-null  int64  \n",
      " 80  cons.price.idx_missing         20000 non-null  int64  \n",
      " 81  cons.conf.idx_missing          20000 non-null  int64  \n",
      " 82  euribor3m_missing              20000 non-null  int64  \n",
      " 83  nr.employed_missing            20000 non-null  int64  \n",
      "dtypes: float64(8), int64(76)\n",
      "memory usage: 12.8 MB\n"
     ]
    }
   ],
   "source": [
    "data.info()"
   ]
  },
  {
   "cell_type": "code",
   "execution_count": 335,
   "metadata": {},
   "outputs": [
    {
     "name": "stdout",
     "output_type": "stream",
     "text": [
      "(20000, 83)\n",
      "(20000,)\n"
     ]
    }
   ],
   "source": [
    "y = data['subscribe']\n",
    "X = data.drop('subscribe', axis = 1)\n",
    "print(X.shape)\n",
    "print(y.shape)"
   ]
  },
  {
   "cell_type": "code",
   "execution_count": 363,
   "metadata": {},
   "outputs": [],
   "source": [
    "from sklearn.model_selection import cross_validate\n",
    "\n",
    "rf = RandomForestClassifier(n_estimators=2000, max_depth=5, n_jobs = 5000, max_samples = 3000, random_state=42)\n",
    "cv_results = cross_validate(rf, X, y, cv=5)\n",
    "\n",
    "score  = 0 \n",
    "cv_results['test_score']\n",
    "for test_score in cv_results['test_score']:\n",
    "    score = score + test_score\n",
    "\n",
    "print(score/5)"
   ]
  },
  {
   "cell_type": "code",
   "execution_count": 336,
   "metadata": {},
   "outputs": [],
   "source": [
    "rf = RandomForestClassifier(n_estimators=2000, max_depth=5, n_jobs = 5000, max_samples = 3000, random_state=42)\n",
    "    # split in train and test data\n",
    "X_train, X_test, y_train, y_test = train_test_split(X, y, test_size=0.3,stratify=y,  random_state=42)\n",
    "\n",
    "rf.fit(X_train, y_train)\n",
    "\n",
    "# predict probabilities\n",
    "pred_train = rf.predict_proba(X_train)\n",
    "pred_test = rf.predict_proba(X_test)\n"
   ]
  },
  {
   "cell_type": "code",
   "execution_count": 337,
   "metadata": {},
   "outputs": [],
   "source": [
    "pred_train = pd.DataFrame(pred_train)\n",
    "pred_test = pd.DataFrame(pred_test)"
   ]
  },
  {
   "cell_type": "code",
   "execution_count": 338,
   "metadata": {},
   "outputs": [
    {
     "name": "stdout",
     "output_type": "stream",
     "text": [
      "0.11355\n"
     ]
    }
   ],
   "source": [
    "percentage = data[data.subscribe == 1].shape[0]/data.shape[0]\n",
    "print(percentage)"
   ]
  },
  {
   "cell_type": "code",
   "execution_count": 339,
   "metadata": {},
   "outputs": [],
   "source": [
    "pred_train.loc[pred_train[1] > percentage, 'y'] = 1\n",
    "pred_test.loc[pred_test[1] > percentage, 'y'] = 1"
   ]
  },
  {
   "cell_type": "code",
   "execution_count": 340,
   "metadata": {},
   "outputs": [],
   "source": [
    "pred_train['y'] =  np.where(pred_train['y'] == 1, 1, 0)\n",
    "pred_test['y'] =  np.where(pred_test['y'] == 1, 1, 0)"
   ]
  },
  {
   "cell_type": "code",
   "execution_count": 341,
   "metadata": {},
   "outputs": [
    {
     "data": {
      "text/plain": [
       "{'rf': {'Acc_train': 0.8226428571428571, 'Acc_test': 0.8161666666666667}}"
      ]
     },
     "execution_count": 341,
     "metadata": {},
     "output_type": "execute_result"
    }
   ],
   "source": [
    "# evaluate predictions\n",
    "mlp_acc_train = accuracy_score(y_train, pred_train['y'])\n",
    "mlp_acc_test = accuracy_score(y_test, pred_test['y'])\n",
    "\n",
    "eval_dict = {\"rf\": {\"Acc_train\": mlp_acc_train, \"Acc_test\": mlp_acc_test}}\n",
    "eval_dict"
   ]
  },
  {
   "cell_type": "code",
   "execution_count": 342,
   "metadata": {},
   "outputs": [
    {
     "name": "stdout",
     "output_type": "stream",
     "text": [
      "0.8016849619144633\n",
      "0.7914359046987236\n"
     ]
    }
   ],
   "source": [
    "print(roc_auc_score(y_train, rf.predict_proba(X_train)[:, 1]))\n",
    "print(roc_auc_score(y_test, rf.predict_proba(X_test)[:, 1]))"
   ]
  },
  {
   "cell_type": "code",
   "execution_count": 343,
   "metadata": {},
   "outputs": [
    {
     "name": "stderr",
     "output_type": "stream",
     "text": [
      "C:\\tools\\Anaconda3\\envs\\py\\lib\\site-packages\\sklearn\\utils\\deprecation.py:87: FutureWarning: Function plot_roc_curve is deprecated; Function :func:`plot_roc_curve` is deprecated in 1.0 and will be removed in 1.2. Use one of the class methods: :meth:`sklearn.metric.RocCurveDisplay.from_predictions` or :meth:`sklearn.metric.RocCurveDisplay.from_estimator`.\n",
      "  warnings.warn(msg, category=FutureWarning)\n"
     ]
    },
    {
     "data": {
      "image/png": "[encoded data removed]",
      "text/plain": [
       "<Figure size 432x288 with 1 Axes>"
      ]
     },
     "metadata": {
      "needs_background": "light"
     },
     "output_type": "display_data"
    }
   ],
   "source": [
    "from sklearn import datasets, metrics\n",
    "\n",
    "metrics.plot_roc_curve(rf, X_test, y_test)\n",
    "plt.show()"
   ]
  },
  {
   "cell_type": "code",
   "execution_count": 344,
   "metadata": {},
   "outputs": [
    {
     "data": {
      "text/plain": [
       "0    5319\n",
       "1     681\n",
       "Name: subscribe, dtype: int64"
      ]
     },
     "execution_count": 344,
     "metadata": {},
     "output_type": "execute_result"
    }
   ],
   "source": [
    "y_test.value_counts()"
   ]
  },
  {
   "cell_type": "code",
   "execution_count": 345,
   "metadata": {},
   "outputs": [
    {
     "data": {
      "image/png": "[encoded data removed]",
      "text/plain": [
       "<Figure size 432x288 with 2 Axes>"
      ]
     },
     "metadata": {
      "needs_background": "light"
     },
     "output_type": "display_data"
    }
   ],
   "source": [
    "from sklearn.metrics import confusion_matrix, ConfusionMatrixDisplay\n",
    "\n",
    "cm = confusion_matrix(y_test, pred_test['y'])\n",
    "disp = ConfusionMatrixDisplay(confusion_matrix=cm)\n",
    "disp.plot()\n",
    "plt.show()"
   ]
  },
  {
   "cell_type": "code",
   "execution_count": 346,
   "metadata": {},
   "outputs": [],
   "source": [
    "forward_selection_features = ['job_student', 'marital_single', 'default_no' ,  'contact_telephone', 'month_apr',  'month_dec',  'month_jun',  'month_mar' , 'month_oct' , 'month_sep', 'day_of_week_mon',  'poutcome_success',  'age-group_60-70' , 'age-group_70-80',  'age-group_80-90']\n",
    "\n",
    "backward_selection_features = ['pdays', 'cons.conf.idx', 'nr.employed', 'job_blue-collar','contact_telephone', 'month_jul', 'month_jun', 'month_mar', 'month_may', 'day_of_week_mon', 'poutcome_nonexistent', 'poutcome_success', 'pdays_missing', 'cons.conf.idx_missing', 'nr.employed_missing']"
   ]
  },
  {
   "cell_type": "code",
   "execution_count": 347,
   "metadata": {},
   "outputs": [],
   "source": [
    "rf = RandomForestClassifier(n_estimators=2000, max_depth=5, n_jobs = 5000, max_samples = 3000, random_state=42)\n",
    "    # split in train and test data\n",
    "X_train, X_test, y_train, y_test = train_test_split(X.loc[:,forward_selection_features], y, stratify=y,  test_size=0.3, random_state=42)\n",
    "\n",
    "rf.fit(X_train, y_train)\n",
    "\n",
    "# predict probabilities\n",
    "pred_train = rf.predict_proba(X_train)\n",
    "pred_test = rf.predict_proba(X_test)\n"
   ]
  },
  {
   "cell_type": "code",
   "execution_count": 348,
   "metadata": {},
   "outputs": [
    {
     "data": {
      "text/plain": [
       "{'dtree': {'Acc_train': 0.8472857142857143, 'Acc_test': 0.8416666666666667}}"
      ]
     },
     "execution_count": 348,
     "metadata": {},
     "output_type": "execute_result"
    }
   ],
   "source": [
    "pred_train = pd.DataFrame(pred_train)\n",
    "pred_test = pd.DataFrame(pred_test)\n",
    "percentage = data[data.subscribe == 1].shape[0]/data.shape[0]\n",
    "pred_train.loc[pred_train[1] > percentage, 'y'] = 1\n",
    "pred_test.loc[pred_test[1] > percentage, 'y'] = 1\n",
    "pred_train['y'] =  np.where(pred_train['y'] == 1, 1, 0)\n",
    "pred_test['y'] =  np.where(pred_test['y'] == 1, 1, 0)\n",
    "# evaluate predictions\n",
    "mlp_acc_train = accuracy_score(y_train, pred_train['y'])\n",
    "mlp_acc_test = accuracy_score(y_test, pred_test['y'])\n",
    "\n",
    "eval_dict = {\"dtree\": {\"Acc_train\": mlp_acc_train, \"Acc_test\": mlp_acc_test}}\n",
    "eval_dict"
   ]
  },
  {
   "cell_type": "code",
   "execution_count": 349,
   "metadata": {},
   "outputs": [
    {
     "name": "stdout",
     "output_type": "stream",
     "text": [
      "0.7572952173891008\n",
      "0.7601083197436724\n"
     ]
    }
   ],
   "source": [
    "print(roc_auc_score(y_train, rf.predict_proba(X_train)[:, 1]))\n",
    "print(roc_auc_score(y_test, rf.predict_proba(X_test)[:, 1]))"
   ]
  },
  {
   "cell_type": "code",
   "execution_count": 350,
   "metadata": {},
   "outputs": [
    {
     "name": "stderr",
     "output_type": "stream",
     "text": [
      "C:\\tools\\Anaconda3\\envs\\py\\lib\\site-packages\\sklearn\\utils\\deprecation.py:87: FutureWarning: Function plot_roc_curve is deprecated; Function :func:`plot_roc_curve` is deprecated in 1.0 and will be removed in 1.2. Use one of the class methods: :meth:`sklearn.metric.RocCurveDisplay.from_predictions` or :meth:`sklearn.metric.RocCurveDisplay.from_estimator`.\n",
      "  warnings.warn(msg, category=FutureWarning)\n"
     ]
    },
    {
     "data": {
      "image/png": "[encoded data removed]",
      "text/plain": [
       "<Figure size 432x288 with 1 Axes>"
      ]
     },
     "metadata": {
      "needs_background": "light"
     },
     "output_type": "display_data"
    }
   ],
   "source": [
    "from sklearn import datasets, metrics\n",
    "\n",
    "metrics.plot_roc_curve(rf, X_test, y_test)\n",
    "plt.show()"
   ]
  },
  {
   "cell_type": "code",
   "execution_count": 351,
   "metadata": {},
   "outputs": [
    {
     "data": {
      "image/png": "[encoded data removed]",
      "text/plain": [
       "<Figure size 432x288 with 2 Axes>"
      ]
     },
     "metadata": {
      "needs_background": "light"
     },
     "output_type": "display_data"
    }
   ],
   "source": [
    "from sklearn.metrics import confusion_matrix, ConfusionMatrixDisplay\n",
    "\n",
    "cm = confusion_matrix(y_test, pred_test['y'])\n",
    "disp = ConfusionMatrixDisplay(confusion_matrix=cm)\n",
    "disp.plot()\n",
    "plt.show()"
   ]
  },
  {
   "cell_type": "code",
   "execution_count": 352,
   "metadata": {},
   "outputs": [],
   "source": [
    "rf = RandomForestClassifier(n_estimators=2000, max_depth=5, n_jobs = 5000, max_samples = 3000, random_state=42)\n",
    "    # split in train and test data\n",
    "X_train, X_test, y_train, y_test = train_test_split(X.loc[:,backward_selection_features], y, stratify=y,  test_size=0.3, random_state=42)\n",
    "\n",
    "rf.fit(X_train, y_train)\n",
    "\n",
    "# predict probabilities\n",
    "pred_train = rf.predict_proba(X_train)\n",
    "pred_test = rf.predict_proba(X_test)"
   ]
  },
  {
   "cell_type": "code",
   "execution_count": 353,
   "metadata": {},
   "outputs": [
    {
     "data": {
      "text/plain": [
       "{'dtree': {'Acc_train': 0.835, 'Acc_test': 0.8243333333333334}}"
      ]
     },
     "execution_count": 353,
     "metadata": {},
     "output_type": "execute_result"
    }
   ],
   "source": [
    "pred_train = pd.DataFrame(pred_train)\n",
    "pred_test = pd.DataFrame(pred_test)\n",
    "percentage = data[data.subscribe == 1].shape[0]/data.shape[0]\n",
    "pred_train.loc[pred_train[1] > percentage, 'y'] = 1\n",
    "pred_test.loc[pred_test[1] > percentage, 'y'] = 1\n",
    "pred_train['y'] =  np.where(pred_train['y'] == 1, 1, 0)\n",
    "pred_test['y'] =  np.where(pred_test['y'] == 1, 1, 0)\n",
    "# evaluate predictions\n",
    "mlp_acc_train = accuracy_score(y_train, pred_train['y'])\n",
    "mlp_acc_test = accuracy_score(y_test, pred_test['y'])\n",
    "\n",
    "eval_dict = {\"dtree\": {\"Acc_train\": mlp_acc_train, \"Acc_test\": mlp_acc_test}}\n",
    "eval_dict"
   ]
  },
  {
   "cell_type": "code",
   "execution_count": 354,
   "metadata": {},
   "outputs": [
    {
     "name": "stdout",
     "output_type": "stream",
     "text": [
      "0.7837217399236769\n",
      "0.7867446074099473\n"
     ]
    }
   ],
   "source": [
    "print(roc_auc_score(y_train, rf.predict_proba(X_train)[:, 1]))\n",
    "print(roc_auc_score(y_test, rf.predict_proba(X_test)[:, 1]))"
   ]
  },
  {
   "cell_type": "code",
   "execution_count": 355,
   "metadata": {},
   "outputs": [
    {
     "name": "stderr",
     "output_type": "stream",
     "text": [
      "C:\\tools\\Anaconda3\\envs\\py\\lib\\site-packages\\sklearn\\utils\\deprecation.py:87: FutureWarning: Function plot_roc_curve is deprecated; Function :func:`plot_roc_curve` is deprecated in 1.0 and will be removed in 1.2. Use one of the class methods: :meth:`sklearn.metric.RocCurveDisplay.from_predictions` or :meth:`sklearn.metric.RocCurveDisplay.from_estimator`.\n",
      "  warnings.warn(msg, category=FutureWarning)\n"
     ]
    },
    {
     "data": {
      "image/png": "[encoded data removed]",
      "text/plain": [
       "<Figure size 432x288 with 1 Axes>"
      ]
     },
     "metadata": {
      "needs_background": "light"
     },
     "output_type": "display_data"
    }
   ],
   "source": [
    "from sklearn import datasets, metrics\n",
    "\n",
    "metrics.plot_roc_curve(rf, X_test, y_test)\n",
    "plt.show()"
   ]
  },
  {
   "cell_type": "code",
   "execution_count": 356,
   "metadata": {},
   "outputs": [
    {
     "data": {
      "image/png": "[encoded data removed]",
      "text/plain": [
       "<Figure size 432x288 with 2 Axes>"
      ]
     },
     "metadata": {
      "needs_background": "light"
     },
     "output_type": "display_data"
    }
   ],
   "source": [
    "from sklearn.metrics import confusion_matrix, ConfusionMatrixDisplay\n",
    "\n",
    "cm = confusion_matrix(y_test, pred_test['y'])\n",
    "disp = ConfusionMatrixDisplay(confusion_matrix=cm)\n",
    "disp.plot()\n",
    "plt.show()"
   ]
  },
  {
   "cell_type": "code",
   "execution_count": 357,
   "metadata": {},
   "outputs": [],
   "source": [
    "X_norm = pd.DataFrame()\n",
    "for col in X.columns:\n",
    "    X_norm[col] = X[col].map(lambda x: (x - np.mean(X[col]))/ np.std(X[col]))"
   ]
  },
  {
   "cell_type": "code",
   "execution_count": 358,
   "metadata": {},
   "outputs": [],
   "source": [
    "rf = RandomForestClassifier(n_estimators=2000, max_depth=5, n_jobs = 5000, max_samples = 3000, random_state=42)\n",
    "    # split in train and test data\n",
    "X_train, X_test, y_train, y_test = train_test_split(X_norm, y, stratify=y,  test_size=0.3, random_state=42)\n",
    "\n",
    "rf.fit(X_train, y_train)\n",
    "\n",
    "# predict probabilities\n",
    "pred_train = rf.predict_proba(X_train)\n",
    "pred_test = rf.predict_proba(X_test)"
   ]
  },
  {
   "cell_type": "code",
   "execution_count": 359,
   "metadata": {},
   "outputs": [
    {
     "data": {
      "text/plain": [
       "{'dtree': {'Acc_train': 0.8226428571428571, 'Acc_test': 0.816}}"
      ]
     },
     "execution_count": 359,
     "metadata": {},
     "output_type": "execute_result"
    }
   ],
   "source": [
    "pred_train = pd.DataFrame(pred_train)\n",
    "pred_test = pd.DataFrame(pred_test)\n",
    "percentage = data[data.subscribe == 1].shape[0]/data.shape[0]\n",
    "pred_train.loc[pred_train[1] > percentage, 'y'] = 1\n",
    "pred_test.loc[pred_test[1] > percentage, 'y'] = 1\n",
    "pred_train['y'] =  np.where(pred_train['y'] == 1, 1, 0)\n",
    "pred_test['y'] =  np.where(pred_test['y'] == 1, 1, 0)\n",
    "# evaluate predictions\n",
    "mlp_acc_train = accuracy_score(y_train, pred_train['y'])\n",
    "mlp_acc_test = accuracy_score(y_test, pred_test['y'])\n",
    "\n",
    "eval_dict = {\"dtree\": {\"Acc_train\": mlp_acc_train, \"Acc_test\": mlp_acc_test}}\n",
    "eval_dict"
   ]
  },
  {
   "cell_type": "code",
   "execution_count": 360,
   "metadata": {},
   "outputs": [
    {
     "name": "stdout",
     "output_type": "stream",
     "text": [
      "0.8016855700667447\n",
      "0.7914339721923372\n"
     ]
    }
   ],
   "source": [
    "print(roc_auc_score(y_train, rf.predict_proba(X_train)[:, 1]))\n",
    "print(roc_auc_score(y_test, rf.predict_proba(X_test)[:, 1]))"
   ]
  },
  {
   "cell_type": "code",
   "execution_count": 361,
   "metadata": {},
   "outputs": [
    {
     "data": {
      "image/png": "[encoded data removed]",
      "text/plain": [
       "<Figure size 432x288 with 2 Axes>"
      ]
     },
     "metadata": {
      "needs_background": "light"
     },
     "output_type": "display_data"
    }
   ],
   "source": [
    "from sklearn.metrics import confusion_matrix, ConfusionMatrixDisplay\n",
    "\n",
    "cm = confusion_matrix(y_test, pred_test['y'])\n",
    "disp = ConfusionMatrixDisplay(confusion_matrix=cm)\n",
    "disp.plot()\n",
    "plt.show()"
   ]
  }
 ],
 "metadata": {
  "interpreter": {
   "hash": "a707b6ce8c685eb936424fcc3009d4b4b7a52543c4db09380a3fc49186ceb509"
  },
  "kernelspec": {
   "display_name": "Python 3.8.8 ('base')",
   "language": "python",
   "name": "python3"
  },
  "language_info": {
   "codemirror_mode": {
    "name": "ipython",
    "version": 3
   },
   "file_extension": ".py",
   "mimetype": "text/x-python",
   "name": "python",
   "nbconvert_exporter": "python",
   "pygments_lexer": "ipython3",
   "version": "3.9.4"
  },
  "orig_nbformat": 4
 },
 "nbformat": 4,
 "nbformat_minor": 2
}
