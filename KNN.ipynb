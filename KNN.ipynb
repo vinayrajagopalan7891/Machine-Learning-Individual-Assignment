{
 "cells": [
  {
   "cell_type": "code",
   "execution_count": 144,
   "metadata": {},
   "outputs": [],
   "source": [
    "import pandas as pd\n",
    "import numpy as np\n",
    "import seaborn as sns\n",
    "from sklearn.model_selection import train_test_split\n",
    "from sklearn.neighbors import KNeighborsClassifier\n",
    "from sklearn.metrics import accuracy_score\n",
    "from sklearn.metrics import roc_auc_score\n",
    "import matplotlib.pyplot as plt\n"
   ]
  },
  {
   "cell_type": "code",
   "execution_count": 145,
   "metadata": {},
   "outputs": [],
   "source": [
    "data =  pd.read_csv('./Data/basetable.csv')"
   ]
  },
  {
   "cell_type": "code",
   "execution_count": 146,
   "metadata": {},
   "outputs": [
    {
     "data": {
      "text/html": [
       "<div>\n",
       "<style scoped>\n",
       "    .dataframe tbody tr th:only-of-type {\n",
       "        vertical-align: middle;\n",
       "    }\n",
       "\n",
       "    .dataframe tbody tr th {\n",
       "        vertical-align: top;\n",
       "    }\n",
       "\n",
       "    .dataframe thead th {\n",
       "        text-align: right;\n",
       "    }\n",
       "</style>\n",
       "<table border=\"1\" class=\"dataframe\">\n",
       "  <thead>\n",
       "    <tr style=\"text-align: right;\">\n",
       "      <th></th>\n",
       "      <th>campaign</th>\n",
       "      <th>pdays</th>\n",
       "      <th>previous</th>\n",
       "      <th>emp.var.rate</th>\n",
       "      <th>cons.price.idx</th>\n",
       "      <th>cons.conf.idx</th>\n",
       "      <th>euribor3m</th>\n",
       "      <th>nr.employed</th>\n",
       "      <th>subscribe</th>\n",
       "      <th>job_admin.</th>\n",
       "      <th>...</th>\n",
       "      <th>age-group_80-90</th>\n",
       "      <th>age-group_90-100</th>\n",
       "      <th>campaign_missing</th>\n",
       "      <th>pdays_missing</th>\n",
       "      <th>previous_missing</th>\n",
       "      <th>emp.var.rate_missing</th>\n",
       "      <th>cons.price.idx_missing</th>\n",
       "      <th>cons.conf.idx_missing</th>\n",
       "      <th>euribor3m_missing</th>\n",
       "      <th>nr.employed_missing</th>\n",
       "    </tr>\n",
       "  </thead>\n",
       "  <tbody>\n",
       "    <tr>\n",
       "      <th>0</th>\n",
       "      <td>1.0</td>\n",
       "      <td>999.0</td>\n",
       "      <td>0.0</td>\n",
       "      <td>1.4</td>\n",
       "      <td>93.918</td>\n",
       "      <td>-42.7</td>\n",
       "      <td>4.968</td>\n",
       "      <td>5228.1</td>\n",
       "      <td>0</td>\n",
       "      <td>0</td>\n",
       "      <td>...</td>\n",
       "      <td>0</td>\n",
       "      <td>0</td>\n",
       "      <td>0</td>\n",
       "      <td>0</td>\n",
       "      <td>0</td>\n",
       "      <td>0</td>\n",
       "      <td>0</td>\n",
       "      <td>0</td>\n",
       "      <td>0</td>\n",
       "      <td>0</td>\n",
       "    </tr>\n",
       "    <tr>\n",
       "      <th>1</th>\n",
       "      <td>4.0</td>\n",
       "      <td>999.0</td>\n",
       "      <td>0.0</td>\n",
       "      <td>1.4</td>\n",
       "      <td>94.465</td>\n",
       "      <td>-41.8</td>\n",
       "      <td>4.960</td>\n",
       "      <td>5228.1</td>\n",
       "      <td>0</td>\n",
       "      <td>0</td>\n",
       "      <td>...</td>\n",
       "      <td>0</td>\n",
       "      <td>0</td>\n",
       "      <td>0</td>\n",
       "      <td>0</td>\n",
       "      <td>0</td>\n",
       "      <td>0</td>\n",
       "      <td>0</td>\n",
       "      <td>0</td>\n",
       "      <td>0</td>\n",
       "      <td>0</td>\n",
       "    </tr>\n",
       "    <tr>\n",
       "      <th>2</th>\n",
       "      <td>1.0</td>\n",
       "      <td>999.0</td>\n",
       "      <td>0.0</td>\n",
       "      <td>-1.8</td>\n",
       "      <td>92.893</td>\n",
       "      <td>-46.2</td>\n",
       "      <td>1.264</td>\n",
       "      <td>5099.1</td>\n",
       "      <td>0</td>\n",
       "      <td>0</td>\n",
       "      <td>...</td>\n",
       "      <td>0</td>\n",
       "      <td>0</td>\n",
       "      <td>0</td>\n",
       "      <td>0</td>\n",
       "      <td>0</td>\n",
       "      <td>0</td>\n",
       "      <td>0</td>\n",
       "      <td>0</td>\n",
       "      <td>0</td>\n",
       "      <td>0</td>\n",
       "    </tr>\n",
       "    <tr>\n",
       "      <th>3</th>\n",
       "      <td>1.0</td>\n",
       "      <td>999.0</td>\n",
       "      <td>0.0</td>\n",
       "      <td>-1.8</td>\n",
       "      <td>93.075</td>\n",
       "      <td>-47.1</td>\n",
       "      <td>1.453</td>\n",
       "      <td>5099.1</td>\n",
       "      <td>0</td>\n",
       "      <td>0</td>\n",
       "      <td>...</td>\n",
       "      <td>0</td>\n",
       "      <td>0</td>\n",
       "      <td>0</td>\n",
       "      <td>0</td>\n",
       "      <td>0</td>\n",
       "      <td>0</td>\n",
       "      <td>0</td>\n",
       "      <td>0</td>\n",
       "      <td>0</td>\n",
       "      <td>0</td>\n",
       "    </tr>\n",
       "    <tr>\n",
       "      <th>4</th>\n",
       "      <td>1.0</td>\n",
       "      <td>999.0</td>\n",
       "      <td>0.0</td>\n",
       "      <td>1.1</td>\n",
       "      <td>93.994</td>\n",
       "      <td>-36.4</td>\n",
       "      <td>4.859</td>\n",
       "      <td>5191.0</td>\n",
       "      <td>0</td>\n",
       "      <td>0</td>\n",
       "      <td>...</td>\n",
       "      <td>0</td>\n",
       "      <td>0</td>\n",
       "      <td>0</td>\n",
       "      <td>0</td>\n",
       "      <td>0</td>\n",
       "      <td>0</td>\n",
       "      <td>0</td>\n",
       "      <td>0</td>\n",
       "      <td>0</td>\n",
       "      <td>0</td>\n",
       "    </tr>\n",
       "  </tbody>\n",
       "</table>\n",
       "<p>5 rows × 83 columns</p>\n",
       "</div>"
      ],
      "text/plain": [
       "   campaign  pdays  previous  emp.var.rate  cons.price.idx  cons.conf.idx  \\\n",
       "0       1.0  999.0       0.0           1.4          93.918          -42.7   \n",
       "1       4.0  999.0       0.0           1.4          94.465          -41.8   \n",
       "2       1.0  999.0       0.0          -1.8          92.893          -46.2   \n",
       "3       1.0  999.0       0.0          -1.8          93.075          -47.1   \n",
       "4       1.0  999.0       0.0           1.1          93.994          -36.4   \n",
       "\n",
       "   euribor3m  nr.employed  subscribe  job_admin.  ...  age-group_80-90  \\\n",
       "0      4.968       5228.1          0           0  ...                0   \n",
       "1      4.960       5228.1          0           0  ...                0   \n",
       "2      1.264       5099.1          0           0  ...                0   \n",
       "3      1.453       5099.1          0           0  ...                0   \n",
       "4      4.859       5191.0          0           0  ...                0   \n",
       "\n",
       "   age-group_90-100  campaign_missing  pdays_missing  previous_missing  \\\n",
       "0                 0                 0              0                 0   \n",
       "1                 0                 0              0                 0   \n",
       "2                 0                 0              0                 0   \n",
       "3                 0                 0              0                 0   \n",
       "4                 0                 0              0                 0   \n",
       "\n",
       "   emp.var.rate_missing  cons.price.idx_missing  cons.conf.idx_missing  \\\n",
       "0                     0                       0                      0   \n",
       "1                     0                       0                      0   \n",
       "2                     0                       0                      0   \n",
       "3                     0                       0                      0   \n",
       "4                     0                       0                      0   \n",
       "\n",
       "   euribor3m_missing  nr.employed_missing  \n",
       "0                  0                    0  \n",
       "1                  0                    0  \n",
       "2                  0                    0  \n",
       "3                  0                    0  \n",
       "4                  0                    0  \n",
       "\n",
       "[5 rows x 83 columns]"
      ]
     },
     "execution_count": 146,
     "metadata": {},
     "output_type": "execute_result"
    }
   ],
   "source": [
    "data.drop('Unnamed: 0', inplace = True, axis = 1)\n",
    "data.drop('client_id', inplace = True, axis = 1)\n",
    "data.head()"
   ]
  },
  {
   "cell_type": "code",
   "execution_count": 147,
   "metadata": {},
   "outputs": [
    {
     "name": "stdout",
     "output_type": "stream",
     "text": [
      "<class 'pandas.core.frame.DataFrame'>\n",
      "RangeIndex: 20000 entries, 0 to 19999\n",
      "Data columns (total 83 columns):\n",
      " #   Column                         Non-Null Count  Dtype  \n",
      "---  ------                         --------------  -----  \n",
      " 0   campaign                       20000 non-null  float64\n",
      " 1   pdays                          20000 non-null  float64\n",
      " 2   previous                       20000 non-null  float64\n",
      " 3   emp.var.rate                   20000 non-null  float64\n",
      " 4   cons.price.idx                 20000 non-null  float64\n",
      " 5   cons.conf.idx                  20000 non-null  float64\n",
      " 6   euribor3m                      20000 non-null  float64\n",
      " 7   nr.employed                    20000 non-null  float64\n",
      " 8   subscribe                      20000 non-null  int64  \n",
      " 9   job_admin.                     20000 non-null  int64  \n",
      " 10  job_blue-collar                20000 non-null  int64  \n",
      " 11  job_entrepreneur               20000 non-null  int64  \n",
      " 12  job_housemaid                  20000 non-null  int64  \n",
      " 13  job_management                 20000 non-null  int64  \n",
      " 14  job_retired                    20000 non-null  int64  \n",
      " 15  job_self-employed              20000 non-null  int64  \n",
      " 16  job_services                   20000 non-null  int64  \n",
      " 17  job_student                    20000 non-null  int64  \n",
      " 18  job_technician                 20000 non-null  int64  \n",
      " 19  job_unemployed                 20000 non-null  int64  \n",
      " 20  job_unknown                    20000 non-null  int64  \n",
      " 21  marital_divorced               20000 non-null  int64  \n",
      " 22  marital_married                20000 non-null  int64  \n",
      " 23  marital_single                 20000 non-null  int64  \n",
      " 24  marital_unknown                20000 non-null  int64  \n",
      " 25  education_basic.4y             20000 non-null  int64  \n",
      " 26  education_basic.6y             20000 non-null  int64  \n",
      " 27  education_basic.9y             20000 non-null  int64  \n",
      " 28  education_high.school          20000 non-null  int64  \n",
      " 29  education_illiterate           20000 non-null  int64  \n",
      " 30  education_professional.course  20000 non-null  int64  \n",
      " 31  education_university.degree    20000 non-null  int64  \n",
      " 32  education_unknown              20000 non-null  int64  \n",
      " 33  default_no                     20000 non-null  int64  \n",
      " 34  default_unknown                20000 non-null  int64  \n",
      " 35  default_yes                    20000 non-null  int64  \n",
      " 36  housing_no                     20000 non-null  int64  \n",
      " 37  housing_unknown                20000 non-null  int64  \n",
      " 38  housing_yes                    20000 non-null  int64  \n",
      " 39  loan_no                        20000 non-null  int64  \n",
      " 40  loan_unknown                   20000 non-null  int64  \n",
      " 41  loan_yes                       20000 non-null  int64  \n",
      " 42  contact_cellular               20000 non-null  int64  \n",
      " 43  contact_telephone              20000 non-null  int64  \n",
      " 44  contact_unknown                20000 non-null  int64  \n",
      " 45  month_apr                      20000 non-null  int64  \n",
      " 46  month_aug                      20000 non-null  int64  \n",
      " 47  month_dec                      20000 non-null  int64  \n",
      " 48  month_jul                      20000 non-null  int64  \n",
      " 49  month_jun                      20000 non-null  int64  \n",
      " 50  month_mar                      20000 non-null  int64  \n",
      " 51  month_may                      20000 non-null  int64  \n",
      " 52  month_nov                      20000 non-null  int64  \n",
      " 53  month_oct                      20000 non-null  int64  \n",
      " 54  month_sep                      20000 non-null  int64  \n",
      " 55  month_unknown                  20000 non-null  int64  \n",
      " 56  day_of_week_fri                20000 non-null  int64  \n",
      " 57  day_of_week_mon                20000 non-null  int64  \n",
      " 58  day_of_week_thu                20000 non-null  int64  \n",
      " 59  day_of_week_tue                20000 non-null  int64  \n",
      " 60  day_of_week_unknown            20000 non-null  int64  \n",
      " 61  day_of_week_wed                20000 non-null  int64  \n",
      " 62  poutcome_failure               20000 non-null  int64  \n",
      " 63  poutcome_nonexistent           20000 non-null  int64  \n",
      " 64  poutcome_success               20000 non-null  int64  \n",
      " 65  poutcome_unknown               20000 non-null  int64  \n",
      " 66  age-group_10-20                20000 non-null  int64  \n",
      " 67  age-group_20-30                20000 non-null  int64  \n",
      " 68  age-group_30-40                20000 non-null  int64  \n",
      " 69  age-group_40-50                20000 non-null  int64  \n",
      " 70  age-group_50-60                20000 non-null  int64  \n",
      " 71  age-group_60-70                20000 non-null  int64  \n",
      " 72  age-group_70-80                20000 non-null  int64  \n",
      " 73  age-group_80-90                20000 non-null  int64  \n",
      " 74  age-group_90-100               20000 non-null  int64  \n",
      " 75  campaign_missing               20000 non-null  int64  \n",
      " 76  pdays_missing                  20000 non-null  int64  \n",
      " 77  previous_missing               20000 non-null  int64  \n",
      " 78  emp.var.rate_missing           20000 non-null  int64  \n",
      " 79  cons.price.idx_missing         20000 non-null  int64  \n",
      " 80  cons.conf.idx_missing          20000 non-null  int64  \n",
      " 81  euribor3m_missing              20000 non-null  int64  \n",
      " 82  nr.employed_missing            20000 non-null  int64  \n",
      "dtypes: float64(8), int64(75)\n",
      "memory usage: 12.7 MB\n"
     ]
    }
   ],
   "source": [
    "data.info()"
   ]
  },
  {
   "cell_type": "code",
   "execution_count": 148,
   "metadata": {},
   "outputs": [
    {
     "name": "stdout",
     "output_type": "stream",
     "text": [
      "(20000, 82)\n",
      "(20000,)\n"
     ]
    }
   ],
   "source": [
    "y = data['subscribe']\n",
    "X = data.drop('subscribe', axis = 1)\n",
    "print(X.shape)\n",
    "print(y.shape)"
   ]
  },
  {
   "cell_type": "code",
   "execution_count": 149,
   "metadata": {},
   "outputs": [
    {
     "name": "stdout",
     "output_type": "stream",
     "text": [
      "0.8828000000000001\n"
     ]
    }
   ],
   "source": [
    "from sklearn.model_selection import cross_validate\n",
    "\n",
    "neigh = KNeighborsClassifier(n_neighbors=3)\n",
    "cv_results = cross_validate(neigh, X, y, cv=5)\n",
    "\n",
    "score  = 0 \n",
    "cv_results['test_score']\n",
    "for test_score in cv_results['test_score']:\n",
    "    score = score + test_score\n",
    "print(score/5)"
   ]
  },
  {
   "cell_type": "code",
   "execution_count": 150,
   "metadata": {},
   "outputs": [
    {
     "name": "stdout",
     "output_type": "stream",
     "text": [
      "0.89125\n"
     ]
    }
   ],
   "source": [
    "from sklearn.model_selection import cross_validate\n",
    "\n",
    "neigh = KNeighborsClassifier(n_neighbors=5)\n",
    "cv_results = cross_validate(neigh, X, y, cv=5)\n",
    "\n",
    "score  = 0 \n",
    "cv_results['test_score']\n",
    "for test_score in cv_results['test_score']:\n",
    "    score = score + test_score\n",
    "print(score/5)"
   ]
  },
  {
   "cell_type": "code",
   "execution_count": 151,
   "metadata": {},
   "outputs": [
    {
     "name": "stdout",
     "output_type": "stream",
     "text": [
      "0.8965500000000001\n"
     ]
    }
   ],
   "source": [
    "from sklearn.model_selection import cross_validate\n",
    "\n",
    "neigh = KNeighborsClassifier(n_neighbors=7)\n",
    "cv_results = cross_validate(neigh, X, y, cv=5)\n",
    "\n",
    "score  = 0 \n",
    "cv_results['test_score']\n",
    "for test_score in cv_results['test_score']:\n",
    "    score = score + test_score\n",
    "print(score/5)"
   ]
  },
  {
   "cell_type": "code",
   "execution_count": 152,
   "metadata": {},
   "outputs": [
    {
     "name": "stdout",
     "output_type": "stream",
     "text": [
      "0.8977\n"
     ]
    }
   ],
   "source": [
    "from sklearn.model_selection import cross_validate\n",
    "\n",
    "neigh = KNeighborsClassifier(n_neighbors=10)\n",
    "cv_results = cross_validate(neigh, X, y, cv=5)\n",
    "\n",
    "score  = 0 \n",
    "cv_results['test_score']\n",
    "for test_score in cv_results['test_score']:\n",
    "    score = score + test_score\n",
    "print(score/5)"
   ]
  },
  {
   "cell_type": "code",
   "execution_count": 153,
   "metadata": {},
   "outputs": [
    {
     "name": "stdout",
     "output_type": "stream",
     "text": [
      "0.8986000000000001\n"
     ]
    }
   ],
   "source": [
    "from sklearn.model_selection import cross_validate\n",
    "\n",
    "neigh = KNeighborsClassifier(n_neighbors=12)\n",
    "cv_results = cross_validate(neigh, X, y, cv=5)\n",
    "\n",
    "score  = 0 \n",
    "cv_results['test_score']\n",
    "for test_score in cv_results['test_score']:\n",
    "    score = score + test_score\n",
    "print(score/5)"
   ]
  },
  {
   "cell_type": "code",
   "execution_count": 154,
   "metadata": {},
   "outputs": [
    {
     "name": "stdout",
     "output_type": "stream",
     "text": [
      "0.8974\n"
     ]
    }
   ],
   "source": [
    "from sklearn.model_selection import cross_validate\n",
    "\n",
    "neigh = KNeighborsClassifier(n_neighbors=13)\n",
    "cv_results = cross_validate(neigh, X, y, cv=5)\n",
    "\n",
    "score  = 0 \n",
    "cv_results['test_score']\n",
    "for test_score in cv_results['test_score']:\n",
    "    score = score + test_score\n",
    "print(score/5)"
   ]
  },
  {
   "cell_type": "code",
   "execution_count": 155,
   "metadata": {},
   "outputs": [
    {
     "name": "stdout",
     "output_type": "stream",
     "text": [
      "0.8980500000000001\n"
     ]
    }
   ],
   "source": [
    "from sklearn.model_selection import cross_validate\n",
    "\n",
    "neigh = KNeighborsClassifier(n_neighbors=14)\n",
    "cv_results = cross_validate(neigh, X, y, cv=5)\n",
    "\n",
    "score  = 0 \n",
    "cv_results['test_score']\n",
    "for test_score in cv_results['test_score']:\n",
    "    score = score + test_score\n",
    "print(score/5)"
   ]
  },
  {
   "cell_type": "code",
   "execution_count": 156,
   "metadata": {},
   "outputs": [
    {
     "name": "stdout",
     "output_type": "stream",
     "text": [
      "0.8981\n"
     ]
    }
   ],
   "source": [
    "from sklearn.model_selection import cross_validate\n",
    "\n",
    "neigh = KNeighborsClassifier(n_neighbors=15)\n",
    "cv_results = cross_validate(neigh, X, y, cv=5)\n",
    "\n",
    "score  = 0 \n",
    "cv_results['test_score']\n",
    "for test_score in cv_results['test_score']:\n",
    "    score = score + test_score\n",
    "print(score/5)"
   ]
  },
  {
   "cell_type": "code",
   "execution_count": 157,
   "metadata": {},
   "outputs": [
    {
     "name": "stdout",
     "output_type": "stream",
     "text": [
      "0.8984\n"
     ]
    }
   ],
   "source": [
    "from sklearn.model_selection import cross_validate\n",
    "\n",
    "neigh = KNeighborsClassifier(n_neighbors=25)\n",
    "cv_results = cross_validate(neigh, X, y, cv=5)\n",
    "\n",
    "score  = 0 \n",
    "cv_results['test_score']\n",
    "for test_score in cv_results['test_score']:\n",
    "    score = score + test_score\n",
    "print(score/5)"
   ]
  },
  {
   "cell_type": "code",
   "execution_count": 158,
   "metadata": {},
   "outputs": [
    {
     "name": "stdout",
     "output_type": "stream",
     "text": [
      "1\n",
      "0.84655\n",
      "11\n",
      "0.89735\n",
      "21\n",
      "0.8984500000000001\n",
      "31\n",
      "0.8981499999999999\n",
      "41\n",
      "0.89785\n",
      "51\n",
      "0.899\n",
      "61\n",
      "0.8987999999999999\n",
      "71\n",
      "0.8989499999999999\n",
      "81\n",
      "0.89865\n",
      "91\n",
      "0.8986000000000001\n",
      "101\n",
      "0.89865\n",
      "111\n",
      "0.8977499999999999\n",
      "121\n",
      "0.8977\n",
      "131\n",
      "0.8977\n",
      "141\n",
      "0.89725\n",
      "151\n",
      "0.8977499999999999\n",
      "161\n",
      "0.8974\n",
      "171\n",
      "0.89735\n",
      "181\n",
      "0.8974\n",
      "191\n",
      "0.8971499999999999\n",
      "201\n",
      "0.8971499999999999\n",
      "211\n",
      "0.8973000000000001\n",
      "221\n",
      "0.8975500000000001\n",
      "231\n",
      "0.8972999999999999\n",
      "241\n",
      "0.8968\n",
      "251\n",
      "0.89685\n",
      "261\n",
      "0.8967500000000002\n",
      "271\n",
      "0.8967500000000002\n",
      "281\n",
      "0.8967500000000002\n",
      "291\n",
      "0.8967500000000002\n",
      "301\n",
      "0.8967500000000002\n",
      "311\n",
      "0.8967500000000002\n",
      "321\n",
      "0.8967500000000002\n",
      "331\n",
      "0.8967500000000002\n",
      "341\n",
      "0.8967500000000002\n",
      "351\n",
      "0.8967500000000002\n",
      "361\n",
      "0.89685\n",
      "371\n",
      "0.89685\n",
      "381\n",
      "0.89695\n",
      "391\n",
      "0.8971\n",
      "401\n",
      "0.8971\n",
      "411\n",
      "0.8971\n",
      "421\n",
      "0.8971500000000001\n",
      "431\n",
      "0.8970500000000001\n",
      "441\n",
      "0.8970500000000001\n",
      "451\n",
      "0.8970500000000001\n",
      "461\n",
      "0.89695\n",
      "471\n",
      "0.8968\n",
      "481\n",
      "0.89625\n",
      "491\n",
      "0.8948499999999999\n"
     ]
    }
   ],
   "source": [
    "for n in range(1,500, 10):\n",
    "    neigh = KNeighborsClassifier(n_neighbors=n)\n",
    "    cv_results = cross_validate(neigh, X, y, cv=5)\n",
    "\n",
    "    score  = 0 \n",
    "    cv_results['test_score']\n",
    "    for test_score in cv_results['test_score']:\n",
    "        score = score + test_score\n",
    "    print(n)\n",
    "    print(score/5)"
   ]
  },
  {
   "cell_type": "code",
   "execution_count": 159,
   "metadata": {},
   "outputs": [],
   "source": [
    "neigh = KNeighborsClassifier(n_neighbors=221)\n",
    "    # split in train and test data\n",
    "X_train, X_test, y_train, y_test = train_test_split(X, y, test_size=0.3, stratify=y ,random_state=42)\n",
    "\n",
    "neigh.fit(X_train, y_train)\n",
    "\n",
    "# predict probabilities\n",
    "pred_train = neigh.predict_proba(X_train)\n",
    "pred_test = neigh.predict_proba(X_test)\n"
   ]
  },
  {
   "cell_type": "code",
   "execution_count": 160,
   "metadata": {},
   "outputs": [
    {
     "data": {
      "text/plain": [
       "{'dtree': {'Acc_train': 0.7955, 'Acc_test': 0.7853333333333333}}"
      ]
     },
     "execution_count": 160,
     "metadata": {},
     "output_type": "execute_result"
    }
   ],
   "source": [
    "pred_train = pd.DataFrame(pred_train)\n",
    "pred_test = pd.DataFrame(pred_test)\n",
    "percentage = data[data.subscribe == 1].shape[0]/data.shape[0]\n",
    "pred_train.loc[pred_train[1] > percentage, 'y'] = 1\n",
    "pred_test.loc[pred_test[1] > percentage, 'y'] = 1\n",
    "pred_train['y'] =  np.where(pred_train['y'] == 1, 1, 0)\n",
    "pred_test['y'] =  np.where(pred_test['y'] == 1, 1, 0)\n",
    "# evaluate predictions\n",
    "mlp_acc_train = accuracy_score(y_train, pred_train['y'])\n",
    "mlp_acc_test = accuracy_score(y_test, pred_test['y'])\n",
    "\n",
    "eval_dict = {\"dtree\": {\"Acc_train\": mlp_acc_train, \"Acc_test\": mlp_acc_test}}\n",
    "eval_dict"
   ]
  },
  {
   "cell_type": "code",
   "execution_count": 161,
   "metadata": {},
   "outputs": [
    {
     "name": "stdout",
     "output_type": "stream",
     "text": [
      "0.7893607812729639\n",
      "0.7874175337408713\n"
     ]
    }
   ],
   "source": [
    "print(roc_auc_score(y_train, neigh.predict_proba(X_train)[:, 1]))\n",
    "print(roc_auc_score(y_test, neigh.predict_proba(X_test)[:, 1]))"
   ]
  },
  {
   "cell_type": "code",
   "execution_count": 162,
   "metadata": {},
   "outputs": [
    {
     "name": "stderr",
     "output_type": "stream",
     "text": [
      "C:\\tools\\Anaconda3\\envs\\r-environment\\lib\\site-packages\\sklearn\\utils\\deprecation.py:87: FutureWarning: Function plot_roc_curve is deprecated; Function :func:`plot_roc_curve` is deprecated in 1.0 and will be removed in 1.2. Use one of the class methods: :meth:`sklearn.metric.RocCurveDisplay.from_predictions` or :meth:`sklearn.metric.RocCurveDisplay.from_estimator`.\n",
      "  warnings.warn(msg, category=FutureWarning)\n"
     ]
    },
    {
     "data": {
      "image/png": "[encoded data removed]",
      "text/plain": [
       "<Figure size 432x288 with 1 Axes>"
      ]
     },
     "metadata": {
      "needs_background": "light"
     },
     "output_type": "display_data"
    }
   ],
   "source": [
    "from sklearn import datasets, metrics\n",
    "\n",
    "metrics.plot_roc_curve(neigh, X_test, y_test)\n",
    "plt.show()"
   ]
  },
  {
   "cell_type": "code",
   "execution_count": 163,
   "metadata": {},
   "outputs": [
    {
     "data": {
      "text/plain": [
       "0    5319\n",
       "1     681\n",
       "Name: subscribe, dtype: int64"
      ]
     },
     "execution_count": 163,
     "metadata": {},
     "output_type": "execute_result"
    }
   ],
   "source": [
    "y_test.value_counts()"
   ]
  },
  {
   "cell_type": "code",
   "execution_count": 164,
   "metadata": {},
   "outputs": [
    {
     "data": {
      "image/png": "[encoded data removed]",
      "text/plain": [
       "<Figure size 432x288 with 2 Axes>"
      ]
     },
     "metadata": {
      "needs_background": "light"
     },
     "output_type": "display_data"
    }
   ],
   "source": [
    "from sklearn.metrics import confusion_matrix, ConfusionMatrixDisplay\n",
    "\n",
    "cm = confusion_matrix(y_test, pred_test['y'])\n",
    "disp = ConfusionMatrixDisplay(confusion_matrix=cm)\n",
    "disp.plot()\n",
    "plt.show()"
   ]
  },
  {
   "cell_type": "code",
   "execution_count": 165,
   "metadata": {},
   "outputs": [],
   "source": [
    "forward_selection_features = ['job_student', 'marital_single', 'default_no' ,  'contact_telephone', 'month_apr',  'month_dec',  'month_jun',  'month_mar' , 'month_oct' , 'month_sep', 'day_of_week_mon',  'poutcome_success',  'age-group_60-70' , 'age-group_70-80',  'age-group_80-90']\n",
    "\n",
    "backward_selection_features = ['pdays', 'cons.conf.idx', 'nr.employed', 'job_blue-collar','contact_telephone', 'month_jul', 'month_jun', 'month_mar', 'month_may', 'day_of_week_mon', 'poutcome_nonexistent', 'poutcome_success', 'pdays_missing', 'cons.conf.idx_missing', 'nr.employed_missing']"
   ]
  },
  {
   "cell_type": "code",
   "execution_count": 166,
   "metadata": {},
   "outputs": [],
   "source": [
    "neigh = KNeighborsClassifier(n_neighbors=221)\n",
    "    # split in train and test data\n",
    "X_train, X_test, y_train, y_test = train_test_split(X.loc[:,forward_selection_features], y,  test_size=0.3, stratify=y ,random_state=42)\n",
    "\n",
    "neigh.fit(X_train, y_train)\n",
    "\n",
    "# predict probabilities\n",
    "pred_train = neigh.predict_proba(X_train)\n",
    "pred_test = neigh.predict_proba(X_test)"
   ]
  },
  {
   "cell_type": "code",
   "execution_count": 167,
   "metadata": {},
   "outputs": [
    {
     "data": {
      "text/plain": [
       "{'dtree': {'Acc_train': 0.7624285714285715, 'Acc_test': 0.761}}"
      ]
     },
     "execution_count": 167,
     "metadata": {},
     "output_type": "execute_result"
    }
   ],
   "source": [
    "pred_train = pd.DataFrame(pred_train)\n",
    "pred_test = pd.DataFrame(pred_test)\n",
    "percentage = data[data.subscribe == 1].shape[0]/data.shape[0]\n",
    "pred_train.loc[pred_train[1] > percentage, 'y'] = 1\n",
    "pred_test.loc[pred_test[1] > percentage, 'y'] = 1\n",
    "pred_train['y'] =  np.where(pred_train['y'] == 1, 1, 0)\n",
    "pred_test['y'] =  np.where(pred_test['y'] == 1, 1, 0)\n",
    "# evaluate predictions\n",
    "mlp_acc_train = accuracy_score(y_train, pred_train['y'])\n",
    "mlp_acc_test = accuracy_score(y_test, pred_test['y'])\n",
    "\n",
    "eval_dict = {\"dtree\": {\"Acc_train\": mlp_acc_train, \"Acc_test\": mlp_acc_test}}\n",
    "eval_dict"
   ]
  },
  {
   "cell_type": "code",
   "execution_count": 168,
   "metadata": {},
   "outputs": [
    {
     "name": "stdout",
     "output_type": "stream",
     "text": [
      "0.7406600226029931\n",
      "0.7312882998609423\n"
     ]
    }
   ],
   "source": [
    "print(roc_auc_score(y_train, neigh.predict_proba(X_train)[:, 1]))\n",
    "print(roc_auc_score(y_test, neigh.predict_proba(X_test)[:, 1]))"
   ]
  },
  {
   "cell_type": "code",
   "execution_count": 169,
   "metadata": {},
   "outputs": [
    {
     "name": "stderr",
     "output_type": "stream",
     "text": [
      "C:\\tools\\Anaconda3\\envs\\r-environment\\lib\\site-packages\\sklearn\\utils\\deprecation.py:87: FutureWarning: Function plot_roc_curve is deprecated; Function :func:`plot_roc_curve` is deprecated in 1.0 and will be removed in 1.2. Use one of the class methods: :meth:`sklearn.metric.RocCurveDisplay.from_predictions` or :meth:`sklearn.metric.RocCurveDisplay.from_estimator`.\n",
      "  warnings.warn(msg, category=FutureWarning)\n"
     ]
    },
    {
     "data": {
      "image/png": "[encoded data removed]",
      "text/plain": [
       "<Figure size 432x288 with 1 Axes>"
      ]
     },
     "metadata": {
      "needs_background": "light"
     },
     "output_type": "display_data"
    }
   ],
   "source": [
    "from sklearn import datasets, metrics\n",
    "\n",
    "metrics.plot_roc_curve(neigh, X_test, y_test)\n",
    "plt.show()"
   ]
  },
  {
   "cell_type": "code",
   "execution_count": 170,
   "metadata": {},
   "outputs": [
    {
     "data": {
      "image/png": "[encoded data removed]",
      "text/plain": [
       "<Figure size 432x288 with 2 Axes>"
      ]
     },
     "metadata": {
      "needs_background": "light"
     },
     "output_type": "display_data"
    }
   ],
   "source": [
    "from sklearn.metrics import confusion_matrix, ConfusionMatrixDisplay\n",
    "\n",
    "cm = confusion_matrix(y_test, pred_test['y'])\n",
    "disp = ConfusionMatrixDisplay(confusion_matrix=cm)\n",
    "disp.plot()\n",
    "plt.show()"
   ]
  },
  {
   "cell_type": "code",
   "execution_count": 171,
   "metadata": {},
   "outputs": [],
   "source": [
    "neigh = KNeighborsClassifier(n_neighbors=221)\n",
    "    # split in train and test data\n",
    "X_train, X_test, y_train, y_test = train_test_split(X.loc[:,backward_selection_features], y,  test_size=0.3, stratify=y ,random_state=42)\n",
    "\n",
    "neigh.fit(X_train, y_train)\n",
    "\n",
    "# predict probabilities\n",
    "pred_train = neigh.predict_proba(X_train)\n",
    "pred_test = neigh.predict_proba(X_test)"
   ]
  },
  {
   "cell_type": "code",
   "execution_count": 172,
   "metadata": {},
   "outputs": [
    {
     "data": {
      "text/plain": [
       "{'dtree': {'Acc_train': 0.81, 'Acc_test': 0.7993333333333333}}"
      ]
     },
     "execution_count": 172,
     "metadata": {},
     "output_type": "execute_result"
    }
   ],
   "source": [
    "pred_train = pd.DataFrame(pred_train)\n",
    "pred_test = pd.DataFrame(pred_test)\n",
    "percentage = data[data.subscribe == 1].shape[0]/data.shape[0]\n",
    "pred_train.loc[pred_train[1] > percentage, 'y'] = 1\n",
    "pred_test.loc[pred_test[1] > percentage, 'y'] = 1\n",
    "pred_train['y'] =  np.where(pred_train['y'] == 1, 1, 0)\n",
    "pred_test['y'] =  np.where(pred_test['y'] == 1, 1, 0)\n",
    "# evaluate predictions\n",
    "mlp_acc_train = accuracy_score(y_train, pred_train['y'])\n",
    "mlp_acc_test = accuracy_score(y_test, pred_test['y'])\n",
    "\n",
    "eval_dict = {\"dtree\": {\"Acc_train\": mlp_acc_train, \"Acc_test\": mlp_acc_test}}\n",
    "eval_dict"
   ]
  },
  {
   "cell_type": "code",
   "execution_count": 173,
   "metadata": {},
   "outputs": [
    {
     "name": "stdout",
     "output_type": "stream",
     "text": [
      "0.7855936833249711\n",
      "0.7829019564970726\n"
     ]
    }
   ],
   "source": [
    "print(roc_auc_score(y_train, neigh.predict_proba(X_train)[:, 1]))\n",
    "print(roc_auc_score(y_test, neigh.predict_proba(X_test)[:, 1]))"
   ]
  },
  {
   "cell_type": "code",
   "execution_count": 174,
   "metadata": {},
   "outputs": [
    {
     "name": "stderr",
     "output_type": "stream",
     "text": [
      "C:\\tools\\Anaconda3\\envs\\r-environment\\lib\\site-packages\\sklearn\\utils\\deprecation.py:87: FutureWarning: Function plot_roc_curve is deprecated; Function :func:`plot_roc_curve` is deprecated in 1.0 and will be removed in 1.2. Use one of the class methods: :meth:`sklearn.metric.RocCurveDisplay.from_predictions` or :meth:`sklearn.metric.RocCurveDisplay.from_estimator`.\n",
      "  warnings.warn(msg, category=FutureWarning)\n"
     ]
    },
    {
     "data": {
      "image/png": "[encoded data removed]",
      "text/plain": [
       "<Figure size 432x288 with 1 Axes>"
      ]
     },
     "metadata": {
      "needs_background": "light"
     },
     "output_type": "display_data"
    }
   ],
   "source": [
    "from sklearn import datasets, metrics\n",
    "\n",
    "metrics.plot_roc_curve(neigh, X_test, y_test)\n",
    "plt.show()"
   ]
  },
  {
   "cell_type": "code",
   "execution_count": 175,
   "metadata": {},
   "outputs": [
    {
     "data": {
      "image/png": "[encoded data removed]",
      "text/plain": [
       "<Figure size 432x288 with 2 Axes>"
      ]
     },
     "metadata": {
      "needs_background": "light"
     },
     "output_type": "display_data"
    }
   ],
   "source": [
    "from sklearn.metrics import confusion_matrix, ConfusionMatrixDisplay\n",
    "\n",
    "cm = confusion_matrix(y_test, pred_test['y'])\n",
    "disp = ConfusionMatrixDisplay(confusion_matrix=cm)\n",
    "disp.plot()\n",
    "plt.show()"
   ]
  }
 ],
 "metadata": {
  "interpreter": {
   "hash": "a707b6ce8c685eb936424fcc3009d4b4b7a52543c4db09380a3fc49186ceb509"
  },
  "kernelspec": {
   "display_name": "Python 3.8.8 ('base')",
   "language": "python",
   "name": "python3"
  },
  "language_info": {
   "codemirror_mode": {
    "name": "ipython",
    "version": 3
   },
   "file_extension": ".py",
   "mimetype": "text/x-python",
   "name": "python",
   "nbconvert_exporter": "python",
   "pygments_lexer": "ipython3",
   "version": "3.9.7"
  },
  "orig_nbformat": 4
 },
 "nbformat": 4,
 "nbformat_minor": 2
}
